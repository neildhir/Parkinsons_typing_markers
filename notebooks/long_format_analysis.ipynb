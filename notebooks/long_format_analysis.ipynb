{
 "cells": [
  {
   "cell_type": "markdown",
   "metadata": {},
   "source": [
    "This notebook contains analysis where we use the paradigm of analysing character timed sequences."
   ]
  },
  {
   "cell_type": "code",
   "execution_count": 1,
   "metadata": {},
   "outputs": [
    {
     "name": "stdout",
     "output_type": "stream",
     "text": [
      "/home/neil/cloud/haberrspd\n"
     ]
    }
   ],
   "source": [
    "cd .."
   ]
  },
  {
   "cell_type": "code",
   "execution_count": 2,
   "metadata": {},
   "outputs": [],
   "source": [
    "%load_ext autoreload\n",
    "%autoreload 2 \n",
    "%matplotlib inline\n",
    "from haberrspd.__init__ import *\n",
    "from haberrspd.__init_paths import data_root # Where the data lives\n",
    "# from haberrspd.preprocess import create_long_form_NLP_datasets_from_MJFF_English_data"
   ]
  },
  {
   "cell_type": "markdown",
   "metadata": {},
   "source": [
    "---"
   ]
  },
  {
   "cell_type": "markdown",
   "metadata": {},
   "source": [
    "## Things I would like to try with flair [for characters]:\n",
    "\n",
    "1. Combine English (MJFF and mechanical turk data) and Spanish embeddings\n",
    "2. Do flair-embeddings + CNN like [this](https://github.com/huggingface/pytorch-pretrained-BERT/issues/129) (compare against ELMo and BERT)\n",
    "3. Extend to MJFF English + MJFF Spanish + NeuroQwerty\n",
    "4. Model optimisation (BO and various other options)\n",
    "5. [Learning curves -- do them](https://www.deeplearning.ai/content/uploads/2018/09/Ng-MLY01-12.pdf)"
   ]
  },
  {
   "cell_type": "markdown",
   "metadata": {},
   "source": [
    "Issues to think of:\n",
    "\n",
    "- Upper and lower case\n",
    "- Currently flair does not have CNN support, by the looks of things"
   ]
  },
  {
   "cell_type": "code",
   "execution_count": 3,
   "metadata": {},
   "outputs": [],
   "source": [
    "from haberrspd.pdnet_flair import (pdnet_char_mjff, \n",
    "                                    Config, \n",
    "                                    DATA_ROOT_FASTTEXT, \n",
    "                                    make_train_test_dev,\n",
    "                                    make_data_flair_readable)\n",
    "import os\n",
    "from pathlib import Path\n",
    "from flair.training_utils import EvaluationMetric\n",
    "import torch\n",
    "from collections import Counter\n",
    "from flair.data import Sentence\n",
    "from flair.models import TextClassifier"
   ]
  },
  {
   "cell_type": "code",
   "execution_count": 4,
   "metadata": {},
   "outputs": [],
   "source": [
    "language='english'\n",
    "lang_dir = Path('char_' + str(language) + \"/\")"
   ]
  },
  {
   "cell_type": "markdown",
   "metadata": {},
   "source": [
    "## DATA prep and checks"
   ]
  },
  {
   "cell_type": "code",
   "execution_count": 16,
   "metadata": {},
   "outputs": [],
   "source": [
    "# long format\n",
    "df = pd.read_csv('data/MJFF/preprocessed_long_format_EnglishData.csv', \n",
    "                usecols=['Patient_ID', 'Diagnosis', 'Sentence_ID','Preprocessed_typed_sentence'])"
   ]
  },
  {
   "cell_type": "code",
   "execution_count": 6,
   "metadata": {},
   "outputs": [],
   "source": [
    "# normal \n",
    "df = pd.read_csv('data/MJFF/preprocessed_EnglishData.csv', \n",
    "                usecols=['Patient_ID', 'Diagnosis', 'Sentence_ID','Preprocessed_typed_sentence'])"
   ]
  },
  {
   "cell_type": "code",
   "execution_count": 17,
   "metadata": {},
   "outputs": [],
   "source": [
    "# Options\n",
    "\n",
    "upper_and_lower_case = False\n",
    "\n",
    "# Checks\n",
    "\n",
    "if not upper_and_lower_case:\n",
    "    assert 'Preprocessed_typed_sentence' in df.columns\n",
    "    # Recast dataset all in lowercase\n",
    "    df.Preprocessed_typed_sentence = df.Preprocessed_typed_sentence.str.lower()\n",
    "\n",
    "# Ensure that the format is flair-readable\n",
    "data = make_data_flair_readable(df)\n",
    "assert \"__label__0\" and \"__label__1\" in set(data.label)\n",
    "    \n",
    "# if not all([os.path.exists(DATA_ROOT_FASTTEXT / lang_dir / my_file)\n",
    "#             for my_file in ['test.csv', 'dev.csv', 'train.csv']]):\n",
    "make_train_test_dev(data, DATA_ROOT_FASTTEXT / lang_dir)"
   ]
  },
  {
   "cell_type": "code",
   "execution_count": 8,
   "metadata": {},
   "outputs": [
    {
     "data": {
      "text/plain": [
       "Counter({'__label__0': 741, '__label__1': 435})"
      ]
     },
     "execution_count": 8,
     "metadata": {},
     "output_type": "execute_result"
    }
   ],
   "source": [
    "Counter(data.label)"
   ]
  },
  {
   "cell_type": "code",
   "execution_count": 18,
   "metadata": {},
   "outputs": [],
   "source": [
    "# Config parameters for the model training\n",
    "config = Config(\n",
    "    \n",
    "    # RNN model specification\n",
    "    hidden_size=8,\n",
    "    reproject_words=True,\n",
    "    bidirectional=True,\n",
    "    rnn_type=\"GRU\", # LSTM does not work for some reason\n",
    "    rnn_layers=1,\n",
    "    reproject_words_dimension=None,\n",
    "    dropout=0.5,\n",
    "    \n",
    "    # Training\n",
    "    evaluation_metric=EvaluationMetric.MICRO_F1_SCORE,\n",
    "    learning_rate=0.001,\n",
    "    anneal_factor=0.5,\n",
    "    mini_batch_size=64,\n",
    "    patience=3,\n",
    "    max_epochs=10\n",
    ")"
   ]
  },
  {
   "cell_type": "markdown",
   "metadata": {},
   "source": [
    "### Run..."
   ]
  },
  {
   "cell_type": "code",
   "execution_count": 19,
   "metadata": {},
   "outputs": [
    {
     "name": "stdout",
     "output_type": "stream",
     "text": [
      "2019-06-05 10:15:45,008 Reading data from data/MJFF/fasttext/char_english\n",
      "2019-06-05 10:15:45,008 Train: data/MJFF/fasttext/char_english/train.csv\n",
      "2019-06-05 10:15:45,009 Dev: data/MJFF/fasttext/char_english/dev.csv\n",
      "2019-06-05 10:15:45,010 Test: data/MJFF/fasttext/char_english/test.csv\n",
      "2019-06-05 10:15:46,516 {'1', '0'}\n",
      "2019-06-05 10:15:47,990 ----------------------------------------------------------------------------------------------------\n",
      "2019-06-05 10:15:47,991 Evaluation method: MICRO_F1_SCORE\n",
      "2019-06-05 10:15:48,159 ----------------------------------------------------------------------------------------------------\n",
      "2019-06-05 10:15:54,878 epoch 1 - iter 0/15 - loss 0.77245522\n",
      "2019-06-05 10:15:59,175 epoch 1 - iter 1/15 - loss 0.77165273\n",
      "2019-06-05 10:16:09,884 epoch 1 - iter 2/15 - loss 0.74567135\n",
      "2019-06-05 10:16:17,445 epoch 1 - iter 3/15 - loss 0.75924522\n",
      "2019-06-05 10:16:22,853 epoch 1 - iter 4/15 - loss 0.74988303\n",
      "2019-06-05 10:16:32,743 epoch 1 - iter 5/15 - loss 0.73711954\n",
      "2019-06-05 10:16:49,566 epoch 1 - iter 6/15 - loss 0.73752596\n",
      "2019-06-05 10:16:59,598 epoch 1 - iter 7/15 - loss 0.72868507\n",
      "2019-06-05 10:17:09,057 epoch 1 - iter 8/15 - loss 0.72804257\n",
      "2019-06-05 10:17:17,112 epoch 1 - iter 9/15 - loss 0.72750773\n",
      "2019-06-05 10:17:20,826 epoch 1 - iter 10/15 - loss 0.73547203\n",
      "2019-06-05 10:17:28,451 epoch 1 - iter 11/15 - loss 0.73669317\n",
      "2019-06-05 10:17:40,293 epoch 1 - iter 12/15 - loss 0.73137840\n",
      "2019-06-05 10:17:44,949 epoch 1 - iter 13/15 - loss 0.72952217\n",
      "2019-06-05 10:17:48,048 epoch 1 - iter 14/15 - loss 0.72739463\n",
      "2019-06-05 10:17:48,127 ----------------------------------------------------------------------------------------------------\n",
      "2019-06-05 10:17:48,128 EPOCH 1 done: loss 0.7274 - lr 0.0010 - bad epochs 0\n",
      "2019-06-05 10:17:50,869 DEV : loss 0.6659961938858032 - score 0.5847\n",
      "2019-06-05 10:17:53,665 TEST : loss 0.6777371168136597 - score 0.5932\n",
      "2019-06-05 10:17:53,685 ----------------------------------------------------------------------------------------------------\n",
      "2019-06-05 10:18:09,093 epoch 2 - iter 0/15 - loss 0.70707005\n",
      "2019-06-05 10:18:20,036 epoch 2 - iter 1/15 - loss 0.67265144\n",
      "2019-06-05 10:18:23,094 epoch 2 - iter 2/15 - loss 0.65746474\n",
      "2019-06-05 10:18:29,317 epoch 2 - iter 3/15 - loss 0.66425723\n",
      "2019-06-05 10:18:39,191 epoch 2 - iter 4/15 - loss 0.67875937\n",
      "2019-06-05 10:18:43,401 epoch 2 - iter 5/15 - loss 0.69176662\n",
      "2019-06-05 10:18:48,940 epoch 2 - iter 6/15 - loss 0.69807661\n",
      "2019-06-05 10:18:58,463 epoch 2 - iter 7/15 - loss 0.69380722\n",
      "2019-06-05 10:19:15,165 epoch 2 - iter 8/15 - loss 0.70574264\n",
      "2019-06-05 10:19:20,178 epoch 2 - iter 9/15 - loss 0.70423672\n",
      "2019-06-05 10:19:25,467 epoch 2 - iter 10/15 - loss 0.70030295\n",
      "2019-06-05 10:19:30,548 epoch 2 - iter 11/15 - loss 0.70596143\n",
      "2019-06-05 10:19:39,919 epoch 2 - iter 12/15 - loss 0.70502664\n",
      "2019-06-05 10:19:50,144 epoch 2 - iter 13/15 - loss 0.70323711\n",
      "2019-06-05 10:19:54,026 epoch 2 - iter 14/15 - loss 0.69643031\n",
      "2019-06-05 10:19:54,127 ----------------------------------------------------------------------------------------------------\n",
      "2019-06-05 10:19:54,128 EPOCH 2 done: loss 0.6964 - lr 0.0010 - bad epochs 0\n",
      "2019-06-05 10:19:56,937 DEV : loss 0.6651610136032104 - score 0.5847\n",
      "2019-06-05 10:19:59,728 TEST : loss 0.6771128177642822 - score 0.5932\n",
      "2019-06-05 10:19:59,747 ----------------------------------------------------------------------------------------------------\n",
      "2019-06-05 10:20:05,978 epoch 3 - iter 0/15 - loss 0.70086426\n",
      "2019-06-05 10:20:10,837 epoch 3 - iter 1/15 - loss 0.72753882\n",
      "2019-06-05 10:20:19,254 epoch 3 - iter 2/15 - loss 0.73147406\n",
      "2019-06-05 10:20:30,509 epoch 3 - iter 3/15 - loss 0.73167628\n",
      "2019-06-05 10:20:38,208 epoch 3 - iter 4/15 - loss 0.74104391\n",
      "2019-06-05 10:20:45,158 epoch 3 - iter 5/15 - loss 0.73854934\n",
      "2019-06-05 10:20:53,818 epoch 3 - iter 6/15 - loss 0.73180590\n",
      "2019-06-05 10:20:57,374 epoch 3 - iter 7/15 - loss 0.72281829\n",
      "2019-06-05 10:21:02,157 epoch 3 - iter 8/15 - loss 0.72212419\n",
      "2019-06-05 10:21:14,507 epoch 3 - iter 9/15 - loss 0.71595014\n",
      "2019-06-05 10:21:18,405 epoch 3 - iter 10/15 - loss 0.70974522\n",
      "2019-06-05 10:21:39,219 epoch 3 - iter 11/15 - loss 0.71033212\n",
      "2019-06-05 10:21:49,578 epoch 3 - iter 12/15 - loss 0.70857932\n",
      "2019-06-05 10:21:54,842 epoch 3 - iter 13/15 - loss 0.70687307\n",
      "2019-06-05 10:21:58,764 epoch 3 - iter 14/15 - loss 0.70650902\n",
      "2019-06-05 10:21:58,862 ----------------------------------------------------------------------------------------------------\n",
      "2019-06-05 10:21:58,863 EPOCH 3 done: loss 0.7065 - lr 0.0010 - bad epochs 1\n",
      "2019-06-05 10:22:01,578 DEV : loss 0.6644278764724731 - score 0.5847\n",
      "2019-06-05 10:22:04,390 TEST : loss 0.6765695214271545 - score 0.5932\n",
      "2019-06-05 10:22:04,409 ----------------------------------------------------------------------------------------------------\n",
      "2019-06-05 10:22:10,752 epoch 4 - iter 0/15 - loss 0.75082153\n",
      "2019-06-05 10:22:13,864 epoch 4 - iter 1/15 - loss 0.70362526\n",
      "2019-06-05 10:22:28,318 epoch 4 - iter 2/15 - loss 0.69224930\n",
      "2019-06-05 10:22:34,200 epoch 4 - iter 3/15 - loss 0.69489421\n",
      "2019-06-05 10:22:38,357 epoch 4 - iter 4/15 - loss 0.70474918\n",
      "2019-06-05 10:22:49,764 epoch 4 - iter 5/15 - loss 0.69255831\n",
      "2019-06-05 10:22:54,408 epoch 4 - iter 6/15 - loss 0.69645315\n",
      "2019-06-05 10:23:02,383 epoch 4 - iter 7/15 - loss 0.69332092\n",
      "2019-06-05 10:23:17,527 epoch 4 - iter 8/15 - loss 0.69232023\n",
      "2019-06-05 10:23:27,561 epoch 4 - iter 9/15 - loss 0.68794587\n",
      "2019-06-05 10:23:34,991 epoch 4 - iter 10/15 - loss 0.69807268\n",
      "2019-06-05 10:23:45,207 epoch 4 - iter 11/15 - loss 0.70380729\n",
      "2019-06-05 10:23:55,775 epoch 4 - iter 12/15 - loss 0.70579172\n",
      "2019-06-05 10:24:00,343 epoch 4 - iter 13/15 - loss 0.70312162\n",
      "2019-06-05 10:24:03,798 epoch 4 - iter 14/15 - loss 0.69718205\n",
      "2019-06-05 10:24:03,906 ----------------------------------------------------------------------------------------------------\n",
      "2019-06-05 10:24:03,906 EPOCH 4 done: loss 0.6972 - lr 0.0010 - bad epochs 2\n",
      "2019-06-05 10:24:06,648 DEV : loss 0.6637039184570312 - score 0.5932\n",
      "2019-06-05 10:24:09,403 TEST : loss 0.676053524017334 - score 0.6186\n",
      "2019-06-05 10:24:09,423 ----------------------------------------------------------------------------------------------------\n",
      "2019-06-05 10:24:18,746 epoch 5 - iter 0/15 - loss 0.74212122\n",
      "2019-06-05 10:24:27,354 epoch 5 - iter 1/15 - loss 0.68941805\n",
      "2019-06-05 10:24:45,191 epoch 5 - iter 2/15 - loss 0.68869342\n",
      "2019-06-05 10:25:07,660 epoch 5 - iter 3/15 - loss 0.66977708\n",
      "2019-06-05 10:25:12,832 epoch 5 - iter 4/15 - loss 0.67284331\n",
      "2019-06-05 10:25:20,744 epoch 5 - iter 5/15 - loss 0.67583866\n",
      "2019-06-05 10:25:27,053 epoch 5 - iter 6/15 - loss 0.68525085\n",
      "2019-06-05 10:25:40,378 epoch 5 - iter 7/15 - loss 0.68545233\n",
      "2019-06-05 10:25:45,220 epoch 5 - iter 8/15 - loss 0.69086934\n",
      "2019-06-05 10:25:49,355 epoch 5 - iter 9/15 - loss 0.69185245\n",
      "2019-06-05 10:25:52,873 epoch 5 - iter 10/15 - loss 0.69454938\n",
      "2019-06-05 10:25:57,439 epoch 5 - iter 11/15 - loss 0.69243489\n",
      "2019-06-05 10:26:02,974 epoch 5 - iter 12/15 - loss 0.69275686\n",
      "2019-06-05 10:26:07,119 epoch 5 - iter 13/15 - loss 0.69497799\n",
      "2019-06-05 10:26:09,205 epoch 5 - iter 14/15 - loss 0.70343495\n",
      "2019-06-05 10:26:09,290 ----------------------------------------------------------------------------------------------------\n",
      "2019-06-05 10:26:09,290 EPOCH 5 done: loss 0.7034 - lr 0.0010 - bad epochs 0\n",
      "2019-06-05 10:26:11,885 DEV : loss 0.663029670715332 - score 0.6102\n",
      "2019-06-05 10:26:14,770 TEST : loss 0.6755781173706055 - score 0.6102\n",
      "2019-06-05 10:26:14,789 ----------------------------------------------------------------------------------------------------\n",
      "2019-06-05 10:26:19,377 epoch 6 - iter 0/15 - loss 0.70142525\n",
      "2019-06-05 10:26:29,783 epoch 6 - iter 1/15 - loss 0.72338042\n",
      "2019-06-05 10:26:37,539 epoch 6 - iter 2/15 - loss 0.71259854\n",
      "2019-06-05 10:26:46,361 epoch 6 - iter 3/15 - loss 0.72819994\n",
      "2019-06-05 10:26:53,818 epoch 6 - iter 4/15 - loss 0.72931300\n",
      "2019-06-05 10:26:57,316 epoch 6 - iter 5/15 - loss 0.72809318\n",
      "2019-06-05 10:27:02,408 epoch 6 - iter 6/15 - loss 0.73448825\n",
      "2019-06-05 10:27:09,473 epoch 6 - iter 7/15 - loss 0.71316274\n",
      "2019-06-05 10:27:16,183 epoch 6 - iter 8/15 - loss 0.72174790\n",
      "2019-06-05 10:27:20,260 epoch 6 - iter 9/15 - loss 0.72368745\n",
      "2019-06-05 10:27:27,531 epoch 6 - iter 10/15 - loss 0.72114946\n",
      "2019-06-05 10:27:38,661 epoch 6 - iter 11/15 - loss 0.71706676\n",
      "2019-06-05 10:28:00,980 epoch 6 - iter 12/15 - loss 0.71869544\n",
      "2019-06-05 10:28:05,900 epoch 6 - iter 13/15 - loss 0.71527146\n",
      "2019-06-05 10:28:13,156 epoch 6 - iter 14/15 - loss 0.71844742\n",
      "2019-06-05 10:28:13,248 ----------------------------------------------------------------------------------------------------\n",
      "2019-06-05 10:28:13,249 EPOCH 6 done: loss 0.7184 - lr 0.0010 - bad epochs 0\n",
      "2019-06-05 10:28:16,318 DEV : loss 0.662426233291626 - score 0.6102\n",
      "2019-06-05 10:28:19,085 TEST : loss 0.6751552224159241 - score 0.6186\n",
      "2019-06-05 10:28:19,105 ----------------------------------------------------------------------------------------------------\n",
      "2019-06-05 10:28:28,703 epoch 7 - iter 0/15 - loss 0.73304546\n",
      "2019-06-05 10:28:32,805 epoch 7 - iter 1/15 - loss 0.75389102\n",
      "2019-06-05 10:28:39,178 epoch 7 - iter 2/15 - loss 0.74090693\n",
      "2019-06-05 10:28:46,650 epoch 7 - iter 3/15 - loss 0.73967436\n",
      "2019-06-05 10:28:50,428 epoch 7 - iter 4/15 - loss 0.73677168\n",
      "2019-06-05 10:29:01,870 epoch 7 - iter 5/15 - loss 0.73032666\n",
      "2019-06-05 10:29:09,797 epoch 7 - iter 6/15 - loss 0.73773384\n",
      "2019-06-05 10:29:15,574 epoch 7 - iter 7/15 - loss 0.72747846\n",
      "2019-06-05 10:29:27,272 epoch 7 - iter 8/15 - loss 0.72318515\n",
      "2019-06-05 10:29:47,746 epoch 7 - iter 9/15 - loss 0.72343816\n",
      "2019-06-05 10:29:54,307 epoch 7 - iter 10/15 - loss 0.71672965\n",
      "2019-06-05 10:30:00,878 epoch 7 - iter 11/15 - loss 0.71672576\n",
      "2019-06-05 10:30:04,929 epoch 7 - iter 12/15 - loss 0.72109806\n",
      "2019-06-05 10:30:11,577 epoch 7 - iter 13/15 - loss 0.71796634\n",
      "2019-06-05 10:30:21,116 epoch 7 - iter 14/15 - loss 0.71634878\n",
      "2019-06-05 10:30:21,214 ----------------------------------------------------------------------------------------------------\n",
      "2019-06-05 10:30:21,214 EPOCH 7 done: loss 0.7163 - lr 0.0010 - bad epochs 1\n",
      "2019-06-05 10:30:23,918 DEV : loss 0.6620068550109863 - score 0.6102\n",
      "2019-06-05 10:30:26,733 TEST : loss 0.6748246550559998 - score 0.6271\n",
      "2019-06-05 10:30:26,751 ----------------------------------------------------------------------------------------------------\n",
      "2019-06-05 10:30:36,510 epoch 8 - iter 0/15 - loss 0.73024291\n",
      "2019-06-05 10:30:43,395 epoch 8 - iter 1/15 - loss 0.70959902\n",
      "2019-06-05 10:30:48,326 epoch 8 - iter 2/15 - loss 0.70460540\n",
      "2019-06-05 10:31:08,557 epoch 8 - iter 3/15 - loss 0.69456312\n",
      "2019-06-05 10:31:23,355 epoch 8 - iter 4/15 - loss 0.70408690\n",
      "2019-06-05 10:31:27,368 epoch 8 - iter 5/15 - loss 0.70710601\n",
      "2019-06-05 10:31:33,328 epoch 8 - iter 6/15 - loss 0.70302385\n",
      "2019-06-05 10:31:38,929 epoch 8 - iter 7/15 - loss 0.69794936\n",
      "2019-06-05 10:31:43,543 epoch 8 - iter 8/15 - loss 0.69333705\n",
      "2019-06-05 10:31:48,123 epoch 8 - iter 9/15 - loss 0.69383919\n",
      "2019-06-05 10:31:56,423 epoch 8 - iter 10/15 - loss 0.69125078\n",
      "2019-06-05 10:32:01,879 epoch 8 - iter 11/15 - loss 0.68954332\n",
      "2019-06-05 10:32:18,908 epoch 8 - iter 12/15 - loss 0.69433987\n",
      "2019-06-05 10:32:25,083 epoch 8 - iter 13/15 - loss 0.69489373\n",
      "2019-06-05 10:32:29,735 epoch 8 - iter 14/15 - loss 0.69266898\n",
      "2019-06-05 10:32:29,840 ----------------------------------------------------------------------------------------------------\n",
      "2019-06-05 10:32:29,841 EPOCH 8 done: loss 0.6927 - lr 0.0010 - bad epochs 2\n",
      "2019-06-05 10:32:32,478 DEV : loss 0.661620020866394 - score 0.6102\n",
      "2019-06-05 10:32:35,715 TEST : loss 0.6745911836624146 - score 0.6102\n",
      "2019-06-05 10:32:35,733 ----------------------------------------------------------------------------------------------------\n",
      "2019-06-05 10:32:41,214 epoch 9 - iter 0/15 - loss 0.79726475\n",
      "2019-06-05 10:32:47,118 epoch 9 - iter 1/15 - loss 0.75402138\n",
      "2019-06-05 10:32:52,896 epoch 9 - iter 2/15 - loss 0.72542644\n",
      "2019-06-05 10:32:57,387 epoch 9 - iter 3/15 - loss 0.72297922\n",
      "2019-06-05 10:33:02,857 epoch 9 - iter 4/15 - loss 0.71871551\n",
      "2019-06-05 10:33:12,840 epoch 9 - iter 5/15 - loss 0.72382107\n",
      "2019-06-05 10:33:18,979 epoch 9 - iter 6/15 - loss 0.73111971\n",
      "2019-06-05 10:33:38,151 epoch 9 - iter 7/15 - loss 0.73135418\n",
      "2019-06-05 10:33:50,416 epoch 9 - iter 8/15 - loss 0.72464720\n",
      "2019-06-05 10:33:54,880 epoch 9 - iter 9/15 - loss 0.72009682\n",
      "2019-06-05 10:34:04,186 epoch 9 - iter 10/15 - loss 0.71697271\n",
      "2019-06-05 10:34:13,402 epoch 9 - iter 11/15 - loss 0.71978957\n",
      "2019-06-05 10:34:18,592 epoch 9 - iter 12/15 - loss 0.71817485\n",
      "2019-06-05 10:34:28,324 epoch 9 - iter 13/15 - loss 0.71956905\n",
      "2019-06-05 10:34:38,986 epoch 9 - iter 14/15 - loss 0.72529774\n",
      "2019-06-05 10:34:39,089 ----------------------------------------------------------------------------------------------------\n",
      "2019-06-05 10:34:39,089 EPOCH 9 done: loss 0.7253 - lr 0.0010 - bad epochs 3\n",
      "2019-06-05 10:34:41,806 DEV : loss 0.6612022519111633 - score 0.6525\n",
      "2019-06-05 10:34:44,760 TEST : loss 0.6742864847183228 - score 0.6186\n",
      "2019-06-05 10:34:44,779 ----------------------------------------------------------------------------------------------------\n",
      "2019-06-05 10:34:55,678 epoch 10 - iter 0/15 - loss 0.75261790\n",
      "2019-06-05 10:35:18,486 epoch 10 - iter 1/15 - loss 0.76261258\n",
      "2019-06-05 10:35:33,576 epoch 10 - iter 2/15 - loss 0.73930184\n",
      "2019-06-05 10:35:36,814 epoch 10 - iter 3/15 - loss 0.72789040\n",
      "2019-06-05 10:35:46,036 epoch 10 - iter 4/15 - loss 0.73786975\n",
      "2019-06-05 10:35:56,427 epoch 10 - iter 5/15 - loss 0.72503065\n",
      "2019-06-05 10:36:03,621 epoch 10 - iter 6/15 - loss 0.72891116\n",
      "2019-06-05 10:36:13,517 epoch 10 - iter 7/15 - loss 0.72466918\n",
      "2019-06-05 10:36:22,266 epoch 10 - iter 8/15 - loss 0.72806025\n",
      "2019-06-05 10:36:26,021 epoch 10 - iter 9/15 - loss 0.72096275\n",
      "2019-06-05 10:36:30,232 epoch 10 - iter 10/15 - loss 0.71932678\n",
      "2019-06-05 10:36:34,583 epoch 10 - iter 11/15 - loss 0.71690225\n",
      "2019-06-05 10:36:39,127 epoch 10 - iter 12/15 - loss 0.70926521\n",
      "2019-06-05 10:36:44,583 epoch 10 - iter 13/15 - loss 0.70859115\n",
      "2019-06-05 10:36:46,676 epoch 10 - iter 14/15 - loss 0.70853250\n",
      "2019-06-05 10:36:46,786 ----------------------------------------------------------------------------------------------------\n",
      "2019-06-05 10:36:46,786 EPOCH 10 done: loss 0.7085 - lr 0.0010 - bad epochs 0\n",
      "2019-06-05 10:36:49,398 DEV : loss 0.6607038974761963 - score 0.6525\n",
      "2019-06-05 10:36:52,794 TEST : loss 0.6739670038223267 - score 0.6271\n",
      "2019-06-05 10:36:52,830 ----------------------------------------------------------------------------------------------------\n",
      "2019-06-05 10:36:52,830 Testing using best model ...\n",
      "2019-06-05 10:36:52,831 loading file data/MJFF/fasttext/char_english/best-model.pt\n",
      "2019-06-05 10:36:55,757 0.6271\t0.6271\t0.6271\n",
      "2019-06-05 10:36:55,758 \n",
      "MICRO_AVG: acc 0.4568 - f1-score 0.6271\n",
      "MACRO_AVG: acc 0.3135 - f1-score 0.3854\n",
      "0          tp: 74 - fp: 44 - fn: 0 - tn: 0 - precision: 0.6271 - recall: 1.0000 - accuracy: 0.6271 - f1-score: 0.7708\n",
      "1          tp: 0 - fp: 0 - fn: 44 - tn: 74 - precision: 0.0000 - recall: 0.0000 - accuracy: 0.0000 - f1-score: 0.0000\n",
      "2019-06-05 10:36:55,759 ----------------------------------------------------------------------------------------------------\n"
     ]
    }
   ],
   "source": [
    "assert torch.cuda.is_available(), \"Do not run this model with GPU support.\"\n",
    "# Run model\n",
    "pdnet_char_mjff(config)"
   ]
  },
  {
   "cell_type": "code",
   "execution_count": 17,
   "metadata": {},
   "outputs": [],
   "source": [
    "from flair.visual.training_curves import Plotter\n",
    "plotter = Plotter()\n",
    "plotter.plot_training_curves(DATA_ROOT_FASTTEXT / lang_dir / 'loss.tsv')\n",
    "plotter.plot_weights(DATA_ROOT_FASTTEXT / lang_dir / 'weights.txt')"
   ]
  },
  {
   "cell_type": "code",
   "execution_count": 21,
   "metadata": {},
   "outputs": [
    {
     "name": "stdout",
     "output_type": "stream",
     "text": [
      "2019-06-05 10:37:24,114 loading file /home/neil/cloud/haberrspd/data/MJFF/fasttext/char_english/best-model.pt\n"
     ]
    }
   ],
   "source": [
    "from haberrspd.plotting import plot_roc_curve\n",
    "test_data = pd.read_csv(\"/home/neil/cloud/haberrspd/data/MJFF/fasttext/char_english/test.csv\", sep='\\t',header=None)\n",
    "classifier = TextClassifier.load(\"/home/neil/cloud/haberrspd/data/MJFF/fasttext/char_english/best-model.pt\")"
   ]
  },
  {
   "cell_type": "code",
   "execution_count": 22,
   "metadata": {},
   "outputs": [],
   "source": [
    "predicted_labels = [] # Predicted PD/HC under model\n",
    "predicted_labels_probs = [] # Predicted PD/HC probability under model\n",
    "for sent in test_data[1]:\n",
    "    sentence = Sentence(sent)\n",
    "    classifier.predict(sentence)\n",
    "    for label in sentence.labels:\n",
    "        predicted_labels.extend(label.value)\n",
    "        predicted_labels_probs.append(label.score)"
   ]
  },
  {
   "cell_type": "code",
   "execution_count": 23,
   "metadata": {},
   "outputs": [
    {
     "data": {
      "image/png": "[encoded data removed]",
      "text/plain": [
       "<Figure size 504x504 with 1 Axes>"
      ]
     },
     "metadata": {
      "needs_background": "light"
     },
     "output_type": "display_data"
    }
   ],
   "source": [
    "plot_roc_curve(test_data[0],predicted_labels_probs,False)"
   ]
  }
 ],
 "metadata": {
  "kernelspec": {
   "display_name": "Python 3",
   "language": "python",
   "name": "python3"
  },
  "language_info": {
   "codemirror_mode": {
    "name": "ipython",
    "version": 3
   },
   "file_extension": ".py",
   "mimetype": "text/x-python",
   "name": "python",
   "nbconvert_exporter": "python",
   "pygments_lexer": "ipython3",
   "version": "3.6.8"
  }
 },
 "nbformat": 4,
 "nbformat_minor": 2
}
