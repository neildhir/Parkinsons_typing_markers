{
 "cells": [
  {
   "cell_type": "markdown",
   "metadata": {},
   "source": [
    "This notebook explores the typing data, to see what it is all about, and calculates basic statistics to see what we are dealing with. **I am writing a bash-script to do this because well, it is more fun, but more importantly; faster**."
   ]
  },
  {
   "cell_type": "markdown",
   "metadata": {},
   "source": [
    "---"
   ]
  },
  {
   "cell_type": "code",
   "execution_count": 1,
   "metadata": {},
   "outputs": [],
   "source": [
    "%load_ext autoreload\n",
    "%autoreload 2 \n",
    "%matplotlib inline\n",
    "\n",
    "# Set path to find modelling tools for later use\n",
    "import os\n",
    "import sys\n",
    "sys.path.append(os.path.join(os.getcwd(),\"..\"))\n",
    "\n",
    "# my functions\n",
    "from haberrspd.preprocess import (create_mjff_training_data,\n",
    "                                  create_mjff_iki_training_data,\n",
    "                                  create_NLP_datasets_from_MJFF_Spanish_data,\n",
    "                                  create_dataframe_from_processed_data,\n",
    "                                  create_NLP_datasets_from_MJFF_English_data,\n",
    "                                  combine_characters_to_form_words_at_space)\n",
    "\n",
    "import pandas as pd\n",
    "import numpy as np\n",
    "from collections import Counter, defaultdict\n",
    "from itertools import groupby\n",
    "from operator import itemgetter\n",
    "\n",
    "from pathlib import Path\n",
    "from IPython.display import display\n",
    "\n",
    "# Plot stuff\n",
    "import seaborn as sns\n",
    "from scipy.constants import golden\n",
    "import matplotlib.pyplot as plt\n",
    "plt.style.use('dark_background')\n",
    "\n",
    "# Depending on where I am, set the path\n",
    "import socket\n",
    "if socket.gethostname() == 'pax':\n",
    "    # Monster machine\n",
    "    data_root = '../data/MJFF/' # My local path\n",
    "    data_root = Path(data_root)\n",
    "else:\n",
    "    # Laptop\n",
    "    data_root = '/home/nd/data/liverpool/MJFF' # My local path\n",
    "    data_root = Path(data_root)"
   ]
  },
  {
   "cell_type": "markdown",
   "metadata": {},
   "source": [
    "----"
   ]
  },
  {
   "cell_type": "code",
   "execution_count": 2,
   "metadata": {},
   "outputs": [],
   "source": [
    "# Meta\n",
    "df_meta = pd.read_csv(data_root / \"EnglishParticipantKey.csv\")\n",
    "# Actual\n",
    "df = pd.read_csv(data_root / \"EnglishData.csv\")"
   ]
  },
  {
   "cell_type": "code",
   "execution_count": 3,
   "metadata": {},
   "outputs": [
    {
     "name": "stderr",
     "output_type": "stream",
     "text": [
      "/home/neil/cloud/haberrspd/notebooks/../haberrspd/preprocess.py:252: FutureWarning: in the future negative indices will not be ignored by `numpy.delete`.\n",
      "  invoked_sentence = np.delete(sentence, remove_cords).tolist()\n"
     ]
    }
   ],
   "source": [
    "out, reference = create_NLP_datasets_from_MJFF_English_data()"
   ]
  },
  {
   "cell_type": "markdown",
   "metadata": {},
   "source": [
    "### Save the English data to use in downstream tasks"
   ]
  },
  {
   "cell_type": "code",
   "execution_count": 7,
   "metadata": {},
   "outputs": [],
   "source": [
    "out.to_csv(data_root /'preprocessed_EnglishData.csv',index=False)\n",
    "reference.to_csv(data_root /'EnglishData_target_sentences.csv',index=False)"
   ]
  },
  {
   "cell_type": "markdown",
   "metadata": {},
   "source": [
    "### Mechanical turk data"
   ]
  },
  {
   "cell_type": "code",
   "execution_count": 15,
   "metadata": {},
   "outputs": [],
   "source": [
    "out.to_csv(data_root /'preprocessed_MechanicalTurkCombinedEnglishData.csv',index=False)"
   ]
  },
  {
   "cell_type": "code",
   "execution_count": 14,
   "metadata": {},
   "outputs": [
    {
     "name": "stdout",
     "output_type": "stream",
     "text": [
      "EnglishData.csv\n",
      "EnglishParticipantKey.csv\n",
      "\u001b[0m\u001b[01;34mfasttext\u001b[0m/\n",
      "MechanicalTurkCombinedEnglishData.csv\n",
      "MechanicalTurkEnglishParticipantKey.csv\n",
      "MTurk1.csv\n",
      "MTurk2.csv\n",
      "preprocessed_EnglishData.csv\n",
      "preprocessed_MechanicalTurkCombinedEnglishData.csv\n",
      "README\n",
      "SpanishData.csv\n",
      "SpanishParticipantKey.csv\n",
      "test_MJFF_English.csv\n",
      "train_MJFF_English.csv\n",
      "validate_MJFF_English.csv\n"
     ]
    }
   ],
   "source": [
    "ls ../data/MJFF/"
   ]
  },
  {
   "cell_type": "markdown",
   "metadata": {},
   "source": [
    "### IKI extraction"
   ]
  },
  {
   "cell_type": "code",
   "execution_count": 4,
   "metadata": {},
   "outputs": [],
   "source": [
    "out = create_mjff_iki_training_data(df)"
   ]
  },
  {
   "cell_type": "code",
   "execution_count": 6,
   "metadata": {},
   "outputs": [
    {
     "data": {
      "text/plain": [
       "array([    0,   141,   235,   323,   414,   525,   723,   940,  1081,\n",
       "        1161,  1215,  1290,  1573,  1687,  1778,  1885,  2000,  2465,\n",
       "        2689,  2769,  2926,  3044,  3122,  3189,  3508,  3703,  3796,\n",
       "        3942,  4053,  4196,  4464,  4663,  4777,  4875,  4973,  5081,\n",
       "        5230,  5341,  5453,  5480,  5597,  5758,  6091,  6332,  6342,\n",
       "        6813,  6934,  7104,  7242,  7381,  7471,  7518,  7690,  7774,\n",
       "        7914,  8089,  8250,  8377,  8531,  9315,  9357,  9879,  9965,\n",
       "       10131, 10258, 10366, 10445, 10589, 10680, 10754, 10826, 10952,\n",
       "       11016, 11124, 11204, 11385, 11545, 11753, 11891, 12135, 12496,\n",
       "       12839, 13018, 13115, 13184, 13351, 13719, 13935, 14118, 14641,\n",
       "       14724, 15892, 16062, 16332, 16462, 16584, 16906, 16981, 17413,\n",
       "       17541, 17696, 17758, 17834, 17986, 18108, 18122, 18193, 18348,\n",
       "       18529, 18923, 19083, 19224, 19555, 19749, 20011, 20052, 20179,\n",
       "       20259, 20714, 20847, 21805, 21920, 22047, 22534, 22981, 23118,\n",
       "       24108, 24205, 25024, 25164, 25230, 25281, 25387, 25512, 25624,\n",
       "       26217, 26307, 26361, 26434, 26608, 26683, 26766, 26813, 27002,\n",
       "       27193, 27309, 27658, 27789, 28113, 28251, 28372, 28499, 28592,\n",
       "       28686, 29223, 29377, 29441, 29611, 29718, 29845, 29978, 30078,\n",
       "       30318, 30467, 30534, 31886, 31996, 32104, 32332, 32532, 32677,\n",
       "       32804], dtype=int64)"
      ]
     },
     "execution_count": 6,
     "metadata": {},
     "output_type": "execute_result"
    }
   ],
   "source": [
    "out['10a'][0]"
   ]
  },
  {
   "cell_type": "markdown",
   "metadata": {},
   "source": [
    "## Add Spanish data"
   ]
  },
  {
   "cell_type": "code",
   "execution_count": 2,
   "metadata": {},
   "outputs": [
    {
     "name": "stderr",
     "output_type": "stream",
     "text": [
      "/home/neil/cloud/haberrspd/notebooks/../haberrspd/preprocess.py:263: FutureWarning: in the future negative indices will not be ignored by `numpy.delete`.\n",
      "  invoked_sentence = np.delete(sentence, remove_cords).tolist()\n"
     ]
    }
   ],
   "source": [
    "test = create_NLP_datasets_from_MJFF_Spanish_data()"
   ]
  },
  {
   "cell_type": "code",
   "execution_count": 5,
   "metadata": {},
   "outputs": [],
   "source": [
    "test.to_csv(data_root /'preprocessed_SpanishData.csv',index=False)"
   ]
  },
  {
   "cell_type": "markdown",
   "metadata": {},
   "source": [
    "## Long format data"
   ]
  },
  {
   "cell_type": "code",
   "execution_count": 3,
   "metadata": {},
   "outputs": [],
   "source": [
    "from haberrspd.preprocess import create_char_compression_time_mjff_data, create_long_form_NLP_datasets_from_MJFF_English_data"
   ]
  },
  {
   "cell_type": "code",
   "execution_count": 4,
   "metadata": {},
   "outputs": [
    {
     "data": {
      "text/html": [
       "<div>\n",
       "<style scoped>\n",
       "    .dataframe tbody tr th:only-of-type {\n",
       "        vertical-align: middle;\n",
       "    }\n",
       "\n",
       "    .dataframe tbody tr th {\n",
       "        vertical-align: top;\n",
       "    }\n",
       "\n",
       "    .dataframe thead th {\n",
       "        text-align: right;\n",
       "    }\n",
       "</style>\n",
       "<table border=\"1\" class=\"dataframe\">\n",
       "  <thead>\n",
       "    <tr style=\"text-align: right;\">\n",
       "      <th></th>\n",
       "      <th>timestamp</th>\n",
       "      <th>key</th>\n",
       "      <th>response_id</th>\n",
       "      <th>response_created</th>\n",
       "      <th>participant_id</th>\n",
       "      <th>sentence_id</th>\n",
       "      <th>sentence_text</th>\n",
       "      <th>parameters_workerId</th>\n",
       "      <th>parameters_consent</th>\n",
       "    </tr>\n",
       "  </thead>\n",
       "  <tbody>\n",
       "    <tr>\n",
       "      <th>0</th>\n",
       "      <td>1439193925311</td>\n",
       "      <td>H</td>\n",
       "      <td>1010</td>\n",
       "      <td>2015-08-10T08:05:48.674Z</td>\n",
       "      <td>1a</td>\n",
       "      <td>55</td>\n",
       "      <td>However, religions other than Islam, use a dif...</td>\n",
       "      <td>2</td>\n",
       "      <td>skip</td>\n",
       "    </tr>\n",
       "    <tr>\n",
       "      <th>1</th>\n",
       "      <td>1439193925823</td>\n",
       "      <td>o</td>\n",
       "      <td>1010</td>\n",
       "      <td>2015-08-10T08:05:48.674Z</td>\n",
       "      <td>1a</td>\n",
       "      <td>55</td>\n",
       "      <td>However, religions other than Islam, use a dif...</td>\n",
       "      <td>2</td>\n",
       "      <td>skip</td>\n",
       "    </tr>\n",
       "    <tr>\n",
       "      <th>2</th>\n",
       "      <td>1439193926081</td>\n",
       "      <td>w</td>\n",
       "      <td>1010</td>\n",
       "      <td>2015-08-10T08:05:48.674Z</td>\n",
       "      <td>1a</td>\n",
       "      <td>55</td>\n",
       "      <td>However, religions other than Islam, use a dif...</td>\n",
       "      <td>2</td>\n",
       "      <td>skip</td>\n",
       "    </tr>\n",
       "    <tr>\n",
       "      <th>3</th>\n",
       "      <td>1439193926367</td>\n",
       "      <td>e</td>\n",
       "      <td>1010</td>\n",
       "      <td>2015-08-10T08:05:48.674Z</td>\n",
       "      <td>1a</td>\n",
       "      <td>55</td>\n",
       "      <td>However, religions other than Islam, use a dif...</td>\n",
       "      <td>2</td>\n",
       "      <td>skip</td>\n",
       "    </tr>\n",
       "    <tr>\n",
       "      <th>4</th>\n",
       "      <td>1439193926704</td>\n",
       "      <td>v</td>\n",
       "      <td>1010</td>\n",
       "      <td>2015-08-10T08:05:48.674Z</td>\n",
       "      <td>1a</td>\n",
       "      <td>55</td>\n",
       "      <td>However, religions other than Islam, use a dif...</td>\n",
       "      <td>2</td>\n",
       "      <td>skip</td>\n",
       "    </tr>\n",
       "  </tbody>\n",
       "</table>\n",
       "</div>"
      ],
      "text/plain": [
       "       timestamp key  response_id          response_created participant_id  \\\n",
       "0  1439193925311   H         1010  2015-08-10T08:05:48.674Z             1a   \n",
       "1  1439193925823   o         1010  2015-08-10T08:05:48.674Z             1a   \n",
       "2  1439193926081   w         1010  2015-08-10T08:05:48.674Z             1a   \n",
       "3  1439193926367   e         1010  2015-08-10T08:05:48.674Z             1a   \n",
       "4  1439193926704   v         1010  2015-08-10T08:05:48.674Z             1a   \n",
       "\n",
       "   sentence_id                                      sentence_text  \\\n",
       "0           55  However, religions other than Islam, use a dif...   \n",
       "1           55  However, religions other than Islam, use a dif...   \n",
       "2           55  However, religions other than Islam, use a dif...   \n",
       "3           55  However, religions other than Islam, use a dif...   \n",
       "4           55  However, religions other than Islam, use a dif...   \n",
       "\n",
       "  parameters_workerId parameters_consent  \n",
       "0                   2               skip  \n",
       "1                   2               skip  \n",
       "2                   2               skip  \n",
       "3                   2               skip  \n",
       "4                   2               skip  "
      ]
     },
     "execution_count": 4,
     "metadata": {},
     "output_type": "execute_result"
    }
   ],
   "source": [
    "df.head()"
   ]
  },
  {
   "cell_type": "code",
   "execution_count": 5,
   "metadata": {},
   "outputs": [
    {
     "name": "stderr",
     "output_type": "stream",
     "text": [
      "/home/neil/cloud/haberrspd/notebooks/../haberrspd/preprocess.py:367: FutureWarning: in the future negative indices will not be ignored by `numpy.delete`.\n",
      "  invoked_sentence = np.delete(sentence, remove_cords).tolist()\n"
     ]
    }
   ],
   "source": [
    "out = create_char_compression_time_mjff_data(df)"
   ]
  },
  {
   "cell_type": "code",
   "execution_count": 12,
   "metadata": {},
   "outputs": [
    {
     "data": {
      "text/plain": [
       "'HHHHHHHHHHHHHHHHHHooooooooooooooooooooooooooowwwwwwwwwwwwwwwwwwwwwweeeeeeeeeeeeeevvvvvvvvveeeeeeeeerrrrrrrrrrrrrrrrrrrrrrrrrrrrrrrrrrrrrrrrrrrrrrrrrrrrrrrr,,,,,,               rrrrreeeeeeeeelllllllllaaaaaaaaaaaattttttiiiiiiioooooooooooooooonnnnnnnnnnnnssssssssssssssssssssssssssssssssssssssssssssssssssssssssssssssssssssssssssssssssssssssssssssssssssssssssssssssssssssssssssssssssssssssssssssssssssssssssssssssssssssssssssssssssssssssssssssssssssssssssssssssssssssssssssssssssssssssssssssssssssssssssssssssssssssssssssssssssssssssssssssssssssssssssssssssssssssssssssssssssssssssssssssssssssssssssssssssssssssssssssssssssssssssssssssssssssssssssssssssssssssssssssssssssssssssssssssssssssssssssssssssssssssssssssssssssssssssssssssssssssssssssssssssssssssssssssssssssssssssssssssssssssssssssssssssssssssssssssssssssssssssssssssssssssssssssssssssssssssssssssssssssssssssssssssssssssssssssiiiiiiiiiiiiiiiiiiiiiigggggggggggggiiiiiiooooooooooooooooonnnnnnnnnnssssssssssssssssssssssssssssssssssssssssssssssss          ooooooooootttttttttthhhhhheeeeeeeerrrr              tttthhhhhhhhhhhaaaaaaaannnnnn  IIIIIIIIIIIIIIIIssssssssssllllllllllllllaaaaaaaaaaaaaaaaaaaaaaaaaaaaaaaaaaaaammmmmmmmmmmmmmmmmmmmmmmmmmmmmmmmmmmmmmmmmmmmmmmmmmmmmmmmmmmmm,,,,,,                 uuuuuuuuuuussssssssssssssssssseeeeeeeeeeeee                                  aaaaaaaa                                                                             ddddddddddddddiiiiiiiiiffffffffffffffffffffffffffeeeeeeeeerrrrrrreeeeeeeeeeennnnnnnnnntttttttttttt            ppppppppppppppppppppppppppppppppppprrrrrrrrrrrrrrrrrrrrrrrrrrrrrrrrrrrrrrroooooooooooooooooonnnnnnnnnnnnnnuuuuuuuuuunnnnnnnnnnnnnnnnnnnnnnnnnnnnnnnnnccccccccccccaaaaaiiiiiiiiiiiiiiiiiiiiiiiiiiiiiiiiiiiaaaaaaaaaaaaatttiiiiiiioooooooooooooonnnnnnnnnn        ffffffoooooooo    rrrrrrrrrrrrrrrrrrrrrrrrrrrrrLLLLLLLLLLLLLLLLLAAAAAAAAAAAAAAAAAAAAAAAAAAAAAAAAAAAAAAAAAAAAAAAAAAAAAAAAAAAAAAAAlllllllllllllllllllllllllaaaaaaaaaaaaaaaaaaaaaaaaaaaaaaaaaaaaaaaaaaaaaaaaaaaaaaaaaaaaaaaaaaaaaaaaaaaaaaaaaaaaaahhhhhhhhhhhhhhhhhhhhhhhhhhhhhhhhhhhhhhhhhhhhhhhh,,,,,,,,,,,,                      aaaaaaaaaaaaaaaaaaaaaaaaaaaaaaaaaaaaaaaaaaaaaaaaaaaaaaaaaaaaaalllllllllllllllllltttttttttthhhhhhhhhhooooooouuuuuuuuuuuuuuuuggghhhhhhhh            ttttttthhhhhhheeeee             sssssssssssspppppppppppppeeeeeeeeeeeeeeeeeeeeeeeeeeekkkkkkllllllllllllllllllllllllllliiiiinnnnnnnnnngggggggggg                   iiiiiiiiiiiissssssss         tthhhhhhheeeeeeeeeee           sssssssssssssaaaammmmmmmmmmmmmmmmmmmmmmmmmmmmmmmmmmmmmmmmmmmmmmmmmm'"
      ]
     },
     "execution_count": 12,
     "metadata": {},
     "output_type": "execute_result"
    }
   ],
   "source": [
    "out['10a'][55]"
   ]
  },
  {
   "cell_type": "code",
   "execution_count": 11,
   "metadata": {},
   "outputs": [
    {
     "name": "stdout",
     "output_type": "stream",
     "text": [
      "The sequence lengths for subject 10a is: [2537, 1412, 1076, 1819, 1447, 2327, 2263, 2249, 2528, 1314, 1834, 2015, 2354, 1576, 1620].\n",
      "The sequence lengths for subject 10b is: [1748, 1030, 952, 1900, 1508, 2370, 2477, 1819, 2222, 1247, 1840, 1876, 2275, 1533, 2157].\n",
      "The sequence lengths for subject 11a is: [2504, 1449, 1371, 2649, 2003, 2846, 2462, 2518, 3481, 1751, 2193, 2638, 2600, 2537, 2417].\n",
      "The sequence lengths for subject 11b is: [2600, 1423, 1398, 2446, 2093, 2565, 2445, 2661, 2575, 1808, 2316, 2282, 3095, 2245, 2318].\n",
      "The sequence lengths for subject 12a is: [5067, 3169, 2402, 4586, 3745, 5651, 4785, 5172, 6072, 3796, 5818, 5628, 6626, 4866, 4565].\n",
      "The sequence lengths for subject 12b is: [4373, 2957, 2399, 4042, 3756, 6441, 5051, 5236, 6505, 4214, 5212, 7894, 6697, 4746, 4727].\n",
      "The sequence lengths for subject 13a is: [4531, 2380, 2159, 3692, 3566, 5391, 3758, 3769, 5110, 2572, 3881, 4713, 4492, 3373, 4031].\n",
      "The sequence lengths for subject 13b is: [5138, 2070, 1892, 3536, 3217, 4070, 4326, 3718, 4412, 2303, 3912, 4608, 4589, 3399, 3661].\n",
      "The sequence lengths for subject 14a is: [3022, 1808, 1967, 2913, 3179, 3957, 3139, 2972, 3572, 2005, 2982, 3287, 4037, 2697, 2770].\n",
      "The sequence lengths for subject 14b is: [3230, 1682, 1509, 2387, 2790, 3512, 3267, 3071, 4071, 1785, 3169, 3595, 3599, 2733, 2468].\n",
      "The sequence lengths for subject 15a is: [2609, 1660, 1516, 2368, 2280, 3175, 2973, 2840, 3055, 1919, 2521, 3318, 3234, 2837, 2833].\n",
      "The sequence lengths for subject 15b is: [2175, 1351, 1259, 2260, 2217, 2748, 2622, 2744, 3162, 1947, 2174, 2991, 2847, 2556, 2788].\n",
      "The sequence lengths for subject 16a is: [2641, 1500, 1478, 2334, 2250, 5068, 2664, 2963, 3389, 2473, 2530, 3044, 3352, 3326, 3023].\n",
      "The sequence lengths for subject 16b is: [2209, 1604, 1965, 2072, 2357, 2955, 3172, 2657, 3881, 1866, 2305, 3189, 3699, 2447, 4026].\n",
      "The sequence lengths for subject 17a is: [4076, 2449, 2199, 4831, 2903, 4337, 3290, 3558, 4253, 3187, 3103, 4566, 4317, 3349, 3221].\n",
      "The sequence lengths for subject 17b is: [3465, 1720, 1677, 2883, 2557, 3685, 3540, 3288, 4732, 3150, 2984, 4139, 4382, 3504, 3141].\n",
      "The sequence lengths for subject 18a is: [4396, 2542, 2456, 8465, 3930, 13865, 5114, 4097, 5851, 4158, 4926, 5785, 7067, 4360, 5090].\n",
      "The sequence lengths for subject 18b is: [3679, 2622, 2067, 4531, 3571, 5466, 4398, 4210, 5818, 2915, 5878, 5716, 4314, 4111].\n",
      "The sequence lengths for subject 19a is: [10527, 5996, 5525, 9207, 9447, 7507, 13454, 7468, 14847, 8484].\n",
      "The sequence lengths for subject 19b is: [8125, 5179, 4676, 8049, 7675, 9521, 9335, 12755, 7472, 10250, 10901, 10804].\n",
      "The sequence lengths for subject 1a is: [3528, 2661, 2102, 2633, 2056, 3273, 2871, 2538, 3813, 1840, 2407, 2995, 3303, 2486, 3434].\n",
      "The sequence lengths for subject 1b is: [2600, 1264, 1316, 2210, 1935, 3255, 2590, 2290, 3260, 1693, 2824, 2658, 2931, 2168, 1428].\n",
      "The sequence lengths for subject 20a is: [3644, 2248, 1858, 3532, 1957, 3346, 3848, 4220, 4078, 2905, 3137, 3863, 4790, 2819, 3729].\n",
      "The sequence lengths for subject 20b is: [3145, 2284, 1652, 3254, 2828, 3480, 3383, 3015, 4471, 2648, 3032, 4267, 4250, 2817, 3284].\n",
      "The sequence lengths for subject 21a is: [3816, 2399, 2305, 3855, 3238, 4801, 3951, 5550, 5197, 3072, 3937, 5268, 5818, 3875, 4324].\n",
      "The sequence lengths for subject 21b is: [3988, 2048, 2438, 3655, 3084, 4816, 3890, 4057, 4932, 3019, 3455, 4445, 5136, 3856, 4206].\n",
      "The sequence lengths for subject 22a is: [8953, 5289, 4055, 13228, 7883, 11406, 8358, 9674, 9162, 6046, 9165, 9597, 10359, 7833, 8182].\n",
      "The sequence lengths for subject 22b is: [7531, 4120, 4524, 7121, 6118, 8519, 7464, 9874, 10937, 6175, 7905, 8590, 9596, 7575, 7924].\n",
      "The sequence lengths for subject 25a is: [3051, 2092, 2363, 3267, 2621, 3262, 3588, 3661, 4063, 2437, 2749, 3168, 4376, 2552, 2689].\n",
      "The sequence lengths for subject 25b is: [2573, 2003, 1870, 2635, 2280, 3232, 2690, 3293, 3260, 2427, 2970, 3643, 3566, 2754, 2714].\n",
      "The sequence lengths for subject 26a is: [8060, 3699, 5256, 13608, 5443, 7432, 7234, 7787, 9202, 6622, 6544, 8225, 9445, 6198, 6927].\n",
      "The sequence lengths for subject 26b is: [5934, 4063, 3701, 6364, 5537, 7261, 6720, 7539, 9028, 4888, 6178, 7890, 7827, 6893, 6616].\n",
      "The sequence lengths for subject 27a is: [3041, 2713, 1721, 3164, 2415, 3627, 3309, 3303, 3532, 2220, 3585, 3545, 4501, 2891, 3148].\n",
      "The sequence lengths for subject 27b is: [2299, 1889, 1718, 2912, 2370, 3498, 3239, 3083, 3453, 2293, 3548, 3301, 4514, 3309, 3239].\n",
      "The sequence lengths for subject 28a is: [8990, 5553, 5092, 8709, 7816, 10793, 9803, 11033, 11826, 7073, 9459].\n",
      "The sequence lengths for subject 28b is: [8924, 5400, 5107, 10886, 7725, 11901, 9283, 11701, 14894, 8249, 11643, 14944].\n",
      "The sequence lengths for subject 29a is: [4936, 2882, 2425, 4745, 3793, 5339, 4394, 4518, 7519, 3756, 3857, 5300, 5478, 4750, 4376].\n",
      "The sequence lengths for subject 29b is: [3929, 2219, 2283, 3624, 3602, 4365, 3995, 4466, 6072, 3021, 3830, 5471, 5177, 3861, 4053].\n",
      "The sequence lengths for subject 2a is: [5412, 3451, 3436, 5734, 4973, 7037, 5630, 6190, 7121, 4606, 8175, 7721, 7464, 5786, 7819].\n",
      "The sequence lengths for subject 2b is: [6390, 3755, 2732, 5109, 4619, 5495, 4840, 6956, 7063, 4587, 5382, 6885, 7894, 5657, 5714].\n",
      "The sequence lengths for subject 30a is: [4378, 3744, 2201, 4231, 8202, 4892, 4627, 4098, 6174, 3287, 4854, 5999, 5543, 4913, 5142].\n",
      "The sequence lengths for subject 30b is: [4126, 2230, 2693, 4177, 3724, 5475, 4304, 4210, 5701, 2968, 4589, 5020, 5141, 4181, 4254].\n",
      "The sequence lengths for subject 31a is: [12505, 4742, 6566, 6405, 7187, 7202, 13633, 8638, 13614, 5868, 14166, 9531, 9116, 7558, 8258].\n",
      "The sequence lengths for subject 31b is: [7451, 4160, 6233, 7264, 6406, 8890, 8737, 9480, 9827, 5786, 6884, 7789, 9217].\n",
      "The sequence lengths for subject 32a is: [2220, 1271, 1082, 2342, 2955, 2779, 1900, 2311, 2830, 1503, 1970, 2687, 2678, 3709, 3772].\n",
      "The sequence lengths for subject 32b is: [1815, 1046, 1040, 2373, 1788, 3614, 2485, 2620, 3017, 1594, 1900, 2783, 4102, 2046, 1904].\n",
      "The sequence lengths for subject 33a is: [3629, 2439, 2008, 3096, 3038, 5756, 3434, 5485, 2808, 2548, 3099, 3915, 6398, 442].\n",
      "The sequence lengths for subject 33b is: [2735, 1986, 1602, 2640, 2538, 4062, 3272, 3438, 4115, 2062, 3011, 3622, 4362, 4732, 3565].\n",
      "The sequence lengths for subject 34a is: [16415, 6447, 6350, 10912, 8471, 17500, 9610, 11626, 13368].\n",
      "The sequence lengths for subject 34b is: [9567, 4843, 5430, 9883, 8509, 13895, 11765, 14579, 7369, 8922, 11635, 14244, 8902].\n",
      "The sequence lengths for subject 35a is: [4429, 3060, 2137, 3330, 3363, 3449, 5697, 4308, 4254, 4807, 5710, 3887, 4256].\n",
      "The sequence lengths for subject 35b is: [3614, 2562, 1887, 3397, 3307, 4894, 3918, 4745, 5577, 2924, 3613, 4171, 4920, 3670, 4188].\n",
      "The sequence lengths for subject 36a is: [2450, 1154, 1080, 2285, 1716, 1980, 2407, 2513, 1686, 2030, 2448, 2189, 1676, 2081].\n",
      "The sequence lengths for subject 36b is: [1863, 1064, 1046, 1867, 1696, 2596, 1910, 2226, 2532, 1350, 1949, 2310, 2259, 1913, 2062].\n",
      "The sequence lengths for subject 37a is: [5865, 3653, 3210, 5998, 4986, 7095, 5590, 6402, 7721, 5186, 6151, 6214, 8968, 6625, 5491].\n",
      "The sequence lengths for subject 37b is: [5732, 3495, 2874, 5018, 3871, 6301, 5409, 5738, 3873, 5420, 6736, 7550, 7140, 7129].\n",
      "The sequence lengths for subject 38a is: [8917, 4883, 7830, 9145, 9822, 7952, 10405, 10379, 6301, 7735, 9261, 10996, 6618, 7237].\n",
      "The sequence lengths for subject 38b is: [5877, 4524, 3028, 5803, 5302, 9899, 6478, 8353, 8552, 5122, 6514, 6852, 9762, 6145, 7157].\n",
      "The sequence lengths for subject 39a is: [4383, 2613, 2294, 9340, 3589, 5158, 8564, 8161, 5778, 3532, 4195, 6434, 8040, 6284, 9492].\n",
      "The sequence lengths for subject 39b is: [4809, 13106, 5080, 3721, 6489, 4839, 6344, 3579, 4824, 5602, 15990, 4388, 4567].\n",
      "The sequence lengths for subject 40a is: [4857, 2590, 2655, 4353, 3977, 5514, 4825, 4771, 4253, 4380, 4404, 5659, 6770, 4422, 5536].\n",
      "The sequence lengths for subject 40b is: [4912, 2784, 2397, 4058, 4017, 4898, 5060, 4997, 6098, 3680, 4159, 5204, 5748, 5100, 4607].\n",
      "The sequence lengths for subject 41a is: [1890, 894, 857, 1657, 1308, 2366, 950, 1478, 1813, 1969, 2087, 1392, 1708].\n",
      "The sequence lengths for subject 41b is: [1488, 772, 833, 1367, 1210, 2117, 1787, 1659, 1957, 1127, 1358, 1857, 1954, 1837, 1717].\n",
      "The sequence lengths for subject 42a is: [6629, 3881, 2919, 5768, 4724, 11652, 5916, 6946, 8307, 4866, 6108, 6812, 7482, 6446, 5407].\n",
      "The sequence lengths for subject 42b is: [4637, 3097, 2629, 6568, 4481, 6450, 8607, 5880, 8798, 4696, 5296, 5760, 10776, 4979, 5982].\n",
      "The sequence lengths for subject 43a is: [15384, 6184, 7822, 12450, 11064, 13805, 7323].\n",
      "The sequence lengths for subject 43b is: [12797, 8066, 6663, 10640, 9660, 15645, 14847, 14020, 15613, 9991].\n",
      "The sequence lengths for subject 44a is: [16138, 9583, 7904, 13193, 12853, 15660, 16608, 14382].\n",
      "The sequence lengths for subject 44b is: [12478, 7246, 6520, 21328, 9834, 12640, 11634, 12476, 15249, 9173].\n",
      "The sequence lengths for subject 4a is: [3037, 1733, 1947, 3063, 3259, 4616, 3489, 3674, 3746, 2814, 4372, 3869, 5010, 3294, 3342].\n",
      "The sequence lengths for subject 4b is: [2805, 1850, 1818, 3292, 2884, 3576, 3333, 3526, 3978, 2342, 3317, 3369, 4647, 3115, 3224].\n",
      "The sequence lengths for subject 5a is: [4119, 2383, 2881, 4370, 3362, 6392, 3380, 5446, 5023, 3108, 3546, 4789, 5213].\n",
      "The sequence lengths for subject 5b is: [3220, 2315, 2246, 3638, 3299, 2884, 5294, 3858, 4513, 3204, 4076, 4516, 4555, 5053, 4168].\n",
      "The sequence lengths for subject 6a is: [5217, 3342, 2862, 5136, 4517, 7005, 5466, 6199, 9016, 4444, 5775, 6409, 6375, 5674, 5208].\n",
      "The sequence lengths for subject 6b is: [7044, 3202, 2481, 4923, 3986, 5964, 4578, 5983, 6544, 3923, 5615, 5936, 6089, 5326, 5369].\n",
      "The sequence lengths for subject 7a is: [5722, 3151, 3059, 5214, 4574, 12962, 4646, 6751, 4228, 4660, 6200, 6084, 5066, 4994].\n",
      "The sequence lengths for subject 7b is: [5210, 2585, 2882, 4426, 4211, 5319, 4480, 4554, 6346, 3255, 4037, 4944, 4912, 4062, 5091].\n",
      "The sequence lengths for subject 8a is: [4098, 2468, 2271, 4029, 3513, 5069, 4035, 4690, 6018, 3147, 4514, 4713, 5279, 4541, 4019].\n",
      "The sequence lengths for subject 8b is: [3727, 2308, 2255, 3267, 4078, 5004, 4249, 3902, 5465, 2699, 3279, 5293, 5081, 4035, 4032].\n",
      "The sequence lengths for subject 9a is: [3335, 2261, 2319, 3983, 2996, 4246, 3742, 3888, 4934, 3040, 3729, 4761, 6000, 3886, 3907].\n",
      "The sequence lengths for subject 9b is: [3862, 2282, 1964, 4599, 2897, 4339, 4268, 4257, 7579, 2771, 5917, 4707, 5585, 5428, 4856].\n"
     ]
    }
   ],
   "source": [
    "for sub in out.keys():\n",
    "    tmp = []\n",
    "    for sent in out[sub].keys():\n",
    "        tmp.append(len(out[sub][sent]))\n",
    "    print('The sequence lengths for subject {0} is: {1}.'.format(sub, tmp))"
   ]
  },
  {
   "cell_type": "code",
   "execution_count": 9,
   "metadata": {},
   "outputs": [],
   "source": [
    "a,b = create_long_form_NLP_datasets_from_MJFF_English_data()"
   ]
  },
  {
   "cell_type": "code",
   "execution_count": 13,
   "metadata": {},
   "outputs": [
    {
     "data": {
      "text/html": [
       "<div>\n",
       "<style scoped>\n",
       "    .dataframe tbody tr th:only-of-type {\n",
       "        vertical-align: middle;\n",
       "    }\n",
       "\n",
       "    .dataframe tbody tr th {\n",
       "        vertical-align: top;\n",
       "    }\n",
       "\n",
       "    .dataframe thead th {\n",
       "        text-align: right;\n",
       "    }\n",
       "</style>\n",
       "<table border=\"1\" class=\"dataframe\">\n",
       "  <thead>\n",
       "    <tr style=\"text-align: right;\">\n",
       "      <th></th>\n",
       "      <th>Patient_ID</th>\n",
       "      <th>Diagnosis</th>\n",
       "      <th>Sentence_ID</th>\n",
       "      <th>Preprocessed_typed_sentence</th>\n",
       "    </tr>\n",
       "  </thead>\n",
       "  <tbody>\n",
       "    <tr>\n",
       "      <th>0</th>\n",
       "      <td>10a</td>\n",
       "      <td>0</td>\n",
       "      <td>55</td>\n",
       "      <td>HHHHHHHHHHHHHHHHHHooooooooooooooooooooooooooow...</td>\n",
       "    </tr>\n",
       "    <tr>\n",
       "      <th>1</th>\n",
       "      <td>10a</td>\n",
       "      <td>0</td>\n",
       "      <td>56</td>\n",
       "      <td>HHHHHHHHHHeeeee      iiiiiiiiisssssss         ...</td>\n",
       "    </tr>\n",
       "    <tr>\n",
       "      <th>2</th>\n",
       "      <td>10a</td>\n",
       "      <td>0</td>\n",
       "      <td>57</td>\n",
       "      <td>BBBBBBBBBBBBBBBBBBBBBBBBBBoooooooooooooooooooo...</td>\n",
       "    </tr>\n",
       "    <tr>\n",
       "      <th>3</th>\n",
       "      <td>10a</td>\n",
       "      <td>0</td>\n",
       "      <td>58</td>\n",
       "      <td>TTTTTTTTTTTTTThhhhhhhheeeeeeeeeeeeeeeeeeeeeeee...</td>\n",
       "    </tr>\n",
       "    <tr>\n",
       "      <th>4</th>\n",
       "      <td>10a</td>\n",
       "      <td>0</td>\n",
       "      <td>59</td>\n",
       "      <td>TTTTTTTTTTTTTThhhhhhheeeeeeee                 ...</td>\n",
       "    </tr>\n",
       "  </tbody>\n",
       "</table>\n",
       "</div>"
      ],
      "text/plain": [
       "  Patient_ID  Diagnosis  Sentence_ID  \\\n",
       "0        10a          0           55   \n",
       "1        10a          0           56   \n",
       "2        10a          0           57   \n",
       "3        10a          0           58   \n",
       "4        10a          0           59   \n",
       "\n",
       "                         Preprocessed_typed_sentence  \n",
       "0  HHHHHHHHHHHHHHHHHHooooooooooooooooooooooooooow...  \n",
       "1  HHHHHHHHHHeeeee      iiiiiiiiisssssss         ...  \n",
       "2  BBBBBBBBBBBBBBBBBBBBBBBBBBoooooooooooooooooooo...  \n",
       "3  TTTTTTTTTTTTTThhhhhhhheeeeeeeeeeeeeeeeeeeeeeee...  \n",
       "4  TTTTTTTTTTTTTThhhhhhheeeeeeee                 ...  "
      ]
     },
     "execution_count": 13,
     "metadata": {},
     "output_type": "execute_result"
    }
   ],
   "source": [
    "a.head()"
   ]
  },
  {
   "cell_type": "code",
   "execution_count": 10,
   "metadata": {},
   "outputs": [
    {
     "data": {
      "text/html": [
       "<div>\n",
       "<style scoped>\n",
       "    .dataframe tbody tr th:only-of-type {\n",
       "        vertical-align: middle;\n",
       "    }\n",
       "\n",
       "    .dataframe tbody tr th {\n",
       "        vertical-align: top;\n",
       "    }\n",
       "\n",
       "    .dataframe thead th {\n",
       "        text-align: right;\n",
       "    }\n",
       "</style>\n",
       "<table border=\"1\" class=\"dataframe\">\n",
       "  <thead>\n",
       "    <tr style=\"text-align: right;\">\n",
       "      <th></th>\n",
       "      <th>Patient_ID</th>\n",
       "      <th>Diagnosis</th>\n",
       "      <th>Sentence_ID</th>\n",
       "      <th>Preprocessed_typed_sentence</th>\n",
       "    </tr>\n",
       "  </thead>\n",
       "  <tbody>\n",
       "    <tr>\n",
       "      <th>0</th>\n",
       "      <td>10a</td>\n",
       "      <td>0</td>\n",
       "      <td>55</td>\n",
       "      <td>HHHHHHHHHHHHHHHHHHooooooooooooooooooooooooooow...</td>\n",
       "    </tr>\n",
       "    <tr>\n",
       "      <th>1</th>\n",
       "      <td>10a</td>\n",
       "      <td>0</td>\n",
       "      <td>56</td>\n",
       "      <td>HHHHHHHHHHeeeee      iiiiiiiiisssssss         ...</td>\n",
       "    </tr>\n",
       "    <tr>\n",
       "      <th>2</th>\n",
       "      <td>10a</td>\n",
       "      <td>0</td>\n",
       "      <td>57</td>\n",
       "      <td>BBBBBBBBBBBBBBBBBBBBBBBBBBoooooooooooooooooooo...</td>\n",
       "    </tr>\n",
       "    <tr>\n",
       "      <th>3</th>\n",
       "      <td>10a</td>\n",
       "      <td>0</td>\n",
       "      <td>58</td>\n",
       "      <td>TTTTTTTTTTTTTThhhhhhhheeeeeeeeeeeeeeeeeeeeeeee...</td>\n",
       "    </tr>\n",
       "    <tr>\n",
       "      <th>4</th>\n",
       "      <td>10a</td>\n",
       "      <td>0</td>\n",
       "      <td>59</td>\n",
       "      <td>TTTTTTTTTTTTTThhhhhhheeeeeeee                 ...</td>\n",
       "    </tr>\n",
       "  </tbody>\n",
       "</table>\n",
       "</div>"
      ],
      "text/plain": [
       "'HHHHHHHHHHHHHHHHHHooooooooooooooooooooooooooowwwwwwwwwwwwwwwwwwwwwweeeeeeeeeeeeeevvvvvvvvveeeeeeeeerrrrrrrrrrrrrrrrrrrrrrrrrrrrrrrrrrrrrrrrrrrrrrrrrrrrrrrr,,,,,,               rrrrreeeeeeeeelllllllllaaaaaaaaaaaattttttiiiiiiioooooooooooooooonnnnnnnnnnnnssssssssssssssssssssssssssssssssssssssssssssssssssssssssssssssssssssssssssssssssssssssssssssssssssssssssssssssssssssssssssssssssssssssssssssssssssssssssssssssssssssssssssssssssssssssssssssssssssssssssssssssssssssssssssssssssssssssssssssssssssssssssssssssssssssssssssssssssssssssssssssssssssssssssssssssssssssssssssssssssssssssssssssssssssssssssssssssssssssssssssssssssssssssssssssssssssssssssssssssssssssssssssssssssssssssssssssssssssssssssssssssssssssssssssssssssssssssssssssssssssssssssssssssssssssssssssssssssssssssssssssssssssssssssssssssssssssssssssssssssssssssssssssssssssssssssssssssssssssssssssssssssssssssssssssssssssssssssiiiiiiiiiiiiiiiiiiiiiigggggggggggggiiiiiiooooooooooooooooonnnnnnnnnnssssssssssssssssssssssssssssssssssssssssssssssss          ooooooooootttttttttthhhhhheeeeeeeerrrr              tttthhhhhhhhhhhaaaaaaaannnnnn  IIIIIIIIIIIIIIIIssssssssssllllllllllllllaaaaaaaaaaaaaaaaaaaaaaaaaaaaaaaaaaaaammmmmmmmmmmmmmmmmmmmmmmmmmmmmmmmmmmmmmmmmmmmmmmmmmmmmmmmmmmmm,,,,,,                 uuuuuuuuuuussssssssssssssssssseeeeeeeeeeeee                                  aaaaaaaa                                                                             ddddddddddddddiiiiiiiiiffffffffffffffffffffffffffeeeeeeeeerrrrrrreeeeeeeeeeennnnnnnnnntttttttttttt            ppppppppppppppppppppppppppppppppppprrrrrrrrrrrrrrrrrrrrrrrrrrrrrrrrrrrrrrroooooooooooooooooonnnnnnnnnnnnnnuuuuuuuuuunnnnnnnnnnnnnnnnnnnnnnnnnnnnnnnnnccccccccccccaaaaaiiiiiiiiiiiiiiiiiiiiiiiiiiiiiiiiiiiaaaaaaaaaaaaatttiiiiiiioooooooooooooonnnnnnnnnn        ffffffoooooooo    rrrrrrrrrrrrrrrrrrrrrrrrrrrrrLLLLLLLLLLLLLLLLLAAAAAAAAAAAAAAAAAAAAAAAAAAAAAAAAAAAAAAAAAAAAAAAAAAAAAAAAAAAAAAAAlllllllllllllllllllllllllaaaaaaaaaaaaaaaaaaaaaaaaaaaaaaaaaaaaaaaaaaaaaaaaaaaaaaaaaaaaaaaaaaaaaaaaaaaaaaaaaaaaaahhhhhhhhhhhhhhhhhhhhhhhhhhhhhhhhhhhhhhhhhhhhhhhh,,,,,,,,,,,,                      aaaaaaaaaaaaaaaaaaaaaaaaaaaaaaaaaaaaaaaaaaaaaaaaaaaaaaaaaaaaaalllllllllllllllllltttttttttthhhhhhhhhhooooooouuuuuuuuuuuuuuuuggghhhhhhhh            ttttttthhhhhhheeeee             sssssssssssspppppppppppppeeeeeeeeeeeeeeeeeeeeeeeeeeekkkkkkllllllllllllllllllllllllllliiiiinnnnnnnnnngggggggggg                   iiiiiiiiiiiissssssss         tthhhhhhheeeeeeeeeee           sssssssssssssaaaammmmmmmmmmmmmmmmmmmmmmmmmmmmmmmmmmmmmmmmmmmmmmmmmm'"
      ]
     },
     "execution_count": 10,
     "metadata": {},
     "output_type": "execute_result"
    }
   ],
   "source": [
    "a.Preprocessed_typed_sentence[0]"
   ]
  }
 ],
 "metadata": {
  "kernelspec": {
   "display_name": "Python 3",
   "language": "python",
   "name": "python3"
  },
  "language_info": {
   "codemirror_mode": {
    "name": "ipython",
    "version": 3
   },
   "file_extension": ".py",
   "mimetype": "text/x-python",
   "name": "python",
   "nbconvert_exporter": "python",
   "pygments_lexer": "ipython3",
   "version": "3.6.8"
  }
 },
 "nbformat": 4,
 "nbformat_minor": 2
}
