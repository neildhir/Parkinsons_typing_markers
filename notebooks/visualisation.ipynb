{
 "cells": [
  {
   "cell_type": "markdown",
   "metadata": {},
   "source": [
    "1. Embedd data using some algorithm (BERT, ELMo, word2vec, flair)\n",
    "2. Visualise using t-SNE\n",
    "3. Make sure to colour-code the sentences respectively with PD/HC to visualise the distinction"
   ]
  },
  {
   "cell_type": "markdown",
   "metadata": {},
   "source": [
    "---"
   ]
  },
  {
   "cell_type": "code",
   "execution_count": 28,
   "metadata": {},
   "outputs": [
    {
     "name": "stdout",
     "output_type": "stream",
     "text": [
      "The autoreload extension is already loaded. To reload it, use:\n",
      "  %reload_ext autoreload\n",
      "False\n"
     ]
    },
    {
     "data": {
      "text/plain": [
       "(1170, 4)"
      ]
     },
     "execution_count": 28,
     "metadata": {},
     "output_type": "execute_result"
    }
   ],
   "source": [
    "%load_ext autoreload\n",
    "%autoreload 2 \n",
    "%matplotlib inline\n",
    "\n",
    "# Set path to find modelling tools for later use\n",
    "import os\n",
    "import sys\n",
    "sys.path.append(os.path.join(os.getcwd(),\"..\"))\n",
    "\n",
    "\n",
    "from pandas import read_csv, DataFrame\n",
    "from pathlib import Path\n",
    "from haberrspd.embeddings import get_static_sentence_embeddings\n",
    "import torch\n",
    "print(torch.cuda.is_available())\n",
    "\n",
    "# Depending on where I am, set the path\n",
    "import socket\n",
    "if socket.gethostname() == 'pax':\n",
    "    # Monster machine\n",
    "    data_root = '../data/MJFF/' # My local path\n",
    "    data_root = Path(data_root)\n",
    "else:\n",
    "    # Laptop\n",
    "    data_root = '/home/nd/data/liverpool/MJFF' # My local path\n",
    "    data_root = Path(data_root)\n",
    "\n",
    "# hello data\n",
    "df = read_csv(data_root / 'preprocessed_EnglishData.csv')\n",
    "df.shape"
   ]
  },
  {
   "cell_type": "markdown",
   "metadata": {},
   "source": [
    "## Get Static Embeddings"
   ]
  },
  {
   "cell_type": "code",
   "execution_count": 29,
   "metadata": {},
   "outputs": [
    {
     "name": "stderr",
     "output_type": "stream",
     "text": [
      "/home/neil/cloud/haberrspd/notebooks/../haberrspd/embeddings.py:59: UserWarning:\n",
      "\n",
      "This method is currently only designed for English.\n",
      "\n"
     ]
    },
    {
     "name": "stdout",
     "output_type": "stream",
     "text": [
      "Embedding sentence nr: 0\n",
      "Embedding sentence nr: 100\n",
      "Embedding sentence nr: 200\n",
      "Embedding sentence nr: 300\n",
      "Embedding sentence nr: 400\n",
      "Embedding sentence nr: 500\n",
      "Embedding sentence nr: 600\n",
      "Embedding sentence nr: 700\n",
      "Embedding sentence nr: 800\n",
      "Embedding sentence nr: 900\n",
      "Embedding sentence nr: 1000\n",
      "Embedding sentence nr: 1100\n"
     ]
    }
   ],
   "source": [
    "X = get_static_sentence_embeddings(df,'glove')"
   ]
  },
  {
   "cell_type": "markdown",
   "metadata": {},
   "source": [
    "## Get Dynamic Embeddings"
   ]
  },
  {
   "cell_type": "code",
   "execution_count": 2,
   "metadata": {},
   "outputs": [
    {
     "name": "stdout",
     "output_type": "stream",
     "text": [
      "torch.Size([128])\n"
     ]
    },
    {
     "name": "stderr",
     "output_type": "stream",
     "text": [
      "/home/neil/anaconda3/envs/py36/lib/python3.6/site-packages/allennlp/nn/util.py:149: UserWarning: To copy construct from a tensor, it is recommended to use sourceTensor.clone().detach() or sourceTensor.clone().detach().requires_grad_(True), rather than tensor.new_tensor(sourceTensor).\n",
      "  index_range = sequence_lengths.new_tensor(torch.arange(0, len(sequence_lengths)))\n"
     ]
    }
   ],
   "source": [
    "# Init embedding\n",
    "embedding = ELMoEmbeddings('medium')\n",
    "sentence_embeddings = DocumentRNNEmbeddings([embedding],bidirectional=False)\n",
    "# Create a sentence\n",
    "sentence = Sentence('The grass is green .')\n",
    "# embed the sentence with our document embedding\n",
    "sentence_embeddings.embed(sentence)\n",
    "# now check out the embedded sentence.\n",
    "print(sentence.get_embedding().shape)"
   ]
  },
  {
   "cell_type": "code",
   "execution_count": 70,
   "metadata": {},
   "outputs": [
    {
     "name": "stderr",
     "output_type": "stream",
     "text": [
      "100%|██████████| 404400730/404400730 [01:03<00:00, 6323696.47B/s]\n"
     ]
    },
    {
     "data": {
      "text/plain": [
       "[Sentence: \"The grass is green .\" - 5 Tokens]"
      ]
     },
     "execution_count": 70,
     "metadata": {},
     "output_type": "execute_result"
    }
   ],
   "source": [
    "# Init embedding\n",
    "embedding = BertEmbeddings('bert-base-cased')\n",
    "# Create a sentence\n",
    "sentence = Sentence('The grass is green .')\n",
    "# Embed words in sentence\n",
    "embedding.embed(sentence)"
   ]
  },
  {
   "cell_type": "code",
   "execution_count": 47,
   "metadata": {},
   "outputs": [
    {
     "data": {
      "text/plain": [
       "[Sentence: \"Although early behavioural or cognitive intervention can help children gain self-care, social, and communication skills, their is no known cure\" - 20 Tokens]"
      ]
     },
     "execution_count": 47,
     "metadata": {},
     "output_type": "execute_result"
    }
   ],
   "source": [
    "# Init embedding\n",
    "embedding = FlairEmbeddings('news-forward')\n",
    "# Create a sentence\n",
    "sentence = Sentence(df['Preprocessed_typed_sentence'][0])\n",
    "# Embed words in sentence\n",
    "embedding.embed(sentence)"
   ]
  },
  {
   "cell_type": "code",
   "execution_count": 4,
   "metadata": {},
   "outputs": [],
   "source": [
    "# create a StackedEmbedding object that combines glove and forward/backward flair embeddings\n",
    "stacked_embeddings = [WordEmbeddings('glove'), \n",
    "                      FlairEmbeddings('news-forward')]\n",
    "sentence_embeddings = DocumentRNNEmbeddings(stacked_embeddings,\n",
    "                                            hidden_size=32,\n",
    "                                            bidirectional=False,\n",
    "                                            rnn_type='LSTM')"
   ]
  },
  {
   "cell_type": "markdown",
   "metadata": {},
   "source": [
    "## Visualisation"
   ]
  },
  {
   "cell_type": "code",
   "execution_count": 31,
   "metadata": {},
   "outputs": [],
   "source": [
    "from haberrspd.plotting import sentence_embeddings_scatter_3d_plot"
   ]
  },
  {
   "cell_type": "markdown",
   "metadata": {},
   "source": [
    "### Load reference sentences"
   ]
  },
  {
   "cell_type": "code",
   "execution_count": 11,
   "metadata": {},
   "outputs": [
    {
     "data": {
      "text/html": [
       "<div>\n",
       "<style scoped>\n",
       "    .dataframe tbody tr th:only-of-type {\n",
       "        vertical-align: middle;\n",
       "    }\n",
       "\n",
       "    .dataframe tbody tr th {\n",
       "        vertical-align: top;\n",
       "    }\n",
       "\n",
       "    .dataframe thead th {\n",
       "        text-align: right;\n",
       "    }\n",
       "</style>\n",
       "<table border=\"1\" class=\"dataframe\">\n",
       "  <thead>\n",
       "    <tr style=\"text-align: right;\">\n",
       "      <th></th>\n",
       "      <th>sentence_id</th>\n",
       "      <th>sentence_text</th>\n",
       "    </tr>\n",
       "  </thead>\n",
       "  <tbody>\n",
       "    <tr>\n",
       "      <th>0</th>\n",
       "      <td>55</td>\n",
       "      <td>However, religions other than Islam, use a dif...</td>\n",
       "    </tr>\n",
       "    <tr>\n",
       "      <th>1</th>\n",
       "      <td>56</td>\n",
       "      <td>He is buried in Egypt, Aswan at the Mausoleum ...</td>\n",
       "    </tr>\n",
       "    <tr>\n",
       "      <th>2</th>\n",
       "      <td>57</td>\n",
       "      <td>Books include Penguin Island, a satire on the ...</td>\n",
       "    </tr>\n",
       "    <tr>\n",
       "      <th>3</th>\n",
       "      <td>58</td>\n",
       "      <td>The w-shaped glyph above the second consonant ...</td>\n",
       "    </tr>\n",
       "    <tr>\n",
       "      <th>4</th>\n",
       "      <td>59</td>\n",
       "      <td>The Franks alliance was important exactly beca...</td>\n",
       "    </tr>\n",
       "    <tr>\n",
       "      <th>5</th>\n",
       "      <td>60</td>\n",
       "      <td>As of 2004, nearly 50% of Americans who were e...</td>\n",
       "    </tr>\n",
       "    <tr>\n",
       "      <th>6</th>\n",
       "      <td>61</td>\n",
       "      <td>Lincoln's coffin would be encased in concrete ...</td>\n",
       "    </tr>\n",
       "    <tr>\n",
       "      <th>7</th>\n",
       "      <td>62</td>\n",
       "      <td>Generally considered a part of Central Asia, i...</td>\n",
       "    </tr>\n",
       "    <tr>\n",
       "      <th>8</th>\n",
       "      <td>63</td>\n",
       "      <td>Although early behavioural or cognitive interv...</td>\n",
       "    </tr>\n",
       "    <tr>\n",
       "      <th>9</th>\n",
       "      <td>64</td>\n",
       "      <td>The Korean men have not fared so well in Olymp...</td>\n",
       "    </tr>\n",
       "    <tr>\n",
       "      <th>10</th>\n",
       "      <td>65</td>\n",
       "      <td>The novel explores the relationship between Pa...</td>\n",
       "    </tr>\n",
       "    <tr>\n",
       "      <th>11</th>\n",
       "      <td>66</td>\n",
       "      <td>Split-finger aiming requires the archer to pla...</td>\n",
       "    </tr>\n",
       "    <tr>\n",
       "      <th>12</th>\n",
       "      <td>67</td>\n",
       "      <td>They fought a thirty years war on the side of ...</td>\n",
       "    </tr>\n",
       "    <tr>\n",
       "      <th>13</th>\n",
       "      <td>68</td>\n",
       "      <td>However, there is no evidence that those tatto...</td>\n",
       "    </tr>\n",
       "    <tr>\n",
       "      <th>14</th>\n",
       "      <td>69</td>\n",
       "      <td>Over three million cattle are residents of the...</td>\n",
       "    </tr>\n",
       "  </tbody>\n",
       "</table>\n",
       "</div>"
      ],
      "text/plain": [
       "    sentence_id                                      sentence_text\n",
       "0            55  However, religions other than Islam, use a dif...\n",
       "1            56  He is buried in Egypt, Aswan at the Mausoleum ...\n",
       "2            57  Books include Penguin Island, a satire on the ...\n",
       "3            58  The w-shaped glyph above the second consonant ...\n",
       "4            59  The Franks alliance was important exactly beca...\n",
       "5            60  As of 2004, nearly 50% of Americans who were e...\n",
       "6            61  Lincoln's coffin would be encased in concrete ...\n",
       "7            62  Generally considered a part of Central Asia, i...\n",
       "8            63  Although early behavioural or cognitive interv...\n",
       "9            64  The Korean men have not fared so well in Olymp...\n",
       "10           65  The novel explores the relationship between Pa...\n",
       "11           66  Split-finger aiming requires the archer to pla...\n",
       "12           67  They fought a thirty years war on the side of ...\n",
       "13           68  However, there is no evidence that those tatto...\n",
       "14           69  Over three million cattle are residents of the..."
      ]
     },
     "execution_count": 11,
     "metadata": {},
     "output_type": "execute_result"
    }
   ],
   "source": [
    "read_csv(data_root / 'EnglishData_target_sentences.csv')"
   ]
  },
  {
   "cell_type": "code",
   "execution_count": 45,
   "metadata": {},
   "outputs": [
    {
     "data": {
      "text/html": [
       "<script type=\"text/javascript\">window.PlotlyConfig = {MathJaxConfig: 'local'};</script><script type=\"text/javascript\">if (window.MathJax) {MathJax.Hub.Config({SVG: {font: \"STIX-Web\"}});}</script><script>requirejs.config({paths: { 'plotly': ['https://cdn.plot.ly/plotly-latest.min']},});if(!window._Plotly) {require(['plotly'],function(plotly) {window._Plotly=plotly;});}</script>"
      ],
      "text/vnd.plotly.v1+html": [
       "<script type=\"text/javascript\">window.PlotlyConfig = {MathJaxConfig: 'local'};</script><script type=\"text/javascript\">if (window.MathJax) {MathJax.Hub.Config({SVG: {font: \"STIX-Web\"}});}</script><script>requirejs.config({paths: { 'plotly': ['https://cdn.plot.ly/plotly-latest.min']},});if(!window._Plotly) {require(['plotly'],function(plotly) {window._Plotly=plotly;});}</script>"
      ]
     },
     "metadata": {},
     "output_type": "display_data"
    },
    {
     "data": {
      "application/vnd.plotly.v1+json": {
       "config": {
        "linkText": "Export to plot.ly",
        "plotlyServerURL": "https://plot.ly",
        "showLink": false
       },
       "data": [
        {
         "marker": {
          "color": [
           0,
           0,
           0,
           0,
           0,
           0,
           0,
           0,
           0,
           0,
           0,
           0,
           0,
           0,
           0,
           0,
           1,
           1,
           1,
           1,
           1,
           1,
           0,
           0,
           1,
           1,
           0,
           0,
           0,
           0,
           1,
           1,
           1,
           1,
           1,
           1,
           0,
           0,
           0,
           0,
           0,
           0,
           1,
           1,
           0,
           0,
           0,
           0,
           1,
           1,
           0,
           0,
           0,
           1,
           1,
           1,
           1,
           0,
           0,
           0,
           0,
           0,
           0,
           0,
           1,
           1,
           1,
           1,
           1,
           0,
           0,
           1,
           1,
           1,
           0,
           0,
           0,
           0
          ],
          "colorscale": "RdBu",
          "opacity": 0.2,
          "showscale": false,
          "size": 10
         },
         "mode": "markers",
         "name": "Diagnosis",
         "text": [
          "SENTENCE: Generally considered a part of Central Asia, it is sometimes ascribed to a regional bloc in either the Middle East or South Asia<br><br>DIAGNOSIS: 0",
          "SENTENCE: Generally consiedered a part of Central Asia, it is sometimes ascribed to a regional bloc in either the Middle East or South Asia<br><br>DIAGNOSIS: 0",
          "SENTENCE: Generally considered a part of Central Asia, it is sometimes ascribed to a regional bloc in either the Middle East or South Asia<br><br>DIAGNOSIS: 0",
          "SENTENCE: Generally considered a part of Central Asia, it is sometimes ascribed to a regional bloc in either the Middle East of Sough Asia<br><br>DIAGNOSIS: 0",
          "SENTENCE: Generally considered part of Central Asis, it is sometimes ascribed to a regional bloc in either the Middle East or South Asia<br><br>DIAGNOSIS: 0",
          "SENTENCE: Generally considered a part of Central Asia, it is sometimes ascribed to a regiona bloc in either the Middle east or South Asia<br><br>DIAGNOSIS: 0",
          "SENTENCE: Generally considered a part of Central Asia, it is sometimes ascribed to a regioanl bloc in either the Middle East or South Asia<br><br>DIAGNOSIS: 0",
          "SENTENCE: Generally considered a part of Central Asia, it is sometimes ascribed to a regional bloc in either the Middle East or South Asia<br><br>DIAGNOSIS: 0",
          "SENTENCE: Generally considered a part of Central Asia, it is sometimes ascribed to a regional bloc in eaither the Middle East or South Asia<br><br>DIAGNOSIS: 0",
          "SENTENCE: Generally considered a pert of Central Asia, it is sometimes ascribed to a regiona bloc in either the Middle East or South Asia<br><br>DIAGNOSIS: 0",
          "SENTENCE: Generally considered a part of Central Asia, it is sometimes ascribed to a reguinal bloc in either the Middle East or SOuth Asia<br><br>DIAGNOSIS: 0",
          "SENTENCE: Generally considered a part of Central Asia, it is sometimes ascribed to a regional bloc in either the Middle East or South Asia<br><br>DIAGNOSIS: 0",
          "SENTENCE: Generally considered a part of Central Asia, it is sometimes ascribed to a regional bloc in either the Middle East or South Asia<br><br>DIAGNOSIS: 0",
          "SENTENCE: Generally considered a part of Central Asia, it is sometimes ascribed to a regional bloc in either the Middle East or South Asia<br><br>DIAGNOSIS: 0",
          "SENTENCE: Generally considered a part of Central Asia, it is sometimes ascribed to a regional bloc in either the Middle East or South Asia<br><br>DIAGNOSIS: 0",
          "SENTENCE: Generally considered a part of Central Asia, it is sometimes ascribed to a regional bloc in either the Middle East or South Asia<br><br>DIAGNOSIS: 0",
          "SENTENCE: Generally considered a part of Central Asia, it is sometimes ascribed to a regional bloc in either the Middle East or South Asia<br><br>DIAGNOSIS: 1",
          "SENTENCE: Generally considered a aprt of Central Asia, it is sometimes ascribed to a regional bloc in either the Middle East or South Asia<br><br>DIAGNOSIS: 1",
          "SENTENCE: Generally considered a part of Central Asia,it is sometimes ascribed to a regional bloc in eithr<br><br>DIAGNOSIS: 1",
          "SENTENCE: Generally considered a part of Central Asia, it is sometimes ascribed to a regioal bloc in either the Middle East or South Asia<br><br>DIAGNOSIS: 1",
          "SENTENCE: Generally considered a part of Central Asia, it is sometimes ascribed to a regional bloc in either the Middle East or South Asia<br><br>DIAGNOSIS: 1",
          "SENTENCE: Generally considered a part of Central Asia, it is someties ascribed to a regional bloc in either the Middle East or South Asia<br><br>DIAGNOSIS: 1",
          "SENTENCE: Generally considering a part of Central asia, it is sometimes ascribed to a regional bloc in either the Middle East or South Asia<br><br>DIAGNOSIS: 0",
          "SENTENCE: Generally considered a part of Central asia, it is sometimes ascribed to a regional bloc in either the Middle East or South Asia<br><br>DIAGNOSIS: 0",
          "SENTENCE: Generally considered a part of central Asia, it is sometimes ascribed to a regional bloc in either the Middle East or South Asia<br><br>DIAGNOSIS: 1",
          "SENTENCE: Generally considered a part of Central Asia, it is sometimes ascribed to a regional bloc in either the Middle East or South Asia<br><br>DIAGNOSIS: 1",
          "SENTENCE: Generally considered a part of Central Asia, it is sometimes ascribed to a regional bloc in either the Middle East or South Asia<br><br>DIAGNOSIS: 0",
          "SENTENCE: Generally considered a part of Cenral Asia, it is sometimes ascribed to a regional bloc in either the Middle East or South Asia<br><br>DIAGNOSIS: 0",
          "SENTENCE: Generally considered a part of Central Asia, it is sometimes ascribed to a regional bloc in either the Middle East or South Asia<br><br>DIAGNOSIS: 0",
          "SENTENCE: Generally considered a part of Central Asia, it is sometimes ascribed to a reagional bloc in either the Middle East or South Asia<br><br>DIAGNOSIS: 0",
          "SENTENCE: Generally cosidered a part of Central Asia, it is sometimes ascribed to a religional bloc in either the Middle East or South Asia<br><br>DIAGNOSIS: 1",
          "SENTENCE: Generally considered a part of Central Asia, it its sometimes ascribed to a regional bloc in either the Middle East or South Asia<br><br>DIAGNOSIS: 1",
          "SENTENCE: Geberally condidered a part of central asia, it is cometimes ascribed to a regional bloc in either the middle east or south Asia<br><br>DIAGNOSIS: 1",
          "SENTENCE: Generally considered a part of central Asia, it is sometimes ascribed to a regional bloc in either the Middle east or south Asia<br><br>DIAGNOSIS: 1",
          "SENTENCE: Generally considered a part of Central Asia, it is sometimes ascribed too a region bloc in either the middle East or Sout Asia<br><br>DIAGNOSIS: 1",
          "SENTENCE: Generally considered a part of central Asia, it is sometimes ascribed to a regional bloc in either the middle East or South Asia<br><br>DIAGNOSIS: 1",
          "SENTENCE: Generally considered a part of Central Asia, it is sometimes ascribed to a regional bloc in either the Middle East or South Asia<br><br>DIAGNOSIS: 0",
          "SENTENCE: Generally considered a part of Central Asia, it is sometimes ascribed to a regional bloc in either the Middle East or SouthAsia<br><br>DIAGNOSIS: 0",
          "SENTENCE: Generally considered a part of Central Asia, it is sometimes ascribed to a regional bloc in either the Middle East or South Asia<br><br>DIAGNOSIS: 0",
          "SENTENCE: Generally considered a part of Central Asia, it is sometimes ascribed to a regional bloc in either the Middle East or South Asia.<br><br>DIAGNOSIS: 0",
          "SENTENCE: Generally considered a part of central Asia, it is sometimes ascribed to a regional bloc in either the Middle East or South Asia<br><br>DIAGNOSIS: 0",
          "SENTENCE: generally considerd a part of Central Asia, it is sometimes ascribed to a regional bloc in either the Middle East or South Asa<br><br>DIAGNOSIS: 0",
          "SENTENCE: Generally considered a part of Central Asia, it is sometimes ascribed to a regional bloc in either the Middle East or South Asia<br><br>DIAGNOSIS: 1",
          "SENTENCE: Generally considered a part of Central Asia, it is sometimes ascribed to a regional bloc in either the Middle East or South Asia<br><br>DIAGNOSIS: 1",
          "SENTENCE: Generally considered a part of Central Asia, it is sometimes ascribed to a regional bloc in either the Middle East or South Asia<br><br>DIAGNOSIS: 0",
          "SENTENCE: Generally considered a part of Central Asia, it is sometimes ascribed to a regional bloc in either the Middle East or South Asia<br><br>DIAGNOSIS: 0",
          "SENTENCE: Generally considered a part of Central Asia, it is sometimes ascribed to a regional bloc in either the Middle East or South Asia<br><br>DIAGNOSIS: 0",
          "SENTENCE: Generally considered a part of Central Asia, it is sometimes ascribed to a regional bloc in either the Middle East or South Asia<br><br>DIAGNOSIS: 0",
          "SENTENCE: Generally considered a part of Central Asia, it is sometimes ascribed to a regional bloc in either the Middle East or South Asia<br><br>DIAGNOSIS: 1",
          "SENTENCE: Generally considered a part of Central Asia,it is sometimes ascribed to a regional bloc in either the Middle East or South Asia<br><br>DIAGNOSIS: 1",
          "SENTENCE: Generally considerd a part of Central Asia, it is sometimes ascribed to a regional bloc in either the Middle East or South Asia<br><br>DIAGNOSIS: 0",
          "SENTENCE: Generally considered a part of Central Asia, it is sometimes ascribed to a regional bloc in either the Middle East or South Asia<br><br>DIAGNOSIS: 0",
          "SENTENCE: Generally considered a part of Central Asia, it is sometimes ascribed to a regional bloc in either the Middle East or South Asia<br><br>DIAGNOSIS: 0",
          "SENTENCE:  generally considered a part of cCentral Asia, it is sometimes ascribed to a regional bloc in either the Middle East or South<br><br>DIAGNOSIS: 1",
          "SENTENCE: Genreally considered a part of Central Asia, it is sometimes ascribed to a regional bloc in either the Middle East or South Asia<br><br>DIAGNOSIS: 1",
          "SENTENCE: Generally considered a part of Central Asia, it is sometimes ascribed to a regional bloc in either the Middle East or South  Asia<br><br>DIAGNOSIS: 1",
          "SENTENCE: Generally considered a part of Central Asia, it is sometimes ascribed to a regional bloc in either the Middle East or South Asia<br><br>DIAGNOSIS: 1",
          "SENTENCE: Generally considered a part of Central Asia, it is sometimes ascribed to a regional bloc in either the Middle East or South Asia<br><br>DIAGNOSIS: 0",
          "SENTENCE: Generally considered a part of Central asAsia, it is sometimes ascribed to a regional bloc in either the Middle East or South Asa<br><br>DIAGNOSIS: 0",
          "SENTENCE: Generally considered a part of Central Asia, it is sometimes ascribed to a regional bloc in either the Middle east or South asia<br><br>DIAGNOSIS: 0",
          "SENTENCE: Generally considered a part of Central Asia, it is sometimes ascribed to a regional bloc in either the Middle east or south Asia<br><br>DIAGNOSIS: 0",
          "SENTENCE: Generally considered a part of Central Asia, it is sometimes ascribed to a regional bloc either the Middle East or South Asia<br><br>DIAGNOSIS: 0",
          "SENTENCE: Generally considered a part of Central Asia, it is sometimes ascribed to a regional bloc in either the Middle East or South Asia<br><br>DIAGNOSIS: 0",
          "SENTENCE: Generally considered a part of Central Asia, it is sometimes axcribed to a regional bloc in either the Middle East or South Asia<br><br>DIAGNOSIS: 0",
          "SENTENCE: Generally considered a part of Central Asia, it is sometimes ascribed to a regional bloc in either the Middle East or South Asia<br><br>DIAGNOSIS: 1",
          "SENTENCE: Generally considered a part of Central Asia, it is sometimes ascribed to a regional bloc in either the Middle East or South Asia<br><br>DIAGNOSIS: 1",
          "SENTENCE: Generally considered a part of Central Asia, it is sometimes ascribed to a regional bloc in either the Middle East or South Asia<br><br>DIAGNOSIS: 1",
          "SENTENCE: Generally considered a part of Central Asia, it is sometimes ascribed to a regional bloc in either the Middle East or South Asia<br><br>DIAGNOSIS: 1",
          "SENTENCE: Generally considered a part of Central Asia, it is sometimes ascribed to a regional bloc in either the Middle East or South Asia<br><br>DIAGNOSIS: 1",
          "SENTENCE: Generally considered a part of Central Asia, it it sometimes ascribed to a regional bloc in either the Middle East or South Asia<br><br>DIAGNOSIS: 0",
          "SENTENCE: Generally considered a part of Central Asia, it is sometimes ascribed to a regional bloc in either the Middle East or South Asia<br><br>DIAGNOSIS: 0",
          "SENTENCE: Generally considered a part of Central Asia, it is sometimes ascribed to a regional bloc in either the Middle East or South Asia<br><br>DIAGNOSIS: 1",
          "SENTENCE: Generally considered a part of Central Asia, it is sometimes ascribed to a regional bloc in either the Middle East or South Asia<br><br>DIAGNOSIS: 1",
          "SENTENCE: Generally considered a part of Central Asia, it is sometimes ascribed to a regional bloc in either the Middle East or South Asia<br><br>DIAGNOSIS: 1",
          "SENTENCE: Generally considered a part of Central Asia, it is sometimes remeascribed to a regional bloc in either the Middle East or South Asia<br><br>DIAGNOSIS: 0",
          "SENTENCE: Generally considered a part of central asia , it is sometimes ascribed to a regional bloc in either the Middle East or south Asia<br><br>DIAGNOSIS: 0",
          "SENTENCE: Generally considered a part of Central Asia, it is sometimes acribed to a regional bloc in either the Middle East or South Asia<br><br>DIAGNOSIS: 0",
          "SENTENCE: Generally considered a part of Central Asia, it is sometimes ascribed to a regional bloc in either the Middle East or South Asia<br><br>DIAGNOSIS: 0"
         ],
         "type": "scatter3d",
         "uid": "35a2a56c-3d76-411c-bb7d-ff727dd1f2c2",
         "x": [
          56.88671112060547,
          198.69326782226562,
          45.35585403442383,
          -156.24583435058594,
          -138.8301544189453,
          -99.66312408447266,
          7.13273811340332,
          108.29312896728516,
          117.99275970458984,
          -171.4027099609375,
          -153.55714416503906,
          -29.814239501953125,
          -81.33474731445312,
          22.676118850708008,
          -4.891638278961182,
          128.6187286376953,
          -18.776123046875,
          -92.3048095703125,
          -94.94544219970703,
          -195.41049194335938,
          102.27037048339844,
          53.04236602783203,
          148.11553955078125,
          -129.90335083007812,
          57.986087799072266,
          111.48693084716797,
          -33.58369064331055,
          -141.75421142578125,
          -172.04998779296875,
          -138.4883270263672,
          181.60580444335938,
          19.055587768554688,
          61.3808708190918,
          -37.77315139770508,
          -87.97826385498047,
          -58.41798782348633,
          15.049297332763672,
          -70.2091293334961,
          -6.646017074584961,
          101.52056121826172,
          52.475215911865234,
          -1.6509865522384644,
          172.08746337890625,
          -34.9892578125,
          54.134429931640625,
          34.73240661621094,
          60.0435676574707,
          -93.58097076416016,
          99.11686706542969,
          13.6397066116333,
          81.1344223022461,
          111.16166687011719,
          75.25713348388672,
          -162.03231811523438,
          8.824487686157227,
          35.23356628417969,
          -25.24254035949707,
          161.6786346435547,
          14.05663776397705,
          140.14666748046875,
          -79.17391967773438,
          -133.1265411376953,
          78.0621337890625,
          -91.03974151611328,
          -110.1385269165039,
          -42.760040283203125,
          15.11363697052002,
          -29.84848403930664,
          89.82164764404297,
          67.55597686767578,
          -63.819305419921875,
          -167.6336212158203,
          137.53640747070312,
          -104.35504913330078,
          -100.68045806884766,
          193.06704711914062,
          -63.82626724243164,
          -38.052616119384766
         ],
         "y": [
          185.74945068359375,
          -49.57221603393555,
          -27.19825553894043,
          188.36997985839844,
          -42.83150863647461,
          -43.73719024658203,
          139.96376037597656,
          -111.48979187011719,
          75.9283447265625,
          -62.07807540893555,
          22.255022048950195,
          42.91828536987305,
          -26.857868194580078,
          8.583638191223145,
          141.11599731445312,
          102.968017578125,
          60.89792251586914,
          37.62498474121094,
          136.24864196777344,
          7.208338260650635,
          -14.638884544372559,
          36.00980758666992,
          6.92929744720459,
          75.10393524169922,
          56.88634490966797,
          142.9605712890625,
          -84.71002197265625,
          29.617345809936523,
          -55.556278228759766,
          -33.721988677978516,
          -94.5401840209961,
          -41.423397064208984,
          60.091697692871094,
          79.75753784179688,
          -72.14692687988281,
          -142.79568481445312,
          136.83636474609375,
          196.33834838867188,
          -26.326601028442383,
          -114.05630493164062,
          -176.2662811279297,
          73.41694641113281,
          34.18025588989258,
          -40.63837814331055,
          100.73345947265625,
          -138.55348205566406,
          60.37126541137695,
          29.76283073425293,
          -30.708051681518555,
          -110.58349609375,
          138.7900390625,
          -108.44954681396484,
          -55.92011260986328,
          105.03458404541016,
          -125.39100646972656,
          -49.622802734375,
          8.726789474487305,
          25.031816482543945,
          13.424248695373535,
          123.38067626953125,
          131.81138610839844,
          172.69578552246094,
          -67.15264129638672,
          83.99514770507812,
          -106.66204071044922,
          106.43716430664062,
          -101.78107452392578,
          -7.493293762207031,
          32.277122497558594,
          -190.9073028564453,
          -101.22087860107422,
          55.77321243286133,
          -2.8661587238311768,
          -201.38172912597656,
          -181.6634521484375,
          -71.02838897705078,
          -160.13150024414062,
          -175.50540161132812
         ],
         "z": [
          -18.640457153320312,
          -10.167823791503906,
          -135.0234832763672,
          20.387592315673828,
          -204.95443725585938,
          164.6731719970703,
          57.433631896972656,
          58.39194869995117,
          91.88394165039062,
          102.92426300048828,
          -122.01885223388672,
          62.27696228027344,
          55.584556579589844,
          -47.94467544555664,
          -40.671913146972656,
          -33.98188018798828,
          -94.1962661743164,
          -53.681095123291016,
          24.462810516357422,
          -65.17579650878906,
          -9.82692813873291,
          82.17422485351562,
          163.90805053710938,
          173.833251953125,
          -154.71849060058594,
          32.91719436645508,
          1.2030937671661377,
          -4.601780414581299,
          10.388622283935547,
          -81.05207824707031,
          -95.97826385498047,
          -228.9834747314453,
          154.18649291992188,
          -9.58604907989502,
          -141.4251251220703,
          -85.1972427368164,
          -139.0818634033203,
          -13.171149253845215,
          113.8450927734375,
          -154.2770233154297,
          -54.1599235534668,
          206.52357482910156,
          -49.72819137573242,
          -75.89356994628906,
          -70.41397857666016,
          24.67487144470215,
          6.593762397766113,
          108.80496978759766,
          69.02669525146484,
          107.91727447509766,
          127.45809936523438,
          -23.13947868347168,
          -70.61400604248047,
          -39.587703704833984,
          -151.06044006347656,
          20.919782638549805,
          -153.164306640625,
          37.22124481201172,
          218.20333862304688,
          -127.3240737915039,
          -87.1346206665039,
          123.94844818115234,
          143.35562133789062,
          -175.17054748535156,
          -12.139080047607422,
          119.23674011230469,
          -56.75492477416992,
          1.5225162506103516,
          -75.45793914794922,
          104.8885726928711,
          71.0559310913086,
          70.76153564453125,
          -129.11680603027344,
          -112.39027404785156,
          90.48284912109375,
          92.49686431884766,
          145.2980194091797,
          -2.15268611907959
         ]
        }
       ],
       "layout": {
        "autosize": false,
        "height": 800,
        "legend": {
         "orientation": "h"
        },
        "margin": {
         "b": 0,
         "l": 0,
         "r": 0,
         "t": 0
        },
        "scene": {
         "aspectmode": "auto",
         "aspectratio": {
          "x": 0.9558393026043251,
          "y": 0.964610136552415,
          "z": 1.0845842527988256
         },
         "camera": {
          "center": {
           "x": 0,
           "y": 0,
           "z": 0
          },
          "eye": {
           "x": 1.5815418607405585,
           "y": 1.581541860740558,
           "z": 1.581541860740558
          },
          "projection": {
           "type": "perspective"
          },
          "up": {
           "x": 0,
           "y": 0,
           "z": 1
          }
         }
        },
        "showlegend": true,
        "width": 800
       }
      },
      "text/html": [
       "<div id=\"7fb28cd8-71ce-409e-bc93-8d5cf835c2b7\" style=\"height: 800px; width: 800px;\" class=\"plotly-graph-div\"></div><script type=\"text/javascript\">require([\"plotly\"], function(Plotly) { window.PLOTLYENV=window.PLOTLYENV || {};window.PLOTLYENV.BASE_URL=\"https://plot.ly\";\n",
       "if (document.getElementById(\"7fb28cd8-71ce-409e-bc93-8d5cf835c2b7\")) {\n",
       "    Plotly.newPlot(\"7fb28cd8-71ce-409e-bc93-8d5cf835c2b7\", [{\"marker\": {\"color\": [0, 0, 0, 0, 0, 0, 0, 0, 0, 0, 0, 0, 0, 0, 0, 0, 1, 1, 1, 1, 1, 1, 0, 0, 1, 1, 0, 0, 0, 0, 1, 1, 1, 1, 1, 1, 0, 0, 0, 0, 0, 0, 1, 1, 0, 0, 0, 0, 1, 1, 0, 0, 0, 1, 1, 1, 1, 0, 0, 0, 0, 0, 0, 0, 1, 1, 1, 1, 1, 0, 0, 1, 1, 1, 0, 0, 0, 0], \"colorscale\": \"RdBu\", \"opacity\": 0.2, \"showscale\": false, \"size\": 10}, \"mode\": \"markers\", \"name\": \"Diagnosis\", \"text\": [\"SENTENCE: Generally considered a part of Central Asia, it is sometimes ascribed to a regional bloc in either the Middle East or South Asia<br><br>DIAGNOSIS: 0\", \"SENTENCE: Generally consiedered a part of Central Asia, it is sometimes ascribed to a regional bloc in either the Middle East or South Asia<br><br>DIAGNOSIS: 0\", \"SENTENCE: Generally considered a part of Central Asia, it is sometimes ascribed to a regional bloc in either the Middle East or South Asia<br><br>DIAGNOSIS: 0\", \"SENTENCE: Generally considered a part of Central Asia, it is sometimes ascribed to a regional bloc in either the Middle East of Sough Asia<br><br>DIAGNOSIS: 0\", \"SENTENCE: Generally considered part of Central Asis, it is sometimes ascribed to a regional bloc in either the Middle East or South Asia<br><br>DIAGNOSIS: 0\", \"SENTENCE: Generally considered a part of Central Asia, it is sometimes ascribed to a regiona bloc in either the Middle east or South Asia<br><br>DIAGNOSIS: 0\", \"SENTENCE: Generally considered a part of Central Asia, it is sometimes ascribed to a regioanl bloc in either the Middle East or South Asia<br><br>DIAGNOSIS: 0\", \"SENTENCE: Generally considered a part of Central Asia, it is sometimes ascribed to a regional bloc in either the Middle East or South Asia<br><br>DIAGNOSIS: 0\", \"SENTENCE: Generally considered a part of Central Asia, it is sometimes ascribed to a regional bloc in eaither the Middle East or South Asia<br><br>DIAGNOSIS: 0\", \"SENTENCE: Generally considered a pert of Central Asia, it is sometimes ascribed to a regiona bloc in either the Middle East or South Asia<br><br>DIAGNOSIS: 0\", \"SENTENCE: Generally considered a part of Central Asia, it is sometimes ascribed to a reguinal bloc in either the Middle East or SOuth Asia<br><br>DIAGNOSIS: 0\", \"SENTENCE: Generally considered a part of Central Asia, it is sometimes ascribed to a regional bloc in either the Middle East or South Asia<br><br>DIAGNOSIS: 0\", \"SENTENCE: Generally considered a part of Central Asia, it is sometimes ascribed to a regional bloc in either the Middle East or South Asia<br><br>DIAGNOSIS: 0\", \"SENTENCE: Generally considered a part of Central Asia, it is sometimes ascribed to a regional bloc in either the Middle East or South Asia<br><br>DIAGNOSIS: 0\", \"SENTENCE: Generally considered a part of Central Asia, it is sometimes ascribed to a regional bloc in either the Middle East or South Asia<br><br>DIAGNOSIS: 0\", \"SENTENCE: Generally considered a part of Central Asia, it is sometimes ascribed to a regional bloc in either the Middle East or South Asia<br><br>DIAGNOSIS: 0\", \"SENTENCE: Generally considered a part of Central Asia, it is sometimes ascribed to a regional bloc in either the Middle East or South Asia<br><br>DIAGNOSIS: 1\", \"SENTENCE: Generally considered a aprt of Central Asia, it is sometimes ascribed to a regional bloc in either the Middle East or South Asia<br><br>DIAGNOSIS: 1\", \"SENTENCE: Generally considered a part of Central Asia,it is sometimes ascribed to a regional bloc in eithr<br><br>DIAGNOSIS: 1\", \"SENTENCE: Generally considered a part of Central Asia, it is sometimes ascribed to a regioal bloc in either the Middle East or South Asia<br><br>DIAGNOSIS: 1\", \"SENTENCE: Generally considered a part of Central Asia, it is sometimes ascribed to a regional bloc in either the Middle East or South Asia<br><br>DIAGNOSIS: 1\", \"SENTENCE: Generally considered a part of Central Asia, it is someties ascribed to a regional bloc in either the Middle East or South Asia<br><br>DIAGNOSIS: 1\", \"SENTENCE: Generally considering a part of Central asia, it is sometimes ascribed to a regional bloc in either the Middle East or South Asia<br><br>DIAGNOSIS: 0\", \"SENTENCE: Generally considered a part of Central asia, it is sometimes ascribed to a regional bloc in either the Middle East or South Asia<br><br>DIAGNOSIS: 0\", \"SENTENCE: Generally considered a part of central Asia, it is sometimes ascribed to a regional bloc in either the Middle East or South Asia<br><br>DIAGNOSIS: 1\", \"SENTENCE: Generally considered a part of Central Asia, it is sometimes ascribed to a regional bloc in either the Middle East or South Asia<br><br>DIAGNOSIS: 1\", \"SENTENCE: Generally considered a part of Central Asia, it is sometimes ascribed to a regional bloc in either the Middle East or South Asia<br><br>DIAGNOSIS: 0\", \"SENTENCE: Generally considered a part of Cenral Asia, it is sometimes ascribed to a regional bloc in either the Middle East or South Asia<br><br>DIAGNOSIS: 0\", \"SENTENCE: Generally considered a part of Central Asia, it is sometimes ascribed to a regional bloc in either the Middle East or South Asia<br><br>DIAGNOSIS: 0\", \"SENTENCE: Generally considered a part of Central Asia, it is sometimes ascribed to a reagional bloc in either the Middle East or South Asia<br><br>DIAGNOSIS: 0\", \"SENTENCE: Generally cosidered a part of Central Asia, it is sometimes ascribed to a religional bloc in either the Middle East or South Asia<br><br>DIAGNOSIS: 1\", \"SENTENCE: Generally considered a part of Central Asia, it its sometimes ascribed to a regional bloc in either the Middle East or South Asia<br><br>DIAGNOSIS: 1\", \"SENTENCE: Geberally condidered a part of central asia, it is cometimes ascribed to a regional bloc in either the middle east or south Asia<br><br>DIAGNOSIS: 1\", \"SENTENCE: Generally considered a part of central Asia, it is sometimes ascribed to a regional bloc in either the Middle east or south Asia<br><br>DIAGNOSIS: 1\", \"SENTENCE: Generally considered a part of Central Asia, it is sometimes ascribed too a region bloc in either the middle East or Sout Asia<br><br>DIAGNOSIS: 1\", \"SENTENCE: Generally considered a part of central Asia, it is sometimes ascribed to a regional bloc in either the middle East or South Asia<br><br>DIAGNOSIS: 1\", \"SENTENCE: Generally considered a part of Central Asia, it is sometimes ascribed to a regional bloc in either the Middle East or South Asia<br><br>DIAGNOSIS: 0\", \"SENTENCE: Generally considered a part of Central Asia, it is sometimes ascribed to a regional bloc in either the Middle East or SouthAsia<br><br>DIAGNOSIS: 0\", \"SENTENCE: Generally considered a part of Central Asia, it is sometimes ascribed to a regional bloc in either the Middle East or South Asia<br><br>DIAGNOSIS: 0\", \"SENTENCE: Generally considered a part of Central Asia, it is sometimes ascribed to a regional bloc in either the Middle East or South Asia.<br><br>DIAGNOSIS: 0\", \"SENTENCE: Generally considered a part of central Asia, it is sometimes ascribed to a regional bloc in either the Middle East or South Asia<br><br>DIAGNOSIS: 0\", \"SENTENCE: generally considerd a part of Central Asia, it is sometimes ascribed to a regional bloc in either the Middle East or South Asa<br><br>DIAGNOSIS: 0\", \"SENTENCE: Generally considered a part of Central Asia, it is sometimes ascribed to a regional bloc in either the Middle East or South Asia<br><br>DIAGNOSIS: 1\", \"SENTENCE: Generally considered a part of Central Asia, it is sometimes ascribed to a regional bloc in either the Middle East or South Asia<br><br>DIAGNOSIS: 1\", \"SENTENCE: Generally considered a part of Central Asia, it is sometimes ascribed to a regional bloc in either the Middle East or South Asia<br><br>DIAGNOSIS: 0\", \"SENTENCE: Generally considered a part of Central Asia, it is sometimes ascribed to a regional bloc in either the Middle East or South Asia<br><br>DIAGNOSIS: 0\", \"SENTENCE: Generally considered a part of Central Asia, it is sometimes ascribed to a regional bloc in either the Middle East or South Asia<br><br>DIAGNOSIS: 0\", \"SENTENCE: Generally considered a part of Central Asia, it is sometimes ascribed to a regional bloc in either the Middle East or South Asia<br><br>DIAGNOSIS: 0\", \"SENTENCE: Generally considered a part of Central Asia, it is sometimes ascribed to a regional bloc in either the Middle East or South Asia<br><br>DIAGNOSIS: 1\", \"SENTENCE: Generally considered a part of Central Asia,it is sometimes ascribed to a regional bloc in either the Middle East or South Asia<br><br>DIAGNOSIS: 1\", \"SENTENCE: Generally considerd a part of Central Asia, it is sometimes ascribed to a regional bloc in either the Middle East or South Asia<br><br>DIAGNOSIS: 0\", \"SENTENCE: Generally considered a part of Central Asia, it is sometimes ascribed to a regional bloc in either the Middle East or South Asia<br><br>DIAGNOSIS: 0\", \"SENTENCE: Generally considered a part of Central Asia, it is sometimes ascribed to a regional bloc in either the Middle East or South Asia<br><br>DIAGNOSIS: 0\", \"SENTENCE:  generally considered a part of cCentral Asia, it is sometimes ascribed to a regional bloc in either the Middle East or South<br><br>DIAGNOSIS: 1\", \"SENTENCE: Genreally considered a part of Central Asia, it is sometimes ascribed to a regional bloc in either the Middle East or South Asia<br><br>DIAGNOSIS: 1\", \"SENTENCE: Generally considered a part of Central Asia, it is sometimes ascribed to a regional bloc in either the Middle East or South  Asia<br><br>DIAGNOSIS: 1\", \"SENTENCE: Generally considered a part of Central Asia, it is sometimes ascribed to a regional bloc in either the Middle East or South Asia<br><br>DIAGNOSIS: 1\", \"SENTENCE: Generally considered a part of Central Asia, it is sometimes ascribed to a regional bloc in either the Middle East or South Asia<br><br>DIAGNOSIS: 0\", \"SENTENCE: Generally considered a part of Central asAsia, it is sometimes ascribed to a regional bloc in either the Middle East or South Asa<br><br>DIAGNOSIS: 0\", \"SENTENCE: Generally considered a part of Central Asia, it is sometimes ascribed to a regional bloc in either the Middle east or South asia<br><br>DIAGNOSIS: 0\", \"SENTENCE: Generally considered a part of Central Asia, it is sometimes ascribed to a regional bloc in either the Middle east or south Asia<br><br>DIAGNOSIS: 0\", \"SENTENCE: Generally considered a part of Central Asia, it is sometimes ascribed to a regional bloc either the Middle East or South Asia<br><br>DIAGNOSIS: 0\", \"SENTENCE: Generally considered a part of Central Asia, it is sometimes ascribed to a regional bloc in either the Middle East or South Asia<br><br>DIAGNOSIS: 0\", \"SENTENCE: Generally considered a part of Central Asia, it is sometimes axcribed to a regional bloc in either the Middle East or South Asia<br><br>DIAGNOSIS: 0\", \"SENTENCE: Generally considered a part of Central Asia, it is sometimes ascribed to a regional bloc in either the Middle East or South Asia<br><br>DIAGNOSIS: 1\", \"SENTENCE: Generally considered a part of Central Asia, it is sometimes ascribed to a regional bloc in either the Middle East or South Asia<br><br>DIAGNOSIS: 1\", \"SENTENCE: Generally considered a part of Central Asia, it is sometimes ascribed to a regional bloc in either the Middle East or South Asia<br><br>DIAGNOSIS: 1\", \"SENTENCE: Generally considered a part of Central Asia, it is sometimes ascribed to a regional bloc in either the Middle East or South Asia<br><br>DIAGNOSIS: 1\", \"SENTENCE: Generally considered a part of Central Asia, it is sometimes ascribed to a regional bloc in either the Middle East or South Asia<br><br>DIAGNOSIS: 1\", \"SENTENCE: Generally considered a part of Central Asia, it it sometimes ascribed to a regional bloc in either the Middle East or South Asia<br><br>DIAGNOSIS: 0\", \"SENTENCE: Generally considered a part of Central Asia, it is sometimes ascribed to a regional bloc in either the Middle East or South Asia<br><br>DIAGNOSIS: 0\", \"SENTENCE: Generally considered a part of Central Asia, it is sometimes ascribed to a regional bloc in either the Middle East or South Asia<br><br>DIAGNOSIS: 1\", \"SENTENCE: Generally considered a part of Central Asia, it is sometimes ascribed to a regional bloc in either the Middle East or South Asia<br><br>DIAGNOSIS: 1\", \"SENTENCE: Generally considered a part of Central Asia, it is sometimes ascribed to a regional bloc in either the Middle East or South Asia<br><br>DIAGNOSIS: 1\", \"SENTENCE: Generally considered a part of Central Asia, it is sometimes remeascribed to a regional bloc in either the Middle East or South Asia<br><br>DIAGNOSIS: 0\", \"SENTENCE: Generally considered a part of central asia , it is sometimes ascribed to a regional bloc in either the Middle East or south Asia<br><br>DIAGNOSIS: 0\", \"SENTENCE: Generally considered a part of Central Asia, it is sometimes acribed to a regional bloc in either the Middle East or South Asia<br><br>DIAGNOSIS: 0\", \"SENTENCE: Generally considered a part of Central Asia, it is sometimes ascribed to a regional bloc in either the Middle East or South Asia<br><br>DIAGNOSIS: 0\"], \"x\": [56.88671112060547, 198.69326782226562, 45.35585403442383, -156.24583435058594, -138.8301544189453, -99.66312408447266, 7.13273811340332, 108.29312896728516, 117.99275970458984, -171.4027099609375, -153.55714416503906, -29.814239501953125, -81.33474731445312, 22.676118850708008, -4.891638278961182, 128.6187286376953, -18.776123046875, -92.3048095703125, -94.94544219970703, -195.41049194335938, 102.27037048339844, 53.04236602783203, 148.11553955078125, -129.90335083007812, 57.986087799072266, 111.48693084716797, -33.58369064331055, -141.75421142578125, -172.04998779296875, -138.4883270263672, 181.60580444335938, 19.055587768554688, 61.3808708190918, -37.77315139770508, -87.97826385498047, -58.41798782348633, 15.049297332763672, -70.2091293334961, -6.646017074584961, 101.52056121826172, 52.475215911865234, -1.6509865522384644, 172.08746337890625, -34.9892578125, 54.134429931640625, 34.73240661621094, 60.0435676574707, -93.58097076416016, 99.11686706542969, 13.6397066116333, 81.1344223022461, 111.16166687011719, 75.25713348388672, -162.03231811523438, 8.824487686157227, 35.23356628417969, -25.24254035949707, 161.6786346435547, 14.05663776397705, 140.14666748046875, -79.17391967773438, -133.1265411376953, 78.0621337890625, -91.03974151611328, -110.1385269165039, -42.760040283203125, 15.11363697052002, -29.84848403930664, 89.82164764404297, 67.55597686767578, -63.819305419921875, -167.6336212158203, 137.53640747070312, -104.35504913330078, -100.68045806884766, 193.06704711914062, -63.82626724243164, -38.052616119384766], \"y\": [185.74945068359375, -49.57221603393555, -27.19825553894043, 188.36997985839844, -42.83150863647461, -43.73719024658203, 139.96376037597656, -111.48979187011719, 75.9283447265625, -62.07807540893555, 22.255022048950195, 42.91828536987305, -26.857868194580078, 8.583638191223145, 141.11599731445312, 102.968017578125, 60.89792251586914, 37.62498474121094, 136.24864196777344, 7.208338260650635, -14.638884544372559, 36.00980758666992, 6.92929744720459, 75.10393524169922, 56.88634490966797, 142.9605712890625, -84.71002197265625, 29.617345809936523, -55.556278228759766, -33.721988677978516, -94.5401840209961, -41.423397064208984, 60.091697692871094, 79.75753784179688, -72.14692687988281, -142.79568481445312, 136.83636474609375, 196.33834838867188, -26.326601028442383, -114.05630493164062, -176.2662811279297, 73.41694641113281, 34.18025588989258, -40.63837814331055, 100.73345947265625, -138.55348205566406, 60.37126541137695, 29.76283073425293, -30.708051681518555, -110.58349609375, 138.7900390625, -108.44954681396484, -55.92011260986328, 105.03458404541016, -125.39100646972656, -49.622802734375, 8.726789474487305, 25.031816482543945, 13.424248695373535, 123.38067626953125, 131.81138610839844, 172.69578552246094, -67.15264129638672, 83.99514770507812, -106.66204071044922, 106.43716430664062, -101.78107452392578, -7.493293762207031, 32.277122497558594, -190.9073028564453, -101.22087860107422, 55.77321243286133, -2.8661587238311768, -201.38172912597656, -181.6634521484375, -71.02838897705078, -160.13150024414062, -175.50540161132812], \"z\": [-18.640457153320312, -10.167823791503906, -135.0234832763672, 20.387592315673828, -204.95443725585938, 164.6731719970703, 57.433631896972656, 58.39194869995117, 91.88394165039062, 102.92426300048828, -122.01885223388672, 62.27696228027344, 55.584556579589844, -47.94467544555664, -40.671913146972656, -33.98188018798828, -94.1962661743164, -53.681095123291016, 24.462810516357422, -65.17579650878906, -9.82692813873291, 82.17422485351562, 163.90805053710938, 173.833251953125, -154.71849060058594, 32.91719436645508, 1.2030937671661377, -4.601780414581299, 10.388622283935547, -81.05207824707031, -95.97826385498047, -228.9834747314453, 154.18649291992188, -9.58604907989502, -141.4251251220703, -85.1972427368164, -139.0818634033203, -13.171149253845215, 113.8450927734375, -154.2770233154297, -54.1599235534668, 206.52357482910156, -49.72819137573242, -75.89356994628906, -70.41397857666016, 24.67487144470215, 6.593762397766113, 108.80496978759766, 69.02669525146484, 107.91727447509766, 127.45809936523438, -23.13947868347168, -70.61400604248047, -39.587703704833984, -151.06044006347656, 20.919782638549805, -153.164306640625, 37.22124481201172, 218.20333862304688, -127.3240737915039, -87.1346206665039, 123.94844818115234, 143.35562133789062, -175.17054748535156, -12.139080047607422, 119.23674011230469, -56.75492477416992, 1.5225162506103516, -75.45793914794922, 104.8885726928711, 71.0559310913086, 70.76153564453125, -129.11680603027344, -112.39027404785156, 90.48284912109375, 92.49686431884766, 145.2980194091797, -2.15268611907959], \"type\": \"scatter3d\", \"uid\": \"35a2a56c-3d76-411c-bb7d-ff727dd1f2c2\"}], {\"autosize\": false, \"height\": 800, \"legend\": {\"orientation\": \"h\"}, \"margin\": {\"b\": 0, \"l\": 0, \"r\": 0, \"t\": 0}, \"showlegend\": true, \"width\": 800}, {\"showLink\": false, \"linkText\": \"Export to plot.ly\", \"plotlyServerURL\": \"https://plot.ly\"}); \n",
       "}\n",
       "});</script>"
      ],
      "text/vnd.plotly.v1+html": [
       "<div id=\"7fb28cd8-71ce-409e-bc93-8d5cf835c2b7\" style=\"height: 800px; width: 800px;\" class=\"plotly-graph-div\"></div><script type=\"text/javascript\">require([\"plotly\"], function(Plotly) { window.PLOTLYENV=window.PLOTLYENV || {};window.PLOTLYENV.BASE_URL=\"https://plot.ly\";\n",
       "if (document.getElementById(\"7fb28cd8-71ce-409e-bc93-8d5cf835c2b7\")) {\n",
       "    Plotly.newPlot(\"7fb28cd8-71ce-409e-bc93-8d5cf835c2b7\", [{\"marker\": {\"color\": [0, 0, 0, 0, 0, 0, 0, 0, 0, 0, 0, 0, 0, 0, 0, 0, 1, 1, 1, 1, 1, 1, 0, 0, 1, 1, 0, 0, 0, 0, 1, 1, 1, 1, 1, 1, 0, 0, 0, 0, 0, 0, 1, 1, 0, 0, 0, 0, 1, 1, 0, 0, 0, 1, 1, 1, 1, 0, 0, 0, 0, 0, 0, 0, 1, 1, 1, 1, 1, 0, 0, 1, 1, 1, 0, 0, 0, 0], \"colorscale\": \"RdBu\", \"opacity\": 0.2, \"showscale\": false, \"size\": 10}, \"mode\": \"markers\", \"name\": \"Diagnosis\", \"text\": [\"SENTENCE: Generally considered a part of Central Asia, it is sometimes ascribed to a regional bloc in either the Middle East or South Asia<br><br>DIAGNOSIS: 0\", \"SENTENCE: Generally consiedered a part of Central Asia, it is sometimes ascribed to a regional bloc in either the Middle East or South Asia<br><br>DIAGNOSIS: 0\", \"SENTENCE: Generally considered a part of Central Asia, it is sometimes ascribed to a regional bloc in either the Middle East or South Asia<br><br>DIAGNOSIS: 0\", \"SENTENCE: Generally considered a part of Central Asia, it is sometimes ascribed to a regional bloc in either the Middle East of Sough Asia<br><br>DIAGNOSIS: 0\", \"SENTENCE: Generally considered part of Central Asis, it is sometimes ascribed to a regional bloc in either the Middle East or South Asia<br><br>DIAGNOSIS: 0\", \"SENTENCE: Generally considered a part of Central Asia, it is sometimes ascribed to a regiona bloc in either the Middle east or South Asia<br><br>DIAGNOSIS: 0\", \"SENTENCE: Generally considered a part of Central Asia, it is sometimes ascribed to a regioanl bloc in either the Middle East or South Asia<br><br>DIAGNOSIS: 0\", \"SENTENCE: Generally considered a part of Central Asia, it is sometimes ascribed to a regional bloc in either the Middle East or South Asia<br><br>DIAGNOSIS: 0\", \"SENTENCE: Generally considered a part of Central Asia, it is sometimes ascribed to a regional bloc in eaither the Middle East or South Asia<br><br>DIAGNOSIS: 0\", \"SENTENCE: Generally considered a pert of Central Asia, it is sometimes ascribed to a regiona bloc in either the Middle East or South Asia<br><br>DIAGNOSIS: 0\", \"SENTENCE: Generally considered a part of Central Asia, it is sometimes ascribed to a reguinal bloc in either the Middle East or SOuth Asia<br><br>DIAGNOSIS: 0\", \"SENTENCE: Generally considered a part of Central Asia, it is sometimes ascribed to a regional bloc in either the Middle East or South Asia<br><br>DIAGNOSIS: 0\", \"SENTENCE: Generally considered a part of Central Asia, it is sometimes ascribed to a regional bloc in either the Middle East or South Asia<br><br>DIAGNOSIS: 0\", \"SENTENCE: Generally considered a part of Central Asia, it is sometimes ascribed to a regional bloc in either the Middle East or South Asia<br><br>DIAGNOSIS: 0\", \"SENTENCE: Generally considered a part of Central Asia, it is sometimes ascribed to a regional bloc in either the Middle East or South Asia<br><br>DIAGNOSIS: 0\", \"SENTENCE: Generally considered a part of Central Asia, it is sometimes ascribed to a regional bloc in either the Middle East or South Asia<br><br>DIAGNOSIS: 0\", \"SENTENCE: Generally considered a part of Central Asia, it is sometimes ascribed to a regional bloc in either the Middle East or South Asia<br><br>DIAGNOSIS: 1\", \"SENTENCE: Generally considered a aprt of Central Asia, it is sometimes ascribed to a regional bloc in either the Middle East or South Asia<br><br>DIAGNOSIS: 1\", \"SENTENCE: Generally considered a part of Central Asia,it is sometimes ascribed to a regional bloc in eithr<br><br>DIAGNOSIS: 1\", \"SENTENCE: Generally considered a part of Central Asia, it is sometimes ascribed to a regioal bloc in either the Middle East or South Asia<br><br>DIAGNOSIS: 1\", \"SENTENCE: Generally considered a part of Central Asia, it is sometimes ascribed to a regional bloc in either the Middle East or South Asia<br><br>DIAGNOSIS: 1\", \"SENTENCE: Generally considered a part of Central Asia, it is someties ascribed to a regional bloc in either the Middle East or South Asia<br><br>DIAGNOSIS: 1\", \"SENTENCE: Generally considering a part of Central asia, it is sometimes ascribed to a regional bloc in either the Middle East or South Asia<br><br>DIAGNOSIS: 0\", \"SENTENCE: Generally considered a part of Central asia, it is sometimes ascribed to a regional bloc in either the Middle East or South Asia<br><br>DIAGNOSIS: 0\", \"SENTENCE: Generally considered a part of central Asia, it is sometimes ascribed to a regional bloc in either the Middle East or South Asia<br><br>DIAGNOSIS: 1\", \"SENTENCE: Generally considered a part of Central Asia, it is sometimes ascribed to a regional bloc in either the Middle East or South Asia<br><br>DIAGNOSIS: 1\", \"SENTENCE: Generally considered a part of Central Asia, it is sometimes ascribed to a regional bloc in either the Middle East or South Asia<br><br>DIAGNOSIS: 0\", \"SENTENCE: Generally considered a part of Cenral Asia, it is sometimes ascribed to a regional bloc in either the Middle East or South Asia<br><br>DIAGNOSIS: 0\", \"SENTENCE: Generally considered a part of Central Asia, it is sometimes ascribed to a regional bloc in either the Middle East or South Asia<br><br>DIAGNOSIS: 0\", \"SENTENCE: Generally considered a part of Central Asia, it is sometimes ascribed to a reagional bloc in either the Middle East or South Asia<br><br>DIAGNOSIS: 0\", \"SENTENCE: Generally cosidered a part of Central Asia, it is sometimes ascribed to a religional bloc in either the Middle East or South Asia<br><br>DIAGNOSIS: 1\", \"SENTENCE: Generally considered a part of Central Asia, it its sometimes ascribed to a regional bloc in either the Middle East or South Asia<br><br>DIAGNOSIS: 1\", \"SENTENCE: Geberally condidered a part of central asia, it is cometimes ascribed to a regional bloc in either the middle east or south Asia<br><br>DIAGNOSIS: 1\", \"SENTENCE: Generally considered a part of central Asia, it is sometimes ascribed to a regional bloc in either the Middle east or south Asia<br><br>DIAGNOSIS: 1\", \"SENTENCE: Generally considered a part of Central Asia, it is sometimes ascribed too a region bloc in either the middle East or Sout Asia<br><br>DIAGNOSIS: 1\", \"SENTENCE: Generally considered a part of central Asia, it is sometimes ascribed to a regional bloc in either the middle East or South Asia<br><br>DIAGNOSIS: 1\", \"SENTENCE: Generally considered a part of Central Asia, it is sometimes ascribed to a regional bloc in either the Middle East or South Asia<br><br>DIAGNOSIS: 0\", \"SENTENCE: Generally considered a part of Central Asia, it is sometimes ascribed to a regional bloc in either the Middle East or SouthAsia<br><br>DIAGNOSIS: 0\", \"SENTENCE: Generally considered a part of Central Asia, it is sometimes ascribed to a regional bloc in either the Middle East or South Asia<br><br>DIAGNOSIS: 0\", \"SENTENCE: Generally considered a part of Central Asia, it is sometimes ascribed to a regional bloc in either the Middle East or South Asia.<br><br>DIAGNOSIS: 0\", \"SENTENCE: Generally considered a part of central Asia, it is sometimes ascribed to a regional bloc in either the Middle East or South Asia<br><br>DIAGNOSIS: 0\", \"SENTENCE: generally considerd a part of Central Asia, it is sometimes ascribed to a regional bloc in either the Middle East or South Asa<br><br>DIAGNOSIS: 0\", \"SENTENCE: Generally considered a part of Central Asia, it is sometimes ascribed to a regional bloc in either the Middle East or South Asia<br><br>DIAGNOSIS: 1\", \"SENTENCE: Generally considered a part of Central Asia, it is sometimes ascribed to a regional bloc in either the Middle East or South Asia<br><br>DIAGNOSIS: 1\", \"SENTENCE: Generally considered a part of Central Asia, it is sometimes ascribed to a regional bloc in either the Middle East or South Asia<br><br>DIAGNOSIS: 0\", \"SENTENCE: Generally considered a part of Central Asia, it is sometimes ascribed to a regional bloc in either the Middle East or South Asia<br><br>DIAGNOSIS: 0\", \"SENTENCE: Generally considered a part of Central Asia, it is sometimes ascribed to a regional bloc in either the Middle East or South Asia<br><br>DIAGNOSIS: 0\", \"SENTENCE: Generally considered a part of Central Asia, it is sometimes ascribed to a regional bloc in either the Middle East or South Asia<br><br>DIAGNOSIS: 0\", \"SENTENCE: Generally considered a part of Central Asia, it is sometimes ascribed to a regional bloc in either the Middle East or South Asia<br><br>DIAGNOSIS: 1\", \"SENTENCE: Generally considered a part of Central Asia,it is sometimes ascribed to a regional bloc in either the Middle East or South Asia<br><br>DIAGNOSIS: 1\", \"SENTENCE: Generally considerd a part of Central Asia, it is sometimes ascribed to a regional bloc in either the Middle East or South Asia<br><br>DIAGNOSIS: 0\", \"SENTENCE: Generally considered a part of Central Asia, it is sometimes ascribed to a regional bloc in either the Middle East or South Asia<br><br>DIAGNOSIS: 0\", \"SENTENCE: Generally considered a part of Central Asia, it is sometimes ascribed to a regional bloc in either the Middle East or South Asia<br><br>DIAGNOSIS: 0\", \"SENTENCE:  generally considered a part of cCentral Asia, it is sometimes ascribed to a regional bloc in either the Middle East or South<br><br>DIAGNOSIS: 1\", \"SENTENCE: Genreally considered a part of Central Asia, it is sometimes ascribed to a regional bloc in either the Middle East or South Asia<br><br>DIAGNOSIS: 1\", \"SENTENCE: Generally considered a part of Central Asia, it is sometimes ascribed to a regional bloc in either the Middle East or South  Asia<br><br>DIAGNOSIS: 1\", \"SENTENCE: Generally considered a part of Central Asia, it is sometimes ascribed to a regional bloc in either the Middle East or South Asia<br><br>DIAGNOSIS: 1\", \"SENTENCE: Generally considered a part of Central Asia, it is sometimes ascribed to a regional bloc in either the Middle East or South Asia<br><br>DIAGNOSIS: 0\", \"SENTENCE: Generally considered a part of Central asAsia, it is sometimes ascribed to a regional bloc in either the Middle East or South Asa<br><br>DIAGNOSIS: 0\", \"SENTENCE: Generally considered a part of Central Asia, it is sometimes ascribed to a regional bloc in either the Middle east or South asia<br><br>DIAGNOSIS: 0\", \"SENTENCE: Generally considered a part of Central Asia, it is sometimes ascribed to a regional bloc in either the Middle east or south Asia<br><br>DIAGNOSIS: 0\", \"SENTENCE: Generally considered a part of Central Asia, it is sometimes ascribed to a regional bloc either the Middle East or South Asia<br><br>DIAGNOSIS: 0\", \"SENTENCE: Generally considered a part of Central Asia, it is sometimes ascribed to a regional bloc in either the Middle East or South Asia<br><br>DIAGNOSIS: 0\", \"SENTENCE: Generally considered a part of Central Asia, it is sometimes axcribed to a regional bloc in either the Middle East or South Asia<br><br>DIAGNOSIS: 0\", \"SENTENCE: Generally considered a part of Central Asia, it is sometimes ascribed to a regional bloc in either the Middle East or South Asia<br><br>DIAGNOSIS: 1\", \"SENTENCE: Generally considered a part of Central Asia, it is sometimes ascribed to a regional bloc in either the Middle East or South Asia<br><br>DIAGNOSIS: 1\", \"SENTENCE: Generally considered a part of Central Asia, it is sometimes ascribed to a regional bloc in either the Middle East or South Asia<br><br>DIAGNOSIS: 1\", \"SENTENCE: Generally considered a part of Central Asia, it is sometimes ascribed to a regional bloc in either the Middle East or South Asia<br><br>DIAGNOSIS: 1\", \"SENTENCE: Generally considered a part of Central Asia, it is sometimes ascribed to a regional bloc in either the Middle East or South Asia<br><br>DIAGNOSIS: 1\", \"SENTENCE: Generally considered a part of Central Asia, it it sometimes ascribed to a regional bloc in either the Middle East or South Asia<br><br>DIAGNOSIS: 0\", \"SENTENCE: Generally considered a part of Central Asia, it is sometimes ascribed to a regional bloc in either the Middle East or South Asia<br><br>DIAGNOSIS: 0\", \"SENTENCE: Generally considered a part of Central Asia, it is sometimes ascribed to a regional bloc in either the Middle East or South Asia<br><br>DIAGNOSIS: 1\", \"SENTENCE: Generally considered a part of Central Asia, it is sometimes ascribed to a regional bloc in either the Middle East or South Asia<br><br>DIAGNOSIS: 1\", \"SENTENCE: Generally considered a part of Central Asia, it is sometimes ascribed to a regional bloc in either the Middle East or South Asia<br><br>DIAGNOSIS: 1\", \"SENTENCE: Generally considered a part of Central Asia, it is sometimes remeascribed to a regional bloc in either the Middle East or South Asia<br><br>DIAGNOSIS: 0\", \"SENTENCE: Generally considered a part of central asia , it is sometimes ascribed to a regional bloc in either the Middle East or south Asia<br><br>DIAGNOSIS: 0\", \"SENTENCE: Generally considered a part of Central Asia, it is sometimes acribed to a regional bloc in either the Middle East or South Asia<br><br>DIAGNOSIS: 0\", \"SENTENCE: Generally considered a part of Central Asia, it is sometimes ascribed to a regional bloc in either the Middle East or South Asia<br><br>DIAGNOSIS: 0\"], \"x\": [56.88671112060547, 198.69326782226562, 45.35585403442383, -156.24583435058594, -138.8301544189453, -99.66312408447266, 7.13273811340332, 108.29312896728516, 117.99275970458984, -171.4027099609375, -153.55714416503906, -29.814239501953125, -81.33474731445312, 22.676118850708008, -4.891638278961182, 128.6187286376953, -18.776123046875, -92.3048095703125, -94.94544219970703, -195.41049194335938, 102.27037048339844, 53.04236602783203, 148.11553955078125, -129.90335083007812, 57.986087799072266, 111.48693084716797, -33.58369064331055, -141.75421142578125, -172.04998779296875, -138.4883270263672, 181.60580444335938, 19.055587768554688, 61.3808708190918, -37.77315139770508, -87.97826385498047, -58.41798782348633, 15.049297332763672, -70.2091293334961, -6.646017074584961, 101.52056121826172, 52.475215911865234, -1.6509865522384644, 172.08746337890625, -34.9892578125, 54.134429931640625, 34.73240661621094, 60.0435676574707, -93.58097076416016, 99.11686706542969, 13.6397066116333, 81.1344223022461, 111.16166687011719, 75.25713348388672, -162.03231811523438, 8.824487686157227, 35.23356628417969, -25.24254035949707, 161.6786346435547, 14.05663776397705, 140.14666748046875, -79.17391967773438, -133.1265411376953, 78.0621337890625, -91.03974151611328, -110.1385269165039, -42.760040283203125, 15.11363697052002, -29.84848403930664, 89.82164764404297, 67.55597686767578, -63.819305419921875, -167.6336212158203, 137.53640747070312, -104.35504913330078, -100.68045806884766, 193.06704711914062, -63.82626724243164, -38.052616119384766], \"y\": [185.74945068359375, -49.57221603393555, -27.19825553894043, 188.36997985839844, -42.83150863647461, -43.73719024658203, 139.96376037597656, -111.48979187011719, 75.9283447265625, -62.07807540893555, 22.255022048950195, 42.91828536987305, -26.857868194580078, 8.583638191223145, 141.11599731445312, 102.968017578125, 60.89792251586914, 37.62498474121094, 136.24864196777344, 7.208338260650635, -14.638884544372559, 36.00980758666992, 6.92929744720459, 75.10393524169922, 56.88634490966797, 142.9605712890625, -84.71002197265625, 29.617345809936523, -55.556278228759766, -33.721988677978516, -94.5401840209961, -41.423397064208984, 60.091697692871094, 79.75753784179688, -72.14692687988281, -142.79568481445312, 136.83636474609375, 196.33834838867188, -26.326601028442383, -114.05630493164062, -176.2662811279297, 73.41694641113281, 34.18025588989258, -40.63837814331055, 100.73345947265625, -138.55348205566406, 60.37126541137695, 29.76283073425293, -30.708051681518555, -110.58349609375, 138.7900390625, -108.44954681396484, -55.92011260986328, 105.03458404541016, -125.39100646972656, -49.622802734375, 8.726789474487305, 25.031816482543945, 13.424248695373535, 123.38067626953125, 131.81138610839844, 172.69578552246094, -67.15264129638672, 83.99514770507812, -106.66204071044922, 106.43716430664062, -101.78107452392578, -7.493293762207031, 32.277122497558594, -190.9073028564453, -101.22087860107422, 55.77321243286133, -2.8661587238311768, -201.38172912597656, -181.6634521484375, -71.02838897705078, -160.13150024414062, -175.50540161132812], \"z\": [-18.640457153320312, -10.167823791503906, -135.0234832763672, 20.387592315673828, -204.95443725585938, 164.6731719970703, 57.433631896972656, 58.39194869995117, 91.88394165039062, 102.92426300048828, -122.01885223388672, 62.27696228027344, 55.584556579589844, -47.94467544555664, -40.671913146972656, -33.98188018798828, -94.1962661743164, -53.681095123291016, 24.462810516357422, -65.17579650878906, -9.82692813873291, 82.17422485351562, 163.90805053710938, 173.833251953125, -154.71849060058594, 32.91719436645508, 1.2030937671661377, -4.601780414581299, 10.388622283935547, -81.05207824707031, -95.97826385498047, -228.9834747314453, 154.18649291992188, -9.58604907989502, -141.4251251220703, -85.1972427368164, -139.0818634033203, -13.171149253845215, 113.8450927734375, -154.2770233154297, -54.1599235534668, 206.52357482910156, -49.72819137573242, -75.89356994628906, -70.41397857666016, 24.67487144470215, 6.593762397766113, 108.80496978759766, 69.02669525146484, 107.91727447509766, 127.45809936523438, -23.13947868347168, -70.61400604248047, -39.587703704833984, -151.06044006347656, 20.919782638549805, -153.164306640625, 37.22124481201172, 218.20333862304688, -127.3240737915039, -87.1346206665039, 123.94844818115234, 143.35562133789062, -175.17054748535156, -12.139080047607422, 119.23674011230469, -56.75492477416992, 1.5225162506103516, -75.45793914794922, 104.8885726928711, 71.0559310913086, 70.76153564453125, -129.11680603027344, -112.39027404785156, 90.48284912109375, 92.49686431884766, 145.2980194091797, -2.15268611907959], \"type\": \"scatter3d\", \"uid\": \"35a2a56c-3d76-411c-bb7d-ff727dd1f2c2\"}], {\"autosize\": false, \"height\": 800, \"legend\": {\"orientation\": \"h\"}, \"margin\": {\"b\": 0, \"l\": 0, \"r\": 0, \"t\": 0}, \"showlegend\": true, \"width\": 800}, {\"showLink\": false, \"linkText\": \"Export to plot.ly\", \"plotlyServerURL\": \"https://plot.ly\"}); \n",
       "}\n",
       "});</script>"
      ]
     },
     "metadata": {},
     "output_type": "display_data"
    }
   ],
   "source": [
    "sentence_embeddings_scatter_3d_plot(df,X,62,save_me=True,filename='sent_62_glove_')"
   ]
  }
 ],
 "metadata": {
  "kernelspec": {
   "display_name": "Python 3",
   "language": "python",
   "name": "python3"
  },
  "language_info": {
   "codemirror_mode": {
    "name": "ipython",
    "version": 3
   },
   "file_extension": ".py",
   "mimetype": "text/x-python",
   "name": "python",
   "nbconvert_exporter": "python",
   "pygments_lexer": "ipython3",
   "version": "3.6.7"
  }
 },
 "nbformat": 4,
 "nbformat_minor": 2
}
