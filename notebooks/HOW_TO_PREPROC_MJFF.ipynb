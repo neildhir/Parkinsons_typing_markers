{
 "cells": [
  {
   "cell_type": "markdown",
   "metadata": {},
   "source": [
    "## HOW TO USE MJFF PREPROCESSING PIPELINE"
   ]
  },
  {
   "cell_type": "code",
   "execution_count": 1,
   "metadata": {},
   "outputs": [],
   "source": [
    "%load_ext autoreload\n",
    "%autoreload 2 \n",
    "%matplotlib inline\n",
    "\n",
    "# Set path to find modelling tools for later use\n",
    "import os\n",
    "import sys\n",
    "sys.path.append(os.path.join(os.getcwd(),\"..\"))\n",
    "\n",
    "\n",
    "from src.preprocess import preprocessMJFF\n",
    "\n",
    "                         \n",
    "\n",
    "\n",
    "from pathlib import Path\n"
   ]
  },
  {
   "cell_type": "markdown",
   "metadata": {},
   "source": [
    "#### Instantiate a MJFF preprocessing object"
   ]
  },
  {
   "cell_type": "code",
   "execution_count": 2,
   "metadata": {},
   "outputs": [
    {
     "name": "stdout",
     "output_type": "stream",
     "text": [
      "\tMichael J. Fox Foundation PD copy-typing data.\n",
      "\n"
     ]
    }
   ],
   "source": [
    "proc = preprocessMJFF()"
   ]
  },
  {
   "cell_type": "markdown",
   "metadata": {},
   "source": [
    "#### Call the preprocessing object with which_languange = 'spanish'  or 'english' and set include_time = False."
   ]
  },
  {
   "cell_type": "code",
   "execution_count": null,
   "metadata": {},
   "outputs": [],
   "source": [
    "out = proc(which_language='english' ,which_attempt=1 ,include_time=False) # To obtain the \"short format\" preprocessed dataframe you need set include_time = False\n"
   ]
  },
  {
   "cell_type": "code",
   "execution_count": null,
   "metadata": {},
   "outputs": [],
   "source": [
    "out.head()"
   ]
  },
  {
   "cell_type": "markdown",
   "metadata": {},
   "source": [
    "##### Here we have the usual suspects, *Particiant_ID, Diagnosis, Sentence_ID* ...\n",
    "##### We also have *IKI_timings* which is a list of time stamp differences, also known as IKI.\n",
    "##### Further note that *PPTS_list* is a list version of the *Preprocessed_typed_sentece* string column, this is due to the fact that strings such as á or ü are considered by some versions of python ( or the encoding) to be of length two.\n"
   ]
  },
  {
   "cell_type": "code",
   "execution_count": 19,
   "metadata": {},
   "outputs": [
    {
     "data": {
      "text/plain": [
       "1"
      ]
     },
     "execution_count": 19,
     "metadata": {},
     "output_type": "execute_result"
    }
   ],
   "source": [
    "#Note that the length of IKI_timings is one less than that of the typed string\n",
    "\n",
    "len(out.Preprocessed_typed_sentence[0]) - len(out.IKI_timings[0])"
   ]
  },
  {
   "cell_type": "code",
   "execution_count": null,
   "metadata": {},
   "outputs": [],
   "source": [
    "# Now you can simply save the preprocessed data\n",
    "out.to_csv('some_place/preproc_data.csv')"
   ]
  }
 ],
 "metadata": {
  "kernelspec": {
   "display_name": "pdEnv",
   "language": "python",
   "name": "pdenv"
  },
  "language_info": {
   "codemirror_mode": {
    "name": "ipython",
    "version": 3
   },
   "file_extension": ".py",
   "mimetype": "text/x-python",
   "name": "python",
   "nbconvert_exporter": "python",
   "pygments_lexer": "ipython3",
   "version": "3.7.7"
  }
 },
 "nbformat": 4,
 "nbformat_minor": 4
}
