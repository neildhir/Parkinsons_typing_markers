{
 "cells": [
  {
   "cell_type": "code",
   "execution_count": 2,
   "metadata": {},
   "outputs": [
    {
     "name": "stdout",
     "output_type": "stream",
     "text": [
      "1.16.4\n"
     ]
    }
   ],
   "source": [
    "%load_ext autoreload\n",
    "%autoreload 2 \n",
    "%matplotlib inline\n",
    "\n",
    "# Set path to find modelling tools for later use\n",
    "import os\n",
    "import sys\n",
    "sys.path.append(os.path.join(os.getcwd(),\"..\"))\n",
    "\n",
    "\n",
    "from haberrspd.preprocess import preprocessMJFF\n",
    "                         \n",
    "import pandas as pd\n",
    "import re\n",
    "import numpy as np\n",
    "print(np.__version__)\n",
    "from collections import Counter, defaultdict\n",
    "import itertools\n",
    "from operator import itemgetter\n",
    "from scipy.stats import (gamma, lognorm, gengamma)\n",
    "\n",
    "from pathlib import Path\n",
    "from IPython.display import display\n",
    "\n",
    "# Plot stuff\n",
    "import seaborn as sns\n",
    "from scipy.constants import golden\n",
    "import matplotlib.pyplot as plt\n",
    "plt.style.use('dark_background')\n",
    "\n",
    "# Depending on where I am, set the path\n",
    "import socket\n",
    "if socket.gethostname() == 'pax':\n",
    "    # Monster machine\n",
    "    data_root = '../data/MJFF/' # My local path\n",
    "    data_root = Path(data_root)\n",
    "else:\n",
    "    # Laptop\n",
    "    data_root = '/home/nd/data/liverpool/MJFF' # My local path\n",
    "    data_root = Path(data_root)"
   ]
  },
  {
   "cell_type": "markdown",
   "metadata": {},
   "source": [
    "----"
   ]
  },
  {
   "cell_type": "markdown",
   "metadata": {},
   "source": [
    "# Character + Timing data"
   ]
  },
  {
   "cell_type": "code",
   "execution_count": null,
   "metadata": {},
   "outputs": [],
   "source": [
    "proc = preprocessMJFF()"
   ]
  },
  {
   "cell_type": "code",
   "execution_count": null,
   "metadata": {},
   "outputs": [],
   "source": [
    "out = proc('all')"
   ]
  },
  {
   "cell_type": "code",
   "execution_count": null,
   "metadata": {},
   "outputs": [],
   "source": [
    "out.to_csv(\"../data/MJFF/preproc/EnglishSpanishData-preprocessed.csv\",index=False)"
   ]
  },
  {
   "cell_type": "code",
   "execution_count": null,
   "metadata": {},
   "outputs": [],
   "source": [
    "out = proc('spanish')"
   ]
  },
  {
   "cell_type": "code",
   "execution_count": null,
   "metadata": {},
   "outputs": [],
   "source": [
    "out.to_csv(\"../data/MJFF/preproc/SpanishData-preprocessed.csv\",index=False)"
   ]
  },
  {
   "cell_type": "code",
   "execution_count": null,
   "metadata": {},
   "outputs": [],
   "source": [
    "out = proc('english')"
   ]
  },
  {
   "cell_type": "code",
   "execution_count": null,
   "metadata": {},
   "outputs": [],
   "source": [
    "out.to_csv(\"../data/MJFF/preproc/EnglishData-preprocessed.csv\",index=False)"
   ]
  },
  {
   "cell_type": "code",
   "execution_count": null,
   "metadata": {},
   "outputs": [],
   "source": [
    "pwd"
   ]
  },
  {
   "cell_type": "code",
   "execution_count": null,
   "metadata": {},
   "outputs": [],
   "source": [
    "out[out['Preprocessed_typed_sentence'].apply(lambda x: len(x) > 10000)]"
   ]
  },
  {
   "cell_type": "code",
   "execution_count": null,
   "metadata": {},
   "outputs": [],
   "source": [
    "# df = pd.read_csv(data_root / 'SpanishData-duplicateeventsremoved.csv')\n",
    "df = pd.read_csv(data_root / 'SpanishData.csv')\n",
    "df_meta = pd.read_csv(data_root / \"SpanishParticipantKey.csv\",\n",
    "                      index_col=0,\n",
    "                      header=0,\n",
    "                      names=['participant_id', 'diagnosis'])"
   ]
  },
  {
   "cell_type": "markdown",
   "metadata": {},
   "source": [
    "# Character ONLY data"
   ]
  },
  {
   "cell_type": "code",
   "execution_count": null,
   "metadata": {},
   "outputs": [],
   "source": [
    "proc = preprocessMJFF()"
   ]
  },
  {
   "cell_type": "code",
   "execution_count": null,
   "metadata": {},
   "outputs": [],
   "source": [
    "out = proc('english',include_time=False)"
   ]
  },
  {
   "cell_type": "code",
   "execution_count": null,
   "metadata": {},
   "outputs": [],
   "source": [
    "out.head()"
   ]
  },
  {
   "cell_type": "code",
   "execution_count": null,
   "metadata": {},
   "outputs": [],
   "source": [
    "out[out['Preprocessed_typed_sentence'].apply(lambda x: len(x) < 30)]"
   ]
  },
  {
   "cell_type": "code",
   "execution_count": null,
   "metadata": {},
   "outputs": [],
   "source": [
    "out.to_csv(\"../data/MJFF/preproc/char/EnglishSpanishData-preprocessed.csv\",index=False)"
   ]
  },
  {
   "cell_type": "markdown",
   "metadata": {},
   "source": [
    "## PLOT\n"
   ]
  },
  {
   "cell_type": "code",
   "execution_count": null,
   "metadata": {},
   "outputs": [],
   "source": [
    "controls = set(df_meta.loc[df_meta.diagnosis == 0].participant_id)\n",
    "pd_subjects = set(df_meta.loc[df_meta.diagnosis == 1].participant_id)"
   ]
  },
  {
   "cell_type": "code",
   "execution_count": null,
   "metadata": {},
   "outputs": [],
   "source": [
    "pd_timestamp_diffs = []\n",
    "# Loop over all subjects\n",
    "for sub in pd_subjects:\n",
    "    # Get all delta timestamps for this sentence, across all subjects\n",
    "    pd_timestamp_diffs.extend(df.loc[(df.sentence_id == 57) & (df.participant_id == sub)].timestamp.diff().values)\n",
    "    \n",
    "control_timestamp_diffs = []\n",
    "# Loop over all subjects\n",
    "for sub in controls:\n",
    "    # Get all delta timestamps for this sentence, across all subjects\n",
    "    control_timestamp_diffs.extend(df.loc[(df.sentence_id == 57) & (df.participant_id == sub)].timestamp.diff().values)"
   ]
  },
  {
   "cell_type": "code",
   "execution_count": null,
   "metadata": {},
   "outputs": [],
   "source": [
    "# remove NaNs\n",
    "pd_cleaned_list = [x for x in pd_timestamp_diffs if str(x) != 'nan']\n",
    "control_cleaned_list = [x for x in control_timestamp_diffs if str(x) != 'nan']"
   ]
  },
  {
   "cell_type": "code",
   "execution_count": null,
   "metadata": {},
   "outputs": [],
   "source": [
    "# PD\n",
    "\n",
    "# fixed bin size\n",
    "bins = np.arange(0, 10000, 50) # fixed bin size\n",
    "# plt.xlim([min(data)-5, max(data)+5])\n",
    "fig = plt.figure(figsize=(14,6))\n",
    "plt.hist(pd_cleaned_list, bins=bins, alpha=0.5)\n",
    "# plt.vlines(np.quantile(cleaned_list,0.95),0,900,'r')\n",
    "# plt.vlines(np.mean(cleaned_list),0,900,'b')\n",
    "plt.grid(True)\n",
    "plt.show()"
   ]
  },
  {
   "cell_type": "code",
   "execution_count": null,
   "metadata": {},
   "outputs": [],
   "source": [
    "# control\n",
    "\n",
    "# fixed bin size\n",
    "bins = np.arange(0, 10000, 50) # fixed bin size\n",
    "# plt.xlim([min(data)-5, max(data)+5])\n",
    "fig = plt.figure(figsize=(14,6))\n",
    "plt.hist(control_cleaned_list, bins=bins, alpha=0.5)\n",
    "# plt.vlines(np.quantile(cleaned_list,0.95),0,900,'r')\n",
    "# plt.vlines(np.mean(cleaned_list),0,900,'b')\n",
    "plt.grid(True)\n",
    "plt.show()"
   ]
  },
  {
   "cell_type": "markdown",
   "metadata": {},
   "source": [
    "### Mechanical turk data"
   ]
  },
  {
   "cell_type": "code",
   "execution_count": null,
   "metadata": {},
   "outputs": [],
   "source": [
    "out.to_csv(data_root /'preprocessed_MechanicalTurkCombinedEnglishData.csv',index=False)"
   ]
  },
  {
   "cell_type": "code",
   "execution_count": null,
   "metadata": {},
   "outputs": [],
   "source": [
    "ls ../data/MJFF/"
   ]
  },
  {
   "cell_type": "markdown",
   "metadata": {},
   "source": [
    "### IKI extraction"
   ]
  },
  {
   "cell_type": "code",
   "execution_count": null,
   "metadata": {},
   "outputs": [],
   "source": [
    "out = create_mjff_iki_training_data(df)"
   ]
  },
  {
   "cell_type": "markdown",
   "metadata": {},
   "source": [
    "## Keyboard inputs"
   ]
  },
  {
   "cell_type": "code",
   "execution_count": null,
   "metadata": {},
   "outputs": [],
   "source": [
    "from haberrspd.charCNN.data_utils_tf import create_mjff_data_objects, us_standard_layout_keyboard, english_keys_to_2d_coordinates\n",
    "import keras.backend as K\n",
    "from keras import callbacks\n",
    "from keras.preprocessing.sequence import pad_sequences\n",
    "from keras.preprocessing.text import Tokenizer\n",
    "from keras.utils import to_categorical\n",
    "from numpy import array, int64, ones, hstack, pad, einsum, dstack\n",
    "from pandas import read_csv\n",
    "from sklearn.model_selection import train_test_split\n",
    "from tensorflow import cast, float32, one_hot\n",
    "import itertools"
   ]
  },
  {
   "cell_type": "code",
   "execution_count": null,
   "metadata": {},
   "outputs": [],
   "source": [
    "which_information = \"char_time_space\"\n",
    "DATA_ROOT = Path(\"../data/\") / \"MJFF\" / \"preproc\"\n",
    "data_string = \"EnglishData-preprocessed.csv\"\n",
    "if which_information == \"char_time_space\":\n",
    "    # Get relevant long-format data\n",
    "    which_information = \"char_time\""
   ]
  },
  {
   "cell_type": "code",
   "execution_count": null,
   "metadata": {},
   "outputs": [],
   "source": [
    "df = read_csv(DATA_ROOT / which_information / data_string, header=0)  # MJFF data\n",
    "subject_documents, subjects_diagnoses, alphabet = create_mjff_data_objects(df)\n",
    "\n",
    "# Store alphabet size\n",
    "alphabet_size = len(alphabet)\n",
    "\n",
    "print('Total number of characters:', alphabet_size)\n",
    "alphabet_indices = dict((c, i) for i, c in enumerate(alphabet))\n",
    "\n",
    "if which_information == \"char_time\" or which_information == \"char_time_space\":\n",
    "    # Rounds (up) to nearest thousand\n",
    "    max_sentence_length = round(df.Preprocessed_typed_sentence.apply(lambda x: len(x)).max(), -3)\n",
    "if which_information == \"char\":\n",
    "    # Rounds (up) to nearest hundred\n",
    "    max_sentence_length = round(df.Preprocessed_typed_sentence.apply(lambda x: len(x)).max(), -2)\n",
    "\n",
    "# Make training data array\n",
    "all_sentences = [item for sublist in subject_documents for item in sublist]"
   ]
  },
  {
   "cell_type": "code",
   "execution_count": null,
   "metadata": {},
   "outputs": [],
   "source": [
    "# Initialise tokenizer which maps characters to integers\n",
    "tk = Tokenizer(num_words=None, char_level=True)\n",
    "\n",
    "# Fit to text: convert all chars to ints\n",
    "tk.fit_on_texts(all_sentences)\n",
    "\n",
    "# Update alphabet\n",
    "tk.word_index = alphabet_indices\n",
    "\n",
    "# Get integer sequences: converts sequences of chars to sequences of ints\n",
    "int_sequences = tk.texts_to_sequences(all_sentences)\n",
    "\n",
    "# Pad sequences so that they all have the same length and then one-hot encode\n",
    "X = to_categorical(pad_sequences(int_sequences, maxlen=max_sentence_length, padding='post'))"
   ]
  },
  {
   "cell_type": "code",
   "execution_count": null,
   "metadata": {},
   "outputs": [],
   "source": [
    "X.shape"
   ]
  },
  {
   "cell_type": "code",
   "execution_count": null,
   "metadata": {},
   "outputs": [],
   "source": [
    "which_information  =  'char_time_space'\n",
    "if which_information == 'char_time_space':\n",
    "    # Load relevant keyboard\n",
    "    keyboard = us_standard_layout_keyboard()  # OBS: nested list\n",
    "    # Check that all chars are in fact in our \"keyboard\" -- if not, we cannot map a coordinate\n",
    "    assert alphabet.issubset(set(list(itertools.chain.from_iterable(keyboard))))\n",
    "    space = [english_keys_to_2d_coordinates(sentence, keyboard) for sentence in all_sentences]\n",
    "    space_padded = [pad(s, [(0, max_sentence_length - len(s)), (0, 0)], mode='constant') for s in space]\n",
    "    # Append coordinates to one-hot encoded sentences\n",
    "    X = einsum('ijk->kij', dstack([hstack((x, s)) for (x, s) in zip(X, space_padded)]))"
   ]
  },
  {
   "cell_type": "code",
   "execution_count": null,
   "metadata": {},
   "outputs": [],
   "source": [
    "X.shape"
   ]
  },
  {
   "cell_type": "markdown",
   "metadata": {},
   "source": [
    "# Document (participant) -level classification"
   ]
  },
  {
   "cell_type": "markdown",
   "metadata": {},
   "source": [
    "Three options (at time of writing):\n",
    "\n",
    "1. Submit each sentence to model and extract classification probability for each sentence, agglomorate at the end, and the conduct a classification on the vector of all 15 probabilities.\n",
    "2. Calculate the expected value of all encoded (15) sentences and then pass this to the model and take the classification.\n",
    "3. Vertically stack all embedded sentences, and let the convolution run over this (very long) array."
   ]
  },
  {
   "cell_type": "code",
   "execution_count": null,
   "metadata": {},
   "outputs": [],
   "source": [
    "from haberrspd.charCNN.data_utils_tf import create_training_data_keras, create_mjff_data_objects\n",
    "from pandas import read_csv"
   ]
  },
  {
   "cell_type": "code",
   "execution_count": null,
   "metadata": {},
   "outputs": [],
   "source": [
    "which_information = \"char_time\"\n",
    "DATA_ROOT = Path(\"../data/\") / \"MJFF\" / \"preproc\"\n",
    "data_string = \"EnglishData-preprocessed.csv\"\n",
    "df = read_csv(DATA_ROOT / which_information / data_string, header=0)  # MJFF data\n",
    "# subject_documents, subjects_diagnoses, alphabet = create_mjff_data_objects(df)\n",
    "# X_train, X_test, y_train, y_test, max_sentence_length, alphabet_size = create_training_data_keras(DATA_ROOT, which_information, data_string)"
   ]
  },
  {
   "cell_type": "code",
   "execution_count": null,
   "metadata": {},
   "outputs": [],
   "source": [
    "df.head()"
   ]
  },
  {
   "cell_type": "code",
   "execution_count": null,
   "metadata": {},
   "outputs": [],
   "source": [
    "for doc in subject_documents[:3]:\n",
    "    print(doc[:2])\n",
    "    print('\\n')"
   ]
  },
  {
   "cell_type": "markdown",
   "metadata": {},
   "source": [
    "# MRC data"
   ]
  },
  {
   "cell_type": "markdown",
   "metadata": {},
   "source": [
    "0. Homogenise so that Spacebar is a blank character\n",
    "0. Delete rubbish characters (i.e. remove the rows)\n",
    "2. What to do with stuff like Shift\n",
    "3. Figure out what to do when multiple characters are depressed simultaneously\n",
    "4. Make lowercase all characters"
   ]
  },
  {
   "cell_type": "code",
   "execution_count": 9,
   "metadata": {},
   "outputs": [],
   "source": [
    "from pandas import read_csv\n",
    "from haberrspd.preprocess import clean_MRC, backspace_corrector, make_character_compression_time_sentence\n",
    "from haberrspd.charCNN.data_utils_tf import us_english_keyboard_mrc\n",
    "from numpy import concatenate\n",
    "from typing import Tuple\n",
    "\n",
    "from itertools import compress, count\n",
    "from operator import itemgetter\n"
   ]
  },
  {
   "cell_type": "code",
   "execution_count": 4,
   "metadata": {},
   "outputs": [
    {
     "name": "stderr",
     "output_type": "stream",
     "text": [
      "/home/neil/anaconda3/envs/py36/lib/python3.6/site-packages/IPython/core/interactiveshell.py:3058: DtypeWarning: Columns (11) have mixed types. Specify dtype option on import or set low_memory=False.\n",
      "  interactivity=interactivity, compiler=compiler, result=result)\n"
     ]
    }
   ],
   "source": [
    "# Monster machine\n",
    "data_root = '../data/' # My local path\n",
    "data_root = Path(data_root)\n",
    "full_path = data_root / \"MRC\" / \"mrc_raw.csv\"\n",
    "\n",
    "df = read_csv(full_path, header=0)  # MRC data"
   ]
  },
  {
   "cell_type": "code",
   "execution_count": 6,
   "metadata": {},
   "outputs": [
    {
     "name": "stdout",
     "output_type": "stream",
     "text": [
      "Removal of sentences with 'high' Levenshtein distance...\n",
      "\n",
      "Size of dataframe before row pruning: (814320, 13)\n",
      "Size of dataframe after row pruning: (813662, 13)\n",
      "\n",
      "Removal of sentences with left/right arrows keys...\n",
      "\n",
      "Size of dataframe before row pruning: (813662, 13)\n",
      "Size of dataframe after row pruning: (781533, 13)\n"
     ]
    },
    {
     "data": {
      "text/html": [
       "<div>\n",
       "<style scoped>\n",
       "    .dataframe tbody tr th:only-of-type {\n",
       "        vertical-align: middle;\n",
       "    }\n",
       "\n",
       "    .dataframe tbody tr th {\n",
       "        vertical-align: top;\n",
       "    }\n",
       "\n",
       "    .dataframe thead th {\n",
       "        text-align: right;\n",
       "    }\n",
       "</style>\n",
       "<table border=\"1\" class=\"dataframe\">\n",
       "  <thead>\n",
       "    <tr style=\"text-align: right;\">\n",
       "      <th></th>\n",
       "      <th>key</th>\n",
       "      <th>type</th>\n",
       "      <th>location</th>\n",
       "      <th>timestamp</th>\n",
       "      <th>response_id</th>\n",
       "      <th>response_content</th>\n",
       "      <th>response_created</th>\n",
       "      <th>participant_id</th>\n",
       "      <th>sentence_id</th>\n",
       "      <th>sentence_content</th>\n",
       "      <th>LPI</th>\n",
       "      <th>STAGE</th>\n",
       "      <th>diagnosis</th>\n",
       "    </tr>\n",
       "  </thead>\n",
       "  <tbody>\n",
       "    <tr>\n",
       "      <td>0</td>\n",
       "      <td>shift</td>\n",
       "      <td>keydown</td>\n",
       "      <td>1</td>\n",
       "      <td>25885.055</td>\n",
       "      <td>116</td>\n",
       "      <td>However,religions other than Islam, use a diff...</td>\n",
       "      <td>2019-07-01T12:31:07.218Z</td>\n",
       "      <td>1000</td>\n",
       "      <td>1</td>\n",
       "      <td>However, religions other than Islam, use a dif...</td>\n",
       "      <td>-4</td>\n",
       "      <td>NODIAGNOSIS</td>\n",
       "      <td>0</td>\n",
       "    </tr>\n",
       "    <tr>\n",
       "      <td>1</td>\n",
       "      <td>h</td>\n",
       "      <td>keydown</td>\n",
       "      <td>0</td>\n",
       "      <td>26086.840</td>\n",
       "      <td>116</td>\n",
       "      <td>However,religions other than Islam, use a diff...</td>\n",
       "      <td>2019-07-01T12:31:07.218Z</td>\n",
       "      <td>1000</td>\n",
       "      <td>1</td>\n",
       "      <td>However, religions other than Islam, use a dif...</td>\n",
       "      <td>-4</td>\n",
       "      <td>NODIAGNOSIS</td>\n",
       "      <td>0</td>\n",
       "    </tr>\n",
       "    <tr>\n",
       "      <td>2</td>\n",
       "      <td>shift</td>\n",
       "      <td>keyup</td>\n",
       "      <td>1</td>\n",
       "      <td>26181.975</td>\n",
       "      <td>116</td>\n",
       "      <td>However,religions other than Islam, use a diff...</td>\n",
       "      <td>2019-07-01T12:31:07.218Z</td>\n",
       "      <td>1000</td>\n",
       "      <td>1</td>\n",
       "      <td>However, religions other than Islam, use a dif...</td>\n",
       "      <td>-4</td>\n",
       "      <td>NODIAGNOSIS</td>\n",
       "      <td>0</td>\n",
       "    </tr>\n",
       "    <tr>\n",
       "      <td>3</td>\n",
       "      <td>h</td>\n",
       "      <td>keyup</td>\n",
       "      <td>0</td>\n",
       "      <td>26193.745</td>\n",
       "      <td>116</td>\n",
       "      <td>However,religions other than Islam, use a diff...</td>\n",
       "      <td>2019-07-01T12:31:07.218Z</td>\n",
       "      <td>1000</td>\n",
       "      <td>1</td>\n",
       "      <td>However, religions other than Islam, use a dif...</td>\n",
       "      <td>-4</td>\n",
       "      <td>NODIAGNOSIS</td>\n",
       "      <td>0</td>\n",
       "    </tr>\n",
       "    <tr>\n",
       "      <td>4</td>\n",
       "      <td>o</td>\n",
       "      <td>keydown</td>\n",
       "      <td>0</td>\n",
       "      <td>26321.480</td>\n",
       "      <td>116</td>\n",
       "      <td>However,religions other than Islam, use a diff...</td>\n",
       "      <td>2019-07-01T12:31:07.218Z</td>\n",
       "      <td>1000</td>\n",
       "      <td>1</td>\n",
       "      <td>However, religions other than Islam, use a dif...</td>\n",
       "      <td>-4</td>\n",
       "      <td>NODIAGNOSIS</td>\n",
       "      <td>0</td>\n",
       "    </tr>\n",
       "  </tbody>\n",
       "</table>\n",
       "</div>"
      ],
      "text/plain": [
       "     key     type  location  timestamp  response_id  \\\n",
       "0  shift  keydown         1  25885.055          116   \n",
       "1      h  keydown         0  26086.840          116   \n",
       "2  shift    keyup         1  26181.975          116   \n",
       "3      h    keyup         0  26193.745          116   \n",
       "4      o  keydown         0  26321.480          116   \n",
       "\n",
       "                                    response_content  \\\n",
       "0  However,religions other than Islam, use a diff...   \n",
       "1  However,religions other than Islam, use a diff...   \n",
       "2  However,religions other than Islam, use a diff...   \n",
       "3  However,religions other than Islam, use a diff...   \n",
       "4  However,religions other than Islam, use a diff...   \n",
       "\n",
       "           response_created  participant_id  sentence_id  \\\n",
       "0  2019-07-01T12:31:07.218Z            1000            1   \n",
       "1  2019-07-01T12:31:07.218Z            1000            1   \n",
       "2  2019-07-01T12:31:07.218Z            1000            1   \n",
       "3  2019-07-01T12:31:07.218Z            1000            1   \n",
       "4  2019-07-01T12:31:07.218Z            1000            1   \n",
       "\n",
       "                                    sentence_content  LPI        STAGE  \\\n",
       "0  However, religions other than Islam, use a dif...   -4  NODIAGNOSIS   \n",
       "1  However, religions other than Islam, use a dif...   -4  NODIAGNOSIS   \n",
       "2  However, religions other than Islam, use a dif...   -4  NODIAGNOSIS   \n",
       "3  However, religions other than Islam, use a dif...   -4  NODIAGNOSIS   \n",
       "4  However, religions other than Islam, use a dif...   -4  NODIAGNOSIS   \n",
       "\n",
       "   diagnosis  \n",
       "0          0  \n",
       "1          0  \n",
       "2          0  \n",
       "3          0  \n",
       "4          0  "
      ]
     },
     "execution_count": 6,
     "metadata": {},
     "output_type": "execute_result"
    }
   ],
   "source": [
    "df = clean_MRC(df)\n",
    "df.head()"
   ]
  },
  {
   "cell_type": "markdown",
   "metadata": {},
   "source": [
    "# Protocol to process the MRC data"
   ]
  },
  {
   "cell_type": "markdown",
   "metadata": {},
   "source": [
    "1. A form of `create_char_compression_time_mjff_data` [to get the temporal data] <-- this needs to be set so that we get a list of \n",
    "2. Second use `create_dataframe_from_processed_data`"
   ]
  },
  {
   "cell_type": "code",
   "execution_count": 78,
   "metadata": {},
   "outputs": [],
   "source": [
    "def lookup(v, d={}, c=count()):\n",
    "    if v in d:\n",
    "        return d.pop(v)\n",
    "    else:\n",
    "        d[v] = next(c)\n",
    "        return d[v]\n",
    "    \n",
    "def increasing(L):\n",
    "    return all(x<=y for x, y in zip(L, L[1:]))\n",
    "\n",
    "def reorder_key_timestamp_columns_mrc(df):\n",
    "    \n",
    "    # Check that the column is of even length\n",
    "#     assert len(df) % 2 == 0, \"The length is {}.\".format(len(df))\n",
    "    \n",
    "    df['new_row_order'] = df.key.map(lookup)\n",
    "    \n",
    "    return df.sort_values(by='new_row_order', kind='mergesort').drop('new_row_order', axis=1).reset_index(drop=True)\n",
    "    \n",
    "def calculate_total_key_compression_time(df):\n",
    "    return [(x-y) for x,y in zip(df.timestamp[1::2], df.timestamp[0::2])]"
   ]
  },
  {
   "cell_type": "code",
   "execution_count": 33,
   "metadata": {},
   "outputs": [],
   "source": [
    "def create_char_compression_time_mrc_data(df: pd.DataFrame, time_redux_fact=10) -> Tuple[dict, list]:\n",
    "\n",
    "    assert set([\"participant_id\", \"key\", \"timestamp\", \"sentence_id\"]).issubset(df.columns)\n",
    "\n",
    "    # All sentences will be stored here, indexed by their type\n",
    "    char_compression_sentences = defaultdict(dict)\n",
    "    \n",
    "    # Get the unique number of subjects\n",
    "    subjects = sorted(set(df.participant_id))  # NOTE: set() is weakly random\n",
    "\n",
    "    # Loop over subjects\n",
    "    for subj_idx in subjects:\n",
    "        # Not all subjects have typed all sentences hence we have to do it this way\n",
    "        for sent_idx in df.loc[(df.participant_id == subj_idx)].sentence_id.unique():\n",
    "            \n",
    "            # Locate df segment to extract\n",
    "            coordinates = (df.participant_id == subj_idx) & (df.sentence_id == sent_idx)\n",
    "            \n",
    "            print(\"Participant: {}, Sentence: {}\".format(subj_idx, sent_idx))\n",
    "            \n",
    "            # Get correctly ordered sentences and total compression times\n",
    "            df_tmp = reorder_key_timestamp_columns_mrc(df.loc[coordinates, ('key','timestamp')])\n",
    "            \n",
    "            # \"correct\" the sentence by operating on user backspaces \n",
    "            corrected_char_sentence, removed_chars_indx = backspace_corrector(df_tmp.key.tolist())\n",
    "            \n",
    "            compression_times = calculate_total_key_compression_time(df_tmp.drop(df_tmp.index[removed_chars_indx]))\n",
    "            \n",
    "            assert len(compression_times) == len(corrected_char_sentence[::2]), \"Error at ({},{}).\".format(subj_idx,sent_idx)\n",
    "            assert any(x < 0 for x in compression_times) is False, \"Error at ({},{}).\".format(subj_idx,sent_idx) # Check no negative timings\n",
    "\n",
    "            # Make long-format version of each typed, corrected, sentence\n",
    "            # Note that we remove the last character to make the calculation correct.\n",
    "            char_compression_sentences[subj_idx][sent_idx] = make_character_compression_time_sentence(compression_times,\n",
    "                                                                                                      corrected_char_sentence[::2], \n",
    "                                                                                                      time_redux_fact)\n",
    "    return char_compression_sentences"
   ]
  },
  {
   "cell_type": "code",
   "execution_count": 12,
   "metadata": {},
   "outputs": [],
   "source": [
    "df_small = df.loc[df.participant_id.isin([1024,1025,1026,1027])]"
   ]
  },
  {
   "cell_type": "code",
   "execution_count": 22,
   "metadata": {},
   "outputs": [
    {
     "data": {
      "text/plain": [
       "{1, 2, 3, 4, 5, 6, 7, 8, 9, 10, 11, 12, 13, 14, 15}"
      ]
     },
     "execution_count": 22,
     "metadata": {},
     "output_type": "execute_result"
    }
   ],
   "source": [
    "set(df_small.loc[df_small.participant_id == 1025].sentence_id)"
   ]
  },
  {
   "cell_type": "code",
   "execution_count": 32,
   "metadata": {},
   "outputs": [
    {
     "data": {
      "text/html": [
       "<div>\n",
       "<style scoped>\n",
       "    .dataframe tbody tr th:only-of-type {\n",
       "        vertical-align: middle;\n",
       "    }\n",
       "\n",
       "    .dataframe tbody tr th {\n",
       "        vertical-align: top;\n",
       "    }\n",
       "\n",
       "    .dataframe thead th {\n",
       "        text-align: right;\n",
       "    }\n",
       "</style>\n",
       "<table border=\"1\" class=\"dataframe\">\n",
       "  <thead>\n",
       "    <tr style=\"text-align: right;\">\n",
       "      <th></th>\n",
       "      <th>key</th>\n",
       "      <th>timestamp</th>\n",
       "    </tr>\n",
       "  </thead>\n",
       "  <tbody>\n",
       "    <tr>\n",
       "      <td>0</td>\n",
       "      <td>shift</td>\n",
       "      <td>111201.0</td>\n",
       "    </tr>\n",
       "    <tr>\n",
       "      <td>1</td>\n",
       "      <td>shift</td>\n",
       "      <td>111466.0</td>\n",
       "    </tr>\n",
       "    <tr>\n",
       "      <td>2</td>\n",
       "      <td>t</td>\n",
       "      <td>111373.0</td>\n",
       "    </tr>\n",
       "    <tr>\n",
       "      <td>3</td>\n",
       "      <td>t</td>\n",
       "      <td>111466.0</td>\n",
       "    </tr>\n",
       "    <tr>\n",
       "      <td>4</td>\n",
       "      <td>h</td>\n",
       "      <td>111671.0</td>\n",
       "    </tr>\n",
       "    <tr>\n",
       "      <td>...</td>\n",
       "      <td>...</td>\n",
       "      <td>...</td>\n",
       "    </tr>\n",
       "    <tr>\n",
       "      <td>231</td>\n",
       "      <td>e</td>\n",
       "      <td>141498.0</td>\n",
       "    </tr>\n",
       "    <tr>\n",
       "      <td>232</td>\n",
       "      <td>r</td>\n",
       "      <td>141466.0</td>\n",
       "    </tr>\n",
       "    <tr>\n",
       "      <td>233</td>\n",
       "      <td>r</td>\n",
       "      <td>141606.0</td>\n",
       "    </tr>\n",
       "    <tr>\n",
       "      <td>234</td>\n",
       "      <td>&lt;unk&gt;</td>\n",
       "      <td>141716.0</td>\n",
       "    </tr>\n",
       "    <tr>\n",
       "      <td>235</td>\n",
       "      <td>&lt;unk&gt;</td>\n",
       "      <td>141873.0</td>\n",
       "    </tr>\n",
       "  </tbody>\n",
       "</table>\n",
       "<p>236 rows × 2 columns</p>\n",
       "</div>"
      ],
      "text/plain": [
       "       key  timestamp\n",
       "0    shift   111201.0\n",
       "1    shift   111466.0\n",
       "2        t   111373.0\n",
       "3        t   111466.0\n",
       "4        h   111671.0\n",
       "..     ...        ...\n",
       "231      e   141498.0\n",
       "232      r   141466.0\n",
       "233      r   141606.0\n",
       "234  <unk>   141716.0\n",
       "235  <unk>   141873.0\n",
       "\n",
       "[236 rows x 2 columns]"
      ]
     },
     "execution_count": 32,
     "metadata": {},
     "output_type": "execute_result"
    }
   ],
   "source": [
    "reorder_key_timestamp_columns_mrc(df_small.loc[(df_small.participant_id == 1025) & (df_small.sentence_id == 3), ('key','timestamp')])"
   ]
  },
  {
   "cell_type": "code",
   "execution_count": 36,
   "metadata": {},
   "outputs": [
    {
     "data": {
      "text/plain": [
       "{1, 2, 3, 4, 5, 6, 7, 8, 9, 10, 11, 12, 13, 14, 15}"
      ]
     },
     "execution_count": 36,
     "metadata": {},
     "output_type": "execute_result"
    }
   ],
   "source": [
    "set(df_small.loc[df_small.participant_id == 1025].sentence_id)"
   ]
  },
  {
   "cell_type": "code",
   "execution_count": 289,
   "metadata": {},
   "outputs": [
    {
     "data": {
      "text/plain": [
       "4"
      ]
     },
     "execution_count": 289,
     "metadata": {},
     "output_type": "execute_result"
    }
   ],
   "source": [
    "len(str(1000))"
   ]
  },
  {
   "cell_type": "code",
   "execution_count": 290,
   "metadata": {},
   "outputs": [
    {
     "name": "stdout",
     "output_type": "stream",
     "text": [
      "p == 106 pp == 203\n"
     ]
    }
   ],
   "source": [
    "subjects = sorted(set(df.participant_id))  # NOTE: set() is weakly random# Store edit distances here\n",
    "# Loop over subjects\n",
    "pp = 0\n",
    "p = 0\n",
    "for subj_idx in subjects:\n",
    "    # Not all subjects have typed all sentences hence we have to do it this way\n",
    "    for sent_idx in df.loc[(df.participant_id == subj_idx)].sentence_id.unique():\n",
    "        if len(df.loc[(df.participant_id == subj_idx) & (df.sentence_id == sent_idx)]) % 2 != 0:\n",
    "            if len(str(subj_idx)) == 4:\n",
    "                pp+=1 # control count\n",
    "            else:\n",
    "                p+=1\n",
    "#             print(\"SUBJECT: {}, ID: {}, LEN: {}\".format(subj_idx, sent_idx,len(df.loc[(df.participant_id == subj_idx) & (df.sentence_id == sent_idx), \"key\"])))\n",
    "print(\"p == {}\".format(p),\"pp == {}\".format(pp))"
   ]
  },
  {
   "cell_type": "code",
   "execution_count": 292,
   "metadata": {},
   "outputs": [],
   "source": [
    "from collections import defaultdict\n",
    "subjects = sorted(set(df.participant_id))  # NOTE: set() is weakly random# Store edit distances here\n",
    "error_sentences_by_subject = defaultdict(list)\n",
    "for subj_idx in subjects:\n",
    "    # Not all subjects have typed all sentences hence we have to do it this way\n",
    "    for sent_idx in df.loc[(df.participant_id == subj_idx)].sentence_id.unique():\n",
    "        if len(df.loc[(df.participant_id == subj_idx) & (df.sentence_id == sent_idx)]) % 2 != 0:\n",
    "            error_sentences_by_subject[subj_idx].append(sent_idx)"
   ]
  },
  {
   "cell_type": "code",
   "execution_count": 296,
   "metadata": {},
   "outputs": [],
   "source": [
    "def drop_sentences_with_faulty_data_collection(df):\n",
    "    \n",
    "    print(\"\\nRemoval of sentences with faulty data collection...\\n\")\n",
    "    print(\"Size of dataframe before row pruning: {}\".format(df.shape))\n",
    "    \n",
    "    subjects = sorted(set(df.participant_id)) \n",
    "    error_sentences_by_subject = defaultdict(list)\n",
    "    for subj_idx in subjects:\n",
    "        # Not all subjects have typed all sentences hence we have to do it this way\n",
    "        for sent_idx in df.loc[(df.participant_id == subj_idx)].sentence_id.unique():\n",
    "            if len(df.loc[(df.participant_id == subj_idx) & (df.sentence_id == sent_idx)]) % 2 != 0:\n",
    "                # Drop in-place\n",
    "                df.drop(df[(df.participant_id == subj_idx) & (df.sentence_id == sent_idx)].index, inplace=True)\n",
    "                \n",
    "    print(\"Size of dataframe after row pruning: {}\".format(df.shape))"
   ]
  },
  {
   "cell_type": "code",
   "execution_count": 297,
   "metadata": {},
   "outputs": [
    {
     "name": "stdout",
     "output_type": "stream",
     "text": [
      "\n",
      "Removal of sentences with faulty data collection...\n",
      "\n",
      "Size of dataframe before row pruning: (781533, 13)\n",
      "Size of dataframe after row pruning: (699908, 13)\n"
     ]
    }
   ],
   "source": [
    "drop_sentences_with_faulty_data_collection(df)"
   ]
  },
  {
   "cell_type": "code",
   "execution_count": 280,
   "metadata": {},
   "outputs": [],
   "source": [
    "import sys\n",
    "import numpy\n",
    "numpy.set_printoptions(threshold=sys.maxsize)"
   ]
  },
  {
   "cell_type": "code",
   "execution_count": 295,
   "metadata": {},
   "outputs": [
    {
     "data": {
      "text/plain": [
       "Int64Index([482723, 482724, 482725, 482726, 482727, 482728, 482729, 482730,\n",
       "            482731, 482732,\n",
       "            ...\n",
       "            482984, 482985, 482986, 482987, 482988, 482989, 482990, 482991,\n",
       "            482992, 482993],\n",
       "           dtype='int64', length=271)"
      ]
     },
     "execution_count": 295,
     "metadata": {},
     "output_type": "execute_result"
    }
   ],
   "source": [
    "df[(df.participant_id == 1130) & (df.sentence_id == 8)].index"
   ]
  },
  {
   "cell_type": "code",
   "execution_count": 285,
   "metadata": {},
   "outputs": [
    {
     "name": "stdout",
     "output_type": "stream",
     "text": [
      "(271, 3)\n"
     ]
    }
   ],
   "source": [
    "coordinates = (df.participant_id == 1130) & (df.sentence_id == 8)\n",
    "dft = df.loc[coordinates, ('key','timestamp','type')]\n",
    "print(dft.shape)\n",
    "# print(dft[~dft.key.str.contains(\"shift\")].shape)"
   ]
  },
  {
   "cell_type": "code",
   "execution_count": 286,
   "metadata": {},
   "outputs": [],
   "source": [
    "dft.values\n",
    "out  = reorder_key_timestamp_columns_mrc(dft)"
   ]
  },
  {
   "cell_type": "code",
   "execution_count": 287,
   "metadata": {},
   "outputs": [
    {
     "data": {
      "text/plain": [
       "array([['backspace', 337044.955, 'keydown'],\n",
       "       ['shift', 328772.95, 'keydown'],\n",
       "       ['shift', 329272.79, 'keydown'],\n",
       "       ['g', 329276.87, 'keydown'],\n",
       "       ['g', 329484.98, 'keyup'],\n",
       "       ['shift', 329349.005, 'keyup'],\n",
       "       ['shift', 338932.92, 'keydown'],\n",
       "       ['e', 329508.905, 'keydown'],\n",
       "       ['e', 329620.985, 'keyup'],\n",
       "       ['n', 329788.91, 'keydown'],\n",
       "       ['n', 329860.99, 'keyup'],\n",
       "       ['e', 330036.905, 'keydown'],\n",
       "       ['e', 330156.995, 'keyup'],\n",
       "       ['r', 330188.89, 'keydown'],\n",
       "       ['r', 330260.975, 'keyup'],\n",
       "       ['a', 330420.91, 'keydown'],\n",
       "       ['a', 330516.955, 'keyup'],\n",
       "       ['l', 330620.91, 'keydown'],\n",
       "       ['l', 330676.98, 'keyup'],\n",
       "       ['l', 330741.0, 'keydown'],\n",
       "       ['l', 330828.995, 'keyup'],\n",
       "       ['y', 331036.925, 'keydown'],\n",
       "       ['y', 331092.995, 'keyup'],\n",
       "       [' ', 331268.92, 'keydown'],\n",
       "       [' ', 331349.0, 'keyup'],\n",
       "       ['c', 331468.935, 'keydown'],\n",
       "       ['c', 331525.07, 'keyup'],\n",
       "       ['o', 331564.9, 'keydown'],\n",
       "       ['o', 331644.995, 'keyup'],\n",
       "       ['n', 331788.905, 'keydown'],\n",
       "       ['n', 331860.985, 'keyup'],\n",
       "       ['s', 332325.03, 'keydown'],\n",
       "       ['s', 332396.975, 'keyup'],\n",
       "       ['i', 332476.875, 'keydown'],\n",
       "       ['i', 332557.01, 'keyup'],\n",
       "       ['d', 332724.905, 'keydown'],\n",
       "       ['d', 332789.03, 'keyup'],\n",
       "       ['e', 332924.925, 'keydown'],\n",
       "       ['e', 333021.055, 'keyup'],\n",
       "       ['r', 333021.21, 'keydown'],\n",
       "       ['r', 333060.955, 'keyup'],\n",
       "       ['e', 333189.015, 'keydown'],\n",
       "       ['e', 333268.995, 'keyup'],\n",
       "       ['d', 333348.93, 'keydown'],\n",
       "       ['d', 333404.975, 'keyup'],\n",
       "       [' ', 333644.905, 'keydown'],\n",
       "       [' ', 333716.98, 'keyup'],\n",
       "       ['a', 335588.905, 'keydown'],\n",
       "       ['a', 335660.96, 'keyup'],\n",
       "       [' ', 335740.885, 'keydown'],\n",
       "       [' ', 335813.0, 'keyup'],\n",
       "       ['p', 336068.865, 'keydown'],\n",
       "       ['p', 336141.1, 'keyup'],\n",
       "       ['a', 336141.245, 'keydown'],\n",
       "       ['a', 336252.995, 'keyup'],\n",
       "       ['e', 336396.915, 'keydown'],\n",
       "       ['e', 336476.985, 'keyup'],\n",
       "       ['backspace', 337116.98, 'keyup'],\n",
       "       ['r', 337628.915, 'keydown'],\n",
       "       ['r', 337692.985, 'keyup'],\n",
       "       ['t', 337812.92, 'keydown'],\n",
       "       ['t', 337868.95, 'keyup'],\n",
       "       [' ', 338044.925, 'keydown'],\n",
       "       [' ', 338108.985, 'keyup'],\n",
       "       ['o', 338476.935, 'keydown'],\n",
       "       ['o', 338556.965, 'keyup'],\n",
       "       ['f', 338596.91, 'keydown'],\n",
       "       ['f', 338660.975, 'keyup'],\n",
       "       [' ', 338788.915, 'keydown'],\n",
       "       [' ', 338877.015, 'keyup'],\n",
       "       ['c', 339076.99, 'keydown'],\n",
       "       ['c', 339252.995, 'keyup'],\n",
       "       ['shift', 339124.995, 'keyup'],\n",
       "       ['shift', 340972.965, 'keydown'],\n",
       "       ['n', 339276.915, 'keydown'],\n",
       "       ['n', 339356.99, 'keyup'],\n",
       "       ['e', 339428.925, 'keydown'],\n",
       "       ['e', 339549.115, 'keyup'],\n",
       "       ['t', 339772.935, 'keydown'],\n",
       "       ['t', 339860.99, 'keyup'],\n",
       "       ['e', 340044.935, 'keydown'],\n",
       "       ['e', 340132.98, 'keyup'],\n",
       "       ['r', 340180.905, 'keydown'],\n",
       "       ['r', 340237.015, 'keyup'],\n",
       "       ['a', 340388.925, 'keydown'],\n",
       "       ['a', 340469.045, 'keyup'],\n",
       "       ['l', 340596.91, 'keydown'],\n",
       "       ['l', 340644.98, 'keyup'],\n",
       "       [' ', 340820.94, 'keydown'],\n",
       "       [' ', 340908.965, 'keyup'],\n",
       "       ['a', 341156.995, 'keydown'],\n",
       "       ['a', 341268.99, 'keyup'],\n",
       "       ['shift', 341189.04, 'keyup'],\n",
       "       ['shift', 359172.94, 'keydown'],\n",
       "       ['s', 341412.94, 'keydown'],\n",
       "       ['s', 341484.98, 'keyup'],\n",
       "       ['i', 341628.905, 'keydown'],\n",
       "       ['i', 341749.0, 'keyup'],\n",
       "       ['a', 341940.96, 'keydown'],\n",
       "       ['a', 342044.99, 'keyup'],\n",
       "       [',', 343436.94, 'keydown'],\n",
       "       [',', 343500.955, 'keyup'],\n",
       "       [' ', 343628.93, 'keydown'],\n",
       "       [' ', 343709.01, 'keyup'],\n",
       "       ['i', 343964.925, 'keydown'],\n",
       "       ['i', 344037.015, 'keyup'],\n",
       "       ['t', 344140.955, 'keydown'],\n",
       "       ['t', 344189.01, 'keyup'],\n",
       "       [' ', 344268.93, 'keydown'],\n",
       "       [' ', 344324.985, 'keyup'],\n",
       "       ['i', 344500.91, 'keydown'],\n",
       "       ['i', 344572.97, 'keyup'],\n",
       "       ['s', 344652.875, 'keydown'],\n",
       "       ['s', 344733.0, 'keyup'],\n",
       "       [' ', 344804.935, 'keydown'],\n",
       "       [' ', 344877.03, 'keyup'],\n",
       "       ['s', 345180.94, 'keydown'],\n",
       "       ['s', 345260.99, 'keyup'],\n",
       "       ['o', 345300.97, 'keydown'],\n",
       "       ['o', 345364.94, 'keyup'],\n",
       "       ['m', 345540.93, 'keydown'],\n",
       "       ['m', 345604.975, 'keyup'],\n",
       "       ['e', 345692.93, 'keydown'],\n",
       "       ['e', 345773.04, 'keyup'],\n",
       "       ['t', 345972.915, 'keydown'],\n",
       "       ['t', 346061.02, 'keyup'],\n",
       "       ['i', 346332.985, 'keydown'],\n",
       "       ['i', 346397.0, 'keyup'],\n",
       "       ['m', 346548.94, 'keydown'],\n",
       "       ['m', 346613.005, 'keyup'],\n",
       "       ['e', 346644.925, 'keydown'],\n",
       "       ['e', 346700.97, 'keyup'],\n",
       "       ['s', 346900.95, 'keydown'],\n",
       "       ['s', 346956.98, 'keyup'],\n",
       "       [' ', 347100.95, 'keydown'],\n",
       "       [' ', 347172.975, 'keyup'],\n",
       "       ['a', 347260.925, 'keydown'],\n",
       "       ['a', 347388.97, 'keyup'],\n",
       "       ['s', 347468.905, 'keydown'],\n",
       "       ['s', 347532.985, 'keyup'],\n",
       "       ['c', 347724.915, 'keydown'],\n",
       "       ['c', 347780.98, 'keyup'],\n",
       "       ['r', 347980.925, 'keydown'],\n",
       "       ['r', 348021.02, 'keyup'],\n",
       "       ['o', 348228.965, 'keydown'],\n",
       "       ['o', 348309.01, 'keyup'],\n",
       "       ['b', 348636.9, 'keydown'],\n",
       "       ['b', 348700.955, 'keyup'],\n",
       "       ['e', 348788.91, 'keydown'],\n",
       "       ['e', 348877.005, 'keyup'],\n",
       "       ['d', 349028.915, 'keydown'],\n",
       "       ['d', 349156.995, 'keyup'],\n",
       "       [' ', 350620.935, 'keydown'],\n",
       "       [' ', 350693.0, 'keyup'],\n",
       "       ['t', 351204.97, 'keydown'],\n",
       "       ['t', 351269.0, 'keyup'],\n",
       "       ['o', 351356.925, 'keydown'],\n",
       "       ['o', 351420.985, 'keyup'],\n",
       "       [' ', 351620.925, 'keydown'],\n",
       "       [' ', 351692.995, 'keyup'],\n",
       "       ['a', 351852.96, 'keydown'],\n",
       "       ['a', 351940.99, 'keyup'],\n",
       "       [' ', 352140.945, 'keydown'],\n",
       "       [' ', 352220.985, 'keyup'],\n",
       "       ['r', 352476.905, 'keydown'],\n",
       "       ['r', 352541.095, 'keyup'],\n",
       "       ['e', 352541.245, 'keydown'],\n",
       "       ['e', 352596.99, 'keyup'],\n",
       "       ['g', 352964.93, 'keydown'],\n",
       "       ['g', 353029.025, 'keyup'],\n",
       "       ['i', 353276.92, 'keydown'],\n",
       "       ['i', 353413.0, 'keyup'],\n",
       "       ['o', 353388.955, 'keydown'],\n",
       "       ['o', 353500.97, 'keyup'],\n",
       "       ['n', 353604.95, 'keydown'],\n",
       "       ['n', 353676.97, 'keyup'],\n",
       "       ['a', 353764.92, 'keydown'],\n",
       "       ['a', 353820.96, 'keyup'],\n",
       "       ['l', 353868.93, 'keydown'],\n",
       "       ['l', 353925.005, 'keyup'],\n",
       "       [' ', 354140.93, 'keydown'],\n",
       "       [' ', 354220.995, 'keyup'],\n",
       "       ['b', 354460.93, 'keydown'],\n",
       "       ['b', 354508.975, 'keyup'],\n",
       "       ['l', 354964.955, 'keydown'],\n",
       "       ['l', 355028.97, 'keyup'],\n",
       "       ['o', 355140.925, 'keydown'],\n",
       "       ['o', 355204.98, 'keyup'],\n",
       "       ['c', 356036.94, 'keydown'],\n",
       "       ['c', 356140.995, 'keyup'],\n",
       "       [' ', 356300.945, 'keydown'],\n",
       "       [' ', 356365.115, 'keyup'],\n",
       "       ['i', 356748.965, 'keydown'],\n",
       "       ['i', 356853.0, 'keyup'],\n",
       "       ['n', 356932.89, 'keydown'],\n",
       "       ['n', 357005.01, 'keyup'],\n",
       "       [' ', 357148.93, 'keydown'],\n",
       "       [' ', 357260.99, 'keyup'],\n",
       "       ['e', 357388.95, 'keydown'],\n",
       "       ['e', 357428.99, 'keyup'],\n",
       "       ['i', 357484.925, 'keydown'],\n",
       "       ['i', 357556.97, 'keyup'],\n",
       "       ['t', 357804.935, 'keydown'],\n",
       "       ['t', 357852.985, 'keyup'],\n",
       "       ['h', 357996.955, 'keydown'],\n",
       "       ['h', 358069.04, 'keyup'],\n",
       "       ['e', 358036.91, 'keydown'],\n",
       "       ['e', 358173.07, 'keyup'],\n",
       "       ['r', 358173.24, 'keydown'],\n",
       "       ['r', 358245.025, 'keyup'],\n",
       "       [' ', 358532.975, 'keydown'],\n",
       "       [' ', 358604.98, 'keyup'],\n",
       "       ['m', 359348.925, 'keydown'],\n",
       "       ['m', 359421.015, 'keyup'],\n",
       "       ['shift', 359605.055, 'keyup'],\n",
       "       ['shift', 361708.965, 'keydown'],\n",
       "       ['i', 359988.935, 'keydown'],\n",
       "       ['i', 360061.005, 'keyup'],\n",
       "       ['d', 360564.99, 'keydown'],\n",
       "       ['d', 360605.02, 'keyup'],\n",
       "       ['d', 360684.95, 'keydown'],\n",
       "       ['d', 360757.005, 'keyup'],\n",
       "       ['l', 360868.925, 'keydown'],\n",
       "       ['l', 360941.08, 'keyup'],\n",
       "       ['e', 361052.965, 'keydown'],\n",
       "       ['e', 361124.99, 'keyup'],\n",
       "       [' ', 361484.935, 'keydown'],\n",
       "       [' ', 361549.0, 'keyup'],\n",
       "       ['e', 362060.935, 'keydown'],\n",
       "       ['e', 362117.34, 'keyup'],\n",
       "       ['shift', 362117.115, 'keyup'],\n",
       "       ['shift', 366372.97, 'keydown'],\n",
       "       ['a', 362332.925, 'keydown'],\n",
       "       ['a', 362469.01, 'keyup'],\n",
       "       ['s', 362548.955, 'keydown'],\n",
       "       ['s', 362637.015, 'keyup'],\n",
       "       ['t', 363932.945, 'keydown'],\n",
       "       ['t', 364021.01, 'keyup'],\n",
       "       [' ', 364492.93, 'keydown'],\n",
       "       [' ', 364573.015, 'keyup'],\n",
       "       ['o', 365828.965, 'keydown'],\n",
       "       ['o', 365933.1, 'keyup'],\n",
       "       ['r', 365933.265, 'keydown'],\n",
       "       ['r', 366005.005, 'keyup'],\n",
       "       [' ', 366188.965, 'keydown'],\n",
       "       [' ', 366268.995, 'keyup'],\n",
       "       ['s', 366524.945, 'keydown'],\n",
       "       ['s', 366621.425, 'keyup'],\n",
       "       ['shift', 366621.19, 'keyup'],\n",
       "       ['shift', 367804.975, 'keydown'],\n",
       "       ['o', 366621.545, 'keydown'],\n",
       "       ['o', 366701.015, 'keyup'],\n",
       "       ['u', 366852.94, 'keydown'],\n",
       "       ['u', 366933.065, 'keyup'],\n",
       "       ['t', 367140.91, 'keydown'],\n",
       "       ['t', 367213.025, 'keyup'],\n",
       "       ['h', 367356.94, 'keydown'],\n",
       "       ['h', 367429.005, 'keyup'],\n",
       "       [' ', 367652.985, 'keydown'],\n",
       "       [' ', 367741.04, 'keyup'],\n",
       "       ['a', 367996.94, 'keydown'],\n",
       "       ['a', 368148.955, 'keyup'],\n",
       "       ['shift', 368077.01, 'keyup'],\n",
       "       ['s', 368252.985, 'keydown'],\n",
       "       ['s', 368324.99, 'keyup'],\n",
       "       ['i', 368604.945, 'keydown'],\n",
       "       ['i', 368661.005, 'keyup'],\n",
       "       ['a', 368828.945, 'keydown'],\n",
       "       ['a', 368924.99, 'keyup'],\n",
       "       ['<unk>', 370252.96, 'keydown'],\n",
       "       ['<unk>', 370332.965, 'keyup']], dtype=object)"
      ]
     },
     "execution_count": 287,
     "metadata": {},
     "output_type": "execute_result"
    }
   ],
   "source": [
    "out.values"
   ]
  },
  {
   "cell_type": "code",
   "execution_count": null,
   "metadata": {},
   "outputs": [],
   "source": [
    "a = [1,2,3,4,5,6]\n",
    "a = out.type\n",
    "\n",
    "outcome = []\n",
    "\n",
    "if (a[0] == 'keydown' and a[1] == 'keyup'):\n",
    "    for v, w in zip(out.type[::2], out.type[1::2]):\n",
    "        print(v, w)\n",
    "elif (a[0] == 'keydown' and a[1] == 'keydown'):\n",
    "    for v, w in zip(out.type[1::2], out.type[2::2]):\n",
    "        print((v,w) == ('keydown', 'keyup'))"
   ]
  },
  {
   "cell_type": "code",
   "execution_count": 256,
   "metadata": {},
   "outputs": [],
   "source": [
    "# If a keydown is not immediately followed by a keyup, log the location of the keydown\n",
    "\n",
    "\n",
    "errors = []\n",
    "for i,j in enumerate(out.type[:-1]):\n",
    "    if out.type[i+1] == 'keyup':\n",
    "        errors.append(i)\n",
    "\n"
   ]
  },
  {
   "cell_type": "code",
   "execution_count": null,
   "metadata": {},
   "outputs": [],
   "source": [
    "errors"
   ]
  },
  {
   "cell_type": "code",
   "execution_count": null,
   "metadata": {},
   "outputs": [],
   "source": [
    "# Generate coordinates of all items to remove\n",
    "remove_cords = []\n",
    "\n",
    "# Find the indices of all the remaining shift occurences\n",
    "backspace_indices = np.where(np.asarray(sentence) == removal_character)[0]\n",
    "\n",
    "# Find all singular and contiguous appearances of backspace\n",
    "backspace_groups = []\n",
    "for k, g in groupby(enumerate(backspace_indices), lambda ix: ix[0] - ix[1]):\n",
    "    backspace_groups.append(list(map(itemgetter(1), g)))\n"
   ]
  },
  {
   "cell_type": "code",
   "execution_count": null,
   "metadata": {},
   "outputs": [],
   "source": [
    "dft.loc[out_idx,:]"
   ]
  },
  {
   "cell_type": "code",
   "execution_count": 155,
   "metadata": {},
   "outputs": [],
   "source": [
    "test = reorder_key_timestamp_columns_mrc(dft)\n",
    "# dft.values"
   ]
  },
  {
   "cell_type": "code",
   "execution_count": 118,
   "metadata": {},
   "outputs": [
    {
     "name": "stderr",
     "output_type": "stream",
     "text": [
      "/home/neil/anaconda3/envs/py36/lib/python3.6/site-packages/ipykernel_launcher.py:16: SettingWithCopyWarning: \n",
      "A value is trying to be set on a copy of a slice from a DataFrame.\n",
      "Try using .loc[row_indexer,col_indexer] = value instead\n",
      "\n",
      "See the caveats in the documentation: http://pandas.pydata.org/pandas-docs/stable/user_guide/indexing.html#returning-a-view-versus-a-copy\n",
      "  app.launch_new_instance()\n"
     ]
    }
   ],
   "source": [
    "out = reorder_key_timestamp_columns_mrc(dft[~dft.key.str.contains(\"shift\")])"
   ]
  }
 ],
 "metadata": {
  "kernelspec": {
   "display_name": "Python 3",
   "language": "python",
   "name": "python3"
  },
  "language_info": {
   "codemirror_mode": {
    "name": "ipython",
    "version": 3
   },
   "file_extension": ".py",
   "mimetype": "text/x-python",
   "name": "python",
   "nbconvert_exporter": "python",
   "pygments_lexer": "ipython3",
   "version": "3.6.9"
  }
 },
 "nbformat": 4,
 "nbformat_minor": 4
}
