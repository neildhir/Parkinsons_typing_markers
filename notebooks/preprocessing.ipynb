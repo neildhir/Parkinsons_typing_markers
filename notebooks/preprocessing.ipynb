{
 "cells": [
  {
   "cell_type": "code",
   "execution_count": 2,
   "metadata": {},
   "outputs": [
    {
     "name": "stdout",
     "output_type": "stream",
     "text": [
      "1.16.4\n"
     ]
    }
   ],
   "source": [
    "%load_ext autoreload\n",
    "%autoreload 2 \n",
    "%matplotlib inline\n",
    "\n",
    "# Set path to find modelling tools for later use\n",
    "import os\n",
    "import sys\n",
    "sys.path.append(os.path.join(os.getcwd(),\"..\"))\n",
    "\n",
    "\n",
    "from haberrspd.preprocess import preprocessMJFF\n",
    "                         \n",
    "import pandas as pd\n",
    "import re\n",
    "import numpy as np\n",
    "print(np.__version__)\n",
    "from collections import Counter, defaultdict\n",
    "import itertools\n",
    "from operator import itemgetter\n",
    "from scipy.stats import (gamma, lognorm, gengamma)\n",
    "\n",
    "from pathlib import Path\n",
    "from IPython.display import display\n",
    "\n",
    "# Plot stuff\n",
    "import seaborn as sns\n",
    "from scipy.constants import golden\n",
    "import matplotlib.pyplot as plt\n",
    "plt.style.use('dark_background')\n",
    "\n",
    "# Depending on where I am, set the path\n",
    "import socket\n",
    "if socket.gethostname() == 'pax':\n",
    "    # Monster machine\n",
    "    data_root = '../data/MJFF/' # My local path\n",
    "    data_root = Path(data_root)\n",
    "else:\n",
    "    # Laptop\n",
    "    data_root = '/home/nd/data/liverpool/MJFF' # My local path\n",
    "    data_root = Path(data_root)"
   ]
  },
  {
   "cell_type": "markdown",
   "metadata": {},
   "source": [
    "----"
   ]
  },
  {
   "cell_type": "markdown",
   "metadata": {},
   "source": [
    "# Character + Timing data"
   ]
  },
  {
   "cell_type": "code",
   "execution_count": null,
   "metadata": {},
   "outputs": [],
   "source": [
    "proc = preprocessMJFF()"
   ]
  },
  {
   "cell_type": "code",
   "execution_count": null,
   "metadata": {},
   "outputs": [],
   "source": [
    "out = proc('all')"
   ]
  },
  {
   "cell_type": "code",
   "execution_count": null,
   "metadata": {},
   "outputs": [],
   "source": [
    "out.to_csv(\"../data/MJFF/preproc/EnglishSpanishData-preprocessed.csv\",index=False)"
   ]
  },
  {
   "cell_type": "code",
   "execution_count": null,
   "metadata": {},
   "outputs": [],
   "source": [
    "out = proc('spanish')"
   ]
  },
  {
   "cell_type": "code",
   "execution_count": null,
   "metadata": {},
   "outputs": [],
   "source": [
    "out.to_csv(\"../data/MJFF/preproc/SpanishData-preprocessed.csv\",index=False)"
   ]
  },
  {
   "cell_type": "code",
   "execution_count": null,
   "metadata": {},
   "outputs": [],
   "source": [
    "out = proc('english')"
   ]
  },
  {
   "cell_type": "code",
   "execution_count": null,
   "metadata": {},
   "outputs": [],
   "source": [
    "out.to_csv(\"../data/MJFF/preproc/EnglishData-preprocessed.csv\",index=False)"
   ]
  },
  {
   "cell_type": "code",
   "execution_count": null,
   "metadata": {},
   "outputs": [],
   "source": [
    "pwd"
   ]
  },
  {
   "cell_type": "code",
   "execution_count": null,
   "metadata": {},
   "outputs": [],
   "source": [
    "out[out['Preprocessed_typed_sentence'].apply(lambda x: len(x) > 10000)]"
   ]
  },
  {
   "cell_type": "code",
   "execution_count": null,
   "metadata": {},
   "outputs": [],
   "source": [
    "# df = pd.read_csv(data_root / 'SpanishData-duplicateeventsremoved.csv')\n",
    "df = pd.read_csv(data_root / 'SpanishData.csv')\n",
    "df_meta = pd.read_csv(data_root / \"SpanishParticipantKey.csv\",\n",
    "                      index_col=0,\n",
    "                      header=0,\n",
    "                      names=['participant_id', 'diagnosis'])"
   ]
  },
  {
   "cell_type": "markdown",
   "metadata": {},
   "source": [
    "# Character ONLY data"
   ]
  },
  {
   "cell_type": "code",
   "execution_count": null,
   "metadata": {},
   "outputs": [],
   "source": [
    "proc = preprocessMJFF()"
   ]
  },
  {
   "cell_type": "code",
   "execution_count": null,
   "metadata": {},
   "outputs": [],
   "source": [
    "out = proc('english',include_time=False)"
   ]
  },
  {
   "cell_type": "code",
   "execution_count": null,
   "metadata": {},
   "outputs": [],
   "source": [
    "out.head()"
   ]
  },
  {
   "cell_type": "code",
   "execution_count": null,
   "metadata": {},
   "outputs": [],
   "source": [
    "out[out['Preprocessed_typed_sentence'].apply(lambda x: len(x) < 30)]"
   ]
  },
  {
   "cell_type": "code",
   "execution_count": null,
   "metadata": {},
   "outputs": [],
   "source": [
    "out.to_csv(\"../data/MJFF/preproc/char/EnglishSpanishData-preprocessed.csv\",index=False)"
   ]
  },
  {
   "cell_type": "markdown",
   "metadata": {},
   "source": [
    "## PLOT\n"
   ]
  },
  {
   "cell_type": "code",
   "execution_count": null,
   "metadata": {},
   "outputs": [],
   "source": [
    "controls = set(df_meta.loc[df_meta.diagnosis == 0].participant_id)\n",
    "pd_subjects = set(df_meta.loc[df_meta.diagnosis == 1].participant_id)"
   ]
  },
  {
   "cell_type": "code",
   "execution_count": null,
   "metadata": {},
   "outputs": [],
   "source": [
    "pd_timestamp_diffs = []\n",
    "# Loop over all subjects\n",
    "for sub in pd_subjects:\n",
    "    # Get all delta timestamps for this sentence, across all subjects\n",
    "    pd_timestamp_diffs.extend(df.loc[(df.sentence_id == 57) & (df.participant_id == sub)].timestamp.diff().values)\n",
    "    \n",
    "control_timestamp_diffs = []\n",
    "# Loop over all subjects\n",
    "for sub in controls:\n",
    "    # Get all delta timestamps for this sentence, across all subjects\n",
    "    control_timestamp_diffs.extend(df.loc[(df.sentence_id == 57) & (df.participant_id == sub)].timestamp.diff().values)"
   ]
  },
  {
   "cell_type": "code",
   "execution_count": null,
   "metadata": {},
   "outputs": [],
   "source": [
    "# remove NaNs\n",
    "pd_cleaned_list = [x for x in pd_timestamp_diffs if str(x) != 'nan']\n",
    "control_cleaned_list = [x for x in control_timestamp_diffs if str(x) != 'nan']"
   ]
  },
  {
   "cell_type": "code",
   "execution_count": null,
   "metadata": {},
   "outputs": [],
   "source": [
    "# PD\n",
    "\n",
    "# fixed bin size\n",
    "bins = np.arange(0, 10000, 50) # fixed bin size\n",
    "# plt.xlim([min(data)-5, max(data)+5])\n",
    "fig = plt.figure(figsize=(14,6))\n",
    "plt.hist(pd_cleaned_list, bins=bins, alpha=0.5)\n",
    "# plt.vlines(np.quantile(cleaned_list,0.95),0,900,'r')\n",
    "# plt.vlines(np.mean(cleaned_list),0,900,'b')\n",
    "plt.grid(True)\n",
    "plt.show()"
   ]
  },
  {
   "cell_type": "code",
   "execution_count": null,
   "metadata": {},
   "outputs": [],
   "source": [
    "# control\n",
    "\n",
    "# fixed bin size\n",
    "bins = np.arange(0, 10000, 50) # fixed bin size\n",
    "# plt.xlim([min(data)-5, max(data)+5])\n",
    "fig = plt.figure(figsize=(14,6))\n",
    "plt.hist(control_cleaned_list, bins=bins, alpha=0.5)\n",
    "# plt.vlines(np.quantile(cleaned_list,0.95),0,900,'r')\n",
    "# plt.vlines(np.mean(cleaned_list),0,900,'b')\n",
    "plt.grid(True)\n",
    "plt.show()"
   ]
  },
  {
   "cell_type": "markdown",
   "metadata": {},
   "source": [
    "### Mechanical turk data"
   ]
  },
  {
   "cell_type": "code",
   "execution_count": null,
   "metadata": {},
   "outputs": [],
   "source": [
    "out.to_csv(data_root /'preprocessed_MechanicalTurkCombinedEnglishData.csv',index=False)"
   ]
  },
  {
   "cell_type": "code",
   "execution_count": null,
   "metadata": {},
   "outputs": [],
   "source": [
    "ls ../data/MJFF/"
   ]
  },
  {
   "cell_type": "markdown",
   "metadata": {},
   "source": [
    "### IKI extraction"
   ]
  },
  {
   "cell_type": "code",
   "execution_count": null,
   "metadata": {},
   "outputs": [],
   "source": [
    "out = create_mjff_iki_training_data(df)"
   ]
  },
  {
   "cell_type": "markdown",
   "metadata": {},
   "source": [
    "## Keyboard inputs"
   ]
  },
  {
   "cell_type": "code",
   "execution_count": null,
   "metadata": {},
   "outputs": [],
   "source": [
    "from haberrspd.charCNN.data_utils_tf import create_mjff_data_objects, us_standard_layout_keyboard, english_keys_to_2d_coordinates\n",
    "import keras.backend as K\n",
    "from keras import callbacks\n",
    "from keras.preprocessing.sequence import pad_sequences\n",
    "from keras.preprocessing.text import Tokenizer\n",
    "from keras.utils import to_categorical\n",
    "from numpy import array, int64, ones, hstack, pad, einsum, dstack\n",
    "from pandas import read_csv\n",
    "from sklearn.model_selection import train_test_split\n",
    "from tensorflow import cast, float32, one_hot\n",
    "import itertools"
   ]
  },
  {
   "cell_type": "code",
   "execution_count": null,
   "metadata": {},
   "outputs": [],
   "source": [
    "which_information = \"char_time_space\"\n",
    "DATA_ROOT = Path(\"../data/\") / \"MJFF\" / \"preproc\"\n",
    "data_string = \"EnglishData-preprocessed.csv\"\n",
    "if which_information == \"char_time_space\":\n",
    "    # Get relevant long-format data\n",
    "    which_information = \"char_time\""
   ]
  },
  {
   "cell_type": "code",
   "execution_count": null,
   "metadata": {},
   "outputs": [],
   "source": [
    "df = read_csv(DATA_ROOT / which_information / data_string, header=0)  # MJFF data\n",
    "subject_documents, subjects_diagnoses, alphabet = create_mjff_data_objects(df)\n",
    "\n",
    "# Store alphabet size\n",
    "alphabet_size = len(alphabet)\n",
    "\n",
    "print('Total number of characters:', alphabet_size)\n",
    "alphabet_indices = dict((c, i) for i, c in enumerate(alphabet))\n",
    "\n",
    "if which_information == \"char_time\" or which_information == \"char_time_space\":\n",
    "    # Rounds (up) to nearest thousand\n",
    "    max_sentence_length = round(df.Preprocessed_typed_sentence.apply(lambda x: len(x)).max(), -3)\n",
    "if which_information == \"char\":\n",
    "    # Rounds (up) to nearest hundred\n",
    "    max_sentence_length = round(df.Preprocessed_typed_sentence.apply(lambda x: len(x)).max(), -2)\n",
    "\n",
    "# Make training data array\n",
    "all_sentences = [item for sublist in subject_documents for item in sublist]"
   ]
  },
  {
   "cell_type": "code",
   "execution_count": null,
   "metadata": {},
   "outputs": [],
   "source": [
    "# Initialise tokenizer which maps characters to integers\n",
    "tk = Tokenizer(num_words=None, char_level=True)\n",
    "\n",
    "# Fit to text: convert all chars to ints\n",
    "tk.fit_on_texts(all_sentences)\n",
    "\n",
    "# Update alphabet\n",
    "tk.word_index = alphabet_indices\n",
    "\n",
    "# Get integer sequences: converts sequences of chars to sequences of ints\n",
    "int_sequences = tk.texts_to_sequences(all_sentences)\n",
    "\n",
    "# Pad sequences so that they all have the same length and then one-hot encode\n",
    "X = to_categorical(pad_sequences(int_sequences, maxlen=max_sentence_length, padding='post'))"
   ]
  },
  {
   "cell_type": "code",
   "execution_count": null,
   "metadata": {},
   "outputs": [],
   "source": [
    "X.shape"
   ]
  },
  {
   "cell_type": "code",
   "execution_count": null,
   "metadata": {},
   "outputs": [],
   "source": [
    "which_information  =  'char_time_space'\n",
    "if which_information == 'char_time_space':\n",
    "    # Load relevant keyboard\n",
    "    keyboard = us_standard_layout_keyboard()  # OBS: nested list\n",
    "    # Check that all chars are in fact in our \"keyboard\" -- if not, we cannot map a coordinate\n",
    "    assert alphabet.issubset(set(list(itertools.chain.from_iterable(keyboard))))\n",
    "    space = [english_keys_to_2d_coordinates(sentence, keyboard) for sentence in all_sentences]\n",
    "    space_padded = [pad(s, [(0, max_sentence_length - len(s)), (0, 0)], mode='constant') for s in space]\n",
    "    # Append coordinates to one-hot encoded sentences\n",
    "    X = einsum('ijk->kij', dstack([hstack((x, s)) for (x, s) in zip(X, space_padded)]))"
   ]
  },
  {
   "cell_type": "code",
   "execution_count": null,
   "metadata": {},
   "outputs": [],
   "source": [
    "X.shape"
   ]
  },
  {
   "cell_type": "markdown",
   "metadata": {},
   "source": [
    "# Document (participant) -level classification"
   ]
  },
  {
   "cell_type": "markdown",
   "metadata": {},
   "source": [
    "Three options (at time of writing):\n",
    "\n",
    "1. Submit each sentence to model and extract classification probability for each sentence, agglomorate at the end, and the conduct a classification on the vector of all 15 probabilities.\n",
    "2. Calculate the expected value of all encoded (15) sentences and then pass this to the model and take the classification.\n",
    "3. Vertically stack all embedded sentences, and let the convolution run over this (very long) array."
   ]
  },
  {
   "cell_type": "code",
   "execution_count": null,
   "metadata": {},
   "outputs": [],
   "source": [
    "from haberrspd.charCNN.data_utils_tf import create_training_data_keras, create_mjff_data_objects\n",
    "from pandas import read_csv"
   ]
  },
  {
   "cell_type": "code",
   "execution_count": null,
   "metadata": {},
   "outputs": [],
   "source": [
    "which_information = \"char_time\"\n",
    "DATA_ROOT = Path(\"../data/\") / \"MJFF\" / \"preproc\"\n",
    "data_string = \"EnglishData-preprocessed.csv\"\n",
    "df = read_csv(DATA_ROOT / which_information / data_string, header=0)  # MJFF data\n",
    "# subject_documents, subjects_diagnoses, alphabet = create_mjff_data_objects(df)\n",
    "# X_train, X_test, y_train, y_test, max_sentence_length, alphabet_size = create_training_data_keras(DATA_ROOT, which_information, data_string)"
   ]
  },
  {
   "cell_type": "code",
   "execution_count": null,
   "metadata": {},
   "outputs": [],
   "source": [
    "df.head()"
   ]
  },
  {
   "cell_type": "code",
   "execution_count": null,
   "metadata": {},
   "outputs": [],
   "source": [
    "for doc in subject_documents[:3]:\n",
    "    print(doc[:2])\n",
    "    print('\\n')"
   ]
  },
  {
   "cell_type": "markdown",
   "metadata": {},
   "source": [
    "# MRC data"
   ]
  },
  {
   "cell_type": "markdown",
   "metadata": {},
   "source": [
    "0. Homogenise so that Spacebar is a blank character\n",
    "0. Delete rubbish characters (i.e. remove the rows)\n",
    "2. What to do with stuff like Shift\n",
    "3. Figure out what to do when multiple characters are depressed simultaneously\n",
    "4. Make lowercase all characters"
   ]
  },
  {
   "cell_type": "code",
   "execution_count": 3,
   "metadata": {},
   "outputs": [
    {
     "name": "stderr",
     "output_type": "stream",
     "text": [
      "Using TensorFlow backend.\n"
     ]
    }
   ],
   "source": [
    "from pandas import read_csv\n",
    "from haberrspd.preprocess import clean_MRC, backspace_corrector, make_character_compression_time_sentence, reorder_key_timestamp_columns_mrc, calculate_edit_distance_between_response_and_target_MRC\n",
    "from haberrspd.charCNN.data_utils_tf import us_english_keyboard_mrc\n",
    "from numpy import concatenate\n",
    "from typing import Tuple\n",
    "import random\n",
    "import sys\n",
    "import numpy\n",
    "numpy.set_printoptions(threshold=sys.maxsize)\n",
    "\n",
    "from itertools import compress, count\n",
    "from operator import itemgetter\n",
    "\n",
    "# Monster machine\n",
    "data_root = '../data/MRC/' # My local path\n",
    "data_root = Path(data_root)\n"
   ]
  },
  {
   "cell_type": "code",
   "execution_count": 4,
   "metadata": {},
   "outputs": [
    {
     "name": "stderr",
     "output_type": "stream",
     "text": [
      "/home/neil/anaconda3/envs/py36/lib/python3.6/site-packages/IPython/core/interactiveshell.py:3058: DtypeWarning: Columns (10) have mixed types. Specify dtype option on import or set low_memory=False.\n",
      "  interactivity=interactivity, compiler=compiler, result=result)\n"
     ]
    }
   ],
   "source": [
    "df = read_csv(data_root / \"CombinedTypingDataSept27.csv\", header=0)"
   ]
  },
  {
   "cell_type": "code",
   "execution_count": 5,
   "metadata": {},
   "outputs": [
    {
     "name": "stdout",
     "output_type": "stream",
     "text": [
      "Removal of sentences with 'high' Levenshtein distance...\n",
      "\n",
      "Size of dataframe before row pruning: (814388, 12)\n",
      "Size of dataframe after row pruning: (812330, 12)\n",
      "\n",
      "Removal of sentences with left/right arrows keys...\n",
      "\n",
      "Size of dataframe before row pruning: (812330, 12)\n",
      "Size of dataframe after row pruning: (780201, 12)\n",
      "\n",
      "Removal of sentences with faulty data collection...\n",
      "\n",
      "Size of dataframe before row pruning: (780201, 12)\n",
      "Size of dataframe after row pruning: (699032, 12)\n"
     ]
    },
    {
     "data": {
      "text/html": [
       "<div>\n",
       "<style scoped>\n",
       "    .dataframe tbody tr th:only-of-type {\n",
       "        vertical-align: middle;\n",
       "    }\n",
       "\n",
       "    .dataframe tbody tr th {\n",
       "        vertical-align: top;\n",
       "    }\n",
       "\n",
       "    .dataframe thead th {\n",
       "        text-align: right;\n",
       "    }\n",
       "</style>\n",
       "<table border=\"1\" class=\"dataframe\">\n",
       "  <thead>\n",
       "    <tr style=\"text-align: right;\">\n",
       "      <th></th>\n",
       "      <th>key</th>\n",
       "      <th>type</th>\n",
       "      <th>location</th>\n",
       "      <th>timestamp</th>\n",
       "      <th>participant_id</th>\n",
       "      <th>sentence_id</th>\n",
       "      <th>diagnosis</th>\n",
       "    </tr>\n",
       "  </thead>\n",
       "  <tbody>\n",
       "    <tr>\n",
       "      <td>0</td>\n",
       "      <td>shift</td>\n",
       "      <td>keydown</td>\n",
       "      <td>1</td>\n",
       "      <td>25885.055</td>\n",
       "      <td>1010</td>\n",
       "      <td>1</td>\n",
       "      <td>0</td>\n",
       "    </tr>\n",
       "    <tr>\n",
       "      <td>1</td>\n",
       "      <td>h</td>\n",
       "      <td>keydown</td>\n",
       "      <td>0</td>\n",
       "      <td>26086.840</td>\n",
       "      <td>1010</td>\n",
       "      <td>1</td>\n",
       "      <td>0</td>\n",
       "    </tr>\n",
       "    <tr>\n",
       "      <td>2</td>\n",
       "      <td>shift</td>\n",
       "      <td>keyup</td>\n",
       "      <td>1</td>\n",
       "      <td>26181.975</td>\n",
       "      <td>1010</td>\n",
       "      <td>1</td>\n",
       "      <td>0</td>\n",
       "    </tr>\n",
       "    <tr>\n",
       "      <td>3</td>\n",
       "      <td>h</td>\n",
       "      <td>keyup</td>\n",
       "      <td>0</td>\n",
       "      <td>26193.745</td>\n",
       "      <td>1010</td>\n",
       "      <td>1</td>\n",
       "      <td>0</td>\n",
       "    </tr>\n",
       "    <tr>\n",
       "      <td>4</td>\n",
       "      <td>o</td>\n",
       "      <td>keydown</td>\n",
       "      <td>0</td>\n",
       "      <td>26321.480</td>\n",
       "      <td>1010</td>\n",
       "      <td>1</td>\n",
       "      <td>0</td>\n",
       "    </tr>\n",
       "  </tbody>\n",
       "</table>\n",
       "</div>"
      ],
      "text/plain": [
       "     key     type  location  timestamp  participant_id  sentence_id  diagnosis\n",
       "0  shift  keydown         1  25885.055            1010            1          0\n",
       "1      h  keydown         0  26086.840            1010            1          0\n",
       "2  shift    keyup         1  26181.975            1010            1          0\n",
       "3      h    keyup         0  26193.745            1010            1          0\n",
       "4      o  keydown         0  26321.480            1010            1          0"
      ]
     },
     "execution_count": 5,
     "metadata": {},
     "output_type": "execute_result"
    }
   ],
   "source": [
    "out = clean_MRC(df)\n",
    "out.head()"
   ]
  },
  {
   "cell_type": "code",
   "execution_count": 6,
   "metadata": {},
   "outputs": [],
   "source": [
    "import copy"
   ]
  },
  {
   "cell_type": "code",
   "execution_count": 7,
   "metadata": {},
   "outputs": [],
   "source": [
    "df = copy.copy(out)"
   ]
  },
  {
   "cell_type": "markdown",
   "metadata": {},
   "source": [
    "# Protocol to process the MRC data"
   ]
  },
  {
   "cell_type": "markdown",
   "metadata": {},
   "source": [
    "1. A form of `create_char_compression_time_mjff_data` [to get the temporal data] <-- this needs to be set so that we get a list of \n",
    "2. Second use `create_dataframe_from_processed_data`"
   ]
  },
  {
   "cell_type": "code",
   "execution_count": 33,
   "metadata": {},
   "outputs": [],
   "source": [
    "def create_char_compression_time_mrc_data(df: pd.DataFrame, \n",
    "                                          time_redux_fact=10) -> Tuple[dict, list]:\n",
    "\n",
    "    assert set([\"participant_id\", \"key\", \"timestamp\", \"sentence_id\"]).issubset(df.columns)\n",
    "\n",
    "    # All sentences will be stored here, indexed by their type\n",
    "    char_compression_sentences = defaultdict(dict)\n",
    "    \n",
    "    # Get the unique number of subjects\n",
    "    subjects = sorted(set(df.participant_id))\n",
    "\n",
    "    # Loop over subjects\n",
    "    for subj_idx in subjects:\n",
    "        # Not all subjects have typed all sentences hence we have to do it this way\n",
    "        for sent_idx in df.loc[(df.participant_id == subj_idx)].sentence_id.unique():\n",
    "            \n",
    "            # Locate df segment to extract\n",
    "            coordinates = (df.participant_id == subj_idx) & (df.sentence_id == sent_idx)\n",
    "            \n",
    "            print(\"Participant: {}, Sentence: {}\".format(subj_idx, sent_idx))\n",
    "            \n",
    "            # Get correctly ordered sentences and total compression times\n",
    "            df_tmp = reorder_key_timestamp_columns_mrc(df.loc[coordinates, ('key','timestamp')])\n",
    "            \n",
    "            # TODO: check to see if the key-compression column follows the correct order\n",
    "            \n",
    "            \n",
    "            # \"correct\" the sentence by operating on user backspaces \n",
    "            corrected_char_sentence, removed_chars_indx = backspace_corrector(df_tmp.key.tolist())\n",
    "            \n",
    "            compression_times = calculate_total_key_compression_time(df_tmp.drop(df_tmp.index[removed_chars_indx]))\n",
    "            \n",
    "            assert len(compression_times) == len(corrected_char_sentence[::2]), \"Error at ({},{}).\".format(subj_idx,sent_idx)\n",
    "            assert any(x < 0 for x in compression_times) is False, \"Error at ({},{}).\".format(subj_idx,sent_idx) # Check no negative timings\n",
    "\n",
    "            # Make long-format version of each typed, corrected, sentence\n",
    "            # Note that we remove the last character to make the calculation correct.\n",
    "            char_compression_sentences[subj_idx][sent_idx] = make_character_compression_time_sentence(compression_times,\n",
    "                                                                                                      corrected_char_sentence[::2], \n",
    "                                                                                                      time_redux_fact)\n",
    "    return char_compression_sentences"
   ]
  },
  {
   "cell_type": "code",
   "execution_count": 206,
   "metadata": {},
   "outputs": [],
   "source": [
    "def lookup(v, d={}, c=count()):\n",
    "    if v in d:\n",
    "        return d.pop(v)\n",
    "    else:\n",
    "        d[v] = next(c)\n",
    "        return d[v]\n",
    "\n",
    "def reorder_key_timestamp_columns_mrc(df: pd.DataFrame):\n",
    "\n",
    "    # Check that the column is of even length\n",
    "    assert len(df) % 2 == 0, \"The length is {}.\".format(len(df))\n",
    "\n",
    "    # Use lookup function to extract the next row-order\n",
    "    df[\"new_row_order\"] = df.key.map(lookup)\n",
    "    \n",
    "    # Don't return an object, just leave as is\n",
    "    return df.sort_values(by=\"new_row_order\", kind=\"mergesort\").drop(\"new_row_order\", axis=1).reset_index(drop=True)"
   ]
  },
  {
   "cell_type": "code",
   "execution_count": 47,
   "metadata": {},
   "outputs": [
    {
     "name": "stdout",
     "output_type": "stream",
     "text": [
      "1100\n",
      "1046\n",
      "[broken sentence] Participant: 1046, Sentence: 13\n",
      "1095\n",
      "[broken sentence] Participant: 1095, Sentence: 9\n",
      "36\n",
      "38\n",
      "1152\n",
      "1154\n",
      "[broken sentence] Participant: 1154, Sentence: 6\n",
      "[broken sentence] Participant: 1154, Sentence: 7\n",
      "[broken sentence] Participant: 1154, Sentence: 11\n",
      "[broken sentence] Participant: 1154, Sentence: 13\n",
      "75\n",
      "11\n",
      "[broken sentence] Participant: 11, Sentence: 2\n",
      "[broken sentence] Participant: 11, Sentence: 4\n",
      "[broken sentence] Participant: 11, Sentence: 1\n",
      "[broken sentence] Participant: 11, Sentence: 5\n",
      "[broken sentence] Participant: 11, Sentence: 3\n",
      "[broken sentence] Participant: 11, Sentence: 10\n",
      "[broken sentence] Participant: 11, Sentence: 9\n",
      "[broken sentence] Participant: 11, Sentence: 7\n",
      "[broken sentence] Participant: 11, Sentence: 8\n",
      "[broken sentence] Participant: 11, Sentence: 14\n",
      "[broken sentence] Participant: 11, Sentence: 6\n",
      "[broken sentence] Participant: 11, Sentence: 15\n",
      "[broken sentence] Participant: 11, Sentence: 12\n",
      "[broken sentence] Participant: 11, Sentence: 11\n",
      "[broken sentence] Participant: 11, Sentence: 13\n",
      "42\n",
      "1120\n",
      "1077\n",
      "111\n",
      "1041\n",
      "1119\n",
      "[broken sentence] Participant: 1119, Sentence: 4\n",
      "1159\n",
      "1092\n",
      "76\n",
      "1096\n",
      "[broken sentence] Participant: 1096, Sentence: 5\n",
      "91\n",
      "260 23\n"
     ]
    }
   ],
   "source": [
    "# TODO: backstop removal before any of this is run properly\n",
    "# Test just a single sentence here\n",
    "\n",
    "\n",
    "fail=0\n",
    "success=0\n",
    "corrected_sentences = defaultdict(dict)\n",
    "broken_sentences = defaultdict(dict)\n",
    "for subj_idx in np.random.choice(df.participant_id.unique(),size=20,replace=False):\n",
    "    # Not all subjects have typed all sentences hence we have to do it this way\n",
    "    print(subj_idx)\n",
    "    for sent_idx in df.loc[(df.participant_id == subj_idx)].sentence_id.unique():\n",
    "        \n",
    "        # Locate df segment to extract\n",
    "        coordinates = (df.participant_id == subj_idx) & (df.sentence_id == sent_idx)\n",
    "        \n",
    "        # Store temporary dataframe because why not\n",
    "        tmp = df.loc[coordinates, ('key','timestamp','type')].reset_index(drop=True) # Reset index \n",
    "        \n",
    "        # Removes contiguous shift presses\n",
    "        combine_shift_keydowns_without_matching_keyup(new)\n",
    "        # Get correctly ordered sentences and total compression times\n",
    "        new = new_sort(tmp)\n",
    "        \n",
    "        if not assess_repeating_key_compression_pattern(new.type.tolist()):\n",
    "            # Condition fails: data-collection is broken\n",
    "            \n",
    "            # Removes contiguous shift presses\n",
    "            combine_shift_keydowns_without_matching_keyup(new)\n",
    "            # Remove solitary key-presses which do not have a matching keyup or keydown\n",
    "#             remove_solitary_key_presses(new) \n",
    "            # Re-do sorting\n",
    "            new = new_sort(new)\n",
    "\n",
    "            if assess_repeating_key_compression_pattern(new.type.tolist()):\n",
    "                # Condition succeeds: data-collection is fixed    \n",
    "                corrected_sentences[subj_idx][sent_idx] = new\n",
    "                success+=1\n",
    "            else:\n",
    "                # Condition fails: data-collection is broken\n",
    "                broken_sentences[subj_idx][sent_idx] = new\n",
    "                fail+=1\n",
    "                print(\"[broken sentence] Participant: {}, Sentence: {}\".format(subj_idx, sent_idx))\n",
    "        else:\n",
    "            # Condition succeeds: data-collection is fixed\n",
    "            corrected_sentences[subj_idx][sent_idx] = new\n",
    "            success+=1\n",
    "            \n",
    "print(success, fail)"
   ]
  },
  {
   "cell_type": "code",
   "execution_count": null,
   "metadata": {},
   "outputs": [],
   "source": [
    "with pd.option_context('display.max_rows', None, 'display.max_columns', None):  # more options can be specified also\n",
    "    print(broken_sentences[1046][13])"
   ]
  },
  {
   "cell_type": "code",
   "execution_count": null,
   "metadata": {},
   "outputs": [],
   "source": [
    "test_df = copy.copy(df.loc[(df.participant_id == 1046) & (df.sentence_id == 13), (\"key\", \"timestamp\",\"type\")].reset_index(drop=True))\n",
    "with pd.option_context('display.max_rows', None, 'display.max_columns', None):  # more options can be specified also\n",
    "    print(test_df)"
   ]
  },
  {
   "cell_type": "code",
   "execution_count": 15,
   "metadata": {},
   "outputs": [],
   "source": [
    "new = new_sort(test_df)"
   ]
  },
  {
   "cell_type": "code",
   "execution_count": null,
   "metadata": {},
   "outputs": [],
   "source": [
    "with pd.option_context('display.max_rows', None, 'display.max_columns', None):  # more options can be specified also\n",
    "    print(test_df)"
   ]
  },
  {
   "cell_type": "code",
   "execution_count": null,
   "metadata": {},
   "outputs": [],
   "source": [
    "combine_shift_keydowns_without_matching_keyup(test_df)\n",
    "with pd.option_context('display.max_rows', None, 'display.max_columns', None):  # more options can be specified also\n",
    "    print(test_df)"
   ]
  },
  {
   "cell_type": "code",
   "execution_count": 59,
   "metadata": {},
   "outputs": [
    {
     "name": "stdout",
     "output_type": "stream",
     "text": [
      "         key  timestamp     type\n",
      "0      shift   371531.0  keydown\n",
      "1      shift   371873.0    keyup\n",
      "2          t   371780.0  keydown\n",
      "3          t   371904.0    keyup\n",
      "4          h   372248.0  keydown\n",
      "5          h   372357.0    keyup\n",
      "6          e   372482.0  keydown\n",
      "7          e   372639.0    keyup\n",
      "8          y   372887.0  keydown\n",
      "9          y   372996.0    keyup\n",
      "10             373152.0  keydown\n",
      "11             373293.0    keyup\n",
      "12         f   373418.0  keydown\n",
      "13         f   373558.0    keyup\n",
      "14         o   373621.0  keydown\n",
      "15         o   373746.0    keyup\n",
      "16         u   373761.0  keydown\n",
      "17         u   373855.0    keyup\n",
      "18         g   374666.0  keydown\n",
      "19         g   374759.0    keyup\n",
      "20         h   374790.0  keydown\n",
      "21         h   374885.0    keyup\n",
      "22         t   374978.0  keydown\n",
      "23         t   375087.0    keyup\n",
      "24             375118.0  keydown\n",
      "25             375259.0    keyup\n",
      "26         a   375680.0  keydown\n",
      "27         a   375883.0    keyup\n",
      "28             375929.0  keydown\n",
      "29             376055.0    keyup\n",
      "30         t   376210.0  keydown\n",
      "31         t   376336.0    keyup\n",
      "32         h   376350.0  keydown\n",
      "33         h   376491.0    keyup\n",
      "34         i   376538.0  keydown\n",
      "35         i   376648.0    keyup\n",
      "36         r   376725.0  keydown\n",
      "37         r   376834.0    keyup\n",
      "38         t   376943.0  keydown\n",
      "39         t   377085.0    keyup\n",
      "40         y   377131.0  keydown\n",
      "41         y   377224.0    keyup\n",
      "42             377334.0  keydown\n",
      "43             377474.0    keyup\n",
      "44         y   377631.0  keydown\n",
      "45         y   377755.0    keyup\n",
      "46         e   377880.0  keydown\n",
      "47         e   378068.0    keyup\n",
      "48         a   378129.0  keydown\n",
      "49         a   378270.0    keyup\n",
      "50         r   378333.0  keydown\n",
      "51         r   378442.0    keyup\n",
      "52         s   378581.0  keydown\n",
      "53         s   378706.0    keyup\n",
      "54             378723.0  keydown\n",
      "55             378848.0    keyup\n",
      "56         w   378925.0  keydown\n",
      "57         w   379082.0    keyup\n",
      "58         a   379174.0  keydown\n",
      "59         a   379361.0    keyup\n",
      "60         r   379517.0  keydown\n",
      "61         r   379628.0    keyup\n",
      "62             379689.0  keydown\n",
      "63             379845.0    keyup\n",
      "64         o   379908.0  keydown\n",
      "65         o   380017.0    keyup\n",
      "66         n   380157.0  keydown\n",
      "67         n   380252.0    keyup\n",
      "68             380344.0  keydown\n",
      "69             380486.0    keyup\n",
      "70         t   380579.0  keydown\n",
      "71         t   380703.0    keyup\n",
      "72         h   380720.0  keydown\n",
      "73         h   380828.0    keyup\n",
      "74         e   381266.0  keydown\n",
      "75         e   381421.0    keyup\n",
      "76             381484.0  keydown\n",
      "77             381624.0    keyup\n",
      "78         s   381733.0  keydown\n",
      "79         s   381921.0    keyup\n",
      "80         i   381935.0  keydown\n",
      "81         i   382045.0    keyup\n",
      "82         d   382169.0  keydown\n",
      "83         d   382263.0    keyup\n",
      "84         e   382403.0  keydown\n",
      "85         e   382559.0    keyup\n",
      "86             382576.0  keydown\n",
      "87             382700.0    keyup\n",
      "88         o   382794.0  keydown\n",
      "89         o   382903.0    keyup\n",
      "90         f   383043.0  keydown\n",
      "91         f   383183.0    keyup\n",
      "92             383183.0  keydown\n",
      "93             383325.0    keyup\n",
      "94         t   383449.0  keydown\n",
      "95         t   383574.0    keyup\n",
      "96         h   383636.0  keydown\n",
      "97         h   383729.0    keyup\n",
      "98         e   383823.0  keydown\n",
      "99         e   383979.0    keyup\n",
      "100            383949.0  keydown\n",
      "101            384089.0    keyup\n",
      "102    shift   384292.0  keydown\n",
      "103    shift   384791.0    keyup\n",
      "104        l   384713.0  keydown\n",
      "105        l   384821.0    keyup\n",
      "106        a   385041.0  keydown\n",
      "107        a   385196.0    keyup\n",
      "108        m   385883.0  keydown\n",
      "109        m   385991.0    keyup\n",
      "110        t   386241.0  keydown\n",
      "111        t   386367.0    keyup\n",
      "112        u   386584.0  keydown\n",
      "113        u   386709.0    keyup\n",
      "114        n   386991.0  keydown\n",
      "115        n   387083.0    keyup\n",
      "116        a   387350.0  keydown\n",
      "117        a   387536.0    keyup\n",
      "118            388020.0  keydown\n",
      "119            388176.0    keyup\n",
      "120    shift   390298.0  keydown\n",
      "121    shift   390500.0    keyup\n",
      "122        a   390314.0  keydown\n",
      "123        a   390423.0    keyup\n",
      "124        r   390905.0  keydown\n",
      "125        r   391046.0    keyup\n",
      "126        a   391952.0  keydown\n",
      "127        a   392092.0    keyup\n",
      "128        b   392387.0  keydown\n",
      "129        b   392528.0    keyup\n",
      "130        i   392607.0  keydown\n",
      "131        i   392732.0    keyup\n",
      "132        z   392996.0  keydown\n",
      "133        z   393168.0    keyup\n",
      "134        e   393512.0  keydown\n",
      "135        e   393635.0    keyup\n",
      "136        d   393963.0  keydown\n",
      "137        d   394103.0    keyup\n",
      "138            394384.0  keydown\n",
      "139            394509.0    keyup\n",
      "140    shift   395336.0  keydown\n",
      "141    shift   395477.0    keyup\n",
      "142        b   395337.0  keydown\n",
      "143        b   395445.0    keyup\n",
      "144        e   395944.0  keydown\n",
      "145        e   396132.0    keyup\n",
      "146        r   396100.0  keydown\n",
      "147        r   396210.0    keyup\n",
      "148        b   396600.0  keydown\n",
      "149        b   396694.0    keyup\n",
      "150        e   396833.0  keydown\n",
      "151        e   397005.0    keyup\n",
      "152        r   397022.0  keydown\n",
      "153        r   397162.0    keyup\n",
      "154        s   397255.0  keydown\n",
      "155        s   397427.0    keyup\n",
      "156            397489.0  keydown\n",
      "157            397630.0    keyup\n",
      "158        w   397692.0  keydown\n",
      "159        w   397847.0    keyup\n",
      "160        h   397879.0  keydown\n",
      "161        h   398003.0    keyup\n",
      "162        o   398098.0  keydown\n",
      "163        o   398191.0    keyup\n",
      "164            398393.0  keydown\n",
      "165            398549.0    keyup\n",
      "166        c   399064.0  keydown\n",
      "167        c   399206.0    keyup\n",
      "168        l   399284.0  keydown\n",
      "169        l   399440.0    keyup\n",
      "170        a   399471.0  keydown\n",
      "171        a   399611.0    keyup\n",
      "172        i   399642.0  keydown\n",
      "173        i   399766.0    keyup\n",
      "174        m   399891.0  keydown\n",
      "175        m   400017.0    keyup\n",
      "176        e   400095.0  keydown\n",
      "177        e   400219.0    keyup\n",
      "178        d   400437.0  keydown\n",
      "179        d   400578.0    keyup\n",
      "180            400641.0  keydown\n",
      "181            400765.0    keyup\n",
      "182    shift   401780.0  keydown\n",
      "183    shift   401981.0    keyup\n",
      "184        h   401795.0  keydown\n",
      "185        h   401872.0    keyup\n",
      "186  control   401966.0  keydown\n",
      "187  control   401981.0    keyup\n",
      "188        i   402122.0  keydown\n",
      "189        i   402232.0    keyup\n",
      "190        m   402527.0  keydown\n",
      "191        m   402637.0    keyup\n",
      "192        y   402965.0  keydown\n",
      "193        y   403058.0    keyup\n",
      "194        a   403184.0  keydown\n",
      "195        a   403354.0    keyup\n",
      "196        r   403386.0  keydown\n",
      "197        r   403510.0    keyup\n",
      "198        i   403573.0  keydown\n",
      "199        i   403713.0    keyup\n",
      "200        t   403807.0  keydown\n",
      "201        t   403964.0    keyup\n",
      "202        e   404057.0  keydown\n",
      "203        e   404259.0    keyup\n",
      "204            404276.0  keydown\n",
      "205            404415.0    keyup\n",
      "206        a   404727.0  keydown\n",
      "207        a   404945.0    keyup\n",
      "208        n   404961.0  keydown\n",
      "209        n   405055.0    keyup\n",
      "210        c   405741.0  keydown\n",
      "211        c   405867.0    keyup\n",
      "212        e   406023.0  keydown\n",
      "213        e   406147.0    keyup\n",
      "214        s   406271.0  keydown\n",
      "215        s   406444.0    keyup\n",
      "216        t   406521.0  keydown\n",
      "217        t   406646.0    keyup\n",
      "218        r   406787.0  keydown\n",
      "219        r   406912.0    keyup\n",
      "220        y   407098.0  keydown\n",
      "221        y   407207.0    keyup\n",
      "222            407301.0  keydown\n",
      "223            407427.0    keyup\n",
      "224        f   407520.0  keydown\n",
      "225        f   407660.0    keyup\n",
      "226        r   407878.0  keydown\n",
      "227        r   408020.0    keyup\n",
      "228        o   408455.0  keydown\n",
      "229        o   408612.0    keyup\n",
      "230        m   408799.0  keydown\n",
      "231        m   408909.0    keyup\n",
      "232            409143.0  keydown\n",
      "233            409252.0    keyup\n",
      "234        t   409360.0  keydown\n",
      "235        t   409502.0    keyup\n",
      "236        h   409532.0  keydown\n",
      "237        h   409626.0    keyup\n",
      "238        e   409719.0  keydown\n",
      "239        e   409845.0    keyup\n",
      "240            409813.0  keydown\n",
      "241            409953.0    keyup\n",
      "242        e   410484.0  keydown\n",
      "243        e   410608.0    keyup\n",
      "244        a   410827.0  keydown\n",
      "245        a   410968.0    keyup\n",
      "246        r   411373.0  keydown\n",
      "247        r   411467.0    keyup\n",
      "248        l   411591.0  keydown\n",
      "249        l   411686.0    keyup\n",
      "250        y   411825.0  keydown\n",
      "251        y   411919.0    keyup\n",
      "252            412028.0  keydown\n",
      "253            412154.0    keyup\n",
      "254    shift   412309.0  keydown\n",
      "255    shift   412591.0    keyup\n",
      "256        i   412480.0  keydown\n",
      "257        i   412591.0    keyup\n",
      "258        s   412746.0  keydown\n",
      "259        s   412870.0    keyup\n",
      "260        l   412981.0  keydown\n",
      "261        l   413104.0    keyup\n",
      "262        a   413105.0  keydown\n",
      "263        a   413260.0    keyup\n",
      "264        n   413293.0  keydown\n",
      "265        n   413385.0    keyup\n",
      "266        i   413650.0  keydown\n",
      "267        i   413791.0    keyup\n",
      "268        c   414556.0  keydown\n",
      "269        c   414697.0    keyup\n",
      "270            414758.0  keydown\n",
      "271            414852.0    keyup\n",
      "272        i   414945.0  keydown\n",
      "273        i   415054.0    keyup\n",
      "274        m   415274.0  keydown\n",
      "275        m   415366.0    keyup\n",
      "276        v   416599.0  keydown\n",
      "277        v   416740.0    keyup\n",
      "278        a   416818.0  keydown\n",
      "279        a   416912.0    keyup\n",
      "280        s   417114.0  keydown\n",
      "281        s   417301.0    keyup\n",
      "282        i   417441.0  keydown\n",
      "283        i   417645.0    keyup\n",
      "284        o   417661.0  keydown\n",
      "285        o   417800.0    keyup\n",
      "286        n   417847.0  keydown\n",
      "287        n   417957.0    keyup\n",
      "288        s   418128.0  keydown\n",
      "289        s   418284.0    keyup\n",
      "290        £   418752.0  keydown\n",
      "291        £   418845.0    keyup\n"
     ]
    }
   ],
   "source": [
    "with pd.option_context('display.max_rows', None, 'display.max_columns', None):  # more options can be specified also\n",
    "    test_repeating_pattern(new_sort(test_df).type.tolist())\n",
    "    print(new_sort(test_df))"
   ]
  },
  {
   "cell_type": "code",
   "execution_count": 170,
   "metadata": {},
   "outputs": [
    {
     "data": {
      "text/html": [
       "<div>\n",
       "<style scoped>\n",
       "    .dataframe tbody tr th:only-of-type {\n",
       "        vertical-align: middle;\n",
       "    }\n",
       "\n",
       "    .dataframe tbody tr th {\n",
       "        vertical-align: top;\n",
       "    }\n",
       "\n",
       "    .dataframe thead th {\n",
       "        text-align: right;\n",
       "    }\n",
       "</style>\n",
       "<table border=\"1\" class=\"dataframe\">\n",
       "  <thead>\n",
       "    <tr style=\"text-align: right;\">\n",
       "      <th></th>\n",
       "      <th>key</th>\n",
       "      <th>type</th>\n",
       "    </tr>\n",
       "  </thead>\n",
       "  <tbody>\n",
       "    <tr>\n",
       "      <td>0</td>\n",
       "      <td>b</td>\n",
       "      <td>keydown</td>\n",
       "    </tr>\n",
       "    <tr>\n",
       "      <td>1</td>\n",
       "      <td>bob</td>\n",
       "      <td>keydown</td>\n",
       "    </tr>\n",
       "    <tr>\n",
       "      <td>2</td>\n",
       "      <td>shift</td>\n",
       "      <td>keydown</td>\n",
       "    </tr>\n",
       "    <tr>\n",
       "      <td>3</td>\n",
       "      <td>shift</td>\n",
       "      <td>keydown</td>\n",
       "    </tr>\n",
       "    <tr>\n",
       "      <td>4</td>\n",
       "      <td>shift</td>\n",
       "      <td>keydown</td>\n",
       "    </tr>\n",
       "    <tr>\n",
       "      <td>5</td>\n",
       "      <td>shift</td>\n",
       "      <td>keydown</td>\n",
       "    </tr>\n",
       "    <tr>\n",
       "      <td>6</td>\n",
       "      <td>shift</td>\n",
       "      <td>keyup</td>\n",
       "    </tr>\n",
       "    <tr>\n",
       "      <td>7</td>\n",
       "      <td>a</td>\n",
       "      <td>keydown</td>\n",
       "    </tr>\n",
       "    <tr>\n",
       "      <td>8</td>\n",
       "      <td>a</td>\n",
       "      <td>keyup</td>\n",
       "    </tr>\n",
       "    <tr>\n",
       "      <td>9</td>\n",
       "      <td>a</td>\n",
       "      <td>keydown</td>\n",
       "    </tr>\n",
       "  </tbody>\n",
       "</table>\n",
       "</div>"
      ],
      "text/plain": [
       "     key     type\n",
       "0      b  keydown\n",
       "1    bob  keydown\n",
       "2  shift  keydown\n",
       "3  shift  keydown\n",
       "4  shift  keydown\n",
       "5  shift  keydown\n",
       "6  shift    keyup\n",
       "7      a  keydown\n",
       "8      a    keyup\n",
       "9      a  keydown"
      ]
     },
     "execution_count": 170,
     "metadata": {},
     "output_type": "execute_result"
    }
   ],
   "source": [
    "d1 = ['b'] + ['bob']+['shift']*4 + ['shift'] + [\"a\"]*3\n",
    "d2 = ['keydown'] + ['keydown'] + ['keydown']*4 + ['keyup']+ ['keydown', 'keyup', 'keydown']\n",
    "test_df = pd.DataFrame(data=np.array([d1,d2]).T, columns=['key','type'])\n",
    "test_df"
   ]
  },
  {
   "cell_type": "code",
   "execution_count": 171,
   "metadata": {},
   "outputs": [
    {
     "name": "stdout",
     "output_type": "stream",
     "text": [
      "['b', 'bob', 'a']\n",
      "[0, 1]\n"
     ]
    }
   ],
   "source": [
    "remove_solitary_key_presses(test_df)"
   ]
  },
  {
   "cell_type": "code",
   "execution_count": 172,
   "metadata": {},
   "outputs": [
    {
     "data": {
      "text/html": [
       "<div>\n",
       "<style scoped>\n",
       "    .dataframe tbody tr th:only-of-type {\n",
       "        vertical-align: middle;\n",
       "    }\n",
       "\n",
       "    .dataframe tbody tr th {\n",
       "        vertical-align: top;\n",
       "    }\n",
       "\n",
       "    .dataframe thead th {\n",
       "        text-align: right;\n",
       "    }\n",
       "</style>\n",
       "<table border=\"1\" class=\"dataframe\">\n",
       "  <thead>\n",
       "    <tr style=\"text-align: right;\">\n",
       "      <th></th>\n",
       "      <th>key</th>\n",
       "      <th>type</th>\n",
       "    </tr>\n",
       "  </thead>\n",
       "  <tbody>\n",
       "    <tr>\n",
       "      <td>0</td>\n",
       "      <td>shift</td>\n",
       "      <td>keydown</td>\n",
       "    </tr>\n",
       "    <tr>\n",
       "      <td>1</td>\n",
       "      <td>shift</td>\n",
       "      <td>keydown</td>\n",
       "    </tr>\n",
       "    <tr>\n",
       "      <td>2</td>\n",
       "      <td>shift</td>\n",
       "      <td>keydown</td>\n",
       "    </tr>\n",
       "    <tr>\n",
       "      <td>3</td>\n",
       "      <td>shift</td>\n",
       "      <td>keydown</td>\n",
       "    </tr>\n",
       "    <tr>\n",
       "      <td>4</td>\n",
       "      <td>shift</td>\n",
       "      <td>keyup</td>\n",
       "    </tr>\n",
       "    <tr>\n",
       "      <td>5</td>\n",
       "      <td>a</td>\n",
       "      <td>keydown</td>\n",
       "    </tr>\n",
       "    <tr>\n",
       "      <td>6</td>\n",
       "      <td>a</td>\n",
       "      <td>keyup</td>\n",
       "    </tr>\n",
       "    <tr>\n",
       "      <td>7</td>\n",
       "      <td>a</td>\n",
       "      <td>keydown</td>\n",
       "    </tr>\n",
       "  </tbody>\n",
       "</table>\n",
       "</div>"
      ],
      "text/plain": [
       "     key     type\n",
       "0  shift  keydown\n",
       "1  shift  keydown\n",
       "2  shift  keydown\n",
       "3  shift  keydown\n",
       "4  shift    keyup\n",
       "5      a  keydown\n",
       "6      a    keyup\n",
       "7      a  keydown"
      ]
     },
     "execution_count": 172,
     "metadata": {},
     "output_type": "execute_result"
    }
   ],
   "source": [
    "test_df"
   ]
  },
  {
   "cell_type": "code",
   "execution_count": 11,
   "metadata": {},
   "outputs": [],
   "source": [
    "def remove_solitary_key_presses(df, horizon = 5):\n",
    "\n",
    "    \n",
    "    suspect_keys = []\n",
    "    for key, value in Counter(df.key.tolist()).items():\n",
    "        if value % 2 != 0:\n",
    "            suspect_keys.append(key)\n",
    "            \n",
    "    # We deal with shift and backspace separately\n",
    "    suspect_keys = [key for key in suspect_keys if key not in {'shift', 'backspace'}]\n",
    "        \n",
    "    # Find all instances of suspect keys in df\n",
    "    removal_coordinates = []\n",
    "    if len(suspect_keys) != 0:\n",
    "        for key in suspect_keys:\n",
    "            # Find index location of all suspicious keys\n",
    "            idxs = df.loc[df.key == key].index\n",
    "            if len(idxs) >= 2:\n",
    "                # If there is more than one such key\n",
    "                for pair in zip(idxs, idxs[1:]):\n",
    "                    if pair[1] - pair[0] > horizon:\n",
    "#                         try:\n",
    "                        removal_coordinates.extend(pair[0])\n",
    "#                         except:\n",
    "#                             print(suspect_keys, removal_coordinates, pair[0])\n",
    "                        \n",
    "                    # TODO: might need to add a condition which says that\n",
    "                    # an unequal length sequence of consecutive values cannot appear either.\n",
    "            else:\n",
    "                # If there is only one index of this key\n",
    "                # that is already an erroneous entry.\n",
    "                removal_coordinates.extend(idxs)\n",
    "                    \n",
    "    # In-place operation, no need to return anything. Cannot reset index at this point.\n",
    "    df.drop(df.index[removal_coordinates], inplace=True)\n",
    "    # Reset index so that we can sort it properly in the next step\n",
    "    df.reset_index(drop=True, inplace=True)"
   ]
  },
  {
   "cell_type": "code",
   "execution_count": null,
   "metadata": {},
   "outputs": [],
   "source": [
    "with pd.option_context('display.max_rows', None, 'display.max_columns', None):  # more options can be specified also\n",
    "    print(outt)"
   ]
  },
  {
   "cell_type": "code",
   "execution_count": 469,
   "metadata": {},
   "outputs": [],
   "source": [
    "# pd.DataFrame(data=np.hstack([tmp.values,new.values]),columns=['key','timestamp','type']*2).head(20)"
   ]
  },
  {
   "cell_type": "code",
   "execution_count": 648,
   "metadata": {},
   "outputs": [
    {
     "data": {
      "text/html": [
       "<div>\n",
       "<style scoped>\n",
       "    .dataframe tbody tr th:only-of-type {\n",
       "        vertical-align: middle;\n",
       "    }\n",
       "\n",
       "    .dataframe tbody tr th {\n",
       "        vertical-align: top;\n",
       "    }\n",
       "\n",
       "    .dataframe thead th {\n",
       "        text-align: right;\n",
       "    }\n",
       "</style>\n",
       "<table border=\"1\" class=\"dataframe\">\n",
       "  <thead>\n",
       "    <tr style=\"text-align: right;\">\n",
       "      <th></th>\n",
       "      <th>key</th>\n",
       "      <th>type</th>\n",
       "    </tr>\n",
       "  </thead>\n",
       "  <tbody>\n",
       "    <tr>\n",
       "      <td>0</td>\n",
       "      <td>bob</td>\n",
       "      <td>keydown</td>\n",
       "    </tr>\n",
       "    <tr>\n",
       "      <td>1</td>\n",
       "      <td>bob</td>\n",
       "      <td>keyup</td>\n",
       "    </tr>\n",
       "    <tr>\n",
       "      <td>2</td>\n",
       "      <td>shift</td>\n",
       "      <td>keydown</td>\n",
       "    </tr>\n",
       "    <tr>\n",
       "      <td>3</td>\n",
       "      <td>shift</td>\n",
       "      <td>keydown</td>\n",
       "    </tr>\n",
       "    <tr>\n",
       "      <td>4</td>\n",
       "      <td>shift</td>\n",
       "      <td>keydown</td>\n",
       "    </tr>\n",
       "    <tr>\n",
       "      <td>5</td>\n",
       "      <td>shift</td>\n",
       "      <td>keydown</td>\n",
       "    </tr>\n",
       "    <tr>\n",
       "      <td>6</td>\n",
       "      <td>shift</td>\n",
       "      <td>keyup</td>\n",
       "    </tr>\n",
       "    <tr>\n",
       "      <td>7</td>\n",
       "      <td>a</td>\n",
       "      <td>keydown</td>\n",
       "    </tr>\n",
       "    <tr>\n",
       "      <td>8</td>\n",
       "      <td>a</td>\n",
       "      <td>keyup</td>\n",
       "    </tr>\n",
       "  </tbody>\n",
       "</table>\n",
       "</div>"
      ],
      "text/plain": [
       "     key     type\n",
       "0    bob  keydown\n",
       "1    bob    keyup\n",
       "2  shift  keydown\n",
       "3  shift  keydown\n",
       "4  shift  keydown\n",
       "5  shift  keydown\n",
       "6  shift    keyup\n",
       "7      a  keydown\n",
       "8      a    keyup"
      ]
     },
     "execution_count": 648,
     "metadata": {},
     "output_type": "execute_result"
    }
   ],
   "source": [
    "d1 = ['bob']*2+['shift']*4 + ['shift'] + [\"a\"]*2\n",
    "d2 = ['keydown', 'keyup'] +['keydown']*4 + ['keyup']+ ['keydown', 'keyup']\n",
    "test_df = pd.DataFrame(data=np.array([d1,d2]).T, columns=['key','type'])\n",
    "test_df"
   ]
  },
  {
   "cell_type": "code",
   "execution_count": 53,
   "metadata": {},
   "outputs": [],
   "source": [
    "from itertools import groupby, count\n",
    "from operator import itemgetter\n",
    "\n",
    "\n",
    "\n",
    "def new_sort(df):\n",
    "        \n",
    "    df_2 = pd.DataFrame(columns=[\"key\", \"timestamp\", \"type\"])\n",
    "    indexes = []\n",
    "    for i in range(len(df)):\n",
    "        if i not in indexes:\n",
    "            df_2 = df_2.append(df.loc[i,:])\n",
    "            letter = df.loc[i,\"key\"]\n",
    "            indexes.append(i)\n",
    "\n",
    "            for j in range(i+1, len(df)):\n",
    "                if ((df.loc[j,\"key\"] == df.loc[i,\"key\"]) and (j not in indexes)):\n",
    "\n",
    "                    df_2 = df_2.append( df.loc[j,:])\n",
    "                    indexes.append(j)\n",
    "                    break;\n",
    "                    \n",
    "    return df_2.reset_index(drop=True)\n",
    "    \n",
    "\n",
    "def test_repeating_pattern(lst, pattern=(\"keydown\", \"keyup\")):\n",
    "    pat_len = len(pattern)\n",
    "    assert \"keydown\" == lst[0], \"keydown does not start the list: {}\".format(lst[0])\n",
    "    assert len(lst) % pat_len == 0, \"mismatched length of list\"\n",
    "    assert list(pattern) * (len(lst) // pat_len) == lst, \"the list does not follow the correct pattern\"\n",
    "    \n",
    "def assess_repeating_key_compression_pattern(lst, pattern=(\"keydown\", \"keyup\")):\n",
    "    \n",
    "    assert set(pattern).issubset(set(lst))\n",
    "    pat_len = len(pattern)\n",
    "    if (\"keydown\" == lst[0]) and (len(lst) % pat_len == 0) and (list(pattern) * (len(lst) // pat_len) == lst):\n",
    "        return True\n",
    "    else:\n",
    "        return False\n",
    "\n",
    "def combine_shift_keydowns_without_matching_keyup(df):\n",
    "    \"\"\"\n",
    "    Function assumes that df has been sorted before getting this far.\n",
    "    \"\"\"\n",
    "    \n",
    "    # Get the index of all shift keydowns (these are the ones causing the registration problems)\n",
    "    idxs = df.index[(df['key'] == 'shift') & (df['type'] == 'keydown')].tolist()\n",
    "    \n",
    "    # Locate all contiguous sub-sequences\n",
    "    keydown_groups = []\n",
    "    for k, g in groupby(enumerate(idxs), lambda ix: ix[0] - ix[1]):\n",
    "        keydown_groups.append(list(map(itemgetter(1), g)))\n",
    "        \n",
    "    # Check what is inside shift groups (if they only contain 'keydown' or 'keyup' there is a problem)\n",
    "    removal_keydown_coordinates = []\n",
    "    for g in keydown_groups:\n",
    "        if len(g) > 1:\n",
    "            ii = None\n",
    "            for j in range(1,6):\n",
    "                if (df.loc[g[-1]+j, \"type\"] == 'keyup') and (df.loc[g[-1]+j, \"key\"] == 'shift'):\n",
    "                    ii = j\n",
    "            if ii:\n",
    "                # Do this if the immediate key after each group is a \"keyup\"\n",
    "                removal_keydown_coordinates.extend(g[:-1])\n",
    "            else:\n",
    "                # Do this if there is no immediately preceeding \"keyup\"\n",
    "                removal_keydown_coordinates.extend(g)\n",
    "        \n",
    "    print(keydown_groups,\"\\n\")\n",
    "    print(removal_keydown_coordinates)\n",
    "        \n",
    "    # In-place operation, no need to return anything. Cannot reset index at this point.\n",
    "    df.drop(df.index[removal_keydown_coordinates], inplace=True)\n",
    "    # Reset index so that we can sort it properly in the next step\n",
    "    df.reset_index(drop=True, inplace=True)\n",
    "    \n",
    "    \n",
    "def remove_superfluous_shifts(df):\n",
    "    \n",
    "    ### NOTE the backspace operator has to appear before this\n",
    "    \n",
    "    idxs = df.index[df['key'] == 'shift'].tolist()\n",
    "    \n",
    "    # Locate a contiguous sub-sequence at the start of the sentence\n",
    "    shift_groups = []\n",
    "    for k, g in groupby(enumerate(idxs), lambda ix: ix[0] - ix[1]):\n",
    "        shift_groups.append(list(map(itemgetter(1), g)))\n",
    "        \n",
    "    # Check what is inside shift groups (if they only contain 'keydown' or 'keyup' there is a problem)\n",
    "    removal_shift_coordinates = []\n",
    "    for g in shift_groups:\n",
    "        if set(g) == 'keydown' or set(g) == 'keydown':\n",
    "            removal_shift_coordinates.append(g[:-1])\n",
    "            \n",
    "    \n",
    "        \n",
    "    if len(shift_groups[0]) > 2 and df.type[shift_groups[0][-1]] == 'keyup' and df.type[shift_groups[0][-2]] == 'keydown':\n",
    "        # Coordinates to remove\n",
    "        df.drop(df.index[shift_groups[0][:-2]], inplace=True)\n",
    "        \n",
    "    # Shifts should only ever appear as contiguous pairs\n",
    "    if not all([len(x) == 2 for x in shift_groups[1:]]): \n",
    "        print(\"Other shift combinations are also longer than they should be.\\n\")\n",
    "        print(shift_groups)\n",
    "        \n",
    "    return df"
   ]
  }
 ],
 "metadata": {
  "kernelspec": {
   "display_name": "Python 3",
   "language": "python",
   "name": "python3"
  },
  "language_info": {
   "codemirror_mode": {
    "name": "ipython",
    "version": 3
   },
   "file_extension": ".py",
   "mimetype": "text/x-python",
   "name": "python",
   "nbconvert_exporter": "python",
   "pygments_lexer": "ipython3",
   "version": "3.6.9"
  }
 },
 "nbformat": 4,
 "nbformat_minor": 4
}
