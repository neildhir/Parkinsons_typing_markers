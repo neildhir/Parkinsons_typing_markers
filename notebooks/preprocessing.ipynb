{
 "cells": [
  {
   "cell_type": "code",
   "execution_count": 1,
   "metadata": {},
   "outputs": [
    {
     "name": "stdout",
     "output_type": "stream",
     "text": [
      "1.16.4\n"
     ]
    }
   ],
   "source": [
    "%load_ext autoreload\n",
    "%autoreload 2 \n",
    "%matplotlib inline\n",
    "\n",
    "# Set path to find modelling tools for later use\n",
    "import os\n",
    "import sys\n",
    "sys.path.append(os.path.join(os.getcwd(),\"..\"))\n",
    "\n",
    "\n",
    "from haberrspd.preprocess import preprocessMJFF\n",
    "                         \n",
    "import pandas as pd\n",
    "import re\n",
    "import numpy as np\n",
    "print(np.__version__)\n",
    "from collections import Counter, defaultdict\n",
    "import itertools\n",
    "from operator import itemgetter\n",
    "from scipy.stats import (gamma, lognorm, gengamma)\n",
    "\n",
    "from pathlib import Path\n",
    "from IPython.display import display\n",
    "\n",
    "# Plot stuff\n",
    "import seaborn as sns\n",
    "from scipy.constants import golden\n",
    "import matplotlib.pyplot as plt\n",
    "plt.style.use('dark_background')\n",
    "\n",
    "# Depending on where I am, set the path\n",
    "import socket\n",
    "if socket.gethostname() == 'pax':\n",
    "    # Monster machine\n",
    "    data_root = '../data/MJFF/' # My local path\n",
    "    data_root = Path(data_root)\n",
    "else:\n",
    "    # Laptop\n",
    "    data_root = '/home/nd/data/liverpool/MJFF' # My local path\n",
    "    data_root = Path(data_root)"
   ]
  },
  {
   "cell_type": "markdown",
   "metadata": {},
   "source": [
    "----"
   ]
  },
  {
   "cell_type": "markdown",
   "metadata": {},
   "source": [
    "# Character + Timing data"
   ]
  },
  {
   "cell_type": "code",
   "execution_count": null,
   "metadata": {},
   "outputs": [],
   "source": [
    "proc = preprocessMJFF()"
   ]
  },
  {
   "cell_type": "code",
   "execution_count": null,
   "metadata": {},
   "outputs": [],
   "source": [
    "out = proc('all')"
   ]
  },
  {
   "cell_type": "code",
   "execution_count": null,
   "metadata": {},
   "outputs": [],
   "source": [
    "out.to_csv(\"../data/MJFF/preproc/EnglishSpanishData-preprocessed.csv\",index=False)"
   ]
  },
  {
   "cell_type": "code",
   "execution_count": null,
   "metadata": {},
   "outputs": [],
   "source": [
    "out = proc('spanish')"
   ]
  },
  {
   "cell_type": "code",
   "execution_count": null,
   "metadata": {},
   "outputs": [],
   "source": [
    "out.to_csv(\"../data/MJFF/preproc/SpanishData-preprocessed.csv\",index=False)"
   ]
  },
  {
   "cell_type": "code",
   "execution_count": null,
   "metadata": {},
   "outputs": [],
   "source": [
    "out = proc('english')"
   ]
  },
  {
   "cell_type": "code",
   "execution_count": null,
   "metadata": {},
   "outputs": [],
   "source": [
    "out.to_csv(\"../data/MJFF/preproc/EnglishData-preprocessed.csv\",index=False)"
   ]
  },
  {
   "cell_type": "code",
   "execution_count": null,
   "metadata": {},
   "outputs": [],
   "source": [
    "pwd"
   ]
  },
  {
   "cell_type": "code",
   "execution_count": null,
   "metadata": {},
   "outputs": [],
   "source": [
    "out[out['Preprocessed_typed_sentence'].apply(lambda x: len(x) > 10000)]"
   ]
  },
  {
   "cell_type": "code",
   "execution_count": null,
   "metadata": {},
   "outputs": [],
   "source": [
    "# df = pd.read_csv(data_root / 'SpanishData-duplicateeventsremoved.csv')\n",
    "df = pd.read_csv(data_root / 'SpanishData.csv')\n",
    "df_meta = pd.read_csv(data_root / \"SpanishParticipantKey.csv\",\n",
    "                      index_col=0,\n",
    "                      header=0,\n",
    "                      names=['participant_id', 'diagnosis'])"
   ]
  },
  {
   "cell_type": "markdown",
   "metadata": {},
   "source": [
    "# Character ONLY data"
   ]
  },
  {
   "cell_type": "code",
   "execution_count": null,
   "metadata": {},
   "outputs": [],
   "source": [
    "proc = preprocessMJFF()"
   ]
  },
  {
   "cell_type": "code",
   "execution_count": null,
   "metadata": {},
   "outputs": [],
   "source": [
    "out = proc('english',include_time=False)"
   ]
  },
  {
   "cell_type": "code",
   "execution_count": null,
   "metadata": {},
   "outputs": [],
   "source": [
    "out.head()"
   ]
  },
  {
   "cell_type": "code",
   "execution_count": null,
   "metadata": {},
   "outputs": [],
   "source": [
    "out[out['Preprocessed_typed_sentence'].apply(lambda x: len(x) < 30)]"
   ]
  },
  {
   "cell_type": "code",
   "execution_count": null,
   "metadata": {},
   "outputs": [],
   "source": [
    "out.to_csv(\"../data/MJFF/preproc/char/EnglishSpanishData-preprocessed.csv\",index=False)"
   ]
  },
  {
   "cell_type": "markdown",
   "metadata": {},
   "source": [
    "## PLOT\n"
   ]
  },
  {
   "cell_type": "code",
   "execution_count": null,
   "metadata": {},
   "outputs": [],
   "source": [
    "controls = set(df_meta.loc[df_meta.diagnosis == 0].participant_id)\n",
    "pd_subjects = set(df_meta.loc[df_meta.diagnosis == 1].participant_id)"
   ]
  },
  {
   "cell_type": "code",
   "execution_count": null,
   "metadata": {},
   "outputs": [],
   "source": [
    "pd_timestamp_diffs = []\n",
    "# Loop over all subjects\n",
    "for sub in pd_subjects:\n",
    "    # Get all delta timestamps for this sentence, across all subjects\n",
    "    pd_timestamp_diffs.extend(df.loc[(df.sentence_id == 57) & (df.participant_id == sub)].timestamp.diff().values)\n",
    "    \n",
    "control_timestamp_diffs = []\n",
    "# Loop over all subjects\n",
    "for sub in controls:\n",
    "    # Get all delta timestamps for this sentence, across all subjects\n",
    "    control_timestamp_diffs.extend(df.loc[(df.sentence_id == 57) & (df.participant_id == sub)].timestamp.diff().values)"
   ]
  },
  {
   "cell_type": "code",
   "execution_count": null,
   "metadata": {},
   "outputs": [],
   "source": [
    "# remove NaNs\n",
    "pd_cleaned_list = [x for x in pd_timestamp_diffs if str(x) != 'nan']\n",
    "control_cleaned_list = [x for x in control_timestamp_diffs if str(x) != 'nan']"
   ]
  },
  {
   "cell_type": "code",
   "execution_count": null,
   "metadata": {},
   "outputs": [],
   "source": [
    "# PD\n",
    "\n",
    "# fixed bin size\n",
    "bins = np.arange(0, 10000, 50) # fixed bin size\n",
    "# plt.xlim([min(data)-5, max(data)+5])\n",
    "fig = plt.figure(figsize=(14,6))\n",
    "plt.hist(pd_cleaned_list, bins=bins, alpha=0.5)\n",
    "# plt.vlines(np.quantile(cleaned_list,0.95),0,900,'r')\n",
    "# plt.vlines(np.mean(cleaned_list),0,900,'b')\n",
    "plt.grid(True)\n",
    "plt.show()"
   ]
  },
  {
   "cell_type": "code",
   "execution_count": null,
   "metadata": {},
   "outputs": [],
   "source": [
    "# control\n",
    "\n",
    "# fixed bin size\n",
    "bins = np.arange(0, 10000, 50) # fixed bin size\n",
    "# plt.xlim([min(data)-5, max(data)+5])\n",
    "fig = plt.figure(figsize=(14,6))\n",
    "plt.hist(control_cleaned_list, bins=bins, alpha=0.5)\n",
    "# plt.vlines(np.quantile(cleaned_list,0.95),0,900,'r')\n",
    "# plt.vlines(np.mean(cleaned_list),0,900,'b')\n",
    "plt.grid(True)\n",
    "plt.show()"
   ]
  },
  {
   "cell_type": "markdown",
   "metadata": {},
   "source": [
    "### Mechanical turk data"
   ]
  },
  {
   "cell_type": "code",
   "execution_count": null,
   "metadata": {},
   "outputs": [],
   "source": [
    "out.to_csv(data_root /'preprocessed_MechanicalTurkCombinedEnglishData.csv',index=False)"
   ]
  },
  {
   "cell_type": "code",
   "execution_count": null,
   "metadata": {},
   "outputs": [],
   "source": [
    "ls ../data/MJFF/"
   ]
  },
  {
   "cell_type": "markdown",
   "metadata": {},
   "source": [
    "### IKI extraction"
   ]
  },
  {
   "cell_type": "code",
   "execution_count": null,
   "metadata": {},
   "outputs": [],
   "source": [
    "out = create_mjff_iki_training_data(df)"
   ]
  },
  {
   "cell_type": "markdown",
   "metadata": {},
   "source": [
    "## Keyboard inputs"
   ]
  },
  {
   "cell_type": "code",
   "execution_count": null,
   "metadata": {},
   "outputs": [],
   "source": [
    "from haberrspd.charCNN.data_utils_tf import create_mjff_data_objects, us_standard_layout_keyboard, english_keys_to_2d_coordinates\n",
    "import keras.backend as K\n",
    "from keras import callbacks\n",
    "from keras.preprocessing.sequence import pad_sequences\n",
    "from keras.preprocessing.text import Tokenizer\n",
    "from keras.utils import to_categorical\n",
    "from numpy import array, int64, ones, hstack, pad, einsum, dstack\n",
    "from pandas import read_csv\n",
    "from sklearn.model_selection import train_test_split\n",
    "from tensorflow import cast, float32, one_hot\n",
    "import itertools"
   ]
  },
  {
   "cell_type": "code",
   "execution_count": null,
   "metadata": {},
   "outputs": [],
   "source": [
    "which_information = \"char_time_space\"\n",
    "DATA_ROOT = Path(\"../data/\") / \"MJFF\" / \"preproc\"\n",
    "data_string = \"EnglishData-preprocessed.csv\"\n",
    "if which_information == \"char_time_space\":\n",
    "    # Get relevant long-format data\n",
    "    which_information = \"char_time\""
   ]
  },
  {
   "cell_type": "code",
   "execution_count": null,
   "metadata": {},
   "outputs": [],
   "source": [
    "df = read_csv(DATA_ROOT / which_information / data_string, header=0)  # MJFF data\n",
    "subject_documents, subjects_diagnoses, alphabet = create_mjff_data_objects(df)\n",
    "\n",
    "# Store alphabet size\n",
    "alphabet_size = len(alphabet)\n",
    "\n",
    "print('Total number of characters:', alphabet_size)\n",
    "alphabet_indices = dict((c, i) for i, c in enumerate(alphabet))\n",
    "\n",
    "if which_information == \"char_time\" or which_information == \"char_time_space\":\n",
    "    # Rounds (up) to nearest thousand\n",
    "    max_sentence_length = round(df.Preprocessed_typed_sentence.apply(lambda x: len(x)).max(), -3)\n",
    "if which_information == \"char\":\n",
    "    # Rounds (up) to nearest hundred\n",
    "    max_sentence_length = round(df.Preprocessed_typed_sentence.apply(lambda x: len(x)).max(), -2)\n",
    "\n",
    "# Make training data array\n",
    "all_sentences = [item for sublist in subject_documents for item in sublist]"
   ]
  },
  {
   "cell_type": "code",
   "execution_count": null,
   "metadata": {},
   "outputs": [],
   "source": [
    "# Initialise tokenizer which maps characters to integers\n",
    "tk = Tokenizer(num_words=None, char_level=True)\n",
    "\n",
    "# Fit to text: convert all chars to ints\n",
    "tk.fit_on_texts(all_sentences)\n",
    "\n",
    "# Update alphabet\n",
    "tk.word_index = alphabet_indices\n",
    "\n",
    "# Get integer sequences: converts sequences of chars to sequences of ints\n",
    "int_sequences = tk.texts_to_sequences(all_sentences)\n",
    "\n",
    "# Pad sequences so that they all have the same length and then one-hot encode\n",
    "X = to_categorical(pad_sequences(int_sequences, maxlen=max_sentence_length, padding='post'))"
   ]
  },
  {
   "cell_type": "code",
   "execution_count": null,
   "metadata": {},
   "outputs": [],
   "source": [
    "X.shape"
   ]
  },
  {
   "cell_type": "code",
   "execution_count": null,
   "metadata": {},
   "outputs": [],
   "source": [
    "which_information  =  'char_time_space'\n",
    "if which_information == 'char_time_space':\n",
    "    # Load relevant keyboard\n",
    "    keyboard = us_standard_layout_keyboard()  # OBS: nested list\n",
    "    # Check that all chars are in fact in our \"keyboard\" -- if not, we cannot map a coordinate\n",
    "    assert alphabet.issubset(set(list(itertools.chain.from_iterable(keyboard))))\n",
    "    space = [english_keys_to_2d_coordinates(sentence, keyboard) for sentence in all_sentences]\n",
    "    space_padded = [pad(s, [(0, max_sentence_length - len(s)), (0, 0)], mode='constant') for s in space]\n",
    "    # Append coordinates to one-hot encoded sentences\n",
    "    X = einsum('ijk->kij', dstack([hstack((x, s)) for (x, s) in zip(X, space_padded)]))"
   ]
  },
  {
   "cell_type": "code",
   "execution_count": null,
   "metadata": {},
   "outputs": [],
   "source": [
    "X.shape"
   ]
  },
  {
   "cell_type": "markdown",
   "metadata": {},
   "source": [
    "# Document (participant) -level classification"
   ]
  },
  {
   "cell_type": "markdown",
   "metadata": {},
   "source": [
    "Three options (at time of writing):\n",
    "\n",
    "1. Submit each sentence to model and extract classification probability for each sentence, agglomorate at the end, and the conduct a classification on the vector of all 15 probabilities.\n",
    "2. Calculate the expected value of all encoded (15) sentences and then pass this to the model and take the classification.\n",
    "3. Vertically stack all embedded sentences, and let the convolution run over this (very long) array."
   ]
  },
  {
   "cell_type": "code",
   "execution_count": null,
   "metadata": {},
   "outputs": [],
   "source": [
    "from haberrspd.charCNN.data_utils_tf import create_training_data_keras, create_mjff_data_objects\n",
    "from pandas import read_csv"
   ]
  },
  {
   "cell_type": "code",
   "execution_count": null,
   "metadata": {},
   "outputs": [],
   "source": [
    "which_information = \"char_time\"\n",
    "DATA_ROOT = Path(\"../data/\") / \"MJFF\" / \"preproc\"\n",
    "data_string = \"EnglishData-preprocessed.csv\"\n",
    "df = read_csv(DATA_ROOT / which_information / data_string, header=0)  # MJFF data\n",
    "# subject_documents, subjects_diagnoses, alphabet = create_mjff_data_objects(df)\n",
    "# X_train, X_test, y_train, y_test, max_sentence_length, alphabet_size = create_training_data_keras(DATA_ROOT, which_information, data_string)"
   ]
  },
  {
   "cell_type": "code",
   "execution_count": null,
   "metadata": {},
   "outputs": [],
   "source": [
    "df.head()"
   ]
  },
  {
   "cell_type": "code",
   "execution_count": null,
   "metadata": {},
   "outputs": [],
   "source": [
    "for doc in subject_documents[:3]:\n",
    "    print(doc[:2])\n",
    "    print('\\n')"
   ]
  },
  {
   "cell_type": "markdown",
   "metadata": {},
   "source": [
    "# MRC data"
   ]
  },
  {
   "cell_type": "markdown",
   "metadata": {},
   "source": [
    "0. Homogenise so that Spacebar is a blank character\n",
    "0. Delete rubbish characters (i.e. remove the rows)\n",
    "2. What to do with stuff like Shift\n",
    "3. Figure out what to do when multiple characters are depressed simultaneously\n",
    "4. Make lowercase all characters"
   ]
  },
  {
   "cell_type": "code",
   "execution_count": 6,
   "metadata": {},
   "outputs": [
    {
     "name": "stderr",
     "output_type": "stream",
     "text": [
      "Using TensorFlow backend.\n"
     ]
    }
   ],
   "source": [
    "# Set path to find modelling tools for later use\n",
    "import os\n",
    "import sys\n",
    "sys.path.append(os.path.join(os.getcwd(),\"..\"))\n",
    "\n",
    "import pandas as pd\n",
    "from pathlib import Path\n",
    "from haberrspd.preprocess import (clean_mrc,\n",
    "                                  create_sentences_from_raw_typing_mrc,\n",
    "                                  backspace_corrector, \n",
    "                                  flatten,\n",
    "                                  calculate_edit_distance_between_response_and_target_MRC)\n",
    "from haberrspd.charCNN.data_utils_tf import us_english_keyboard_mrc\n",
    "from numpy import concatenate\n",
    "from typing import Tuple\n",
    "import random\n",
    "import numpy\n",
    "numpy.set_printoptions(threshold=sys.maxsize)\n",
    "\n",
    "from itertools import compress, count, groupby\n",
    "from operator import itemgetter\n",
    "import copy\n",
    "\n",
    "\n",
    "\n",
    "# Monster machine\n",
    "data_root = '../data/MRC/' # My local path\n",
    "data_root = Path(data_root)\n"
   ]
  },
  {
   "cell_type": "code",
   "execution_count": 7,
   "metadata": {},
   "outputs": [
    {
     "name": "stderr",
     "output_type": "stream",
     "text": [
      "/home/neil/anaconda3/envs/py36/lib/python3.6/site-packages/IPython/core/interactiveshell.py:3058: DtypeWarning: Columns (10) have mixed types. Specify dtype option on import or set low_memory=False.\n",
      "  interactivity=interactivity, compiler=compiler, result=result)\n"
     ]
    }
   ],
   "source": [
    "df = pd.read_csv(data_root / \"CombinedTypingDataSept27.csv\", header=0)"
   ]
  },
  {
   "cell_type": "code",
   "execution_count": 8,
   "metadata": {},
   "outputs": [
    {
     "name": "stdout",
     "output_type": "stream",
     "text": [
      "Removal of sentences with 'high' Levenshtein distance...\n",
      "\n",
      "Size of dataframe before row pruning: (814388, 12)\n",
      "Size of dataframe after row pruning: (812330, 12)\n",
      "\n",
      "Removal of sentences with left/right arrows keys...\n",
      "\n",
      "Size of dataframe before row pruning: (812330, 12)\n",
      "Size of dataframe after row pruning: (780201, 12)\n"
     ]
    },
    {
     "data": {
      "text/html": [
       "<div>\n",
       "<style scoped>\n",
       "    .dataframe tbody tr th:only-of-type {\n",
       "        vertical-align: middle;\n",
       "    }\n",
       "\n",
       "    .dataframe tbody tr th {\n",
       "        vertical-align: top;\n",
       "    }\n",
       "\n",
       "    .dataframe thead th {\n",
       "        text-align: right;\n",
       "    }\n",
       "</style>\n",
       "<table border=\"1\" class=\"dataframe\">\n",
       "  <thead>\n",
       "    <tr style=\"text-align: right;\">\n",
       "      <th></th>\n",
       "      <th>key</th>\n",
       "      <th>type</th>\n",
       "      <th>location</th>\n",
       "      <th>timestamp</th>\n",
       "      <th>participant_id</th>\n",
       "      <th>sentence_id</th>\n",
       "      <th>diagnosis</th>\n",
       "    </tr>\n",
       "  </thead>\n",
       "  <tbody>\n",
       "    <tr>\n",
       "      <th>0</th>\n",
       "      <td>β</td>\n",
       "      <td>keydown</td>\n",
       "      <td>1</td>\n",
       "      <td>25885.055</td>\n",
       "      <td>1010</td>\n",
       "      <td>1</td>\n",
       "      <td>0</td>\n",
       "    </tr>\n",
       "    <tr>\n",
       "      <th>1</th>\n",
       "      <td>h</td>\n",
       "      <td>keydown</td>\n",
       "      <td>0</td>\n",
       "      <td>26086.840</td>\n",
       "      <td>1010</td>\n",
       "      <td>1</td>\n",
       "      <td>0</td>\n",
       "    </tr>\n",
       "    <tr>\n",
       "      <th>2</th>\n",
       "      <td>β</td>\n",
       "      <td>keyup</td>\n",
       "      <td>1</td>\n",
       "      <td>26181.975</td>\n",
       "      <td>1010</td>\n",
       "      <td>1</td>\n",
       "      <td>0</td>\n",
       "    </tr>\n",
       "    <tr>\n",
       "      <th>3</th>\n",
       "      <td>h</td>\n",
       "      <td>keyup</td>\n",
       "      <td>0</td>\n",
       "      <td>26193.745</td>\n",
       "      <td>1010</td>\n",
       "      <td>1</td>\n",
       "      <td>0</td>\n",
       "    </tr>\n",
       "    <tr>\n",
       "      <th>4</th>\n",
       "      <td>o</td>\n",
       "      <td>keydown</td>\n",
       "      <td>0</td>\n",
       "      <td>26321.480</td>\n",
       "      <td>1010</td>\n",
       "      <td>1</td>\n",
       "      <td>0</td>\n",
       "    </tr>\n",
       "  </tbody>\n",
       "</table>\n",
       "</div>"
      ],
      "text/plain": [
       "  key     type  location  timestamp  participant_id  sentence_id  diagnosis\n",
       "0   β  keydown         1  25885.055            1010            1          0\n",
       "1   h  keydown         0  26086.840            1010            1          0\n",
       "2   β    keyup         1  26181.975            1010            1          0\n",
       "3   h    keyup         0  26193.745            1010            1          0\n",
       "4   o  keydown         0  26321.480            1010            1          0"
      ]
     },
     "execution_count": 8,
     "metadata": {},
     "output_type": "execute_result"
    }
   ],
   "source": [
    "out = clean_mrc(df)\n",
    "out.head()"
   ]
  },
  {
   "cell_type": "code",
   "execution_count": 9,
   "metadata": {},
   "outputs": [],
   "source": [
    "df = copy.copy(out)"
   ]
  },
  {
   "cell_type": "markdown",
   "metadata": {},
   "source": [
    "# Protocol to process the MRC data"
   ]
  },
  {
   "cell_type": "markdown",
   "metadata": {},
   "source": [
    "1. A form of `create_char_compression_time_mjff_data` [to get the temporal data] <-- this needs to be set so that we get a list of \n",
    "2. Second use `create_dataframe_from_processed_data`"
   ]
  },
  {
   "cell_type": "code",
   "execution_count": 76,
   "metadata": {},
   "outputs": [],
   "source": [
    "from haberrspd.preprocess import (move_to_strict_striped_type_order, \n",
    "backspace_implementer_mrc,\n",
    "                                  range_extend_mrc,\n",
    "remove_solitary_key_presses,\n",
    "combine_contiguous_shift_keydowns_without_matching_keyup, \n",
    "assess_repeating_key_compression_pattern, \n",
    "make_character_compression_time_sentence_mrc)\n",
    "from collections import defaultdict"
   ]
  },
  {
   "cell_type": "code",
   "execution_count": 58,
   "metadata": {},
   "outputs": [],
   "source": [
    "def create_sentences_from_raw_typing_mrc(df: pd.DataFrame, \n",
    "                                          make_long_format=True,\n",
    "                                          time_redux_fact=10) -> Tuple[dict, list]:\n",
    "\n",
    "    fail = 0\n",
    "    success = 0\n",
    "    corrected_sentences = defaultdict(dict)\n",
    "    broken_sentences = defaultdict(dict)\n",
    "    char_compression_sentences = defaultdict(dict)\n",
    "    for subj_idx in df.participant_id.unique():\n",
    "        # Not all subjects have typed all sentences hence we have to do it this way\n",
    "        print(\"\\t>>>This is subject: %i.\" % subj_idx)\n",
    "        for sent_idx in df.loc[(df.participant_id == subj_idx)].sentence_id.unique():\n",
    "            print(sent_idx, end=\" \")\n",
    "            \n",
    "            # Locate df segment to extract\n",
    "            coordinates = (df.participant_id == subj_idx) & (df.sentence_id == sent_idx)\n",
    "\n",
    "            # Store temporary dataframe because why not\n",
    "            tmp_df = df.loc[coordinates, (\"key\", \"timestamp\", \"type\")].reset_index(drop=True)  # Reset index\n",
    "\n",
    "            # Action order:\n",
    "            #     0. Sort dataset\n",
    "            #     1. Implement backspaces\n",
    "            #     2. Remove contiguous shifts\n",
    "            #     3. Remove solitary keys\n",
    "\n",
    "            # Get correctly ordered sentences and total compression times\n",
    "            tmp_df = move_to_strict_striped_type_order(tmp_df)\n",
    "\n",
    "            # Method to 'implement' the users' backspace actions\n",
    "            backspace_implementer_mrc(tmp_df)\n",
    "\n",
    "            # Removes contiguous shift presses\n",
    "            combine_contiguous_shift_keydowns_without_matching_keyup(tmp_df)\n",
    "\n",
    "            # Remove solitary key-presses which do not have a matching keyup or keydown\n",
    "            remove_solitary_key_presses(tmp_df)\n",
    "\n",
    "            # Check what we managed to achieve\n",
    "            if assess_repeating_key_compression_pattern(tmp_df.type.tolist()):\n",
    "\n",
    "                # Condition succeeds: data-collection is fixed\n",
    "                corrected_sentences[subj_idx][sent_idx] = tmp_df\n",
    "                success += 1\n",
    "\n",
    "            else:\n",
    "\n",
    "                # Condition fails: data-collection is broken\n",
    "                broken_sentences[subj_idx][sent_idx] = tmp_df\n",
    "                fail += 1\n",
    "                print(\"[broken sentence] Participant: {}, Sentence: {}\".format(subj_idx, sent_idx))\n",
    "                \n",
    "        print()\n",
    "\n",
    "    for subj_idx in corrected_sentences.keys():\n",
    "        # Not all subjects have typed all sentences hence we have to do it this way\n",
    "        for sent_idx in corrected_sentences[subj_idx].keys():\n",
    "            if make_long_format:\n",
    "                # Final long-format sentences stored here\n",
    "                char_compression_sentences[subj_idx][sent_idx] = \"\".join(\n",
    "                    make_character_compression_time_sentence_mrc(\n",
    "                        corrected_sentences[subj_idx][sent_idx], time_redux_fact=time_redux_fact\n",
    "                    )\n",
    "                )\n",
    "            else:\n",
    "                # We do not use the time-dimension and look only at the spatial component\n",
    "                # Final long-format sentences stored here\n",
    "                char_compression_sentences[subj_idx][sent_idx] = \"\".join(\n",
    "                    corrected_sentences[subj_idx][sent_idx].key[::2]\n",
    "                )  # [::2] takes into account that we only want one of the keydown-keyup pair.\n",
    "\n",
    "    print(\"Percentage failed: {}\".format(round(100 * (fail / (success + fail)), 2)))\n",
    "    print(fail, success)\n",
    "\n",
    "    return char_compression_sentences, broken_sentences"
   ]
  },
  {
   "cell_type": "code",
   "execution_count": null,
   "metadata": {},
   "outputs": [],
   "source": [
    "new = create_sentences_from_raw_typing_mrc(df)"
   ]
  },
  {
   "cell_type": "markdown",
   "metadata": {},
   "source": [
    "## Fix the sorting mechanism"
   ]
  },
  {
   "cell_type": "code",
   "execution_count": 36,
   "metadata": {},
   "outputs": [],
   "source": [
    "from haberrspd.preprocess import remove_solitary_key_presses\n",
    "from itertools import count "
   ]
  },
  {
   "cell_type": "code",
   "execution_count": 68,
   "metadata": {},
   "outputs": [],
   "source": [
    "def lookup(v, \n",
    "           d={}, \n",
    "           c=count()):\n",
    "    if v in d:\n",
    "        return d.pop(v)\n",
    "    else:\n",
    "        d[v] = next(c)\n",
    "    return d[v]\n",
    "\n",
    "\n",
    "def reorder_key_timestamp_columns_mrc(df: pd.DataFrame):\n",
    "    # Use lookup function to extract the next row-order\n",
    "    df[\"new_row_order\"] = df.key.map(lookup)\n",
    "    return df.sort_values(by=\"new_row_order\", kind=\"mergesort\").drop(\"new_row_order\", axis=1).reset_index(drop=True)\n",
    "\n",
    "\n",
    "def move_to_strict_striped_type_order(df:pd.DataFrame) -> pd.DataFrame:\n",
    "    \n",
    "    # 1. Remove singular characters [in-place operation]\n",
    "    remove_solitary_key_presses(df, False) # Does not operate on backspaces either\n",
    "    \n",
    "    # 2. hide/mask blocks of backspaces and don't re-order these, and then insert them again after the re-order\n",
    "    blocks = [i for i in find_all_backspace_groups(df, \"α\") if len(i) > 2]\n",
    "    if len(blocks) != 0:\n",
    "        text = []\n",
    "        backspaces = []\n",
    "        if len(blocks) == 1:\n",
    "            text.append(reorder_key_timestamp_columns_mrc(df.iloc[0:blocks[0][0]]))\n",
    "            backspaces.append(df.iloc[blocks[0]])\n",
    "            text.append(reorder_key_timestamp_columns_mrc(df.iloc[blocks[0][-1]+1:-1]))\n",
    "        else:\n",
    "            i = 0\n",
    "            for block in blocks:\n",
    "                # Character blocks to be re-ordered\n",
    "                text.append(df.iloc[i,block[0]])\n",
    "                # Backspaces blocks to be left as is\n",
    "                backspaces.append(df.iloc[block])\n",
    "                # Store the coordinate of last index in the backspace block\n",
    "                i = block[-1]\n",
    "            # Append the text block\n",
    "            text.append(df.iloc[i,-1])\n",
    "            \n",
    "        # Recombine all blocks and return\n",
    "        assert len(text) - 1 == len(backspaces)\n",
    "        return pd.concat(list(sum(zip(text, backspaces+[0]),())[:-1]), ignore_index=True)\n",
    "        \n",
    "    else:\n",
    "        # No contiguous blocks, so sort as usual\n",
    "        return reorder_key_timestamp_columns_mrc(df)    "
   ]
  },
  {
   "cell_type": "code",
   "execution_count": 66,
   "metadata": {},
   "outputs": [
    {
     "data": {
      "text/plain": [
       "[1, 'a', 2, 'b', 3]"
      ]
     },
     "execution_count": 66,
     "metadata": {},
     "output_type": "execute_result"
    }
   ],
   "source": [
    "a = [1,2,3]\n",
    "b = ['a','b']\n",
    "list(sum(zip(a, b+[0]), ()  )[:-1])\n",
    "pd.concat(list(sum(zip(a, b+[0]), ()  )[:-1]), ignore_index=True)"
   ]
  },
  {
   "cell_type": "code",
   "execution_count": 69,
   "metadata": {},
   "outputs": [
    {
     "name": "stderr",
     "output_type": "stream",
     "text": [
      "/home/neil/anaconda3/envs/py36/lib/python3.6/site-packages/ipykernel_launcher.py:13: SettingWithCopyWarning: \n",
      "A value is trying to be set on a copy of a slice from a DataFrame.\n",
      "Try using .loc[row_indexer,col_indexer] = value instead\n",
      "\n",
      "See the caveats in the documentation: http://pandas.pydata.org/pandas-docs/stable/user_guide/indexing.html#returning-a-view-versus-a-copy\n",
      "  del sys.path[0]\n"
     ]
    }
   ],
   "source": [
    "out = move_to_strict_striped_type_order(tmp0)"
   ]
  },
  {
   "cell_type": "code",
   "execution_count": 70,
   "metadata": {},
   "outputs": [
    {
     "name": "stdout",
     "output_type": "stream",
     "text": [
      "    key   timestamp     type\n",
      "0     β   98425.515  keydown\n",
      "1     β   98619.790    keyup\n",
      "2     t   98527.630  keydown\n",
      "3     t   98633.330    keyup\n",
      "4     h   98661.565  keydown\n",
      "5     h   98781.095    keyup\n",
      "6     e   98726.280  keydown\n",
      "7     e   98842.220    keyup\n",
      "8         98825.725  keydown\n",
      "9         99001.115    keyup\n",
      "10    β   98880.230  keydown\n",
      "11    β   99126.280    keyup\n",
      "12    f   98977.310  keydown\n",
      "13    f   99078.715    keyup\n",
      "14    r   99136.235  keydown\n",
      "15    r   99235.735    keyup\n",
      "16    a   99245.470  keydown\n",
      "17    a   99388.815    keyup\n",
      "18    n   99309.495  keydown\n",
      "19    n   99471.170    keyup\n",
      "20    k   99401.990  keydown\n",
      "21    k   99545.945    keyup\n",
      "22    s   99528.500  keydown\n",
      "23    s   99640.170    keyup\n",
      "24        99620.045  keydown\n",
      "25        99755.130    keyup\n",
      "26    a   99734.925  keydown\n",
      "27    a   99927.060    keyup\n",
      "28    l   99826.120  keydown\n",
      "29    l   99919.650    keyup\n",
      "30    l   99990.355  keydown\n",
      "31    l  100207.085    keyup\n",
      "32    i  100132.095  keydown\n",
      "33    i  100295.935    keyup\n",
      "34    a  100283.745  keydown\n",
      "35    a  100383.085    keyup\n",
      "36    n  100364.940  keydown\n",
      "37    n  100472.535    keyup\n",
      "38    c  100592.160  keydown\n",
      "39    c  100695.120    keyup\n",
      "40    e  100765.010  keydown\n",
      "41    e  100874.720    keyup\n",
      "42       100914.135  keydown\n",
      "43       101061.205    keyup\n",
      "44    w  101010.585  keydown\n",
      "45    w  101108.415    keyup\n",
      "46    a  101180.130  keydown\n",
      "47    a  101291.405    keyup\n",
      "48    s  101234.915  keydown\n",
      "49    s  101383.515    keyup\n",
      "50       101314.365  keydown\n",
      "51       101497.430    keyup\n",
      "52    i  101505.925  keydown\n",
      "53    i  101686.210    keyup\n",
      "54    m  101624.590  keydown\n",
      "55    m  101803.725    keyup\n",
      "56    p  101738.095  keydown\n",
      "57    p  101943.930    keyup\n",
      "58    o  101847.540  keydown\n",
      "59    o  102031.830    keyup\n",
      "60    r  102064.490  keydown\n",
      "61    r  102175.570    keyup\n",
      "62    a  102215.545  keydown\n",
      "63    a  102379.390    keyup\n",
      "64    n  102352.590  keydown\n",
      "65    n  102469.355    keyup\n",
      "66    t  102459.575  keydown\n",
      "67    t  102588.555    keyup\n",
      "68       102580.810  keydown\n",
      "69       102774.405    keyup\n",
      "70    e  102672.150  keydown\n",
      "71    e  102753.140    keyup\n",
      "72    x  102836.610  keydown\n",
      "73    x  102962.775    keyup\n",
      "74    a  102990.560  keydown\n",
      "75    a  103132.165    keyup\n",
      "76    α  103372.665  keydown\n",
      "77    α  103879.135  keydown\n",
      "78    α  103911.880  keydown\n",
      "79    α  103944.405  keydown\n",
      "80    α  103977.625  keydown\n",
      "81    α  104008.340  keydown\n",
      "82    α  104018.140    keyup\n",
      "83    α  104279.710  keydown\n",
      "84    α  104418.630    keyup\n",
      "85    t  104550.470  keydown\n",
      "86    t  104640.195    keyup\n",
      "87    a  104689.360  keydown\n",
      "88    a  104846.105    keyup\n",
      "89    n  104830.590  keydown\n",
      "90    n  104947.870    keyup\n",
      "91    t  104935.335  keydown\n",
      "92    t  105041.900    keyup\n",
      "93       105012.730  keydown\n",
      "94       105188.260    keyup\n",
      "95    e  105168.490  keydown\n",
      "96    e  105248.790    keyup\n",
      "97    x  105327.185  keydown\n",
      "98    x  105508.180    keyup\n",
      "99    a  105774.885  keydown\n",
      "100   a  105908.580    keyup\n",
      "101   c  106000.615  keydown\n",
      "102   c  106165.210    keyup\n",
      "103   p  106109.950  keydown\n",
      "104   p  106231.040    keyup\n",
      "105   α  106497.430  keydown\n",
      "106   α  106586.315    keyup\n",
      "107   t  106787.340  keydown\n",
      "108   t  106924.555    keyup\n",
      "109   l  106906.265  keydown\n",
      "110   l  107085.845    keyup\n",
      "111   y  107039.160  keydown\n",
      "112   y  107141.120    keyup\n",
      "113      107254.195  keydown\n",
      "114      107398.285    keyup\n",
      "115   b  107404.215  keydown\n",
      "116   b  107485.140    keyup\n",
      "117   e  107550.360  keydown\n",
      "118   e  107651.615    keyup\n",
      "119   c  107706.545  keydown\n",
      "120   c  107821.380    keyup\n",
      "121   a  107806.335  keydown\n",
      "122   a  107927.750    keyup\n",
      "123   u  107914.995  keydown\n",
      "124   u  108027.170    keyup\n",
      "125   s  107974.440  keydown\n",
      "126   s  108109.460    keyup\n",
      "127   e  108066.630  keydown\n",
      "128   e  108210.715    keyup\n",
      "129      108161.580  keydown\n",
      "130      108278.240    keyup\n",
      "131   o  108262.725  keydown\n",
      "132   o  108430.760    keyup\n",
      "133   f  108335.015  keydown\n",
      "134   f  108424.450    keyup\n",
      "135      108414.560  keydown\n",
      "136      108560.600    keyup\n",
      "137   t  108476.665  keydown\n",
      "138   t  108572.185    keyup\n",
      "139   h  108564.670  keydown\n",
      "140   h  108690.105    keyup\n",
      "141   e  108645.740  keydown\n",
      "142   e  108757.600    keyup\n",
      "143   i  108771.775  keydown\n",
      "144   i  108884.265    keyup\n",
      "145   r  108849.280  keydown\n",
      "146   r  109029.830    keyup\n",
      "147      108931.395  keydown\n",
      "148      109067.700    keyup\n",
      "149   r  109578.895  keydown\n",
      "150   r  109736.275    keyup\n",
      "151   e  109720.355  keydown\n",
      "152   e  109881.605    keyup\n",
      "153   n  109980.920  keydown\n",
      "154   n  110085.080    keyup\n",
      "155   o  110091.775  keydown\n",
      "156   o  110201.555    keyup\n",
      "157   w  110269.125  keydown\n",
      "158   w  110462.460    keyup\n",
      "159   n  110388.055  keydown\n",
      "160   n  110521.075    keyup\n",
      "161      110591.050  keydown\n",
      "162      110698.220    keyup\n",
      "163   h  110765.435  keydown\n",
      "164   h  110874.725    keyup\n",
      "165   o  110852.380  keydown\n",
      "166   o  110988.310    keyup\n",
      "167   s  111016.105  keydown\n",
      "168   s  111164.620    keyup\n",
      "169   t  111200.005  keydown\n",
      "170   t  111361.525    keyup\n",
      "171   i  111276.420  keydown\n",
      "172   i  111386.260    keyup\n",
      "173   l  111448.245  keydown\n",
      "174   l  111598.280    keyup\n",
      "175   i  111512.405  keydown\n",
      "176   i  111672.070    keyup\n",
      "177   t  111675.360  keydown\n",
      "178   t  111802.635    keyup\n",
      "179   y  111741.550  keydown\n",
      "180   y  111874.630    keyup\n",
      "181      111845.335  keydown\n",
      "182      111981.440    keyup\n",
      "183   t  111932.010  keydown\n",
      "184   t  112026.690    keyup\n",
      "185   o  112006.895  keydown\n",
      "186   o  112140.390    keyup\n",
      "187   w  112106.665  keydown\n",
      "188   w  112190.380    keyup\n",
      "189   a  112232.125  keydown\n",
      "190   a  112367.020    keyup\n",
      "191   r  112319.105  keydown\n",
      "192   r  112444.105    keyup\n",
      "193   s  112597.120  keydown\n",
      "194   s  112781.005    keyup\n",
      "195   α  113126.415  keydown\n",
      "196   α  113221.070    keyup\n",
      "197   d  113232.380  keydown\n",
      "198   d  113344.465    keyup\n",
      "199   s  113304.525  keydown\n",
      "200   s  113459.680    keyup\n",
      "201      113451.265  keydown\n",
      "202      113568.730    keyup\n",
      "203   t  113543.005  keydown\n",
      "204   t  113667.815    keyup\n",
      "205   h  113675.445  keydown\n",
      "206   h  113789.510    keyup\n",
      "207   e  113715.235  keydown\n",
      "208   e  113888.250    keyup\n",
      "209      113858.390  keydown\n",
      "210      113967.980    keyup\n",
      "211   β  114012.835  keydown\n",
      "212   β  114181.535    keyup\n",
      "213   b  114104.850  keydown\n",
      "214   b  114208.220    keyup\n",
      "215   y  114285.820  keydown\n",
      "216   y  114390.065    keyup\n",
      "217   s  114492.065  keydown\n",
      "218   s  114685.720    keyup\n",
      "219   α  115026.470  keydown\n",
      "220   α  115115.575    keyup\n",
      "221   z  115132.055  keydown\n",
      "222   z  115207.485    keyup\n",
      "223   a  115287.710  keydown\n",
      "224   a  115360.520    keyup\n",
      "225   n  115373.020  keydown\n",
      "226   n  115470.155    keyup\n",
      "227   s  115574.420  keydown\n",
      "228   s  115721.175    keyup\n",
      "229   α  115909.355  keydown\n",
      "230   α  115981.405    keyup\n",
      "231   t  116034.040  keydown\n",
      "232   t  116165.120    keyup\n",
      "233   i  116138.440  keydown\n",
      "234   i  116295.620    keyup\n",
      "235   n  116216.665  keydown\n",
      "236   n  116318.535    keyup\n",
      "237   e  116289.290  keydown\n",
      "238   e  116493.190    keyup\n",
      "239   £  116729.550  keydown\n"
     ]
    }
   ],
   "source": [
    "with pd.option_context('display.max_rows', None, 'display.max_columns', None):\n",
    "    print(out)"
   ]
  },
  {
   "cell_type": "code",
   "execution_count": null,
   "metadata": {},
   "outputs": [],
   "source": [
    "tmp0 = df.loc[(df.participant_id == 1072) & (df.sentence_id == 4), (\"key\", \"timestamp\", \"type\")].reset_index(drop=True)  # Reset index\n",
    "\n",
    "# tmp1 = move_to_strict_striped_type_order(tmp0)\n",
    "\n",
    "with pd.option_context('display.max_rows', None, 'display.max_columns', None):\n",
    "    print(tmp0)"
   ]
  },
  {
   "cell_type": "code",
   "execution_count": 42,
   "metadata": {},
   "outputs": [],
   "source": [
    "def remove_solitary_key_presses(df, verbose=False):\n",
    "\n",
    "    suspect_keys = []\n",
    "    for key, value in Counter(df.key.tolist()).items():\n",
    "        if value % 2 != 0:\n",
    "            # Find all keys which appear an unequal number of times\n",
    "            suspect_keys.append(key)\n",
    "\n",
    "    # Do not remove \"correction identifier key\" i.e. €\n",
    "    suspect_keys = [key for key in suspect_keys if key not in {\"€\", \"α\"}]\n",
    "\n",
    "    if verbose:\n",
    "        print(suspect_keys)\n",
    "\n",
    "    # Find all instances of suspect keys in df\n",
    "    if len(suspect_keys) != 0:\n",
    "        indices_to_keep = []\n",
    "        all_idxs = []\n",
    "        for key in suspect_keys:\n",
    "            idxs = df.loc[df.key == key].index\n",
    "            all_idxs.extend(idxs)\n",
    "            # If there is more than one such key\n",
    "            for pair in list(zip(idxs, idxs[1:]))[::2]:\n",
    "                if pair[1] - pair[0] == 1:\n",
    "                    indices_to_keep.extend(pair)\n",
    "\n",
    "        # Take set difference to find what's left\n",
    "        indices_to_remove = list(set(all_idxs) - set(indices_to_keep))\n",
    "\n",
    "        # In-place operation, no need to return anything. Cannot reset index at this point.\n",
    "        df.drop(df.index[indices_to_remove], inplace=True)\n",
    "        # Reset index so that we can sort it properly in the next step\n",
    "        df.reset_index(drop=True, inplace=True)\n",
    "        \n",
    "def find_all_backspace_groups(df, backspace_char):\n",
    "    ids = df.index[(df.key == backspace_char)].tolist()\n",
    "    groups = []\n",
    "    for k, g in groupby(enumerate(sorted(ids)), lambda ix: ix[1] - ix[0]):\n",
    "        groups.append(list(map(itemgetter(1), g)))\n",
    "    \n",
    "    return groups"
   ]
  },
  {
   "cell_type": "code",
   "execution_count": 340,
   "metadata": {},
   "outputs": [],
   "source": [
    "def test(df, backspace_char = \"α\"):\n",
    "    # 0) Remove any singular backspaces that appear bc. data-reading problems\n",
    "    remove = []\n",
    "    groups = find_all_backspace_groups(df, backspace_char)\n",
    "        \n",
    "    # Only remove ones which are actually only of list length 1\n",
    "    for g in groups:\n",
    "        # Data-reading error\n",
    "        if len(g) == 1:\n",
    "            remove.extend(g)\n",
    "        # We replace these inline so we don't have to do it later\n",
    "        elif len(g) == 2:\n",
    "            # Place indicators [keydown]\n",
    "            df.loc[g[0], \"key\"] = \"€\"\n",
    "            # Place indicators [keyup]\n",
    "            df.loc[g[1], \"key\"] = \"€\"\n",
    "        else:\n",
    "            # This line checks if a backspace (keydown,keyup) is included in a contiguous sequence\n",
    "            t = df.loc[g,'type'].tolist()\n",
    "            for i, pair in enumerate(list(zip(t, t[1:]))):\n",
    "                if df.loc[g[i-1],'type'] != 'keydown':\n",
    "                    if pair == ('keydown', 'keyup') or pair == ('keyup', 'keydown'):\n",
    "                        print('bob', g[i],g[i+1])\n",
    "                        # Place indicators [keydown]\n",
    "                        df.loc[g[i], \"key\"] = \"€\"\n",
    "                        # Place indicators [keyup]\n",
    "                        df.loc[g[i+1], \"key\"] = \"€\"\n",
    "                        \n",
    "                        a,b = g[i],g[i+1]\n",
    "\n",
    "    if remove:\n",
    "        # In-place droppping of rows with only one backspace\n",
    "        df.drop(df.index[remove], inplace=True)\n",
    "        # Reset index so that we can sort it properly in the next step\n",
    "        df.reset_index(drop=True, inplace=True)\n",
    "        \n",
    "    print(df.loc[a, \"key\"],df.loc[b, \"key\"])\n",
    "        \n",
    "    # 1) Delete all backspace+keyups to start with\n",
    "    idxs_up = df.index[(df.key == backspace_char) & (df.type == \"keyup\")].tolist()\n",
    "    # Copy these rows for later use\n",
    "    df_keyup = df.iloc[idxs_up].copy(deep=True)\n",
    "    # In-place dropping of these rows\n",
    "    df.drop(df.index[idxs_up], inplace=True)\n",
    "    # Reset index so that we can sort it properly in the next step\n",
    "    df.reset_index(drop=True, inplace=True)\n",
    "\n",
    "    # 2) Find all remaining backspace+keydowns\n",
    "    idxs = df.index[(df.key == backspace_char) & (df.type == \"keydown\")].tolist()\n",
    "    print(idxs)\n",
    "    contiguous_groups = []\n",
    "    for k, g in groupby(enumerate(sorted(idxs)), lambda ix: ix[1] - ix[0]):\n",
    "        contiguous_groups.append(list(map(itemgetter(1), g)))\n",
    "        \n",
    "    indices_to_remove = []\n",
    "    if idxs:\n",
    "        for g in contiguous_groups:\n",
    "\n",
    "            gg = range_extend_mrc(g)\n",
    "            # If any negative indices, correct and move indicator characters\n",
    "            if any(i < 0 for i in gg):\n",
    "                gg = list(filter(lambda x: x >= 0, gg))\n",
    "                indices_to_remove.extend(gg[1:-1])\n",
    "                # Place indicators [keydown]\n",
    "                df.loc[gg[0], [\"key\", \"type\"]] = [\"€\", \"keydown\"]\n",
    "            else:\n",
    "                indices_to_remove.extend(gg[1:-1]) # replaced [3:-1]\n",
    "                # Place indicators [keydown]\n",
    "                df.loc[gg[0], [\"key\", \"type\"]] = [\"€\", \"keydown\"] # replaced [2]\n",
    "\n",
    "            # Place indicators [keyup]\n",
    "            # Given a value of keydown timestamp (z), select a row in the keyup df\n",
    "            # where timestamp is closest to z.\n",
    "            keyup_timestamp = df_keyup.loc[(df_keyup[\"timestamp\"] \n",
    "                                            >= df.loc[gg[-1], \"timestamp\"])].timestamp.values[0]\n",
    "            df.loc[gg[-1], (\"key\", \"timestamp\", \"type\")] = [\"€\", keyup_timestamp, \"keyup\"]\n",
    "            \n",
    "        # In-place operation, no need to return anything. Cannot reset index at this point.\n",
    "        df.drop(df.index[indices_to_remove], inplace=True)\n",
    "\n",
    "        # Reset index so that we can sort it properly in the next step\n",
    "        df.reset_index(drop=True, inplace=True)\n",
    "\n",
    "        # Check that the indicators appear in the right places\n",
    "        indicator_indices = df.index[(df.key == \"€\")].tolist()\n",
    "        for pair in list(zip(indicator_indices, indicator_indices[1:]))[::2]:\n",
    "            assert pair[1] - pair[0] == 1, indicator_indices\n",
    "        assert backspace_char not in df.key.tolist()\n",
    "        \n",
    "    return idxs_up, groups, df_keyup, contiguous_groups"
   ]
  },
  {
   "cell_type": "code",
   "execution_count": null,
   "metadata": {},
   "outputs": [],
   "source": [
    "test_df = tmp0.copy(deep=True)"
   ]
  },
  {
   "cell_type": "code",
   "execution_count": 342,
   "metadata": {},
   "outputs": [
    {
     "name": "stdout",
     "output_type": "stream",
     "text": [
      "bob 83 84\n",
      "€ €\n",
      "[76, 77, 78, 79, 80, 81]\n"
     ]
    }
   ],
   "source": [
    "out = test(test_df)"
   ]
  },
  {
   "cell_type": "code",
   "execution_count": 331,
   "metadata": {},
   "outputs": [
    {
     "data": {
      "text/plain": [
       "[82]"
      ]
     },
     "execution_count": 331,
     "metadata": {},
     "output_type": "execute_result"
    }
   ],
   "source": [
    "out[0]"
   ]
  },
  {
   "cell_type": "code",
   "execution_count": 332,
   "metadata": {},
   "outputs": [
    {
     "data": {
      "text/plain": [
       "[[76, 77, 78, 79, 80, 81, 82, 83, 84],\n",
       " [105, 106],\n",
       " [195, 196],\n",
       " [219, 220],\n",
       " [229, 230]]"
      ]
     },
     "execution_count": 332,
     "metadata": {},
     "output_type": "execute_result"
    }
   ],
   "source": [
    "out[1]"
   ]
  },
  {
   "cell_type": "code",
   "execution_count": 333,
   "metadata": {},
   "outputs": [
    {
     "data": {
      "text/html": [
       "<div>\n",
       "<style scoped>\n",
       "    .dataframe tbody tr th:only-of-type {\n",
       "        vertical-align: middle;\n",
       "    }\n",
       "\n",
       "    .dataframe tbody tr th {\n",
       "        vertical-align: top;\n",
       "    }\n",
       "\n",
       "    .dataframe thead th {\n",
       "        text-align: right;\n",
       "    }\n",
       "</style>\n",
       "<table border=\"1\" class=\"dataframe\">\n",
       "  <thead>\n",
       "    <tr style=\"text-align: right;\">\n",
       "      <th></th>\n",
       "      <th>key</th>\n",
       "      <th>timestamp</th>\n",
       "      <th>type</th>\n",
       "    </tr>\n",
       "  </thead>\n",
       "  <tbody>\n",
       "    <tr>\n",
       "      <th>82</th>\n",
       "      <td>α</td>\n",
       "      <td>104018.14</td>\n",
       "      <td>keyup</td>\n",
       "    </tr>\n",
       "  </tbody>\n",
       "</table>\n",
       "</div>"
      ],
      "text/plain": [
       "   key  timestamp   type\n",
       "82   α  104018.14  keyup"
      ]
     },
     "execution_count": 333,
     "metadata": {},
     "output_type": "execute_result"
    }
   ],
   "source": [
    "out[2]"
   ]
  },
  {
   "cell_type": "code",
   "execution_count": 334,
   "metadata": {},
   "outputs": [
    {
     "data": {
      "text/plain": [
       "[[76, 77, 78, 79, 80, 81]]"
      ]
     },
     "execution_count": 334,
     "metadata": {},
     "output_type": "execute_result"
    }
   ],
   "source": [
    "out[3]"
   ]
  },
  {
   "cell_type": "code",
   "execution_count": null,
   "metadata": {},
   "outputs": [],
   "source": [
    "with pd.option_context('display.max_rows', None, 'display.max_columns', None):\n",
    "    print(test_df)"
   ]
  },
  {
   "cell_type": "code",
   "execution_count": 48,
   "metadata": {},
   "outputs": [
    {
     "name": "stdout",
     "output_type": "stream",
     "text": [
      "    key   timestamp     type\n",
      "0     β   98425.515  keydown\n",
      "1     t   98527.630  keydown\n",
      "2     β   98619.790    keyup\n",
      "3     t   98633.330    keyup\n",
      "4     h   98661.565  keydown\n",
      "5     e   98726.280  keydown\n",
      "6     h   98781.095    keyup\n",
      "7         98825.725  keydown\n",
      "8     e   98842.220    keyup\n",
      "9     β   98880.230  keydown\n",
      "10    f   98977.310  keydown\n",
      "11        99001.115    keyup\n",
      "12    f   99078.715    keyup\n",
      "13    β   99126.280    keyup\n",
      "14    r   99136.235  keydown\n",
      "15    r   99235.735    keyup\n",
      "16    a   99245.470  keydown\n",
      "17    n   99309.495  keydown\n",
      "18    a   99388.815    keyup\n",
      "19    k   99401.990  keydown\n",
      "20    n   99471.170    keyup\n",
      "21    s   99528.500  keydown\n",
      "22    k   99545.945    keyup\n",
      "23        99620.045  keydown\n",
      "24    s   99640.170    keyup\n",
      "25    a   99734.925  keydown\n",
      "26        99755.130    keyup\n",
      "27    l   99826.120  keydown\n",
      "28    l   99919.650    keyup\n",
      "29    a   99927.060    keyup\n",
      "30    l   99990.355  keydown\n",
      "31    i  100132.095  keydown\n",
      "32    l  100207.085    keyup\n",
      "33    a  100283.745  keydown\n",
      "34    i  100295.935    keyup\n",
      "35    n  100364.940  keydown\n",
      "36    a  100383.085    keyup\n",
      "37    n  100472.535    keyup\n",
      "38    c  100592.160  keydown\n",
      "39    c  100695.120    keyup\n",
      "40    e  100765.010  keydown\n",
      "41    e  100874.720    keyup\n",
      "42       100914.135  keydown\n",
      "43    w  101010.585  keydown\n",
      "44       101061.205    keyup\n",
      "45    w  101108.415    keyup\n",
      "46    a  101180.130  keydown\n",
      "47    s  101234.915  keydown\n",
      "48    a  101291.405    keyup\n",
      "49       101314.365  keydown\n",
      "50    s  101383.515    keyup\n",
      "51       101497.430    keyup\n",
      "52    i  101505.925  keydown\n",
      "53    m  101624.590  keydown\n",
      "54    i  101686.210    keyup\n",
      "55    p  101738.095  keydown\n",
      "56    m  101803.725    keyup\n",
      "57    o  101847.540  keydown\n",
      "58    p  101943.930    keyup\n",
      "59    o  102031.830    keyup\n",
      "60    r  102064.490  keydown\n",
      "61    r  102175.570    keyup\n",
      "62    a  102215.545  keydown\n",
      "63    n  102352.590  keydown\n",
      "64    a  102379.390    keyup\n",
      "65    t  102459.575  keydown\n",
      "66    n  102469.355    keyup\n",
      "67       102580.810  keydown\n",
      "68    t  102588.555    keyup\n",
      "69    e  102672.150  keydown\n",
      "70    e  102753.140    keyup\n",
      "71       102774.405    keyup\n",
      "72    x  102836.610  keydown\n",
      "73    x  102962.775    keyup\n",
      "74    a  102990.560  keydown\n",
      "75    a  103132.165    keyup\n",
      "76    α  103372.665  keydown\n",
      "77    α  103879.135  keydown\n",
      "78    α  103911.880  keydown\n",
      "79    α  103944.405  keydown\n",
      "80    α  103977.625  keydown\n",
      "81    α  104008.340  keydown\n",
      "82    α  104018.140    keyup\n",
      "83    α  104279.710  keydown\n",
      "84    α  104418.630    keyup\n",
      "85    t  104550.470  keydown\n",
      "86    t  104640.195    keyup\n",
      "87    a  104689.360  keydown\n",
      "88    n  104830.590  keydown\n",
      "89    a  104846.105    keyup\n",
      "90    t  104935.335  keydown\n",
      "91    n  104947.870    keyup\n",
      "92       105012.730  keydown\n",
      "93    t  105041.900    keyup\n",
      "94    e  105168.490  keydown\n",
      "95       105188.260    keyup\n",
      "96    e  105248.790    keyup\n",
      "97    x  105327.185  keydown\n",
      "98    x  105508.180    keyup\n",
      "99    a  105774.885  keydown\n",
      "100   a  105908.580    keyup\n",
      "101   c  106000.615  keydown\n",
      "102   p  106109.950  keydown\n",
      "103   c  106165.210    keyup\n",
      "104   p  106231.040    keyup\n",
      "105   α  106497.430  keydown\n",
      "106   α  106586.315    keyup\n",
      "107   t  106787.340  keydown\n",
      "108   l  106906.265  keydown\n",
      "109   t  106924.555    keyup\n",
      "110   y  107039.160  keydown\n",
      "111   l  107085.845    keyup\n",
      "112   y  107141.120    keyup\n",
      "113      107254.195  keydown\n",
      "114      107398.285    keyup\n",
      "115   b  107404.215  keydown\n",
      "116   b  107485.140    keyup\n",
      "117   e  107550.360  keydown\n",
      "118   e  107651.615    keyup\n",
      "119   c  107706.545  keydown\n",
      "120   a  107806.335  keydown\n",
      "121   c  107821.380    keyup\n",
      "122   u  107914.995  keydown\n",
      "123   a  107927.750    keyup\n",
      "124   s  107974.440  keydown\n",
      "125   u  108027.170    keyup\n",
      "126   e  108066.630  keydown\n",
      "127   s  108109.460    keyup\n",
      "128      108161.580  keydown\n",
      "129   e  108210.715    keyup\n",
      "130   o  108262.725  keydown\n",
      "131      108278.240    keyup\n",
      "132   f  108335.015  keydown\n",
      "133      108414.560  keydown\n",
      "134   f  108424.450    keyup\n",
      "135   o  108430.760    keyup\n",
      "136   t  108476.665  keydown\n",
      "137      108560.600    keyup\n",
      "138   h  108564.670  keydown\n",
      "139   t  108572.185    keyup\n",
      "140   e  108645.740  keydown\n",
      "141   h  108690.105    keyup\n",
      "142   e  108757.600    keyup\n",
      "143   i  108771.775  keydown\n",
      "144   r  108849.280  keydown\n",
      "145   i  108884.265    keyup\n",
      "146      108931.395  keydown\n",
      "147   r  109029.830    keyup\n",
      "148      109067.700    keyup\n",
      "149   r  109578.895  keydown\n",
      "150   e  109720.355  keydown\n",
      "151   r  109736.275    keyup\n",
      "152   e  109881.605    keyup\n",
      "153   n  109980.920  keydown\n",
      "154   n  110085.080    keyup\n",
      "155   o  110091.775  keydown\n",
      "156   o  110201.555    keyup\n",
      "157   w  110269.125  keydown\n",
      "158   n  110388.055  keydown\n",
      "159   w  110462.460    keyup\n",
      "160   n  110521.075    keyup\n",
      "161      110591.050  keydown\n",
      "162      110698.220    keyup\n",
      "163   h  110765.435  keydown\n",
      "164   o  110852.380  keydown\n",
      "165   h  110874.725    keyup\n",
      "166   o  110988.310    keyup\n",
      "167   s  111016.105  keydown\n",
      "168   s  111164.620    keyup\n",
      "169   t  111200.005  keydown\n",
      "170   i  111276.420  keydown\n",
      "171   t  111361.525    keyup\n",
      "172   i  111386.260    keyup\n",
      "173   l  111448.245  keydown\n",
      "174   i  111512.405  keydown\n",
      "175   l  111598.280    keyup\n",
      "176   i  111672.070    keyup\n",
      "177   t  111675.360  keydown\n",
      "178   y  111741.550  keydown\n",
      "179   t  111802.635    keyup\n",
      "180      111845.335  keydown\n",
      "181   y  111874.630    keyup\n",
      "182   t  111932.010  keydown\n",
      "183      111981.440    keyup\n",
      "184   o  112006.895  keydown\n",
      "185   t  112026.690    keyup\n",
      "186   w  112106.665  keydown\n",
      "187   o  112140.390    keyup\n",
      "188   w  112190.380    keyup\n",
      "189   a  112232.125  keydown\n",
      "190   r  112319.105  keydown\n",
      "191   a  112367.020    keyup\n",
      "192   r  112444.105    keyup\n",
      "193   s  112597.120  keydown\n",
      "194   s  112781.005    keyup\n",
      "195   α  113126.415  keydown\n",
      "196   α  113221.070    keyup\n",
      "197   d  113232.380  keydown\n",
      "198   s  113304.525  keydown\n",
      "199   d  113344.465    keyup\n",
      "200      113451.265  keydown\n",
      "201   s  113459.680    keyup\n",
      "202   t  113543.005  keydown\n",
      "203      113568.730    keyup\n",
      "204   t  113667.815    keyup\n",
      "205   h  113675.445  keydown\n",
      "206   e  113715.235  keydown\n",
      "207   h  113789.510    keyup\n",
      "208      113858.390  keydown\n",
      "209   e  113888.250    keyup\n",
      "210      113967.980    keyup\n",
      "211   β  114012.835  keydown\n",
      "212   b  114104.850  keydown\n",
      "213   β  114181.535    keyup\n",
      "214   b  114208.220    keyup\n",
      "215   y  114285.820  keydown\n",
      "216   y  114390.065    keyup\n",
      "217   s  114492.065  keydown\n",
      "218   s  114685.720    keyup\n",
      "219   α  115026.470  keydown\n",
      "220   α  115115.575    keyup\n",
      "221   z  115132.055  keydown\n",
      "222   z  115207.485    keyup\n",
      "223   a  115287.710  keydown\n",
      "224   a  115360.520    keyup\n",
      "225   n  115373.020  keydown\n",
      "226   n  115470.155    keyup\n",
      "227   s  115574.420  keydown\n",
      "228   s  115721.175    keyup\n",
      "229   α  115909.355  keydown\n",
      "230   α  115981.405    keyup\n",
      "231   t  116034.040  keydown\n",
      "232   i  116138.440  keydown\n",
      "233   t  116165.120    keyup\n",
      "234   n  116216.665  keydown\n",
      "235   e  116289.290  keydown\n",
      "236   i  116295.620    keyup\n",
      "237   n  116318.535    keyup\n",
      "238   e  116493.190    keyup\n",
      "239   £  116729.550  keydown\n",
      "240   £  116835.630    keyup\n"
     ]
    }
   ],
   "source": [
    "with pd.option_context('display.max_rows', None, 'display.max_columns', None):\n",
    "    print(tmp0)"
   ]
  },
  {
   "cell_type": "code",
   "execution_count": null,
   "metadata": {},
   "outputs": [],
   "source": [
    "import pdb, traceback, sys\n",
    "\n",
    "try:\n",
    "    annoying_fuck = backspace_implementer_mrc(test_df)\n",
    "except:\n",
    "    extype, value, tb = sys.exc_info()\n",
    "    traceback.print_exc()\n",
    "    pdb.post_mortem(tb)"
   ]
  }
 ],
 "metadata": {
  "kernelspec": {
   "display_name": "Python 3",
   "language": "python",
   "name": "python3"
  },
  "language_info": {
   "codemirror_mode": {
    "name": "ipython",
    "version": 3
   },
   "file_extension": ".py",
   "mimetype": "text/x-python",
   "name": "python",
   "nbconvert_exporter": "python",
   "pygments_lexer": "ipython3",
   "version": "3.6.9"
  }
 },
 "nbformat": 4,
 "nbformat_minor": 4
}
