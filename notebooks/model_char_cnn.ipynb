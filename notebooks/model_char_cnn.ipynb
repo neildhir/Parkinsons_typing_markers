{
 "cells": [
  {
   "cell_type": "code",
   "execution_count": 1,
   "metadata": {},
   "outputs": [
    {
     "name": "stderr",
     "output_type": "stream",
     "text": [
      "Using TensorFlow backend.\n"
     ]
    }
   ],
   "source": [
    "%load_ext autoreload\n",
    "%autoreload 2 \n",
    "%matplotlib inline\n",
    "# This blokc is important if we want the memory to grow on the GPU, and not block allocate the whole thing\n",
    "import tensorflow as tf\n",
    "from keras.backend.tensorflow_backend import set_session\n",
    "from datetime import datetime\n",
    "import os\n",
    "from pathlib import Path\n",
    "from sklearn.utils import class_weight \n",
    "# Hyperparam opt\n",
    "import talos as ta\n",
    "\n",
    "config = tf.ConfigProto()\n",
    "config.gpu_options.allow_growth = True\n",
    "set_session(tf.Session(config=config))\n",
    "\n",
    "# Set path to find modelling tools for later use\n",
    "import sys\n",
    "sys.path.append(os.path.join(os.getcwd(),\"..\"))\n",
    "# Global params live here\n",
    "import haberrspd.charCNN.globals"
   ]
  },
  {
   "cell_type": "markdown",
   "metadata": {},
   "source": [
    "## Assign a loss function"
   ]
  },
  {
   "cell_type": "code",
   "execution_count": null,
   "metadata": {},
   "outputs": [],
   "source": [
    "loss_func = 'squared_hinge'\n",
    "\n",
    "if loss_func == 'hinge' or loss_func == 'squared_hinge':\n",
    "    y_train = [-1 if x==0 else x for x in y_train]\n",
    "    y_test = [-1 if x==0 else x for x in y_test]\n",
    "    \n",
    "if loss_func == 'binary_crossentropy':\n",
    "    # Check if label-space is correct\n",
    "    if (-1 in y_train) or (-1 in y_test):\n",
    "        y_train = [0 if x==-1 else x for x in y_train]\n",
    "        y_test = [0 if x==-1 else x for x in y_test]"
   ]
  },
  {
   "cell_type": "markdown",
   "metadata": {},
   "source": [
    "## Train model"
   ]
  },
  {
   "cell_type": "code",
   "execution_count": null,
   "metadata": {},
   "outputs": [],
   "source": [
    "# Compile\n",
    "model.compile(loss=loss_func,  # TODO: change to cosine loss, cosine_proximity, binary_crossentropy\n",
    "              optimizer='adam',            # TODO: check which is most appropriate\n",
    "              metrics=['accuracy'])        # Probs other options here which are more useful\n",
    "\n",
    "# Check if checkpoints dir exists, if not make it\n",
    "if not os.path.exists('../../keras_checkpoints'):\n",
    "    os.makedirs('../../keras_checkpoints')\n",
    "\n",
    "# Callbacks\n",
    "file_name = \"char-CNN\"\n",
    "check_cb = ModelCheckpoint(file_name + '.{epoch:02d}-{val_loss:.2f}.hdf5',\n",
    "                           monitor='val_loss',\n",
    "                           verbose=0,\n",
    "                           save_best_only=True,\n",
    "                           mode='min')\n",
    "\n",
    "earlystop_cb = EarlyStopping(monitor='val_loss',\n",
    "                             patience=7,\n",
    "                             verbose=0,\n",
    "                             mode='auto')\n",
    "\n",
    "# history = LossHistory()\n",
    "\"\"\"\n",
    "TODO:\n",
    "\n",
    "-Add class-weight option to take into account class-imbalance on patients and controls\n",
    "\"\"\"\n",
    "fit_hist = model.fit(X_train,\n",
    "                     y_train,\n",
    "                     validation_data=(X_test, y_test),\n",
    "                     verbose=0, # Set to zero if using live plotting of losses\n",
    "                     class_weight = class_weights,\n",
    "                     batch_size=128,\n",
    "                     epochs=40,\n",
    "                     #shuffle=True, # Our data is already shuffled during data loading\n",
    "                     callbacks=[\n",
    "                                #check_cb,\n",
    "                                #tensorboard_callback,\n",
    "                                PlotLossesCallback(),\n",
    "                                #earlystop_cb\n",
    "                               ]\n",
    "                    )"
   ]
  },
  {
   "cell_type": "markdown",
   "metadata": {},
   "source": [
    "# TALOS: hyperparameter optimisation"
   ]
  },
  {
   "cell_type": "code",
   "execution_count": 3,
   "metadata": {},
   "outputs": [],
   "source": [
    "from haberrspd.charCNN.models_tf import char_cnn_model_talos\n",
    "from haberrspd.charCNN.auxiliary_tf import create_training_data_keras\n",
    "from numpy import vstack, asarray"
   ]
  },
  {
   "cell_type": "markdown",
   "metadata": {},
   "source": [
    "### Main"
   ]
  },
  {
   "cell_type": "code",
   "execution_count": 25,
   "metadata": {},
   "outputs": [
    {
     "data": {
      "text/plain": [
       "382205952"
      ]
     },
     "execution_count": 25,
     "metadata": {},
     "output_type": "execute_result"
    }
   ],
   "source": [
    "class_weights,max_sentence_length = None,None # These needs to be set\n",
    "# Set the parameter space\n",
    "opt_params ={'conv_output_space' : [8,16,32,64],\n",
    "             'number_of_large_filters' : [1,2,3,4],             \n",
    "             'number_of_small_filters' : [1,2,3,4],\n",
    "             'large_filter_lengt' : [30,60,120],\n",
    "             'small_filter_lengt' : [5,10,20],\n",
    "             'pool_length' : [2,4,8,16],\n",
    "             'dense_units_layer_3' : [32,16,8,4],\n",
    "             'dense_units_layer_2' : [32,16,8,4],\n",
    "             'batch_size': [8,16,32,64],\n",
    "             'epochs': [200], # Use early stopping instead\n",
    "             'dropout': (0, 0.5, 5),\n",
    "             'conv_kernel_initializer': ['uniform','normal'],\n",
    "             'conv_bias_initializer': ['uniform','normal'],\n",
    "             'dense_kernel_initializer': ['uniform','normal'],\n",
    "             'dense_bias_initializer': ['uniform','normal'],\n",
    "             'optimizer': ['adam', 'nadam', 'rmsprop'],\n",
    "             'loss': ['logcosh', 'binary_crossentropy'],\n",
    "             'conv_activation':['relu', 'elu'],\n",
    "             'dense_activation':['relu', 'elu'],\n",
    "             'last_activation': ['sigmoid'],\n",
    "             # Stationary parameters, i.e. do not get optimised\n",
    "             'max_sentence_length':[max_sentence_length]\n",
    "            }\n",
    "\n",
    "\"\"\"\n",
    "'sgd': SGD,\n",
    "'rmsprop': RMSprop,\n",
    "'adagrad': Adagrad,\n",
    "'adadelta': Adadelta,\n",
    "'adam': Adam,\n",
    "'adamax': Adamax,\n",
    "'nadam': Nadam\n",
    "\"\"\"\n",
    "\n",
    "def size_of_optimisation_space(opt_params):\n",
    "    space = 1\n",
    "    for attribute in opt_params.keys():\n",
    "        space*=len(opt_params[attribute])\n",
    "        \n",
    "    return space\n",
    "\n",
    "int(size_of_optimisation_space(opt_params)*0.01)"
   ]
  },
  {
   "cell_type": "markdown",
   "metadata": {},
   "source": [
    "### Small"
   ]
  },
  {
   "cell_type": "code",
   "execution_count": 4,
   "metadata": {},
   "outputs": [
    {
     "name": "stdout",
     "output_type": "stream",
     "text": [
      "Total number of characters: 49\n",
      "{0: 0.7851796407185628, 1: 1.3766404199475066}\n"
     ]
    }
   ],
   "source": [
    "from keras.optimizers import Adam, Nadam\n",
    "\n",
    "DATA_ROOT = Path(\"../data/\") / \"MJFF\" / \"preproc\" # Note the relative path\n",
    "# Load training data and auxiliary variables\n",
    "X_train, X_test, y_train, y_test, max_sentence_length,alphabet_size = \\\n",
    "create_training_data_keras(DATA_ROOT,\"EnglishData-preprocessed.csv\")\n",
    "\n",
    "class_weights = dict(zip([0,1], \n",
    "                         class_weight.compute_class_weight('balanced',list(set(y_train)),y_train)))\n",
    "print(class_weights)\n",
    "\n",
    "params ={\n",
    "         # Learning rate\n",
    "         'lr': (0.1, 10, 3),\n",
    "         'conv_output_space' : [4],#,8],\n",
    "         'number_of_large_filters' : [2],             \n",
    "         'number_of_small_filters' : [2],\n",
    "         'large_filter_length' : [60],\n",
    "         'small_filter_length' : [5],\n",
    "         'pool_length' : [2],\n",
    "         'dense_units_layer_3' : [32],\n",
    "         'dense_units_layer_2' : [16],\n",
    "         'batch_size': [32],\n",
    "         'epochs': [100],\n",
    "         'dropout': [0.05],#,0.1,0.2],\n",
    "         'conv_kernel_initializer': ['uniform'],\n",
    "         'conv_bias_initializer': ['uniform'],\n",
    "         'dense_kernel_initializer': ['uniform'],\n",
    "         'dense_bias_initializer': ['uniform'],\n",
    "         'optimizer': [Adam],\n",
    "         'loss': ['binary_crossentropy'],\n",
    "         'conv_activation':['relu'],\n",
    "         'dense_activation':['relu'],\n",
    "         'last_activation': ['sigmoid'],\n",
    "         # Stationary parameters, i.e. do not get optimised\n",
    "         'max_sentence_length':[max_sentence_length],\n",
    "         'alphabet_size':[alphabet_size],\n",
    "         'control_class_weight' : [class_weights[0]],\n",
    "         'pd_class_weight' : [class_weights[1]],\n",
    "            }"
   ]
  },
  {
   "cell_type": "markdown",
   "metadata": {},
   "source": [
    "### Run Talos"
   ]
  },
  {
   "cell_type": "code",
   "execution_count": 5,
   "metadata": {},
   "outputs": [
    {
     "name": "stderr",
     "output_type": "stream",
     "text": [
      "  0%|          | 0/3 [00:00<?, ?it/s]"
     ]
    },
    {
     "name": "stdout",
     "output_type": "stream",
     "text": [
      "WARNING:tensorflow:From /home/neil/.local/lib/python3.6/site-packages/tensorflow/python/framework/op_def_library.py:263: colocate_with (from tensorflow.python.framework.ops) is deprecated and will be removed in a future version.\n",
      "Instructions for updating:\n",
      "Colocations handled automatically by placer.\n",
      "WARNING:tensorflow:From /home/neil/.local/lib/python3.6/site-packages/keras/backend/tensorflow_backend.py:3445: calling dropout (from tensorflow.python.ops.nn_ops) with keep_prob is deprecated and will be removed in a future version.\n",
      "Instructions for updating:\n",
      "Please use `rate` instead of `keep_prob`. Rate should be set to `rate = 1 - keep_prob`.\n",
      "WARNING:tensorflow:From /home/neil/.local/lib/python3.6/site-packages/tensorflow/python/ops/math_ops.py:3066: to_int32 (from tensorflow.python.ops.math_ops) is deprecated and will be removed in a future version.\n",
      "Instructions for updating:\n",
      "Use tf.cast instead.\n",
      "Train on 1049 samples, validate on 117 samples\n",
      "Epoch 1/100\n",
      " - 5s - loss: 0.6932 - acc: 0.6368 - val_loss: 0.6904 - val_acc: 0.6154\n",
      "Epoch 2/100\n",
      " - 3s - loss: 0.6932 - acc: 0.6368 - val_loss: 0.6905 - val_acc: 0.6154\n",
      "Epoch 3/100\n",
      " - 3s - loss: 0.6932 - acc: 0.6368 - val_loss: 0.6906 - val_acc: 0.6154\n",
      "Epoch 4/100\n",
      " - 3s - loss: 0.6932 - acc: 0.6368 - val_loss: 0.6906 - val_acc: 0.6154\n"
     ]
    },
    {
     "name": "stderr",
     "output_type": "stream",
     "text": [
      " 33%|███▎      | 1/3 [00:16<00:32, 16.17s/it]"
     ]
    },
    {
     "name": "stdout",
     "output_type": "stream",
     "text": [
      "Train on 1049 samples, validate on 117 samples\n",
      "Epoch 1/100\n",
      " - 4s - loss: 0.6935 - acc: 0.3813 - val_loss: 0.6949 - val_acc: 0.3846\n",
      "Epoch 2/100\n",
      " - 3s - loss: 0.6667 - acc: 0.5701 - val_loss: 0.6235 - val_acc: 0.7265\n",
      "Epoch 3/100\n",
      " - 3s - loss: 0.6123 - acc: 0.6978 - val_loss: 0.6124 - val_acc: 0.7179\n",
      "Epoch 4/100\n",
      " - 3s - loss: 0.5922 - acc: 0.7350 - val_loss: 0.6100 - val_acc: 0.7436\n",
      "Epoch 5/100\n",
      " - 3s - loss: 0.6017 - acc: 0.6997 - val_loss: 0.5846 - val_acc: 0.7265\n",
      "Epoch 6/100\n",
      " - 3s - loss: 0.5957 - acc: 0.7045 - val_loss: 0.6004 - val_acc: 0.7436\n",
      "Epoch 7/100\n",
      " - 3s - loss: 0.5885 - acc: 0.6826 - val_loss: 0.5984 - val_acc: 0.7436\n",
      "Epoch 8/100\n",
      " - 3s - loss: 0.5806 - acc: 0.7102 - val_loss: 0.6173 - val_acc: 0.6923\n"
     ]
    },
    {
     "name": "stderr",
     "output_type": "stream",
     "text": [
      " 67%|██████▋   | 2/3 [00:43<00:19, 19.63s/it]"
     ]
    },
    {
     "name": "stdout",
     "output_type": "stream",
     "text": [
      "Train on 1049 samples, validate on 117 samples\n",
      "Epoch 1/100\n",
      " - 4s - loss: 0.6934 - acc: 0.3632 - val_loss: 0.6942 - val_acc: 0.3846\n",
      "Epoch 2/100\n",
      " - 3s - loss: 0.6934 - acc: 0.3756 - val_loss: 0.6936 - val_acc: 0.3846\n",
      "Epoch 3/100\n",
      " - 3s - loss: 0.6933 - acc: 0.4776 - val_loss: 0.6922 - val_acc: 0.6154\n",
      "Epoch 4/100\n",
      " - 3s - loss: 0.6934 - acc: 0.4929 - val_loss: 0.6919 - val_acc: 0.6154\n",
      "Epoch 5/100\n",
      " - 3s - loss: 0.6933 - acc: 0.5691 - val_loss: 0.6935 - val_acc: 0.3846\n",
      "Epoch 6/100\n",
      " - 3s - loss: 0.6933 - acc: 0.4109 - val_loss: 0.6935 - val_acc: 0.3846\n",
      "Epoch 7/100\n",
      " - 3s - loss: 0.6933 - acc: 0.4366 - val_loss: 0.6924 - val_acc: 0.6154\n"
     ]
    },
    {
     "name": "stderr",
     "output_type": "stream",
     "text": [
      "100%|██████████| 3/3 [01:08<00:00, 21.06s/it]\n"
     ]
    }
   ],
   "source": [
    "t = ta.Scan(x=X_train,\n",
    "            y=asarray(y_train).reshape(-1, 1),\n",
    "            x_val=X_test, \n",
    "            y_val=asarray(y_test).reshape(-1, 1),\n",
    "            model=char_cnn_model_talos,\n",
    "            disable_progress_bar=False,\n",
    "            params=params)\n",
    "#             grid_downsample=0.01,  # Randomly samples 1% of the grid"
   ]
  },
  {
   "cell_type": "code",
   "execution_count": 9,
   "metadata": {},
   "outputs": [],
   "source": [
    "# Get weights passed to activation function\n",
    "from talos import Deploy, Predict\n",
    "import numpy as np"
   ]
  },
  {
   "cell_type": "code",
   "execution_count": 7,
   "metadata": {},
   "outputs": [],
   "source": [
    "p = Predict(t)"
   ]
  },
  {
   "cell_type": "code",
   "execution_count": 10,
   "metadata": {},
   "outputs": [
    {
     "data": {
      "text/plain": [
       "array([[0.43626744]], dtype=float32)"
      ]
     },
     "execution_count": 10,
     "metadata": {},
     "output_type": "execute_result"
    }
   ],
   "source": [
    "p.predict(X_test[1][np.newaxis,:,:])"
   ]
  },
  {
   "cell_type": "code",
   "execution_count": 11,
   "metadata": {},
   "outputs": [
    {
     "data": {
      "text/plain": [
       "1"
      ]
     },
     "execution_count": 11,
     "metadata": {},
     "output_type": "execute_result"
    }
   ],
   "source": [
    "y_test[1]"
   ]
  },
  {
   "cell_type": "code",
   "execution_count": 12,
   "metadata": {},
   "outputs": [
    {
     "ename": "FileExistsError",
     "evalue": "[Errno 17] File exists: 'test_deploy'",
     "output_type": "error",
     "traceback": [
      "\u001b[0;31m---------------------------------------------------------------------------\u001b[0m",
      "\u001b[0;31mFileExistsError\u001b[0m                           Traceback (most recent call last)",
      "\u001b[0;32m<ipython-input-12-9bae3977b389>\u001b[0m in \u001b[0;36m<module>\u001b[0;34m\u001b[0m\n\u001b[0;32m----> 1\u001b[0;31m \u001b[0mDeploy\u001b[0m\u001b[0;34m(\u001b[0m\u001b[0mscan_object\u001b[0m\u001b[0;34m=\u001b[0m\u001b[0mt\u001b[0m\u001b[0;34m,\u001b[0m \u001b[0mmodel_name\u001b[0m\u001b[0;34m=\u001b[0m\u001b[0;34m'test_deploy'\u001b[0m\u001b[0;34m,\u001b[0m\u001b[0mmetric\u001b[0m\u001b[0;34m=\u001b[0m\u001b[0;34m'val_acc'\u001b[0m\u001b[0;34m)\u001b[0m\u001b[0;34m\u001b[0m\u001b[0;34m\u001b[0m\u001b[0m\n\u001b[0m",
      "\u001b[0;32m~/anaconda3/lib/python3.6/site-packages/talos/commands/deploy.py\u001b[0m in \u001b[0;36m__init__\u001b[0;34m(self, scan_object, model_name, metric, asc)\u001b[0m\n\u001b[1;32m     28\u001b[0m \u001b[0;34m\u001b[0m\u001b[0m\n\u001b[1;32m     29\u001b[0m         \u001b[0mself\u001b[0m\u001b[0;34m.\u001b[0m\u001b[0mscan_object\u001b[0m \u001b[0;34m=\u001b[0m \u001b[0mscan_object\u001b[0m\u001b[0;34m\u001b[0m\u001b[0;34m\u001b[0m\u001b[0m\n\u001b[0;32m---> 30\u001b[0;31m         \u001b[0mos\u001b[0m\u001b[0;34m.\u001b[0m\u001b[0mmkdir\u001b[0m\u001b[0;34m(\u001b[0m\u001b[0mmodel_name\u001b[0m\u001b[0;34m)\u001b[0m\u001b[0;34m\u001b[0m\u001b[0;34m\u001b[0m\u001b[0m\n\u001b[0m\u001b[1;32m     31\u001b[0m         \u001b[0mself\u001b[0m\u001b[0;34m.\u001b[0m\u001b[0mpath\u001b[0m \u001b[0;34m=\u001b[0m \u001b[0mmodel_name\u001b[0m \u001b[0;34m+\u001b[0m \u001b[0;34m'/'\u001b[0m \u001b[0;34m+\u001b[0m \u001b[0mmodel_name\u001b[0m\u001b[0;34m\u001b[0m\u001b[0;34m\u001b[0m\u001b[0m\n\u001b[1;32m     32\u001b[0m         \u001b[0mself\u001b[0m\u001b[0;34m.\u001b[0m\u001b[0mmodel_name\u001b[0m \u001b[0;34m=\u001b[0m \u001b[0mmodel_name\u001b[0m\u001b[0;34m\u001b[0m\u001b[0;34m\u001b[0m\u001b[0m\n",
      "\u001b[0;31mFileExistsError\u001b[0m: [Errno 17] File exists: 'test_deploy'"
     ]
    }
   ],
   "source": [
    "Deploy(scan_object=t, model_name='test_deploy',metric='val_acc')"
   ]
  }
 ],
 "metadata": {
  "kernelspec": {
   "display_name": "Python 3",
   "language": "python",
   "name": "python3"
  },
  "language_info": {
   "codemirror_mode": {
    "name": "ipython",
    "version": 3
   },
   "file_extension": ".py",
   "mimetype": "text/x-python",
   "name": "python",
   "nbconvert_exporter": "python",
   "pygments_lexer": "ipython3",
   "version": "3.6.8"
  }
 },
 "nbformat": 4,
 "nbformat_minor": 2
}
