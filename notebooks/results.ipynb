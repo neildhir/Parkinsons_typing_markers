{
 "cells": [
  {
   "cell_type": "markdown",
   "metadata": {},
   "source": [
    "# This notebook contains preliminary results"
   ]
  },
  {
   "cell_type": "code",
   "execution_count": 1,
   "metadata": {},
   "outputs": [],
   "source": [
    "%load_ext autoreload\n",
    "%autoreload 2 \n",
    "%matplotlib inline\n",
    "\n",
    "# Set path to find modelling tools for later use\n",
    "import os\n",
    "import sys\n",
    "sys.path.append(os.path.join(os.getcwd(),\"..\"))\n",
    "\n",
    "\n",
    "from tabulate import tabulate\n",
    "from pathlib import Path\n",
    "from haberrspd.__init_paths import data_root\n",
    "from haberrspd.preprocess_baseline import (reference_sentences,\n",
    "                                           calculate_iki_and_ed_baseline,\n",
    "                                           calculate_all_baseline_ROC_curves,\n",
    "                                           convert_df_to_subject_level,\n",
    "                                           get_X_and_y_from_df,\n",
    "                                           test_different_splits_for_classification)\n",
    "\n",
    "from haberrspd.plotting import plot_roc_curve_simple, plot_superimposed_roc_curves, nice_fonts\n",
    "import pandas as pd\n",
    "import numpy as np\n",
    "\n",
    "# Plot stuff\n",
    "import seaborn as sns\n",
    "from scipy.constants import golden\n",
    "import matplotlib as mpl\n",
    "import matplotlib.pyplot as plt\n",
    "\n",
    "\n",
    "# Settings for plotting\n",
    "\n",
    "# plt.style.use('dark_background')\n",
    "# Set to default again\n",
    "# plt.rcParams.update(plt.rcParamsDefault)\n",
    "# mpl.rcParams.update(nice_fonts)"
   ]
  },
  {
   "cell_type": "markdown",
   "metadata": {},
   "source": [
    "# Baseline classifiers"
   ]
  },
  {
   "cell_type": "markdown",
   "metadata": {},
   "source": [
    "## MJFF [sentence level]"
   ]
  },
  {
   "cell_type": "code",
   "execution_count": 18,
   "metadata": {},
   "outputs": [],
   "source": [
    "# Load data\n",
    "df = pd.read_csv(data_root / 'MJFF' / 'raw' / 'EnglishData-duplicateeventsremoved.csv')\n",
    "df_meta = pd.read_csv(data_root / 'MJFF' / 'raw' / 'EnglishParticipantKey.csv',\n",
    "                      header=0,\n",
    "                      names=[\"participant_id\", \"ID\", \"attempt\", \"diagnosis\"],\n",
    "                     )"
   ]
  },
  {
   "cell_type": "code",
   "execution_count": 19,
   "metadata": {},
   "outputs": [
    {
     "name": "stdout",
     "output_type": "stream",
     "text": [
      "MJFF\n",
      "MJFF\n"
     ]
    }
   ],
   "source": [
    "which_attempt = 1\n",
    "\n",
    "df_baselines_raw = calculate_iki_and_ed_baseline(df=df,\n",
    "                                                 df_meta=df_meta,\n",
    "                                                 drop_shift=False,\n",
    "                                                 attempt=which_attempt,\n",
    "                                                 invokation_type=-1) # No changes have been made\n",
    "df_baselines_edited = calculate_iki_and_ed_baseline(df=df,\n",
    "                                                    df_meta=df_meta,\n",
    "                                                    drop_shift=False,\n",
    "                                                    attempt=which_attempt,\n",
    "                                                    invokation_type=1) # Error corrections have been made"
   ]
  },
  {
   "cell_type": "code",
   "execution_count": 25,
   "metadata": {},
   "outputs": [
    {
     "name": "stdout",
     "output_type": "stream",
     "text": [
      "+-------+---------------+-------------+------------+-----------+-----------------+\n",
      "|       |   Sentence_ID |   Diagnosis |   Mean_IKI |   Var_IKI |   Edit_Distance |\n",
      "+=======+===============+=============+============+===========+=================+\n",
      "| count |     741       |         741 |    741     |    741    |        741      |\n",
      "+-------+---------------+-------------+------------+-----------+-----------------+\n",
      "| mean  |      61.9811  |           0 |    314.472 |  63608.4  |        105.71   |\n",
      "+-------+---------------+-------------+------------+-----------+-----------------+\n",
      "| std   |       4.32525 |           0 |    101.504 |  39685.5  |         99.1941 |\n",
      "+-------+---------------+-------------+------------+-----------+-----------------+\n",
      "| min   |      55       |           0 |    120.333 |   2696.31 |          0      |\n",
      "+-------+---------------+-------------+------------+-----------+-----------------+\n",
      "| 25%   |      58       |           0 |    239.92  |  35593.8  |         54      |\n",
      "+-------+---------------+-------------+------------+-----------+-----------------+\n",
      "| 50%   |      62       |           0 |    306.329 |  56384.1  |        107      |\n",
      "+-------+---------------+-------------+------------+-----------+-----------------+\n",
      "| 75%   |      66       |           0 |    377.715 |  81018.2  |        128      |\n",
      "+-------+---------------+-------------+------------+-----------+-----------------+\n",
      "| max   |      69       |           0 |    716.637 | 255343    |       1060      |\n",
      "+-------+---------------+-------------+------------+-----------+-----------------+\n"
     ]
    }
   ],
   "source": [
    "print(tabulate(df_baselines_raw[(df_baselines_raw.Diagnosis == 0)].describe(),tablefmt=\"grid\", headers='keys'))"
   ]
  },
  {
   "cell_type": "code",
   "execution_count": null,
   "metadata": {},
   "outputs": [],
   "source": [
    "print(df_baselines_raw.Edit_Distance.var())\n",
    "print(df_baselines_edited.Edit_Distance.var())\n",
    "\n",
    "out1 = calculate_all_baseline_ROC_curves(df_baselines_raw)\n",
    "out2 = calculate_all_baseline_ROC_curves(df_baselines_edited)"
   ]
  },
  {
   "cell_type": "code",
   "execution_count": null,
   "metadata": {},
   "outputs": [],
   "source": [
    "plot_superimposed_roc_curves([out1,out2],\n",
    "                             'mjff_attempt_' + str(which_attempt) +'_sentence_level_rfc')"
   ]
  },
  {
   "cell_type": "markdown",
   "metadata": {},
   "source": [
    "## MRC [sentence level]"
   ]
  },
  {
   "cell_type": "markdown",
   "metadata": {},
   "source": [
    "To do:\n",
    "\n",
    "1. Re-calculate the raw MRC data to remove duplicate entries (i.e. only one response ID per (participant, sentence ID) -- *keep the smallest one*\n",
    "    - Re-pickle all the files for MRC as they are not correct as it stands.\n",
    "    - Upload new raw data to the google drive\n",
    "2. Re-do all the results for MRC including sentence level and participant level\n",
    "3. If (1) is done then it should be possible to run the (keydown, keyup) sorting properly"
   ]
  },
  {
   "cell_type": "code",
   "execution_count": 47,
   "metadata": {},
   "outputs": [],
   "source": [
    "# TODO: this needs to be redone with the new MRC data\n",
    "# df = pd.read_pickle(Path('../data/MRC/') / 'processed_mcr.pkl')"
   ]
  },
  {
   "cell_type": "markdown",
   "metadata": {},
   "source": [
    "#### In this setting we drop all shift keys"
   ]
  },
  {
   "cell_type": "code",
   "execution_count": 28,
   "metadata": {},
   "outputs": [
    {
     "name": "stdout",
     "output_type": "stream",
     "text": [
      "MRC\n",
      "\n",
      " Number of shift-rows dropped: 17239\n",
      "MRC\n",
      "\n",
      " Number of shift-rows dropped: 17239\n"
     ]
    }
   ],
   "source": [
    "df_baselines_raw = calculate_iki_and_ed_baseline(df, \n",
    "                                                 drop_shift=True, \n",
    "                                                 invokation_type=-1) # No changes have been made\n",
    "df = pd.read_pickle(Path('../data/MRC/') / 'processed_mcr.pkl')\n",
    "df_baselines_edited = calculate_iki_and_ed_baseline(df, \n",
    "                                                    drop_shift=True, \n",
    "                                                    invokation_type=1) # Error corrections have been made"
   ]
  },
  {
   "cell_type": "code",
   "execution_count": 30,
   "metadata": {},
   "outputs": [
    {
     "name": "stdout",
     "output_type": "stream",
     "text": [
      "+-------+--------------+---------------+-------------+------------+-----------+-----------------+\n",
      "|       |   Patient_ID |   Sentence_ID |   Diagnosis |   Mean_IKI |   Var_IKI |   Edit_Distance |\n",
      "+=======+==============+===============+=============+============+===========+=================+\n",
      "| count |    1170      |    1170       |        1170 |  1170      |   1170    |       1170      |\n",
      "+-------+--------------+---------------+-------------+------------+-----------+-----------------+\n",
      "| mean  |      66.4145 |       7.97009 |           1 |   133.795  |  10489.8  |         19.2684 |\n",
      "+-------+--------------+---------------+-------------+------------+-----------+-----------------+\n",
      "| std   |      30.4762 |       4.33025 |           0 |    32.1316 |   5550.47 |         52.8687 |\n",
      "+-------+--------------+---------------+-------------+------------+-----------+-----------------+\n",
      "| min   |      11      |       1       |           1 |    61.1969 |   1864.11 |          2      |\n",
      "+-------+--------------+---------------+-------------+------------+-----------+-----------------+\n",
      "| 25%   |      41      |       4       |           1 |   109.657  |   6885.93 |          6      |\n",
      "+-------+--------------+---------------+-------------+------------+-----------+-----------------+\n",
      "| 50%   |      64      |       8       |           1 |   129.874  |   9313.47 |         10      |\n",
      "+-------+--------------+---------------+-------------+------------+-----------+-----------------+\n",
      "| 75%   |      92      |      12       |           1 |   150.789  |  12546.1  |         17      |\n",
      "+-------+--------------+---------------+-------------+------------+-----------+-----------------+\n",
      "| max   |     119      |      15       |           1 |   268.129  |  45848    |       1531      |\n",
      "+-------+--------------+---------------+-------------+------------+-----------+-----------------+\n"
     ]
    }
   ],
   "source": [
    "print(tabulate(df_baselines_raw[(df_baselines_raw.Diagnosis == 1)].describe(),tablefmt=\"grid\", headers='keys'))"
   ]
  },
  {
   "cell_type": "code",
   "execution_count": 5,
   "metadata": {},
   "outputs": [],
   "source": [
    "out1 = calculate_all_baseline_ROC_curves(df_baselines_raw)\n",
    "out2 = calculate_all_baseline_ROC_curves(df_baselines_edited)"
   ]
  },
  {
   "cell_type": "code",
   "execution_count": 6,
   "metadata": {},
   "outputs": [
    {
     "data": {
      "image/png": "[encoded data removed]",
      "text/plain": [
       "<Figure size 216x216 with 1 Axes>"
      ]
     },
     "metadata": {
      "needs_background": "light"
     },
     "output_type": "display_data"
    }
   ],
   "source": [
    "# For reasons unknown we can only run this once...\n",
    "plot_superimposed_roc_curves([out1,out2])\n",
    "#,'mrc_with_dropped_shift_keys_sentence_level')"
   ]
  },
  {
   "cell_type": "markdown",
   "metadata": {},
   "source": [
    "#### We keep the shift key"
   ]
  },
  {
   "cell_type": "code",
   "execution_count": 3,
   "metadata": {},
   "outputs": [
    {
     "name": "stdout",
     "output_type": "stream",
     "text": [
      "\n",
      "\n",
      "1617.9119039114323\n",
      "1448.7902075648155\n"
     ]
    }
   ],
   "source": [
    "df_baselines_raw = calculate_iki_and_ed_baseline(df, \n",
    "                                                 drop_shift=False, \n",
    "                                                 invokation_type=-1) # No changes have been made\n",
    "df_baselines_edited = calculate_iki_and_ed_baseline(df, \n",
    "                                                    drop_shift=False,\n",
    "                                                    invokation_type=1) # Error corrections have been made\n",
    "print(\"\\n\")\n",
    "print(df_baselines_raw.Edit_Distance.var())\n",
    "print(df_baselines_edited.Edit_Distance.var())"
   ]
  },
  {
   "cell_type": "code",
   "execution_count": 4,
   "metadata": {},
   "outputs": [],
   "source": [
    "a = calculate_all_baseline_ROC_curves(df_baselines_raw)\n",
    "b = calculate_all_baseline_ROC_curves(df_baselines_edited)"
   ]
  },
  {
   "cell_type": "code",
   "execution_count": 5,
   "metadata": {},
   "outputs": [
    {
     "data": {
      "image/png": "[encoded data removed]",
      "text/plain": [
       "<Figure size 216x216 with 1 Axes>"
      ]
     },
     "metadata": {
      "needs_background": "light"
     },
     "output_type": "display_data"
    }
   ],
   "source": [
    "plot_superimposed_roc_curves([a,b])\n",
    "#,'mrc_shift_keys_kept_sentence_level')"
   ]
  },
  {
   "cell_type": "code",
   "execution_count": 17,
   "metadata": {},
   "outputs": [
    {
     "data": {
      "text/html": [
       "<div>\n",
       "<style scoped>\n",
       "    .dataframe tbody tr th:only-of-type {\n",
       "        vertical-align: middle;\n",
       "    }\n",
       "\n",
       "    .dataframe tbody tr th {\n",
       "        vertical-align: top;\n",
       "    }\n",
       "\n",
       "    .dataframe thead th {\n",
       "        text-align: right;\n",
       "    }\n",
       "</style>\n",
       "<table border=\"1\" class=\"dataframe\">\n",
       "  <thead>\n",
       "    <tr style=\"text-align: right;\">\n",
       "      <th></th>\n",
       "      <th>Patient_ID</th>\n",
       "      <th>Sentence_ID</th>\n",
       "      <th>Diagnosis</th>\n",
       "      <th>Mean_IKI</th>\n",
       "      <th>Var_IKI</th>\n",
       "      <th>Edit_Distance</th>\n",
       "    </tr>\n",
       "  </thead>\n",
       "  <tbody>\n",
       "    <tr>\n",
       "      <th>count</th>\n",
       "      <td>3040.000000</td>\n",
       "      <td>3040.000000</td>\n",
       "      <td>3040.000000</td>\n",
       "      <td>3040.000000</td>\n",
       "      <td>3040.000000</td>\n",
       "      <td>3040.000000</td>\n",
       "    </tr>\n",
       "    <tr>\n",
       "      <th>mean</th>\n",
       "      <td>694.990461</td>\n",
       "      <td>7.971053</td>\n",
       "      <td>0.384868</td>\n",
       "      <td>128.687839</td>\n",
       "      <td>10493.534257</td>\n",
       "      <td>21.282566</td>\n",
       "    </tr>\n",
       "    <tr>\n",
       "      <th>std</th>\n",
       "      <td>498.995145</td>\n",
       "      <td>4.321615</td>\n",
       "      <td>0.486644</td>\n",
       "      <td>33.443949</td>\n",
       "      <td>5872.550518</td>\n",
       "      <td>40.223276</td>\n",
       "    </tr>\n",
       "    <tr>\n",
       "      <th>min</th>\n",
       "      <td>11.000000</td>\n",
       "      <td>1.000000</td>\n",
       "      <td>0.000000</td>\n",
       "      <td>1.061829</td>\n",
       "      <td>108.347822</td>\n",
       "      <td>3.000000</td>\n",
       "    </tr>\n",
       "    <tr>\n",
       "      <th>25%</th>\n",
       "      <td>84.000000</td>\n",
       "      <td>4.000000</td>\n",
       "      <td>0.000000</td>\n",
       "      <td>104.513627</td>\n",
       "      <td>6365.009435</td>\n",
       "      <td>9.000000</td>\n",
       "    </tr>\n",
       "    <tr>\n",
       "      <th>50%</th>\n",
       "      <td>1038.000000</td>\n",
       "      <td>8.000000</td>\n",
       "      <td>0.000000</td>\n",
       "      <td>125.694547</td>\n",
       "      <td>9328.329342</td>\n",
       "      <td>14.000000</td>\n",
       "    </tr>\n",
       "    <tr>\n",
       "      <th>75%</th>\n",
       "      <td>1099.000000</td>\n",
       "      <td>12.000000</td>\n",
       "      <td>1.000000</td>\n",
       "      <td>146.872851</td>\n",
       "      <td>12974.549985</td>\n",
       "      <td>22.000000</td>\n",
       "    </tr>\n",
       "    <tr>\n",
       "      <th>max</th>\n",
       "      <td>1167.000000</td>\n",
       "      <td>15.000000</td>\n",
       "      <td>1.000000</td>\n",
       "      <td>268.128680</td>\n",
       "      <td>49393.853783</td>\n",
       "      <td>1555.000000</td>\n",
       "    </tr>\n",
       "  </tbody>\n",
       "</table>\n",
       "</div>"
      ],
      "text/plain": [
       "        Patient_ID  Sentence_ID    Diagnosis     Mean_IKI       Var_IKI  \\\n",
       "count  3040.000000  3040.000000  3040.000000  3040.000000   3040.000000   \n",
       "mean    694.990461     7.971053     0.384868   128.687839  10493.534257   \n",
       "std     498.995145     4.321615     0.486644    33.443949   5872.550518   \n",
       "min      11.000000     1.000000     0.000000     1.061829    108.347822   \n",
       "25%      84.000000     4.000000     0.000000   104.513627   6365.009435   \n",
       "50%    1038.000000     8.000000     0.000000   125.694547   9328.329342   \n",
       "75%    1099.000000    12.000000     1.000000   146.872851  12974.549985   \n",
       "max    1167.000000    15.000000     1.000000   268.128680  49393.853783   \n",
       "\n",
       "       Edit_Distance  \n",
       "count    3040.000000  \n",
       "mean       21.282566  \n",
       "std        40.223276  \n",
       "min         3.000000  \n",
       "25%         9.000000  \n",
       "50%        14.000000  \n",
       "75%        22.000000  \n",
       "max      1555.000000  "
      ]
     },
     "execution_count": 17,
     "metadata": {},
     "output_type": "execute_result"
    }
   ],
   "source": [
    "df_baselines_raw.describe()"
   ]
  },
  {
   "cell_type": "markdown",
   "metadata": {},
   "source": [
    "### MJFF [subject level]"
   ]
  },
  {
   "cell_type": "code",
   "execution_count": null,
   "metadata": {},
   "outputs": [],
   "source": [
    "df_baselines_raw.head()"
   ]
  },
  {
   "cell_type": "code",
   "execution_count": null,
   "metadata": {},
   "outputs": [],
   "source": [
    "for i in [df_baselines_raw, df_baselines_edited]:\n",
    "    outs = get_X_and_y_from_df(convert_df_to_subject_level(i))\n",
    "    for j in ['I','II']:\n",
    "        print(j,test_different_splits_for_classification(outs[j]))"
   ]
  },
  {
   "cell_type": "markdown",
   "metadata": {},
   "source": [
    "### MRC [subject level]"
   ]
  },
  {
   "cell_type": "code",
   "execution_count": 6,
   "metadata": {},
   "outputs": [
    {
     "data": {
      "text/plain": [
       "Patient_ID  Diagnosis\n",
       "11          1            [10, 14, 8, 26, 18, 34, 16, 7, 24, 22, 8, 19, ...\n",
       "12          1                                             [146, 18, 8, 14]\n",
       "13          1            [5, 20, 22, 33, 6, 9, 32, 44, 39, 25, 32, 15, ...\n",
       "17          1            [11, 4, 23, 15, 10, 6, 8, 4, 4, 3, 2, 10, 25, ...\n",
       "18          1            [5, 5, 4, 21, 2, 11, 8, 4, 6, 3, 142, 7, 3, 4,...\n",
       "                                               ...                        \n",
       "1162        0            [17, 11, 4, 12, 5, 11, 4, 26, 12, 6, 7, 5, 7, ...\n",
       "1163        0                [7, 9, 3, 4, 7, 4, 2, 9, 5, 5, 8, 8, 8, 2, 4]\n",
       "1165        0                [5, 9, 8, 4, 9, 4, 14, 20, 9, 4, 7, 10, 8, 4]\n",
       "1166        0                [4, 7, 2, 4, 5, 7, 6, 9, 2, 7, 5, 6, 7, 9, 3]\n",
       "1167        0            [16, 12, 17, 7, 7, 6, 12, 18, 5, 6, 9, 87, 24,...\n",
       "Name: Edit_Distance, Length: 213, dtype: object"
      ]
     },
     "execution_count": 6,
     "metadata": {},
     "output_type": "execute_result"
    }
   ],
   "source": [
    "df_baselines_raw.groupby([\"Patient_ID\", \"Diagnosis\"]).Edit_Distance.apply(list)"
   ]
  },
  {
   "cell_type": "code",
   "execution_count": 9,
   "metadata": {},
   "outputs": [
    {
     "data": {
      "text/plain": [
       "Index(['Patient_ID', 'Sentence_ID', 'Diagnosis', 'Mean_IKI', 'Var_IKI',\n",
       "       'Edit_Distance'],\n",
       "      dtype='object')"
      ]
     },
     "execution_count": 9,
     "metadata": {},
     "output_type": "execute_result"
    }
   ],
   "source": [
    "df_baselines_raw.columns"
   ]
  },
  {
   "cell_type": "code",
   "execution_count": 10,
   "metadata": {},
   "outputs": [
    {
     "data": {
      "text/plain": [
       "True"
      ]
     },
     "execution_count": 10,
     "metadata": {},
     "output_type": "execute_result"
    }
   ],
   "source": [
    "set([\"Edit_Distance\", \"Mean_IKI\", \"Diagnosis\"]).issubset(df_baselines_raw.columns)"
   ]
  },
  {
   "cell_type": "code",
   "execution_count": 62,
   "metadata": {},
   "outputs": [],
   "source": [
    "def get_X_and_y_from_df(df):\n",
    "\n",
    "    measures = [\"Edit_Distance\", \"Mean_IKI\", \"Diagnosis\"]\n",
    "    # assert set(measures).issubset(df.columns)\n",
    "    features = [\"Mean_IKI\", [\"Edit_Distance\", \"Mean_IKI\"]]\n",
    "\n",
    "    # Store all results in a dict which will be passed to plotting\n",
    "    sets = {\"I\": None, \"II\": None}\n",
    "    # assert len(sets) == len(features)\n",
    "    for i, j in zip(features, sets.keys()):\n",
    "        \n",
    "        # List of features\n",
    "        if isinstance(i, list):\n",
    "            assert len(i) == 2\n",
    "            X = []\n",
    "            for k in range(df.shape[0]):\n",
    "                X.append(df.loc[k,i[0]] + df.loc[k,i[1]])\n",
    "            X = np.vstack(X)\n",
    "            \n",
    "        # Singular feature\n",
    "        else:\n",
    "            X = np.vstack(df[i])\n",
    "\n",
    "        # targets\n",
    "        y = df.Diagnosis.to_numpy()\n",
    "\n",
    "        sets[j] = (X, y)\n",
    "\n",
    "    return sets"
   ]
  },
  {
   "cell_type": "code",
   "execution_count": 42,
   "metadata": {},
   "outputs": [],
   "source": [
    "part = convert_df_to_subject_level(df_baselines_raw)"
   ]
  },
  {
   "cell_type": "code",
   "execution_count": 56,
   "metadata": {},
   "outputs": [
    {
     "data": {
      "text/html": [
       "<div>\n",
       "<style scoped>\n",
       "    .dataframe tbody tr th:only-of-type {\n",
       "        vertical-align: middle;\n",
       "    }\n",
       "\n",
       "    .dataframe tbody tr th {\n",
       "        vertical-align: top;\n",
       "    }\n",
       "\n",
       "    .dataframe thead th {\n",
       "        text-align: right;\n",
       "    }\n",
       "</style>\n",
       "<table border=\"1\" class=\"dataframe\">\n",
       "  <thead>\n",
       "    <tr style=\"text-align: right;\">\n",
       "      <th></th>\n",
       "      <th>Patient_ID</th>\n",
       "      <th>Diagnosis</th>\n",
       "      <th>Edit_Distance</th>\n",
       "      <th>Mean_IKI</th>\n",
       "    </tr>\n",
       "  </thead>\n",
       "  <tbody>\n",
       "    <tr>\n",
       "      <th>0</th>\n",
       "      <td>11</td>\n",
       "      <td>1</td>\n",
       "      <td>[14, 17, 11, 67, 19, 63, 24, 8, 25, 25, 9, 25,...</td>\n",
       "      <td>[107.33910732023115, 124.16242803839438, 102.6...</td>\n",
       "    </tr>\n",
       "    <tr>\n",
       "      <th>1</th>\n",
       "      <td>12</td>\n",
       "      <td>1</td>\n",
       "      <td>[182, 19, 14, 96, 57, 57, 57, 57, 57, 57, 57, ...</td>\n",
       "      <td>[256.58397215802074, 268.1286797194493, 231.27...</td>\n",
       "    </tr>\n",
       "    <tr>\n",
       "      <th>2</th>\n",
       "      <td>13</td>\n",
       "      <td>1</td>\n",
       "      <td>[9, 23, 26, 39, 7, 13, 45, 45, 44, 26, 38, 17,...</td>\n",
       "      <td>[100.08992276160843, 104.50915459923566, 112.7...</td>\n",
       "    </tr>\n",
       "    <tr>\n",
       "      <th>3</th>\n",
       "      <td>17</td>\n",
       "      <td>1</td>\n",
       "      <td>[16, 7, 26, 21, 11, 10, 15, 5, 5, 6, 3, 16, 27...</td>\n",
       "      <td>[75.61996503500716, 67.0433606182455, 80.92298...</td>\n",
       "    </tr>\n",
       "    <tr>\n",
       "      <th>4</th>\n",
       "      <td>18</td>\n",
       "      <td>1</td>\n",
       "      <td>[9, 8, 7, 28, 3, 15, 15, 5, 7, 6, 144, 13, 5, ...</td>\n",
       "      <td>[133.10852713178295, 125.29533726320778, 117.7...</td>\n",
       "    </tr>\n",
       "    <tr>\n",
       "      <th>...</th>\n",
       "      <td>...</td>\n",
       "      <td>...</td>\n",
       "      <td>...</td>\n",
       "      <td>...</td>\n",
       "    </tr>\n",
       "    <tr>\n",
       "      <th>208</th>\n",
       "      <td>1162</td>\n",
       "      <td>0</td>\n",
       "      <td>[22, 63, 5, 15, 9, 24, 5, 35, 13, 10, 12, 6, 1...</td>\n",
       "      <td>[130.579565843196, 107.2675966850774, 117.9727...</td>\n",
       "    </tr>\n",
       "    <tr>\n",
       "      <th>209</th>\n",
       "      <td>1163</td>\n",
       "      <td>0</td>\n",
       "      <td>[10, 25, 4, 7, 34, 14, 3, 16, 6, 19, 15, 22, 8...</td>\n",
       "      <td>[170.92024733280192, 155.2158300978317, 160.67...</td>\n",
       "    </tr>\n",
       "    <tr>\n",
       "      <th>210</th>\n",
       "      <td>1165</td>\n",
       "      <td>0</td>\n",
       "      <td>[8, 14, 9, 7, 12, 7, 15, 27, 10, 7, 11, 11, 9,...</td>\n",
       "      <td>[83.46406042763212, 102.56570866162197, 98.502...</td>\n",
       "    </tr>\n",
       "    <tr>\n",
       "      <th>211</th>\n",
       "      <td>1166</td>\n",
       "      <td>0</td>\n",
       "      <td>[7, 13, 3, 7, 9, 10, 7, 16, 3, 11, 18, 10, 16,...</td>\n",
       "      <td>[108.21858389219528, 126.12045596683227, 109.9...</td>\n",
       "    </tr>\n",
       "    <tr>\n",
       "      <th>212</th>\n",
       "      <td>1167</td>\n",
       "      <td>0</td>\n",
       "      <td>[19, 17, 18, 10, 11, 33, 13, 24, 6, 9, 16, 88,...</td>\n",
       "      <td>[132.22094798248287, 138.80948610828105, 129.1...</td>\n",
       "    </tr>\n",
       "  </tbody>\n",
       "</table>\n",
       "<p>213 rows × 4 columns</p>\n",
       "</div>"
      ],
      "text/plain": [
       "     Patient_ID  Diagnosis                                      Edit_Distance  \\\n",
       "0            11          1  [14, 17, 11, 67, 19, 63, 24, 8, 25, 25, 9, 25,...   \n",
       "1            12          1  [182, 19, 14, 96, 57, 57, 57, 57, 57, 57, 57, ...   \n",
       "2            13          1  [9, 23, 26, 39, 7, 13, 45, 45, 44, 26, 38, 17,...   \n",
       "3            17          1  [16, 7, 26, 21, 11, 10, 15, 5, 5, 6, 3, 16, 27...   \n",
       "4            18          1  [9, 8, 7, 28, 3, 15, 15, 5, 7, 6, 144, 13, 5, ...   \n",
       "..          ...        ...                                                ...   \n",
       "208        1162          0  [22, 63, 5, 15, 9, 24, 5, 35, 13, 10, 12, 6, 1...   \n",
       "209        1163          0  [10, 25, 4, 7, 34, 14, 3, 16, 6, 19, 15, 22, 8...   \n",
       "210        1165          0  [8, 14, 9, 7, 12, 7, 15, 27, 10, 7, 11, 11, 9,...   \n",
       "211        1166          0  [7, 13, 3, 7, 9, 10, 7, 16, 3, 11, 18, 10, 16,...   \n",
       "212        1167          0  [19, 17, 18, 10, 11, 33, 13, 24, 6, 9, 16, 88,...   \n",
       "\n",
       "                                              Mean_IKI  \n",
       "0    [107.33910732023115, 124.16242803839438, 102.6...  \n",
       "1    [256.58397215802074, 268.1286797194493, 231.27...  \n",
       "2    [100.08992276160843, 104.50915459923566, 112.7...  \n",
       "3    [75.61996503500716, 67.0433606182455, 80.92298...  \n",
       "4    [133.10852713178295, 125.29533726320778, 117.7...  \n",
       "..                                                 ...  \n",
       "208  [130.579565843196, 107.2675966850774, 117.9727...  \n",
       "209  [170.92024733280192, 155.2158300978317, 160.67...  \n",
       "210  [83.46406042763212, 102.56570866162197, 98.502...  \n",
       "211  [108.21858389219528, 126.12045596683227, 109.9...  \n",
       "212  [132.22094798248287, 138.80948610828105, 129.1...  \n",
       "\n",
       "[213 rows x 4 columns]"
      ]
     },
     "execution_count": 56,
     "metadata": {},
     "output_type": "execute_result"
    }
   ],
   "source": [
    "part"
   ]
  },
  {
   "cell_type": "code",
   "execution_count": 63,
   "metadata": {},
   "outputs": [],
   "source": [
    "# out = convert_df_to_subject_level(df_baselines_raw)\n",
    "outs = get_X_and_y_from_df(part)"
   ]
  },
  {
   "cell_type": "code",
   "execution_count": 68,
   "metadata": {},
   "outputs": [
    {
     "name": "stdout",
     "output_type": "stream",
     "text": [
      "I (0.791, 0.047)\n",
      "II (0.947, 0.027)\n",
      "I (0.789, 0.062)\n",
      "II (0.976, 0.016)\n"
     ]
    }
   ],
   "source": [
    "# We use the version with shift keys kept\n",
    "for i in [df_baselines_raw, df_baselines_edited]:\n",
    "    outs = get_X_and_y_from_df(convert_df_to_subject_level(i))\n",
    "    for j in ['I','II']:\n",
    "        print(j, test_different_splits_for_classification(outs[j]))"
   ]
  },
  {
   "cell_type": "markdown",
   "metadata": {},
   "source": [
    "# Modelling CHARACTERS ('char') only"
   ]
  },
  {
   "cell_type": "markdown",
   "metadata": {},
   "source": [
    "This commences the CNN approach to the task."
   ]
  },
  {
   "cell_type": "code",
   "execution_count": null,
   "metadata": {},
   "outputs": [],
   "source": [
    "char = {100 : np.genfromtxt('../results/char/label_and_label_probs_2019-07-30_16-03-33.csv', delimiter=','), \n",
    "        200 : np.genfromtxt('../results/char/label_and_label_probs_2019-07-30_16-37-21.csv', delimiter=','), \n",
    "        500 : np.genfromtxt('../results/char/label_and_label_probs_2019-07-30_17-46-29.csv', delimiter=',')}"
   ]
  },
  {
   "cell_type": "code",
   "execution_count": null,
   "metadata": {},
   "outputs": [],
   "source": [
    "for key in char.keys():\n",
    "    print(\"Number of hyperparameter permutations considered: {}\\n\".format(key))\n",
    "    plot_roc_curve_simple(char[key][:,0].astype(np.int64), char[key][:,1])"
   ]
  },
  {
   "cell_type": "code",
   "execution_count": null,
   "metadata": {},
   "outputs": [],
   "source": [
    "plot_roc_curve_simple(char[200][:,0].astype(np.int64), char[200][:,1],'mjff_char_only')"
   ]
  },
  {
   "cell_type": "markdown",
   "metadata": {},
   "source": [
    "# CHARACTERS and TIME"
   ]
  },
  {
   "cell_type": "code",
   "execution_count": null,
   "metadata": {},
   "outputs": [],
   "source": [
    "char_time = {100 : np.genfromtxt('../results/char_time/label_and_label_probs_2019-07-26_21-25-18.csv', delimiter=','), \n",
    " 200 : np.genfromtxt('../results/char_time/label_and_label_probs_2019-07-26_15-00-06.csv', delimiter=','), \n",
    " 500 : np.genfromtxt('../results/char_time/label_and_label_probs_2019-07-26_12-24-09.csv', delimiter=',')}"
   ]
  },
  {
   "cell_type": "code",
   "execution_count": null,
   "metadata": {},
   "outputs": [],
   "source": [
    "for key in char_time.keys():\n",
    "    print(\"Number of hyperparameter permutations considered: {}\\n\".format(key))\n",
    "    plot_roc_curve_simple(char_time[key][:,0].astype(np.int64), char_time[key][:,1])"
   ]
  },
  {
   "cell_type": "code",
   "execution_count": null,
   "metadata": {},
   "outputs": [],
   "source": [
    "plot_roc_curve_simple(char_time[200][:,0].astype(np.int64), char_time[200][:,1],'mjff_char_time')"
   ]
  },
  {
   "cell_type": "markdown",
   "metadata": {},
   "source": [
    "# CHARACTERS and TIME and Space"
   ]
  },
  {
   "cell_type": "code",
   "execution_count": null,
   "metadata": {},
   "outputs": [],
   "source": [
    "char_time_space = {100 : np.genfromtxt('../results/char_time_space/label_and_label_probs_2019-07-30_15-46-27.csv', delimiter=','), \n",
    "                   500 : np.genfromtxt('../results/char_time_space/label_and_label_probs_2019-07-30_21-34-27.csv', delimiter=',')}"
   ]
  },
  {
   "cell_type": "code",
   "execution_count": null,
   "metadata": {},
   "outputs": [],
   "source": [
    "for key in char_time_space.keys():\n",
    "    print(\"Number of hyperparameter permutations considered: {}\\n\".format(key))\n",
    "    plot_roc_curve_simple(char_time_space[key][:,0].astype(np.int64), char_time_space[key][:,1])"
   ]
  },
  {
   "cell_type": "code",
   "execution_count": null,
   "metadata": {},
   "outputs": [],
   "source": [
    "plot_roc_curve_simple(char_time_space[500][:,0].astype(np.int64), char_time_space[500][:,1],'mjff_char_time_space')"
   ]
  },
  {
   "cell_type": "code",
   "execution_count": null,
   "metadata": {},
   "outputs": [],
   "source": [
    "# Check the details of the best model for one of the optimisations\n",
    "df = pd.read_csv(\"../results/char_time_space/073019144454.csv\")"
   ]
  },
  {
   "cell_type": "code",
   "execution_count": null,
   "metadata": {},
   "outputs": [],
   "source": [
    "# Sort by validation accuracy\n",
    "df.sort_values(by=['val_acc'],ascending=False).head(10)"
   ]
  },
  {
   "cell_type": "code",
   "execution_count": null,
   "metadata": {},
   "outputs": [],
   "source": [
    "# Detailed look at the \"winning model\"\n",
    "df.iloc[387,:]"
   ]
  }
 ],
 "metadata": {
  "kernelspec": {
   "display_name": "Python 3",
   "language": "python",
   "name": "python3"
  },
  "language_info": {
   "codemirror_mode": {
    "name": "ipython",
    "version": 3
   },
   "file_extension": ".py",
   "mimetype": "text/x-python",
   "name": "python",
   "nbconvert_exporter": "python",
   "pygments_lexer": "ipython3",
   "version": "3.6.9"
  }
 },
 "nbformat": 4,
 "nbformat_minor": 4
}
