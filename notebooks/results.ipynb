{
 "cells": [
  {
   "cell_type": "markdown",
   "metadata": {},
   "source": [
    "# This notebook contains preliminary results"
   ]
  },
  {
   "cell_type": "code",
   "execution_count": null,
   "metadata": {},
   "outputs": [],
   "source": [
    "%load_ext autoreload\n",
    "%autoreload 2 \n",
    "%matplotlib inline\n",
    "\n",
    "# Set path to find modelling tools for later use\n",
    "import os\n",
    "import sys\n",
    "sys.path.append(os.path.join(os.getcwd(),\"..\"))\n",
    "\n",
    "from pathlib import Path\n",
    "from haberrspd.__init_paths import data_root\n",
    "from haberrspd.preprocess_baseline import (create_mjff_baselines,\n",
    "                                           reference_sentences,\n",
    "                                           calculate_iki_and_ed_baseline,\n",
    "                                           calculate_all_baseline_ROC_curves,\n",
    "                                           convert_df_to_subject_level,\n",
    "                                           test_different_splits_for_classification)\n",
    "\n",
    "from haberrspd.plotting import plot_roc_curve_simple, plot_superimposed_roc_curves, nice_fonts\n",
    "import pandas as pd\n",
    "import numpy as np\n",
    "\n",
    "# Plot stuff\n",
    "import seaborn as sns\n",
    "from scipy.constants import golden\n",
    "import matplotlib as mpl\n",
    "import matplotlib.pyplot as plt\n",
    "\n",
    "\n",
    "# Settings for plotting\n",
    "\n",
    "# plt.style.use('dark_background')\n",
    "# Set to default again\n",
    "# plt.rcParams.update(plt.rcParamsDefault)\n",
    "# mpl.rcParams.update(nice_fonts)"
   ]
  },
  {
   "cell_type": "markdown",
   "metadata": {},
   "source": [
    "# Baseline classifiers"
   ]
  },
  {
   "cell_type": "markdown",
   "metadata": {},
   "source": [
    "## MJFF [sentence level]"
   ]
  },
  {
   "cell_type": "code",
   "execution_count": null,
   "metadata": {},
   "outputs": [],
   "source": [
    "# Load data\n",
    "df = pd.read_csv(data_root / 'MJFF' / 'raw' / 'EnglishData-duplicateeventsremoved.csv')\n",
    "df_meta = pd.read_csv(data_root / 'MJFF' / 'raw' / 'EnglishParticipantKey.csv',\n",
    "                      header=0,\n",
    "                      names=[\"participant_id\", \"ID\", \"attempt\", \"diagnosis\"],\n",
    "                     )"
   ]
  },
  {
   "cell_type": "code",
   "execution_count": null,
   "metadata": {},
   "outputs": [],
   "source": [
    "which_attempt = 1\n",
    "\n",
    "df_baselines_raw = create_mjff_baselines(df,df_meta,\n",
    "                                         attempt=which_attempt,\n",
    "                                         invokation_type=-1) # No changes have been made\n",
    "df_baselines_edited = create_mjff_baselines(df,df_meta,\n",
    "                                            attempt=which_attempt,\n",
    "                                            invokation_type=1) # Error corrections have been made\n",
    "\n",
    "print(df_baselines_raw.edit_distance.var())\n",
    "print(df_baselines_edited.edit_distance.var())\n",
    "\n",
    "out1 = calculate_all_baseline_ROC_curves(df_baselines_raw)\n",
    "out2 = calculate_all_baseline_ROC_curves(df_baselines_edited)"
   ]
  },
  {
   "cell_type": "code",
   "execution_count": null,
   "metadata": {},
   "outputs": [],
   "source": [
    "plot_superimposed_roc_curves([out1,out2],\n",
    "                             'mjff_attempt_' + str(which_attempt) +'_sentence_level_rfc')"
   ]
  },
  {
   "cell_type": "markdown",
   "metadata": {},
   "source": [
    "## MRC [sentence level]"
   ]
  },
  {
   "cell_type": "code",
   "execution_count": 66,
   "metadata": {},
   "outputs": [],
   "source": [
    "df1 = pd.read_pickle(Path('../data/MRC/') / 'processed_mcr.pkl')\n",
    "df2 = df1.copy(deep=True)"
   ]
  },
  {
   "cell_type": "markdown",
   "metadata": {},
   "source": [
    "#### With dropped shift"
   ]
  },
  {
   "cell_type": "code",
   "execution_count": 67,
   "metadata": {},
   "outputs": [
    {
     "name": "stdout",
     "output_type": "stream",
     "text": [
      "\n",
      " Number of shift-rows dropped: 17239\n",
      "\n",
      " Number of shift-rows dropped: 17239\n",
      "1907.5331913198593\n",
      "1769.7588341689618\n"
     ]
    }
   ],
   "source": [
    "df_baselines_raw = calculate_iki_and_ed_baseline(df1, \n",
    "                                                 drop_shift=True, \n",
    "                                                 invokation_type=-1) # No changes have been made\n",
    "df_baselines_edited = calculate_iki_and_ed_baseline(df2, \n",
    "                                                    drop_shift=True, \n",
    "                                                    invokation_type=1) # Error corrections have been made\n",
    "\n",
    "print(df_baselines_raw.Edit_Distance.var())\n",
    "print(df_baselines_edited.Edit_Distance.var())"
   ]
  },
  {
   "cell_type": "code",
   "execution_count": 68,
   "metadata": {},
   "outputs": [],
   "source": [
    "out1 = calculate_all_baseline_ROC_curves(df_baselines_raw)\n",
    "out2 = calculate_all_baseline_ROC_curves(df_baselines_edited)"
   ]
  },
  {
   "cell_type": "code",
   "execution_count": 69,
   "metadata": {},
   "outputs": [],
   "source": [
    "out2[\"III\"] = out2.pop(\"I\")\n",
    "out2[\"IV\"] = out2.pop(\"II\")\n",
    "data = {**out1, **out2}"
   ]
  },
  {
   "cell_type": "code",
   "execution_count": 70,
   "metadata": {},
   "outputs": [
    {
     "data": {
      "image/png": "[encoded data removed]",
      "text/plain": [
       "<Figure size 216x216 with 1 Axes>"
      ]
     },
     "metadata": {
      "needs_background": "light"
     },
     "output_type": "display_data"
    }
   ],
   "source": [
    "plot_superimposed_roc_curves(data,'mrc_baseline_dropped_shift_sentence_level')"
   ]
  },
  {
   "cell_type": "markdown",
   "metadata": {},
   "source": [
    "#### With kept shift"
   ]
  },
  {
   "cell_type": "code",
   "execution_count": null,
   "metadata": {},
   "outputs": [],
   "source": [
    "df_baselines_raw = calculate_iki_and_ed_baseline(df1, \n",
    "                                                 drop_shift=False, \n",
    "                                                 invokation_type=-1) # No changes have been made\n",
    "df_baselines_edited = calculate_iki_and_ed_baseline(df2, \n",
    "                                                    drop_shift=False,\n",
    "                                                    invokation_type=1) # Error corrections have been made\n",
    "\n",
    "print(df_baselines_raw.Edit_Distance.var())\n",
    "print(df_baselines_edited.Edit_Distance.var())"
   ]
  },
  {
   "cell_type": "code",
   "execution_count": 61,
   "metadata": {},
   "outputs": [],
   "source": [
    "a = calculate_all_baseline_ROC_curves(df_baselines_raw)\n",
    "b = calculate_all_baseline_ROC_curves(df_baselines_edited)"
   ]
  },
  {
   "cell_type": "code",
   "execution_count": 62,
   "metadata": {},
   "outputs": [],
   "source": [
    "b[\"III\"] = b.pop(\"I\")\n",
    "b[\"IV\"] = b.pop(\"II\")\n",
    "data = {**a, **b}"
   ]
  },
  {
   "cell_type": "code",
   "execution_count": 65,
   "metadata": {},
   "outputs": [
    {
     "data": {
      "image/png": "[encoded data removed]",
      "text/plain": [
       "<Figure size 216x216 with 1 Axes>"
      ]
     },
     "metadata": {
      "needs_background": "light"
     },
     "output_type": "display_data"
    }
   ],
   "source": [
    "# plot_superimposed_roc_curves(data)\n",
    "new_plot_superimposed_roc_curves(data,'mrc_baseline_sentence_level')"
   ]
  },
  {
   "cell_type": "code",
   "execution_count": 64,
   "metadata": {},
   "outputs": [],
   "source": [
    "from haberrspd.plotting import nice_fonts\n",
    "from sklearn.metrics import auc, roc_curve\n",
    "import datetime\n",
    "from sklearn.preprocessing import label_binarize\n",
    "def new_plot_superimposed_roc_curves(data: dict, filename=None) -> None:\n",
    "\n",
    "    # Set styles for paper\n",
    "    sns.set_context(\"paper\")\n",
    "    mpl.rcParams.update(nice_fonts)\n",
    "\n",
    "    lw = 2\n",
    "    fig, ax = plt.subplots(1, 1, figsize=(3, 3))\n",
    "    palette = sns.color_palette(n_colors=len(data))\n",
    "    for i, item in enumerate(data.keys()):\n",
    "        y_true, y_scores = data[item]\n",
    "        # Main calculations here\n",
    "        fpr, tpr, _ = roc_curve(y_true, y_scores, pos_label=1)\n",
    "        # Calculate area under the ROC curve here\n",
    "        auc = np.trapz(tpr, fpr)\n",
    "        ax.plot(fpr, tpr, color=palette[i], lw=lw, alpha=0.8, label=\"%s: AUC = %0.2f\" % (item, auc))\n",
    "\n",
    "    ax.plot([0, 1], [0, 1], color=\"gray\", lw=lw, linestyle=\"--\", alpha=0.25)\n",
    "    ax.set_xlim([0.0, 1.0])\n",
    "    ax.set_ylim([0.0, 1.05])\n",
    "    ax.set_xlabel(\"False Positive Rate\")\n",
    "    ax.set_ylabel(\"True Positive Rate\")\n",
    "    # Legend\n",
    "    ax.legend(loc=\"lower right\", ncol=1, framealpha=1, fancybox=False, borderpad=0.5)\n",
    "    # Grid\n",
    "    ax.grid(True, alpha=0.2)\n",
    "\n",
    "    if filename:\n",
    "        # Set reference time for save\n",
    "        now = datetime.datetime.now()\n",
    "        fig.savefig(\n",
    "            \"../figures/baseline_roc_curves-\" + filename + \"-\" + now.strftime(\"%Y-%m-%d-%H:%M\") + \".pdf\",\n",
    "            bbox_inches=\"tight\",\n",
    "        )\n",
    "    else:\n",
    "        plt.show()"
   ]
  },
  {
   "cell_type": "markdown",
   "metadata": {},
   "source": [
    "### MJFF [subject level]"
   ]
  },
  {
   "cell_type": "code",
   "execution_count": null,
   "metadata": {},
   "outputs": [],
   "source": [
    "df_baselines_raw.head()"
   ]
  },
  {
   "cell_type": "code",
   "execution_count": null,
   "metadata": {},
   "outputs": [],
   "source": [
    "for i in [df_baselines_raw, df_baselines_edited]:\n",
    "    outs = get_X_and_y_from_df(convert_df_to_subject_level(i))\n",
    "    for j in ['I','II']:\n",
    "        print(j,test_different_splits_for_classification(outs[j]))"
   ]
  },
  {
   "cell_type": "markdown",
   "metadata": {},
   "source": [
    "### MRC [sentence level]"
   ]
  },
  {
   "cell_type": "code",
   "execution_count": null,
   "metadata": {},
   "outputs": [],
   "source": [
    "f = processMRC()"
   ]
  },
  {
   "cell_type": "code",
   "execution_count": null,
   "metadata": {},
   "outputs": [],
   "source": [
    "f()"
   ]
  },
  {
   "cell_type": "markdown",
   "metadata": {},
   "source": [
    "# Modelling CHARACTERS ('char') only"
   ]
  },
  {
   "cell_type": "markdown",
   "metadata": {},
   "source": [
    "This commences the CNN approach to the task."
   ]
  },
  {
   "cell_type": "code",
   "execution_count": null,
   "metadata": {},
   "outputs": [],
   "source": [
    "char = {100 : np.genfromtxt('../results/char/label_and_label_probs_2019-07-30_16-03-33.csv', delimiter=','), \n",
    "        200 : np.genfromtxt('../results/char/label_and_label_probs_2019-07-30_16-37-21.csv', delimiter=','), \n",
    "        500 : np.genfromtxt('../results/char/label_and_label_probs_2019-07-30_17-46-29.csv', delimiter=',')}"
   ]
  },
  {
   "cell_type": "code",
   "execution_count": null,
   "metadata": {},
   "outputs": [],
   "source": [
    "for key in char.keys():\n",
    "    print(\"Number of hyperparameter permutations considered: {}\\n\".format(key))\n",
    "    plot_roc_curve_simple(char[key][:,0].astype(np.int64), char[key][:,1])"
   ]
  },
  {
   "cell_type": "code",
   "execution_count": null,
   "metadata": {},
   "outputs": [],
   "source": [
    "plot_roc_curve_simple(char[200][:,0].astype(np.int64), char[200][:,1],'mjff_char_only')"
   ]
  },
  {
   "cell_type": "markdown",
   "metadata": {},
   "source": [
    "# CHARACTERS and TIME"
   ]
  },
  {
   "cell_type": "code",
   "execution_count": null,
   "metadata": {},
   "outputs": [],
   "source": [
    "char_time = {100 : np.genfromtxt('../results/char_time/label_and_label_probs_2019-07-26_21-25-18.csv', delimiter=','), \n",
    " 200 : np.genfromtxt('../results/char_time/label_and_label_probs_2019-07-26_15-00-06.csv', delimiter=','), \n",
    " 500 : np.genfromtxt('../results/char_time/label_and_label_probs_2019-07-26_12-24-09.csv', delimiter=',')}"
   ]
  },
  {
   "cell_type": "code",
   "execution_count": null,
   "metadata": {},
   "outputs": [],
   "source": [
    "for key in char_time.keys():\n",
    "    print(\"Number of hyperparameter permutations considered: {}\\n\".format(key))\n",
    "    plot_roc_curve_simple(char_time[key][:,0].astype(np.int64), char_time[key][:,1])"
   ]
  },
  {
   "cell_type": "code",
   "execution_count": null,
   "metadata": {},
   "outputs": [],
   "source": [
    "plot_roc_curve_simple(char_time[200][:,0].astype(np.int64), char_time[200][:,1],'mjff_char_time')"
   ]
  },
  {
   "cell_type": "markdown",
   "metadata": {},
   "source": [
    "# CHARACTERS and TIME and Space"
   ]
  },
  {
   "cell_type": "code",
   "execution_count": null,
   "metadata": {},
   "outputs": [],
   "source": [
    "char_time_space = {100 : np.genfromtxt('../results/char_time_space/label_and_label_probs_2019-07-30_15-46-27.csv', delimiter=','), \n",
    "                   500 : np.genfromtxt('../results/char_time_space/label_and_label_probs_2019-07-30_21-34-27.csv', delimiter=',')}"
   ]
  },
  {
   "cell_type": "code",
   "execution_count": null,
   "metadata": {},
   "outputs": [],
   "source": [
    "for key in char_time_space.keys():\n",
    "    print(\"Number of hyperparameter permutations considered: {}\\n\".format(key))\n",
    "    plot_roc_curve_simple(char_time_space[key][:,0].astype(np.int64), char_time_space[key][:,1])"
   ]
  },
  {
   "cell_type": "code",
   "execution_count": null,
   "metadata": {},
   "outputs": [],
   "source": [
    "plot_roc_curve_simple(char_time_space[500][:,0].astype(np.int64), char_time_space[500][:,1],'mjff_char_time_space')"
   ]
  },
  {
   "cell_type": "code",
   "execution_count": null,
   "metadata": {},
   "outputs": [],
   "source": [
    "# Check the details of the best model for one of the optimisations\n",
    "df = pd.read_csv(\"../results/char_time_space/073019144454.csv\")"
   ]
  },
  {
   "cell_type": "code",
   "execution_count": null,
   "metadata": {},
   "outputs": [],
   "source": [
    "# Sort by validation accuracy\n",
    "df.sort_values(by=['val_acc'],ascending=False).head(10)"
   ]
  },
  {
   "cell_type": "code",
   "execution_count": null,
   "metadata": {},
   "outputs": [],
   "source": [
    "# Detailed look at the \"winning model\"\n",
    "df.iloc[387,:]"
   ]
  }
 ],
 "metadata": {
  "kernelspec": {
   "display_name": "Python 3",
   "language": "python",
   "name": "python3"
  },
  "language_info": {
   "codemirror_mode": {
    "name": "ipython",
    "version": 3
   },
   "file_extension": ".py",
   "mimetype": "text/x-python",
   "name": "python",
   "nbconvert_exporter": "python",
   "pygments_lexer": "ipython3",
   "version": "3.6.9"
  }
 },
 "nbformat": 4,
 "nbformat_minor": 4
}
