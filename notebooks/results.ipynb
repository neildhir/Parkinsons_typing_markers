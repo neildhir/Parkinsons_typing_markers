{
 "cells": [
  {
   "cell_type": "markdown",
   "metadata": {},
   "source": [
    "# This notebook contains preliminary results"
   ]
  },
  {
   "cell_type": "code",
   "execution_count": 1,
   "metadata": {},
   "outputs": [],
   "source": [
    "%load_ext autoreload\n",
    "%autoreload 2 \n",
    "%matplotlib inline\n",
    "\n",
    "# Set path to find modelling tools for later use\n",
    "import os\n",
    "import sys\n",
    "sys.path.append(os.path.join(os.getcwd(),\"..\"))\n",
    "\n",
    "\n",
    "from tabulate import tabulate # Have to dowload this on laptop\n",
    "# print(tabulate(df_baselines_edited[(df_baselines_edited.Diagnosis == 1)].describe().round(3),tablefmt=\"grid\", headers='keys'))\n",
    "from pathlib import Path\n",
    "from haberrspd.__init_paths import data_root\n",
    "from haberrspd.preprocess_baseline import (reference_sentences,\n",
    "                                           calculate_iki_and_ed_baseline,\n",
    "                                           calculate_all_baseline_ROC_curves,\n",
    "                                           convert_df_to_subject_level,\n",
    "                                           get_X_and_y_from_df,\n",
    "                                           test_different_splits_for_classification)\n",
    "\n",
    "from haberrspd.plotting import plot_roc_curve_simple, plot_superimposed_roc_curves, nice_fonts\n",
    "import pandas as pd\n",
    "import numpy as np\n",
    "\n",
    "# Plot stuff\n",
    "import seaborn as sns\n",
    "from scipy.constants import golden\n",
    "import matplotlib as mpl\n",
    "import matplotlib.pyplot as plt\n",
    "\n",
    "# Settings for plotting\n",
    "\n",
    "# plt.style.use('dark_background')\n",
    "# Set to default again\n",
    "# plt.rcParams.update(plt.rcParamsDefault)\n",
    "# mpl.rcParams.update(nice_fonts)"
   ]
  },
  {
   "cell_type": "markdown",
   "metadata": {},
   "source": [
    "To do:\n",
    "\n",
    "1. Change the percentile calculation (use np.percentile()) and then use the fitted model for the replacement value\n",
    "2. Change Percenttile value for MJFF and MRC IKI replacements\n",
    "3. Run results for Spanish data as well (download the meta file as well)\n",
    "    1. Load raw\n",
    "    2. Clean with baseline methods\n",
    "    3. Filter and replace IKI outliers\n",
    "4. Calculate summary stats for MRC for subjects and controls (check dist for IKI)\n",
    "5. Eventually re-do total compression time per key i.e. order keydown/keyup"
   ]
  },
  {
   "cell_type": "markdown",
   "metadata": {},
   "source": [
    "# Baseline classifiers"
   ]
  },
  {
   "cell_type": "markdown",
   "metadata": {},
   "source": [
    "---"
   ]
  },
  {
   "cell_type": "markdown",
   "metadata": {},
   "source": [
    "## MJFF [english: sentence level]"
   ]
  },
  {
   "cell_type": "code",
   "execution_count": 18,
   "metadata": {},
   "outputs": [],
   "source": [
    "# Load data\n",
    "df = pd.read_csv(data_root / 'MJFF' / 'raw' / 'EnglishData-duplicateeventsremoved.csv')\n",
    "df_meta = pd.read_csv(data_root / 'MJFF' / 'raw' / 'EnglishParticipantKey.csv',\n",
    "                      header=0,\n",
    "                      names=[\"participant_id\", \"ID\", \"attempt\", \"diagnosis\"],\n",
    "                     )"
   ]
  },
  {
   "cell_type": "code",
   "execution_count": 19,
   "metadata": {},
   "outputs": [
    {
     "name": "stdout",
     "output_type": "stream",
     "text": [
      "MJFF\n",
      "MJFF\n"
     ]
    }
   ],
   "source": [
    "which_attempt = 1\n",
    "\n",
    "df_baselines_raw = calculate_iki_and_ed_baseline(df=df,\n",
    "                                                 df_meta=df_meta,\n",
    "                                                 drop_shift=False,\n",
    "                                                 attempt=which_attempt,\n",
    "                                                 invokation_type=-1) # No changes have been made\n",
    "df_baselines_edited = calculate_iki_and_ed_baseline(df=df,\n",
    "                                                    df_meta=df_meta,\n",
    "                                                    drop_shift=False,\n",
    "                                                    attempt=which_attempt,\n",
    "                                                    invokation_type=1) # Error corrections have been made"
   ]
  },
  {
   "cell_type": "code",
   "execution_count": 25,
   "metadata": {},
   "outputs": [
    {
     "name": "stdout",
     "output_type": "stream",
     "text": [
      "+-------+---------------+-------------+------------+-----------+-----------------+\n",
      "|       |   Sentence_ID |   Diagnosis |   Mean_IKI |   Var_IKI |   Edit_Distance |\n",
      "+=======+===============+=============+============+===========+=================+\n",
      "| count |     741       |         741 |    741     |    741    |        741      |\n",
      "+-------+---------------+-------------+------------+-----------+-----------------+\n",
      "| mean  |      61.9811  |           0 |    314.472 |  63608.4  |        105.71   |\n",
      "+-------+---------------+-------------+------------+-----------+-----------------+\n",
      "| std   |       4.32525 |           0 |    101.504 |  39685.5  |         99.1941 |\n",
      "+-------+---------------+-------------+------------+-----------+-----------------+\n",
      "| min   |      55       |           0 |    120.333 |   2696.31 |          0      |\n",
      "+-------+---------------+-------------+------------+-----------+-----------------+\n",
      "| 25%   |      58       |           0 |    239.92  |  35593.8  |         54      |\n",
      "+-------+---------------+-------------+------------+-----------+-----------------+\n",
      "| 50%   |      62       |           0 |    306.329 |  56384.1  |        107      |\n",
      "+-------+---------------+-------------+------------+-----------+-----------------+\n",
      "| 75%   |      66       |           0 |    377.715 |  81018.2  |        128      |\n",
      "+-------+---------------+-------------+------------+-----------+-----------------+\n",
      "| max   |      69       |           0 |    716.637 | 255343    |       1060      |\n",
      "+-------+---------------+-------------+------------+-----------+-----------------+\n"
     ]
    }
   ],
   "source": [
    "print(tabulate(df_baselines_raw[(df_baselines_raw.Diagnosis == 0)].describe(),tablefmt=\"grid\", headers='keys'))"
   ]
  },
  {
   "cell_type": "code",
   "execution_count": null,
   "metadata": {},
   "outputs": [],
   "source": [
    "print(df_baselines_raw.Edit_Distance.var())\n",
    "print(df_baselines_edited.Edit_Distance.var())\n",
    "\n",
    "out1 = calculate_all_baseline_ROC_curves(df_baselines_raw)\n",
    "out2 = calculate_all_baseline_ROC_curves(df_baselines_edited)"
   ]
  },
  {
   "cell_type": "code",
   "execution_count": null,
   "metadata": {},
   "outputs": [],
   "source": [
    "plot_superimposed_roc_curves([out1,out2],\n",
    "                             'mjff_attempt_' + str(which_attempt) +'_sentence_level_rfc')"
   ]
  },
  {
   "cell_type": "markdown",
   "metadata": {},
   "source": [
    "## MRC [sentence level]"
   ]
  },
  {
   "cell_type": "code",
   "execution_count": 2,
   "metadata": {},
   "outputs": [],
   "source": [
    "df = pd.read_pickle(Path('../data/MRC/') / 'cleaned_mrc.pkl')"
   ]
  },
  {
   "cell_type": "markdown",
   "metadata": {},
   "source": [
    "### Drop all shift keys"
   ]
  },
  {
   "cell_type": "code",
   "execution_count": null,
   "metadata": {},
   "outputs": [],
   "source": [
    "df_baselines_raw = calculate_iki_and_ed_baseline(df, \n",
    "                                                 drop_shift=True, \n",
    "                                                 invokation_type=-1) # No changes have been made\n",
    "df = pd.read_pickle(Path('../data/MRC/') / 'cleaned_mrc.pkl')\n",
    "df_baselines_edited = calculate_iki_and_ed_baseline(df, \n",
    "                                                    drop_shift=True, \n",
    "                                                    invokation_type=1) # Error corrections have been made"
   ]
  },
  {
   "cell_type": "code",
   "execution_count": 15,
   "metadata": {},
   "outputs": [
    {
     "data": {
      "text/html": [
       "<div>\n",
       "<style scoped>\n",
       "    .dataframe tbody tr th:only-of-type {\n",
       "        vertical-align: middle;\n",
       "    }\n",
       "\n",
       "    .dataframe tbody tr th {\n",
       "        vertical-align: top;\n",
       "    }\n",
       "\n",
       "    .dataframe thead th {\n",
       "        text-align: right;\n",
       "    }\n",
       "</style>\n",
       "<table border=\"1\" class=\"dataframe\">\n",
       "  <thead>\n",
       "    <tr style=\"text-align: right;\">\n",
       "      <th></th>\n",
       "      <th>Patient_ID</th>\n",
       "      <th>Sentence_ID</th>\n",
       "      <th>Diagnosis</th>\n",
       "      <th>Mean_IKI</th>\n",
       "      <th>Var_IKI</th>\n",
       "      <th>Edit_Distance</th>\n",
       "    </tr>\n",
       "  </thead>\n",
       "  <tbody>\n",
       "    <tr>\n",
       "      <th>count</th>\n",
       "      <td>1171.000</td>\n",
       "      <td>1171.000</td>\n",
       "      <td>1171.0</td>\n",
       "      <td>1171.000</td>\n",
       "      <td>1171.000</td>\n",
       "      <td>1171.000</td>\n",
       "    </tr>\n",
       "    <tr>\n",
       "      <th>mean</th>\n",
       "      <td>66.368</td>\n",
       "      <td>7.974</td>\n",
       "      <td>1.0</td>\n",
       "      <td>305.941</td>\n",
       "      <td>45139.622</td>\n",
       "      <td>9.414</td>\n",
       "    </tr>\n",
       "    <tr>\n",
       "      <th>std</th>\n",
       "      <td>30.505</td>\n",
       "      <td>4.331</td>\n",
       "      <td>0.0</td>\n",
       "      <td>107.132</td>\n",
       "      <td>33551.116</td>\n",
       "      <td>6.648</td>\n",
       "    </tr>\n",
       "    <tr>\n",
       "      <th>min</th>\n",
       "      <td>11.000</td>\n",
       "      <td>1.000</td>\n",
       "      <td>1.0</td>\n",
       "      <td>126.777</td>\n",
       "      <td>2694.736</td>\n",
       "      <td>2.000</td>\n",
       "    </tr>\n",
       "    <tr>\n",
       "      <th>25%</th>\n",
       "      <td>41.000</td>\n",
       "      <td>4.000</td>\n",
       "      <td>1.0</td>\n",
       "      <td>232.583</td>\n",
       "      <td>22402.246</td>\n",
       "      <td>6.000</td>\n",
       "    </tr>\n",
       "    <tr>\n",
       "      <th>50%</th>\n",
       "      <td>64.000</td>\n",
       "      <td>8.000</td>\n",
       "      <td>1.0</td>\n",
       "      <td>280.203</td>\n",
       "      <td>35086.575</td>\n",
       "      <td>8.000</td>\n",
       "    </tr>\n",
       "    <tr>\n",
       "      <th>75%</th>\n",
       "      <td>92.000</td>\n",
       "      <td>12.000</td>\n",
       "      <td>1.0</td>\n",
       "      <td>346.834</td>\n",
       "      <td>58336.280</td>\n",
       "      <td>12.000</td>\n",
       "    </tr>\n",
       "    <tr>\n",
       "      <th>max</th>\n",
       "      <td>119.000</td>\n",
       "      <td>15.000</td>\n",
       "      <td>1.0</td>\n",
       "      <td>777.165</td>\n",
       "      <td>235131.319</td>\n",
       "      <td>115.000</td>\n",
       "    </tr>\n",
       "  </tbody>\n",
       "</table>\n",
       "</div>"
      ],
      "text/plain": [
       "       Patient_ID  Sentence_ID  Diagnosis  Mean_IKI     Var_IKI  Edit_Distance\n",
       "count    1171.000     1171.000     1171.0  1171.000    1171.000       1171.000\n",
       "mean       66.368        7.974        1.0   305.941   45139.622          9.414\n",
       "std        30.505        4.331        0.0   107.132   33551.116          6.648\n",
       "min        11.000        1.000        1.0   126.777    2694.736          2.000\n",
       "25%        41.000        4.000        1.0   232.583   22402.246          6.000\n",
       "50%        64.000        8.000        1.0   280.203   35086.575          8.000\n",
       "75%        92.000       12.000        1.0   346.834   58336.280         12.000\n",
       "max       119.000       15.000        1.0   777.165  235131.319        115.000"
      ]
     },
     "execution_count": 15,
     "metadata": {},
     "output_type": "execute_result"
    }
   ],
   "source": [
    "df_baselines_edited[(df_baselines_edited.Diagnosis == 1)].describe().round(3)"
   ]
  },
  {
   "cell_type": "code",
   "execution_count": 16,
   "metadata": {},
   "outputs": [
    {
     "data": {
      "text/html": [
       "<div>\n",
       "<style scoped>\n",
       "    .dataframe tbody tr th:only-of-type {\n",
       "        vertical-align: middle;\n",
       "    }\n",
       "\n",
       "    .dataframe tbody tr th {\n",
       "        vertical-align: top;\n",
       "    }\n",
       "\n",
       "    .dataframe thead th {\n",
       "        text-align: right;\n",
       "    }\n",
       "</style>\n",
       "<table border=\"1\" class=\"dataframe\">\n",
       "  <thead>\n",
       "    <tr style=\"text-align: right;\">\n",
       "      <th></th>\n",
       "      <th>Patient_ID</th>\n",
       "      <th>Sentence_ID</th>\n",
       "      <th>Diagnosis</th>\n",
       "      <th>Mean_IKI</th>\n",
       "      <th>Var_IKI</th>\n",
       "      <th>Edit_Distance</th>\n",
       "    </tr>\n",
       "  </thead>\n",
       "  <tbody>\n",
       "    <tr>\n",
       "      <th>count</th>\n",
       "      <td>1870.000</td>\n",
       "      <td>1870.000</td>\n",
       "      <td>1870.0</td>\n",
       "      <td>1870.000</td>\n",
       "      <td>1870.000</td>\n",
       "      <td>1870.000</td>\n",
       "    </tr>\n",
       "    <tr>\n",
       "      <th>mean</th>\n",
       "      <td>1088.271</td>\n",
       "      <td>7.972</td>\n",
       "      <td>0.0</td>\n",
       "      <td>296.277</td>\n",
       "      <td>50666.992</td>\n",
       "      <td>8.066</td>\n",
       "    </tr>\n",
       "    <tr>\n",
       "      <th>std</th>\n",
       "      <td>46.871</td>\n",
       "      <td>4.317</td>\n",
       "      <td>0.0</td>\n",
       "      <td>110.300</td>\n",
       "      <td>39072.005</td>\n",
       "      <td>4.690</td>\n",
       "    </tr>\n",
       "    <tr>\n",
       "      <th>min</th>\n",
       "      <td>1010.000</td>\n",
       "      <td>1.000</td>\n",
       "      <td>0.0</td>\n",
       "      <td>2.878</td>\n",
       "      <td>712.646</td>\n",
       "      <td>2.000</td>\n",
       "    </tr>\n",
       "    <tr>\n",
       "      <th>25%</th>\n",
       "      <td>1047.000</td>\n",
       "      <td>4.000</td>\n",
       "      <td>0.0</td>\n",
       "      <td>215.389</td>\n",
       "      <td>21424.663</td>\n",
       "      <td>5.000</td>\n",
       "    </tr>\n",
       "    <tr>\n",
       "      <th>50%</th>\n",
       "      <td>1086.000</td>\n",
       "      <td>8.000</td>\n",
       "      <td>0.0</td>\n",
       "      <td>275.422</td>\n",
       "      <td>40733.607</td>\n",
       "      <td>7.000</td>\n",
       "    </tr>\n",
       "    <tr>\n",
       "      <th>75%</th>\n",
       "      <td>1131.000</td>\n",
       "      <td>12.000</td>\n",
       "      <td>0.0</td>\n",
       "      <td>346.692</td>\n",
       "      <td>68614.975</td>\n",
       "      <td>10.000</td>\n",
       "    </tr>\n",
       "    <tr>\n",
       "      <th>max</th>\n",
       "      <td>1167.000</td>\n",
       "      <td>15.000</td>\n",
       "      <td>0.0</td>\n",
       "      <td>720.407</td>\n",
       "      <td>279774.101</td>\n",
       "      <td>47.000</td>\n",
       "    </tr>\n",
       "  </tbody>\n",
       "</table>\n",
       "</div>"
      ],
      "text/plain": [
       "       Patient_ID  Sentence_ID  Diagnosis  Mean_IKI     Var_IKI  Edit_Distance\n",
       "count    1870.000     1870.000     1870.0  1870.000    1870.000       1870.000\n",
       "mean     1088.271        7.972        0.0   296.277   50666.992          8.066\n",
       "std        46.871        4.317        0.0   110.300   39072.005          4.690\n",
       "min      1010.000        1.000        0.0     2.878     712.646          2.000\n",
       "25%      1047.000        4.000        0.0   215.389   21424.663          5.000\n",
       "50%      1086.000        8.000        0.0   275.422   40733.607          7.000\n",
       "75%      1131.000       12.000        0.0   346.692   68614.975         10.000\n",
       "max      1167.000       15.000        0.0   720.407  279774.101         47.000"
      ]
     },
     "execution_count": 16,
     "metadata": {},
     "output_type": "execute_result"
    }
   ],
   "source": [
    "df_baselines_edited[(df_baselines_edited.Diagnosis == 0)].describe().round(3)"
   ]
  },
  {
   "cell_type": "code",
   "execution_count": 17,
   "metadata": {},
   "outputs": [],
   "source": [
    "out1 = calculate_all_baseline_ROC_curves(df_baselines_raw)\n",
    "out2 = calculate_all_baseline_ROC_curves(df_baselines_edited)"
   ]
  },
  {
   "cell_type": "code",
   "execution_count": 18,
   "metadata": {},
   "outputs": [
    {
     "data": {
      "image/png": "[encoded data removed]",
      "text/plain": [
       "<Figure size 216x216 with 1 Axes>"
      ]
     },
     "metadata": {
      "needs_background": "light"
     },
     "output_type": "display_data"
    }
   ],
   "source": [
    "# For reasons unknown we can only run this once...\n",
    "plot_superimposed_roc_curves([out1,out2],'mrc_with_dropped_shift_keys_sentence_level')"
   ]
  },
  {
   "cell_type": "markdown",
   "metadata": {},
   "source": [
    "### Shift keys are kept"
   ]
  },
  {
   "cell_type": "code",
   "execution_count": 3,
   "metadata": {},
   "outputs": [
    {
     "name": "stdout",
     "output_type": "stream",
     "text": [
      "MRC\n",
      "\n",
      " Pickled file wasn't found.\n"
     ]
    },
    {
     "name": "stderr",
     "output_type": "stream",
     "text": [
      "/home/neil/anaconda3/envs/py36/lib/python3.6/site-packages/pandas/core/frame.py:4117: SettingWithCopyWarning:\n",
      "\n",
      "\n",
      "A value is trying to be set on a copy of a slice from a DataFrame\n",
      "\n",
      "See the caveats in the documentation: http://pandas.pydata.org/pandas-docs/stable/user_guide/indexing.html#returning-a-view-versus-a-copy\n",
      "\n"
     ]
    },
    {
     "name": "stdout",
     "output_type": "stream",
     "text": [
      "MRC\n",
      "\n",
      " Pickled file wasn't found.\n"
     ]
    },
    {
     "name": "stderr",
     "output_type": "stream",
     "text": [
      "/home/neil/anaconda3/envs/py36/lib/python3.6/site-packages/pandas/core/frame.py:4117: SettingWithCopyWarning:\n",
      "\n",
      "\n",
      "A value is trying to be set on a copy of a slice from a DataFrame\n",
      "\n",
      "See the caveats in the documentation: http://pandas.pydata.org/pandas-docs/stable/user_guide/indexing.html#returning-a-view-versus-a-copy\n",
      "\n"
     ]
    }
   ],
   "source": [
    "df_baselines_raw = calculate_iki_and_ed_baseline(df.loc[(df.medication == 0)], \n",
    "                                                 drop_shift=False, \n",
    "                                                 invokation_type=-1) # No changes have been made\n",
    "df = pd.read_pickle(Path('../data/MRC/') / 'cleaned_mrc.pkl')\n",
    "df_baselines_edited = calculate_iki_and_ed_baseline(df.loc[(df.medication == 0)],\n",
    "                                                    drop_shift=False,\n",
    "                                                    invokation_type=1) # Error corrections have been made"
   ]
  },
  {
   "cell_type": "code",
   "execution_count": 57,
   "metadata": {},
   "outputs": [],
   "source": [
    "a = calculate_all_baseline_ROC_curves(df_baselines_raw, n_reruns=10)\n",
    "b = calculate_all_baseline_ROC_curves(df_baselines_edited, n_reruns=10)"
   ]
  },
  {
   "cell_type": "code",
   "execution_count": 58,
   "metadata": {},
   "outputs": [
    {
     "data": {
      "image/png": "[encoded data removed]",
      "text/plain": [
       "<Figure size 216x216 with 1 Axes>"
      ]
     },
     "metadata": {
      "needs_background": "light"
     },
     "output_type": "display_data"
    }
   ],
   "source": [
    "# mrc_shift_keys_kept_sentence_level\n",
    "plot_superimposed_roc_curves([a,b],'test')"
   ]
  },
  {
   "cell_type": "markdown",
   "metadata": {},
   "source": [
    "### MJFF [subject level]"
   ]
  },
  {
   "cell_type": "code",
   "execution_count": null,
   "metadata": {},
   "outputs": [],
   "source": [
    "df_baselines_raw.head()"
   ]
  },
  {
   "cell_type": "code",
   "execution_count": null,
   "metadata": {},
   "outputs": [],
   "source": [
    "for i in [df_baselines_raw, df_baselines_edited]:\n",
    "    outs = get_X_and_y_from_df(convert_df_to_subject_level(i))\n",
    "    for j in ['I','II']:\n",
    "        print(j,test_different_splits_for_classification(outs[j]))"
   ]
  },
  {
   "cell_type": "markdown",
   "metadata": {},
   "source": [
    "### MRC [subject level]"
   ]
  },
  {
   "cell_type": "code",
   "execution_count": 20,
   "metadata": {},
   "outputs": [],
   "source": [
    "def get_X_and_y_from_df(df):\n",
    "\n",
    "    measures = [\"Edit_Distance\", \"Mean_IKI\", \"Diagnosis\"]\n",
    "    # assert set(measures).issubset(df.columns)\n",
    "    features = [\"Mean_IKI\", [\"Edit_Distance\", \"Mean_IKI\"]]\n",
    "\n",
    "    # Store all results in a dict which will be passed to plotting\n",
    "    sets = {\"I\": None, \"II\": None}\n",
    "    # assert len(sets) == len(features)\n",
    "    for i, j in zip(features, sets.keys()):\n",
    "        \n",
    "        # List of features\n",
    "        if isinstance(i, list):\n",
    "            assert len(i) == 2\n",
    "            X = []\n",
    "            for k in range(df.shape[0]):\n",
    "                X.append(df.loc[k,i[0]] + df.loc[k,i[1]])\n",
    "            X = np.vstack(X)\n",
    "            \n",
    "        # Singular feature\n",
    "        else:\n",
    "            X = np.vstack(df[i])\n",
    "\n",
    "        # targets\n",
    "        y = df.Diagnosis.to_numpy()\n",
    "\n",
    "        sets[j] = (X, y)\n",
    "\n",
    "    return sets"
   ]
  },
  {
   "cell_type": "code",
   "execution_count": 21,
   "metadata": {},
   "outputs": [],
   "source": [
    "part = convert_df_to_subject_level(df_baselines_raw)"
   ]
  },
  {
   "cell_type": "code",
   "execution_count": 22,
   "metadata": {},
   "outputs": [],
   "source": [
    "# out = convert_df_to_subject_level(df_baselines_raw)\n",
    "outs = get_X_and_y_from_df(part)"
   ]
  },
  {
   "cell_type": "code",
   "execution_count": 23,
   "metadata": {},
   "outputs": [
    {
     "name": "stdout",
     "output_type": "stream",
     "text": [
      "I (0.787, 0.067)\n",
      "II (0.952, 0.022)\n",
      "I (0.797, 0.053)\n",
      "II (0.981, 0.015)\n"
     ]
    }
   ],
   "source": [
    "# We use the version with shift keys kept\n",
    "for i in [df_baselines_raw, df_baselines_edited]:\n",
    "    outs = get_X_and_y_from_df(convert_df_to_subject_level(i))\n",
    "    for j in ['I','II']:\n",
    "        print(j, test_different_splits_for_classification(outs[j]))"
   ]
  },
  {
   "cell_type": "markdown",
   "metadata": {},
   "source": [
    "\n",
    "I (0.791, 0.047)\n",
    "II (0.947, 0.027)\n",
    "I (0.789, 0.062)\n",
    "II (0.976, 0.016)"
   ]
  },
  {
   "cell_type": "markdown",
   "metadata": {},
   "source": [
    "# Modelling CHARACTERS ('char') only"
   ]
  },
  {
   "cell_type": "markdown",
   "metadata": {},
   "source": [
    "This commences the CNN approach to the task."
   ]
  },
  {
   "cell_type": "code",
   "execution_count": 24,
   "metadata": {},
   "outputs": [],
   "source": [
    "char = {100 : np.genfromtxt('../results/char/label_and_label_probs_2019-07-30_16-03-33.csv', delimiter=','), \n",
    "        200 : np.genfromtxt('../results/char/label_and_label_probs_2019-07-30_16-37-21.csv', delimiter=','), \n",
    "        500 : np.genfromtxt('../results/char/label_and_label_probs_2019-07-30_17-46-29.csv', delimiter=',')}"
   ]
  },
  {
   "cell_type": "code",
   "execution_count": 25,
   "metadata": {},
   "outputs": [
    {
     "name": "stdout",
     "output_type": "stream",
     "text": [
      "Number of hyperparameter permutations considered: 100\n",
      "\n"
     ]
    },
    {
     "data": {
      "image/png": "[encoded data removed]",
      "text/plain": [
       "<Figure size 432x432 with 1 Axes>"
      ]
     },
     "metadata": {},
     "output_type": "display_data"
    },
    {
     "name": "stdout",
     "output_type": "stream",
     "text": [
      "Number of hyperparameter permutations considered: 200\n",
      "\n"
     ]
    },
    {
     "data": {
      "image/png": "[encoded data removed]",
      "text/plain": [
       "<Figure size 432x432 with 1 Axes>"
      ]
     },
     "metadata": {},
     "output_type": "display_data"
    },
    {
     "name": "stdout",
     "output_type": "stream",
     "text": [
      "Number of hyperparameter permutations considered: 500\n",
      "\n"
     ]
    },
    {
     "data": {
      "image/png": "[encoded data removed]",
      "text/plain": [
       "<Figure size 432x432 with 1 Axes>"
      ]
     },
     "metadata": {},
     "output_type": "display_data"
    }
   ],
   "source": [
    "for key in char.keys():\n",
    "    print(\"Number of hyperparameter permutations considered: {}\\n\".format(key))\n",
    "    plot_roc_curve_simple(char[key][:,0].astype(np.int64), char[key][:,1])"
   ]
  },
  {
   "cell_type": "code",
   "execution_count": null,
   "metadata": {},
   "outputs": [],
   "source": [
    "plot_roc_curve_simple(char[200][:,0].astype(np.int64), char[200][:,1],'mjff_char_only')"
   ]
  },
  {
   "cell_type": "markdown",
   "metadata": {},
   "source": [
    "# CHARACTERS and TIME"
   ]
  },
  {
   "cell_type": "code",
   "execution_count": 26,
   "metadata": {},
   "outputs": [],
   "source": [
    "char_time = {100 : np.genfromtxt('../results/char_time/label_and_label_probs_2019-07-26_21-25-18.csv', delimiter=','), \n",
    " 200 : np.genfromtxt('../results/char_time/label_and_label_probs_2019-07-26_15-00-06.csv', delimiter=','), \n",
    " 500 : np.genfromtxt('../results/char_time/label_and_label_probs_2019-07-26_12-24-09.csv', delimiter=',')}"
   ]
  },
  {
   "cell_type": "code",
   "execution_count": 27,
   "metadata": {},
   "outputs": [
    {
     "name": "stdout",
     "output_type": "stream",
     "text": [
      "Number of hyperparameter permutations considered: 100\n",
      "\n"
     ]
    },
    {
     "data": {
      "image/png": "[encoded data removed]",
      "text/plain": [
       "<Figure size 432x432 with 1 Axes>"
      ]
     },
     "metadata": {},
     "output_type": "display_data"
    },
    {
     "name": "stdout",
     "output_type": "stream",
     "text": [
      "Number of hyperparameter permutations considered: 200\n",
      "\n"
     ]
    },
    {
     "data": {
      "image/png": "[encoded data removed]",
      "text/plain": [
       "<Figure size 432x432 with 1 Axes>"
      ]
     },
     "metadata": {},
     "output_type": "display_data"
    },
    {
     "name": "stdout",
     "output_type": "stream",
     "text": [
      "Number of hyperparameter permutations considered: 500\n",
      "\n"
     ]
    },
    {
     "data": {
      "image/png": "[encoded data removed]",
      "text/plain": [
       "<Figure size 432x432 with 1 Axes>"
      ]
     },
     "metadata": {},
     "output_type": "display_data"
    }
   ],
   "source": [
    "for key in char_time.keys():\n",
    "    print(\"Number of hyperparameter permutations considered: {}\\n\".format(key))\n",
    "    plot_roc_curve_simple(char_time[key][:,0].astype(np.int64), char_time[key][:,1])"
   ]
  },
  {
   "cell_type": "code",
   "execution_count": null,
   "metadata": {},
   "outputs": [],
   "source": [
    "plot_roc_curve_simple(char_time[200][:,0].astype(np.int64), char_time[200][:,1],'mjff_char_time')"
   ]
  },
  {
   "cell_type": "markdown",
   "metadata": {},
   "source": [
    "# CHARACTERS and TIME and Space"
   ]
  },
  {
   "cell_type": "code",
   "execution_count": 28,
   "metadata": {},
   "outputs": [],
   "source": [
    "char_time_space = {100 : np.genfromtxt('../results/char_time_space/label_and_label_probs_2019-07-30_15-46-27.csv', delimiter=','), \n",
    "                   500 : np.genfromtxt('../results/char_time_space/label_and_label_probs_2019-07-30_21-34-27.csv', delimiter=',')}"
   ]
  },
  {
   "cell_type": "code",
   "execution_count": 29,
   "metadata": {},
   "outputs": [
    {
     "name": "stdout",
     "output_type": "stream",
     "text": [
      "Number of hyperparameter permutations considered: 100\n",
      "\n"
     ]
    },
    {
     "data": {
      "image/png": "[encoded data removed]",
      "text/plain": [
       "<Figure size 432x432 with 1 Axes>"
      ]
     },
     "metadata": {},
     "output_type": "display_data"
    },
    {
     "name": "stdout",
     "output_type": "stream",
     "text": [
      "Number of hyperparameter permutations considered: 500\n",
      "\n"
     ]
    },
    {
     "data": {
      "image/png": "[encoded data removed]",
      "text/plain": [
       "<Figure size 432x432 with 1 Axes>"
      ]
     },
     "metadata": {},
     "output_type": "display_data"
    }
   ],
   "source": [
    "for key in char_time_space.keys():\n",
    "    print(\"Number of hyperparameter permutations considered: {}\\n\".format(key))\n",
    "    plot_roc_curve_simple(char_time_space[key][:,0].astype(np.int64), char_time_space[key][:,1])"
   ]
  },
  {
   "cell_type": "code",
   "execution_count": null,
   "metadata": {},
   "outputs": [],
   "source": [
    "plot_roc_curve_simple(char_time_space[500][:,0].astype(np.int64), char_time_space[500][:,1],'mjff_char_time_space')"
   ]
  },
  {
   "cell_type": "code",
   "execution_count": null,
   "metadata": {},
   "outputs": [],
   "source": [
    "# Check the details of the best model for one of the optimisations\n",
    "df = pd.read_csv(\"../results/char_time_space/073019144454.csv\")"
   ]
  },
  {
   "cell_type": "code",
   "execution_count": null,
   "metadata": {},
   "outputs": [],
   "source": [
    "# Sort by validation accuracy\n",
    "df.sort_values(by=['val_acc'],ascending=False).head(10)"
   ]
  },
  {
   "cell_type": "code",
   "execution_count": null,
   "metadata": {},
   "outputs": [],
   "source": [
    "# Detailed look at the \"winning model\"\n",
    "df.iloc[387,:]"
   ]
  }
 ],
 "metadata": {
  "kernelspec": {
   "display_name": "Python 3",
   "language": "python",
   "name": "python3"
  },
  "language_info": {
   "codemirror_mode": {
    "name": "ipython",
    "version": 3
   },
   "file_extension": ".py",
   "mimetype": "text/x-python",
   "name": "python",
   "nbconvert_exporter": "python",
   "pygments_lexer": "ipython3",
   "version": "3.6.9"
  }
 },
 "nbformat": 4,
 "nbformat_minor": 4
}
