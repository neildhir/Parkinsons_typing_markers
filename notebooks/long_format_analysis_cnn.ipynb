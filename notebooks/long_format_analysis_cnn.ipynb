{
 "cells": [
  {
   "cell_type": "markdown",
   "metadata": {},
   "source": [
    "## The central intuition about this idea is to see our documents as images"
   ]
  },
  {
   "cell_type": "markdown",
   "metadata": {},
   "source": [
    "Convolution Idea: While for an image we move our conv filter horizontally as well as vertically, for text we fix kernel size to filter_size x embed_size, i.e. we are just going to move vertically down for the convolution taking look at multiple words at once."
   ]
  },
  {
   "cell_type": "code",
   "execution_count": 1,
   "metadata": {},
   "outputs": [
    {
     "name": "stdout",
     "output_type": "stream",
     "text": [
      "/home/neil/cloud/habitual_errors_NLP\n"
     ]
    }
   ],
   "source": [
    "cd .."
   ]
  },
  {
   "cell_type": "code",
   "execution_count": 2,
   "metadata": {},
   "outputs": [],
   "source": [
    "%load_ext autoreload\n",
    "%autoreload 2 \n",
    "%matplotlib inline\n",
    "from haberrspd.__init__ import *\n",
    "from haberrspd.__init_paths import data_root\n",
    "\n",
    "# goto the correct folder just for practicality's sake"
   ]
  },
  {
   "cell_type": "markdown",
   "metadata": {},
   "source": [
    "### **Convolutional Neural Networks for Sentence Classification** adapted for use with characters embeddings"
   ]
  },
  {
   "cell_type": "code",
   "execution_count": 8,
   "metadata": {},
   "outputs": [],
   "source": [
    "import torchtext.data as data\n",
    "import haberrspd.charCNN.mydatasets as mydatasets\n",
    "import torch # To set the device\n",
    "import datetime\n",
    "import os\n",
    "from haberrspd.charCNN.model import CNN_Text\n",
    "import haberrspd.charCNN.train as train\n",
    "from haberrspd.pdnet_flair import Config"
   ]
  },
  {
   "cell_type": "code",
   "execution_count": 9,
   "metadata": {},
   "outputs": [],
   "source": [
    "args = Config(\n",
    "    # Arguments\n",
    "    batch_size = 64,\n",
    "    lr=0.001,\n",
    "    epochs=10,\n",
    "    kernel_sizes = [3,4,5],\n",
    "    kernel_num = 100,\n",
    "    embed_dim=128,\n",
    "    dropout=0.5,\n",
    "    cuda = torch.cuda.is_available(),\n",
    "    snapshot = None,\n",
    "    static=False,\n",
    "    predict=None,\n",
    "    test=False,\n",
    "    log_interval=1,\n",
    "    test_interval=100,\n",
    "    early_stop=1000,\n",
    "    save_best=True,\n",
    "    save_interval=500,\n",
    "    save_dir = 'snapshot'\n",
    ")"
   ]
  },
  {
   "cell_type": "code",
   "execution_count": 10,
   "metadata": {},
   "outputs": [
    {
     "name": "stdout",
     "output_type": "stream",
     "text": [
      "downloading\n",
      "extracting\n"
     ]
    }
   ],
   "source": [
    "# In this example, words are embedded\n",
    "def mr(text_field, label_field, **kargs):\n",
    "    train_data, dev_data = mydatasets.MR.splits(text_field, label_field)\n",
    "    text_field.build_vocab(train_data, dev_data)\n",
    "    label_field.build_vocab(train_data, dev_data)\n",
    "    train_iter, dev_iter = data.Iterator.splits(\n",
    "                                (train_data, dev_data), \n",
    "                                batch_sizes=(args.batch_size, len(dev_data)),\n",
    "                                **kargs)\n",
    "    return train_iter, dev_iter\n",
    "\n",
    "# load data\n",
    "text_field = data.Field(lower=True)\n",
    "label_field = data.Field(sequential=False)\n",
    "# Data passed to model here \n",
    "train_iter, dev_iter = mr(text_field, \n",
    "                          label_field, \n",
    "                          device=torch.device('cuda'), \n",
    "                          repeat=False)\n",
    "\n",
    "# update args and print\n",
    "args.set(\"embed_num\",len(text_field.vocab))\n",
    "args.set(\"class_num\",len(label_field.vocab) - 1)\n",
    "args.set(\"save_dir\", os.path.join(args.save_dir, \n",
    "                                  datetime.datetime.now().strftime('%Y-%m-%d_%H-%M-%S')))"
   ]
  },
  {
   "cell_type": "code",
   "execution_count": null,
   "metadata": {},
   "outputs": [],
   "source": [
    "# In this example, each character is embedded\n"
   ]
  },
  {
   "cell_type": "markdown",
   "metadata": {},
   "source": [
    "### Data-example here (task: infer if positive/negative)"
   ]
  },
  {
   "cell_type": "code",
   "execution_count": 19,
   "metadata": {},
   "outputs": [
    {
     "data": {
      "text/plain": [
       "['his',\n",
       " 'best',\n",
       " 'film',\n",
       " 'remains',\n",
       " 'his',\n",
       " 'shortest',\n",
       " ',',\n",
       " 'the',\n",
       " 'hole',\n",
       " ',',\n",
       " 'which',\n",
       " 'makes',\n",
       " 'many',\n",
       " 'of',\n",
       " 'the',\n",
       " 'points',\n",
       " 'that',\n",
       " 'this',\n",
       " 'film',\n",
       " 'does',\n",
       " 'but',\n",
       " 'feels',\n",
       " 'less',\n",
       " 'repetitive',\n",
       " '']"
      ]
     },
     "execution_count": 19,
     "metadata": {},
     "output_type": "execute_result"
    }
   ],
   "source": [
    "train_iter.dataset.examples[0].text"
   ]
  },
  {
   "cell_type": "code",
   "execution_count": 6,
   "metadata": {},
   "outputs": [
    {
     "data": {
      "text/plain": [
       "{'batch_size': 64,\n",
       " 'lr': 0.001,\n",
       " 'epochs': 10,\n",
       " 'kernel_sizes': [3, 4, 5],\n",
       " 'kernel_num': 100,\n",
       " 'embed_dim': 128,\n",
       " 'dropout': 0.5,\n",
       " 'cuda': True,\n",
       " 'snapshot': None,\n",
       " 'static': False,\n",
       " 'predict': None,\n",
       " 'test': False,\n",
       " 'log_interval': 1,\n",
       " 'test_interval': 100,\n",
       " 'early_stop': 1000,\n",
       " 'save_best': True,\n",
       " 'save_interval': 500,\n",
       " 'save_dir': 'snapshot/2019-06-05_15-00-47',\n",
       " 'embed_num': 21114,\n",
       " 'class_num': 2}"
      ]
     },
     "execution_count": 6,
     "metadata": {},
     "output_type": "execute_result"
    }
   ],
   "source": [
    "args"
   ]
  },
  {
   "cell_type": "code",
   "execution_count": 7,
   "metadata": {},
   "outputs": [],
   "source": [
    "# model\n",
    "cnn = CNN_Text(args)\n",
    "if args.cuda:\n",
    "    cnn = cnn.cuda()"
   ]
  },
  {
   "cell_type": "code",
   "execution_count": null,
   "metadata": {},
   "outputs": [],
   "source": [
    "# train or predict\n",
    "if args.predict is not None:\n",
    "    label = train.predict(args.predict, cnn, text_field, label_field, args.cuda)\n",
    "    print('\\n[Text]  {}\\n[Label] {}\\n'.format(args.predict, label))\n",
    "elif args.test:\n",
    "    try:\n",
    "        train.eval(test_iter, cnn, args) \n",
    "    except Exception as e:\n",
    "        print(\"\\nSorry. The test dataset doesn't exist.\\n\")\n",
    "else:\n",
    "    print()\n",
    "    try:\n",
    "        train.train(train_iter, dev_iter, cnn, args)\n",
    "    except KeyboardInterrupt:\n",
    "        print('\\n' + '-' * 89)\n",
    "        print('Exiting from training early')"
   ]
  },
  {
   "cell_type": "markdown",
   "metadata": {},
   "source": [
    "## **Character-level Convolutional Networks for Text Classification**"
   ]
  },
  {
   "cell_type": "code",
   "execution_count": 3,
   "metadata": {},
   "outputs": [],
   "source": [
    "from haberrspd.pdnet_flair import Config, make_train_test_dev\n",
    "from haberrspd.charCNN.auxiliary import make_MJFF_data_loader\n",
    "from haberrspd.charCNN.train import run\n",
    "import torch\n",
    "import pandas as pd"
   ]
  },
  {
   "cell_type": "code",
   "execution_count": 6,
   "metadata": {},
   "outputs": [],
   "source": [
    "# For deploy version, all of this will be placed in the parser\n",
    "args = Config(\n",
    "    # Model arguments\n",
    "    val_path='haberrspd/charCNN/data/dev.csv',\n",
    "    test_path='haberrspd/charCNN/data/test.csv',\n",
    "    train_path='haberrspd/charCNN/data/train.csv',\n",
    "    alphabet_path='haberrspd/charCNN/alphabet.json',# Where our alphabet lives\n",
    "    load_very_long_sentences=False, # Temporary fix to remove unreasonably long sequences\n",
    "    max_sample_length=8192, # The maximum length allowed for each training example\n",
    "    num_workers=1,\n",
    "    batch_size = 32,\n",
    "    lr=0.001, # Learning rate\n",
    "    epochs=50, # Set epochs here\n",
    "    max_norm=400,\n",
    "    optimizer='Adam',\n",
    "    class_weight=None,\n",
    "    dynamic_lr=False, # Dynamic learning rate, used for all but Adam\n",
    "    milestones = [5,10,15],\n",
    "    decay_factor = 0.5, # Rate by which we reduce the learning rate\n",
    "    kernel_sizes = [3,4,5],\n",
    "    kernel_num = 100,\n",
    "    embed_dim=128,\n",
    "    shuffle=False,\n",
    "    dropout=0.5,\n",
    "    cuda=True, # We have a GPU so let's use it\n",
    "    verbose=False,\n",
    "    continue_from='', # If we already trained a model we can continue from the stored one\n",
    "    checkpoint=False,\n",
    "    checkpoint_per_batch=10000,\n",
    "    save_folder='haberrspd/charCNN/run_results',\n",
    "    log_config=False,\n",
    "    log_result=False,\n",
    "    log_interval=1,\n",
    "    val_interval=200,\n",
    "    save_interval=1,\n",
    "    plot_live=True, # If we want the losses to be plotted live\n",
    ")"
   ]
  },
  {
   "cell_type": "code",
   "execution_count": 7,
   "metadata": {},
   "outputs": [
    {
     "data": {
      "image/png": "[encoded data removed]",
      "text/plain": [
       "<Figure size 864x576 with 2 Axes>"
      ]
     },
     "metadata": {
      "needs_background": "light"
     },
     "output_type": "display_data"
    },
    {
     "name": "stdout",
     "output_type": "stream",
     "text": [
      "log loss:\n",
      "training   (min:    0.000, max:    0.757, cur:    0.000)\n",
      "validation (min:    0.157, max:    1.400, cur:    0.833)\n",
      "\n",
      "accuracy:\n",
      "training   (min:    0.631, max:    0.998, cur:    0.998)\n",
      "validation (min:    0.518, max:    0.618, cur:    0.555)\n"
     ]
    }
   ],
   "source": [
    "assert torch.cuda.is_available() is True\n",
    "run(args)"
   ]
  },
  {
   "cell_type": "code",
   "execution_count": 18,
   "metadata": {},
   "outputs": [],
   "source": [
    "import torch\n",
    "import torch.nn as nn"
   ]
  },
  {
   "cell_type": "code",
   "execution_count": 12,
   "metadata": {},
   "outputs": [
    {
     "name": "stdout",
     "output_type": "stream",
     "text": [
      "torch.Size([8192, 64, 11])\n"
     ]
    }
   ],
   "source": [
    "batch_size = 70\n",
    "x = torch.ones(2**13, batch_size, 50) # Input    \n",
    "m = nn.Sequential(\n",
    "    nn.Conv1d(batch_size, 64, kernel_size=16, stride=1), # Function\n",
    "    nn.ReLU(),\n",
    "    nn.MaxPool1d(kernel_size=3,stride=3)\n",
    ")\n",
    "out = m(x)\n",
    "print(out.size())\n",
    "# print(m)"
   ]
  },
  {
   "cell_type": "markdown",
   "metadata": {},
   "source": [
    "# char-CNN model"
   ]
  },
  {
   "cell_type": "code",
   "execution_count": 1,
   "metadata": {},
   "outputs": [
    {
     "name": "stderr",
     "output_type": "stream",
     "text": [
      "Using TensorFlow backend.\n"
     ]
    }
   ],
   "source": [
    "%load_ext autoreload\n",
    "%autoreload 2 \n",
    "%matplotlib inline\n",
    "# This blokc is important if we want the memory to grow on the GPU, and not block allocate the whole thing\n",
    "import tensorflow as tf\n",
    "from keras.backend.tensorflow_backend import set_session\n",
    "from keras.utils import plot_model\n",
    "from keras.callbacks import TensorBoard\n",
    "from datetime import datetime\n",
    "import os\n",
    "from keras.callbacks import EarlyStopping, ModelCheckpoint\n",
    "from livelossplot.keras import PlotLossesCallback\n",
    "\n",
    "config = tf.ConfigProto()\n",
    "config.gpu_options.allow_growth = True\n",
    "set_session(tf.Session(config=config))\n",
    "\n",
    "# Set path to find modelling tools for later use\n",
    "import sys\n",
    "sys.path.append(os.path.join(os.getcwd(),\"..\"))\n",
    "# Global params live here\n",
    "import haberrspd.charCNN.globals"
   ]
  },
  {
   "cell_type": "code",
   "execution_count": 2,
   "metadata": {},
   "outputs": [],
   "source": [
    "# Load data-loader\n",
    "from haberrspd.charCNN.auxiliary_tf import create_training_data, LossHistory, binarize\n",
    "# Load model\n",
    "from haberrspd.charCNN.models_tf import char_cnn_model"
   ]
  },
  {
   "cell_type": "markdown",
   "metadata": {},
   "source": [
    "## Load training data and validation data as well as auxiliary model parameters"
   ]
  },
  {
   "cell_type": "code",
   "execution_count": 3,
   "metadata": {},
   "outputs": [
    {
     "name": "stdout",
     "output_type": "stream",
     "text": [
      "Total number of characters: 49\n"
     ]
    }
   ],
   "source": [
    "from pathlib import Path\n",
    "from sklearn.utils import class_weight \n",
    "DATA_ROOT = Path(\"../data/\") / \"MJFF\" / \"preproc\" # Note the relative path\n",
    "# Load training data and auxiliary variables\n",
    "X_train, X_test, y_train, y_test, max_sentence_length = \\\n",
    "create_training_data(DATA_ROOT,\"EnglishData-preprocessed.csv\",'sentence')\n",
    "class_weights = class_weight.compute_class_weight('balanced',list(set(y_train)),y_train)"
   ]
  },
  {
   "cell_type": "code",
   "execution_count": 4,
   "metadata": {},
   "outputs": [
    {
     "name": "stdout",
     "output_type": "stream",
     "text": [
      "WARNING:tensorflow:From /home/neil/.local/lib/python3.6/site-packages/tensorflow/python/framework/op_def_library.py:263: colocate_with (from tensorflow.python.framework.ops) is deprecated and will be removed in a future version.\n",
      "Instructions for updating:\n",
      "Colocations handled automatically by placer.\n",
      "WARNING:tensorflow:From /home/neil/.local/lib/python3.6/site-packages/keras/backend/tensorflow_backend.py:3445: calling dropout (from tensorflow.python.ops.nn_ops) with keep_prob is deprecated and will be removed in a future version.\n",
      "Instructions for updating:\n",
      "Please use `rate` instead of `keep_prob`. Rate should be set to `rate = 1 - keep_prob`.\n",
      "_________________________________________________________________\n",
      "Layer (type)                 Output Shape              Param #   \n",
      "=================================================================\n",
      "input_1 (InputLayer)         (None, 14000)             0         \n",
      "_________________________________________________________________\n",
      "lambda_1 (Lambda)            (None, 14000, 49)         0         \n",
      "_________________________________________________________________\n",
      "conv1d_1 (Conv1D)            (None, 13991, 32)         15712     \n",
      "_________________________________________________________________\n",
      "max_pooling1d_1 (MaxPooling1 (None, 4663, 32)          0         \n",
      "_________________________________________________________________\n",
      "conv1d_2 (Conv1D)            (None, 4654, 32)          10272     \n",
      "_________________________________________________________________\n",
      "max_pooling1d_2 (MaxPooling1 (None, 1551, 32)          0         \n",
      "_________________________________________________________________\n",
      "flatten_1 (Flatten)          (None, 49632)             0         \n",
      "_________________________________________________________________\n",
      "dense_1 (Dense)              (None, 16)                794128    \n",
      "_________________________________________________________________\n",
      "dropout_1 (Dropout)          (None, 16)                0         \n",
      "_________________________________________________________________\n",
      "dense_2 (Dense)              (None, 8)                 136       \n",
      "_________________________________________________________________\n",
      "dropout_2 (Dropout)          (None, 8)                 0         \n",
      "_________________________________________________________________\n",
      "dense_3 (Dense)              (None, 1)                 9         \n",
      "=================================================================\n",
      "Total params: 820,257\n",
      "Trainable params: 820,257\n",
      "Non-trainable params: 0\n",
      "_________________________________________________________________\n"
     ]
    }
   ],
   "source": [
    "# Rev-up tensorboard\n",
    "# logdir=\"../logs/char-cnn-keras-\" + datetime.now().strftime(\"%Y%m%d-%H%M%S\")\n",
    "# tensorboard_callback = TensorBoard(log_dir=logdir)\n",
    "# Set model\n",
    "model = char_cnn_model(max_sentence_length)\n",
    "model.summary()"
   ]
  },
  {
   "cell_type": "markdown",
   "metadata": {},
   "source": [
    "### Assign a loss function"
   ]
  },
  {
   "cell_type": "code",
   "execution_count": 19,
   "metadata": {},
   "outputs": [],
   "source": [
    "loss_func = 'squared_hinge'\n",
    "\n",
    "if loss_func == 'hinge' or loss_func == 'squared_hinge':\n",
    "    y_train = [-1 if x==0 else x for x in y_train]\n",
    "    y_test = [-1 if x==0 else x for x in y_test]\n",
    "    \n",
    "if loss_func == 'binary_crossentropy':\n",
    "    # Check if label-space is correct\n",
    "    if (-1 in y_train) or (-1 in y_test):\n",
    "        y_train = [0 if x==-1 else x for x in y_train]\n",
    "        y_test = [0 if x==-1 else x for x in y_test]"
   ]
  },
  {
   "cell_type": "markdown",
   "metadata": {},
   "source": [
    "# Train model"
   ]
  },
  {
   "cell_type": "code",
   "execution_count": 21,
   "metadata": {},
   "outputs": [
    {
     "data": {
      "image/png": "[encoded data removed]",
      "text/plain": [
       "<Figure size 864x576 with 2 Axes>"
      ]
     },
     "metadata": {
      "needs_background": "light"
     },
     "output_type": "display_data"
    },
    {
     "name": "stdout",
     "output_type": "stream",
     "text": [
      "squared_hinge (cost function):\n",
      "training   (min:    0.770, max:    0.822, cur:    0.774)\n",
      "validation (min:    0.942, max:    1.111, cur:    0.980)\n",
      "\n",
      "Accuracy:\n",
      "training   (min:    0.341, max:    0.364, cur:    0.359)\n",
      "validation (min:    0.154, max:    0.222, cur:    0.154)\n"
     ]
    }
   ],
   "source": [
    "# Compile\n",
    "model.compile(loss=loss_func,  # TODO: change to cosine loss, cosine_proximity, binary_crossentropy\n",
    "              optimizer='adam',            # TODO: check which is most appropriate\n",
    "              metrics=['accuracy'])        # Probs other options here which are more useful\n",
    "\n",
    "# Check if checkpoints dir exists, if not make it\n",
    "if not os.path.exists('../../keras_checkpoints'):\n",
    "    os.makedirs('../../keras_checkpoints')\n",
    "\n",
    "# Callbacks\n",
    "file_name = \"char-CNN\"\n",
    "check_cb = ModelCheckpoint(file_name + '.{epoch:02d}-{val_loss:.2f}.hdf5',\n",
    "                           monitor='val_loss',\n",
    "                           verbose=0,\n",
    "                           save_best_only=True,\n",
    "                           mode='min')\n",
    "\n",
    "earlystop_cb = EarlyStopping(monitor='val_loss',\n",
    "                             patience=7,\n",
    "                             verbose=0,\n",
    "                             mode='auto')\n",
    "\n",
    "# history = LossHistory()\n",
    "\"\"\"\n",
    "TODO:\n",
    "\n",
    "-Add class-weight option to take into account class-imbalance on patients and controls\n",
    "\"\"\"\n",
    "fit_hist = model.fit(X_train,\n",
    "                     y_train,\n",
    "                     validation_data=(X_test, y_test),\n",
    "                     verbose=0, # Set to zero if using live plotting of losses\n",
    "                     class_weight = class_weights,\n",
    "                     batch_size=128,\n",
    "                     epochs=40,\n",
    "                     #shuffle=True, # Our data is already shuffled during data loading\n",
    "                     callbacks=[\n",
    "                                #check_cb,\n",
    "                                #tensorboard_callback,\n",
    "                                PlotLossesCallback(),\n",
    "                                #earlystop_cb\n",
    "                               ]\n",
    "                    )"
   ]
  }
 ],
 "metadata": {
  "kernelspec": {
   "display_name": "Python 3",
   "language": "python",
   "name": "python3"
  },
  "language_info": {
   "codemirror_mode": {
    "name": "ipython",
    "version": 3
   },
   "file_extension": ".py",
   "mimetype": "text/x-python",
   "name": "python",
   "nbconvert_exporter": "python",
   "pygments_lexer": "ipython3",
   "version": "3.6.8"
  }
 },
 "nbformat": 4,
 "nbformat_minor": 2
}
