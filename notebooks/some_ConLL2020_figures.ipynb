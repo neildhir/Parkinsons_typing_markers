{
 "cells": [
  {
   "cell_type": "code",
   "execution_count": 1,
   "metadata": {},
   "outputs": [],
   "source": [
    "%load_ext autoreload\n",
    "%autoreload 2 \n",
    "\n",
    "# Set path to find modelling tools for later use\n",
    "import os\n",
    "import sys\n",
    "sys.path.append(os.path.join(os.getcwd(),\"..\"))\n",
    "import pandas as pd\n",
    "\n",
    "from IPython.display import display\n",
    "from src.preprocess import preprocessMRC\n",
    "import numpy as np\n",
    "import matplotlib.pyplot as plt\n",
    "import seaborn as sns\n",
    "import copy"
   ]
  },
  {
   "cell_type": "code",
   "execution_count": 2,
   "metadata": {},
   "outputs": [
    {
     "name": "stderr",
     "output_type": "stream",
     "text": [
      "/Users/nd/anaconda3/lib/python3.7/site-packages/IPython/core/interactiveshell.py:3072: DtypeWarning: Columns (8) have mixed types.Specify dtype option on import or set low_memory=False.\n",
      "  interactivity=interactivity, compiler=compiler, result=result)\n"
     ]
    }
   ],
   "source": [
    "df = pd.read_csv(\"../data/MRC/MRCData-processed-interpolated.csv\")"
   ]
  },
  {
   "cell_type": "code",
   "execution_count": 3,
   "metadata": {},
   "outputs": [],
   "source": [
    "target_sentences = df.sentence_content.unique()[:,np.newaxis]"
   ]
  },
  {
   "cell_type": "code",
   "execution_count": 4,
   "metadata": {},
   "outputs": [
    {
     "data": {
      "text/plain": [
       "array([['Books include Penguin Island, a satire on the Dreyfus affair'],\n",
       "       ['However, religions other than Islam, use a different pronunciation for Allah, although the spelling is the same'],\n",
       "       ['The Franks alliance was important exactly because of their renown hostility towards the Byzantine'],\n",
       "       ['He is buried in Egypt, Aswan at the Mausoleum of Aga Khan'],\n",
       "       ['The w-shaped glyph above the second consonant that it geminates, is in fact the beginning of a small letter'],\n",
       "       ['The novel explores the relationship between Patroclus and Achilles from boyhood to the fateful events of the Iliad'],\n",
       "       ['Generally considered a part of Central Asia, it is sometimes ascribed to a regional bloc in either the Middle East or South Asia'],\n",
       "       ['Although early behavioural or cognitive intervention can help children gain self-care, social, and communication skills, their is no known cure'],\n",
       "       [\"Lincoln's coffin would be encased in concrete several feet thick, and surrounded by a cage, and buried beneath a rock slab\"],\n",
       "       ['As of 2004, nearly 50% of Americans who were enrolled in employer health insurance plans were covered for acupuncture treatments'],\n",
       "       ['However, there is no evidence that those tattoos were used as acupuncture points or if they were just decorative in nature'],\n",
       "       ['They fought a thirty years war on the side of the Lamtuna Arabized Berbers who claimed Himyarite ancestry from the early Islamic invasions '],\n",
       "       ['Over three million cattle are residents of the province at one time or another, and Alberta beef has a healthy worldwide market'],\n",
       "       ['The Korean men have not fared so well in Olympic competition but still produce good results'],\n",
       "       ['Split-finger aiming requires the archer to place the index finger above the nocked arrow, while the middle and ring fingers are both placed below']],\n",
       "      dtype=object)"
      ]
     },
     "execution_count": 4,
     "metadata": {},
     "output_type": "execute_result"
    }
   ],
   "source": [
    "target_sentences"
   ]
  },
  {
   "cell_type": "code",
   "execution_count": 5,
   "metadata": {},
   "outputs": [
    {
     "name": "stdout",
     "output_type": "stream",
     "text": [
      "\tMedical Research Council funded PD copy-typing data.\n",
      "\n"
     ]
    },
    {
     "name": "stderr",
     "output_type": "stream",
     "text": [
      "/Users/nd/anaconda3/lib/python3.7/site-packages/IPython/core/interactiveshell.py:3343: DtypeWarning: Columns (8) have mixed types.Specify dtype option on import or set low_memory=False.\n",
      "  exec(code_obj, self.user_global_ns, self.user_ns)\n"
     ]
    },
    {
     "name": "stdout",
     "output_type": "stream",
     "text": [
      "Removal of sentences with 'high' Levenshtein distance...\n",
      "\n",
      "Size of dataframe before row pruning: (433672, 12)\n",
      "Size of dataframe after row pruning: (433411, 12)\n",
      "\n",
      "Removal of sentences with left/right arrows keys...\n",
      "\n",
      "Size of dataframe before row pruning: (433411, 12)\n",
      "Size of dataframe after row pruning: (414321, 12)\n",
      "Using mode: MRC_MODE\n",
      "\n",
      "Total number of study subjects: 229\n",
      "Number of sentences typed by PD patients: 1415\n",
      "Number of sentences typed by controls: 1862\n",
      "Average sentence length: 120.30\n",
      "Minimum sentence length: 51\n",
      "Maximum sentence length: 241\n"
     ]
    }
   ],
   "source": [
    "proc = preprocessMRC()\n",
    "out = proc()"
   ]
  },
  {
   "cell_type": "markdown",
   "metadata": {},
   "source": [
    "### Plots"
   ]
  },
  {
   "cell_type": "code",
   "execution_count": 8,
   "metadata": {},
   "outputs": [],
   "source": [
    "import matplotlib as mpl\n",
    "import matplotlib.pyplot as plt\n",
    "import seaborn as sns"
   ]
  },
  {
   "cell_type": "code",
   "execution_count": 18,
   "metadata": {},
   "outputs": [],
   "source": [
    "def split(word): \n",
    "    return [char.lower() for char in word]  \n",
    "\n",
    "def get_sentence_stats(df, target_sentences, sentence_id, diagnosis = 0,chars_to_consider=10):\n",
    "    \n",
    "    # load target sentences first\n",
    "    assert sentence_id in range(0,target_sentences.shape[0])\n",
    "    ref_sent = split(list(target_sentences[sentence_id-1,:])[0]) # Note that the reference sentences are zero-indexed\n",
    "    print(\"This is the target sentence: {}\".format(target_sentences[sentence_id-1,:]))\n",
    "    print(\"Chars to consider: {}\".format(ref_sent[:chars_to_consider]))\n",
    "    \n",
    "    iki_stats = {k:[] for k in ref_sent[:chars_to_consider]}\n",
    "    hold_time_stats = {k:[] for k in ref_sent[:chars_to_consider]}\n",
    "    pause_time_stats = {k:[] for k in ref_sent[:chars_to_consider]}\n",
    "    \n",
    "    # Get the unique number of subjects\n",
    "    subjects = sorted(set(df.Participant_ID))  # NOTE: set() is weakly rando\n",
    "    # Loop over subjects\n",
    "    for subject in subjects:\n",
    "        # Not all subjects have typed all sentences hence we have to do it this way\n",
    "        if str(sentence_id) in df.loc[(df.Participant_ID == subject) & (df.Diagnosis == diagnosis)].Sentence_ID.unique():\n",
    "            # Sentence has been typed so we collect the stats\n",
    "            \n",
    "            # Locate df segment to extract\n",
    "            coordinates = (df.Participant_ID == subject) & (df.Sentence_ID == str(sentence_id))\n",
    "            \n",
    "            # To make more sense of the statistics we only collect it _if_ the subject has typed same character\n",
    "            # the reference sentence.\n",
    "            typed_sent = df.loc[coordinates, \"Preprocessed_typed_sentence\"].tolist()[0]\n",
    "            iki = df.loc[coordinates, \"IKI_timings\"].tolist()[0]\n",
    "            hold_time = df.loc[coordinates, \"hold_time\"].tolist()[0]\n",
    "            pause_time = df.loc[coordinates, \"pause_time\"].tolist()[0]\n",
    "            \n",
    "            # Find char stats\n",
    "            for i,c in enumerate(ref_sent[:chars_to_consider]):\n",
    "                # print(subject,sentence_id,typed_sent[c],ref_sent[c])\n",
    "                if typed_sent[i] == c:\n",
    "                    iki_stats[c].append(iki[i])\n",
    "                    hold_time_stats[c].append(hold_time[i])\n",
    "                    pause_time_stats[c].append(pause_time[i])\n",
    "\n",
    "    return iki_stats, hold_time_stats, pause_time_stats\n",
    "\n",
    "def get_summary_stats(stats):\n",
    "    return [np.mean(stats[i]) for i in stats.keys()], [np.std(stats[i]) for i in stats.keys()]\n",
    "\n",
    "def make_time_comparison_plot(control_times, pd_times):\n",
    "    \n",
    "    # Moments calculated from raw data\n",
    "    control_times_mean, control_time_std = get_summary_stats(control_times)\n",
    "    pd_times_mean, pd_times_std = get_summary_stats(pd_times)\n",
    "\n",
    "    # Position of bars on x-axis\n",
    "    N = len(control_times)\n",
    "    ind = np.arange(N)\n",
    "\n",
    "    # Figure size\n",
    "    plt.figure(figsize=(N*2,5))\n",
    "\n",
    "    # Width of a bar \n",
    "    width = 0.2       \n",
    "\n",
    "    # Plotting\n",
    "    plt.bar(ind, control_times_mean , width, yerr=control_time_std, align='center', label='Control',capsize=5)\n",
    "    plt.bar(ind + width, pd_times_mean, width, yerr=pd_times_std, align='center', label='Parkinsons',capsize=5)\n",
    "\n",
    "    plt.ylabel('')\n",
    "\n",
    "    # xticks()\n",
    "    # First argument - A list of positions at which ticks should be placed\n",
    "    # Second argument -  A list of labels to place at the given locations\n",
    "    plt.xticks(ind + width / 2, range(N))\n",
    "\n",
    "    # Finding the best position for legends and putting it\n",
    "    plt.legend(loc='best')\n",
    "    plt.show()"
   ]
  },
  {
   "cell_type": "code",
   "execution_count": 19,
   "metadata": {},
   "outputs": [
    {
     "name": "stdout",
     "output_type": "stream",
     "text": [
      "This is the target sentence: ['Books include Penguin Island, a satire on the Dreyfus affair']\n",
      "Chars to consider: ['b', 'o', 'o', 'k', 's']\n",
      "This is the target sentence: ['Books include Penguin Island, a satire on the Dreyfus affair']\n",
      "Chars to consider: ['b', 'o', 'o', 'k', 's']\n"
     ]
    }
   ],
   "source": [
    "for k in [1]:\n",
    "    iki_0,hold_time_0,pause_time_0 = get_sentence_stats(df=out,target_sentences=target_sentences,sentence_id=k,diagnosis=0,chars_to_consider=5)\n",
    "    iki_1,hold_time_1,pause_time_1 = get_sentence_stats(df=out,target_sentences=target_sentences,sentence_id=k,diagnosis=1,chars_to_consider=5)\n",
    "#     for i,j in zip(a.keys(),b.keys()):\n",
    "#         if not a[i] or not b[j]:\n",
    "#             print('Key is empty: ({},{}).'.format(i,j))\n",
    "            \n",
    "#     print(k, \"\\n\\n\\n\")"
   ]
  },
  {
   "cell_type": "code",
   "execution_count": 14,
   "metadata": {},
   "outputs": [
    {
     "data": {
      "image/png": "[encoded data removed]",
      "text/plain": [
       "<Figure size 576x360 with 1 Axes>"
      ]
     },
     "metadata": {},
     "output_type": "display_data"
    }
   ],
   "source": [
    "sns.set(style=\"whitegrid\",palette=\"deep\")\n",
    "make_time_comparison_plot(hold_time_0, hold_time_1)"
   ]
  },
  {
   "cell_type": "code",
   "execution_count": 243,
   "metadata": {},
   "outputs": [
    {
     "data": {
      "image/png": "[encoded data removed]",
      "text/plain": [
       "<Figure size 432x288 with 1 Axes>"
      ]
     },
     "metadata": {},
     "output_type": "display_data"
    }
   ],
   "source": [
    "tips = sns.load_dataset(\"tips\")\n",
    "ax = sns.barplot(x=\"day\", y=\"total_bill\", data=tips)"
   ]
  },
  {
   "cell_type": "code",
   "execution_count": 242,
   "metadata": {},
   "outputs": [
    {
     "data": {
      "text/html": [
       "<div>\n",
       "<style scoped>\n",
       "    .dataframe tbody tr th:only-of-type {\n",
       "        vertical-align: middle;\n",
       "    }\n",
       "\n",
       "    .dataframe tbody tr th {\n",
       "        vertical-align: top;\n",
       "    }\n",
       "\n",
       "    .dataframe thead th {\n",
       "        text-align: right;\n",
       "    }\n",
       "</style>\n",
       "<table border=\"1\" class=\"dataframe\">\n",
       "  <thead>\n",
       "    <tr style=\"text-align: right;\">\n",
       "      <th></th>\n",
       "      <th>total_bill</th>\n",
       "      <th>tip</th>\n",
       "      <th>sex</th>\n",
       "      <th>smoker</th>\n",
       "      <th>day</th>\n",
       "      <th>time</th>\n",
       "      <th>size</th>\n",
       "    </tr>\n",
       "  </thead>\n",
       "  <tbody>\n",
       "    <tr>\n",
       "      <th>0</th>\n",
       "      <td>16.99</td>\n",
       "      <td>1.01</td>\n",
       "      <td>Female</td>\n",
       "      <td>No</td>\n",
       "      <td>Sun</td>\n",
       "      <td>Dinner</td>\n",
       "      <td>2</td>\n",
       "    </tr>\n",
       "    <tr>\n",
       "      <th>1</th>\n",
       "      <td>10.34</td>\n",
       "      <td>1.66</td>\n",
       "      <td>Male</td>\n",
       "      <td>No</td>\n",
       "      <td>Sun</td>\n",
       "      <td>Dinner</td>\n",
       "      <td>3</td>\n",
       "    </tr>\n",
       "    <tr>\n",
       "      <th>2</th>\n",
       "      <td>21.01</td>\n",
       "      <td>3.50</td>\n",
       "      <td>Male</td>\n",
       "      <td>No</td>\n",
       "      <td>Sun</td>\n",
       "      <td>Dinner</td>\n",
       "      <td>3</td>\n",
       "    </tr>\n",
       "    <tr>\n",
       "      <th>3</th>\n",
       "      <td>23.68</td>\n",
       "      <td>3.31</td>\n",
       "      <td>Male</td>\n",
       "      <td>No</td>\n",
       "      <td>Sun</td>\n",
       "      <td>Dinner</td>\n",
       "      <td>2</td>\n",
       "    </tr>\n",
       "    <tr>\n",
       "      <th>4</th>\n",
       "      <td>24.59</td>\n",
       "      <td>3.61</td>\n",
       "      <td>Female</td>\n",
       "      <td>No</td>\n",
       "      <td>Sun</td>\n",
       "      <td>Dinner</td>\n",
       "      <td>4</td>\n",
       "    </tr>\n",
       "    <tr>\n",
       "      <th>...</th>\n",
       "      <td>...</td>\n",
       "      <td>...</td>\n",
       "      <td>...</td>\n",
       "      <td>...</td>\n",
       "      <td>...</td>\n",
       "      <td>...</td>\n",
       "      <td>...</td>\n",
       "    </tr>\n",
       "    <tr>\n",
       "      <th>239</th>\n",
       "      <td>29.03</td>\n",
       "      <td>5.92</td>\n",
       "      <td>Male</td>\n",
       "      <td>No</td>\n",
       "      <td>Sat</td>\n",
       "      <td>Dinner</td>\n",
       "      <td>3</td>\n",
       "    </tr>\n",
       "    <tr>\n",
       "      <th>240</th>\n",
       "      <td>27.18</td>\n",
       "      <td>2.00</td>\n",
       "      <td>Female</td>\n",
       "      <td>Yes</td>\n",
       "      <td>Sat</td>\n",
       "      <td>Dinner</td>\n",
       "      <td>2</td>\n",
       "    </tr>\n",
       "    <tr>\n",
       "      <th>241</th>\n",
       "      <td>22.67</td>\n",
       "      <td>2.00</td>\n",
       "      <td>Male</td>\n",
       "      <td>Yes</td>\n",
       "      <td>Sat</td>\n",
       "      <td>Dinner</td>\n",
       "      <td>2</td>\n",
       "    </tr>\n",
       "    <tr>\n",
       "      <th>242</th>\n",
       "      <td>17.82</td>\n",
       "      <td>1.75</td>\n",
       "      <td>Male</td>\n",
       "      <td>No</td>\n",
       "      <td>Sat</td>\n",
       "      <td>Dinner</td>\n",
       "      <td>2</td>\n",
       "    </tr>\n",
       "    <tr>\n",
       "      <th>243</th>\n",
       "      <td>18.78</td>\n",
       "      <td>3.00</td>\n",
       "      <td>Female</td>\n",
       "      <td>No</td>\n",
       "      <td>Thur</td>\n",
       "      <td>Dinner</td>\n",
       "      <td>2</td>\n",
       "    </tr>\n",
       "  </tbody>\n",
       "</table>\n",
       "<p>244 rows × 7 columns</p>\n",
       "</div>"
      ],
      "text/plain": [
       "     total_bill   tip     sex smoker   day    time  size\n",
       "0         16.99  1.01  Female     No   Sun  Dinner     2\n",
       "1         10.34  1.66    Male     No   Sun  Dinner     3\n",
       "2         21.01  3.50    Male     No   Sun  Dinner     3\n",
       "3         23.68  3.31    Male     No   Sun  Dinner     2\n",
       "4         24.59  3.61  Female     No   Sun  Dinner     4\n",
       "..          ...   ...     ...    ...   ...     ...   ...\n",
       "239       29.03  5.92    Male     No   Sat  Dinner     3\n",
       "240       27.18  2.00  Female    Yes   Sat  Dinner     2\n",
       "241       22.67  2.00    Male    Yes   Sat  Dinner     2\n",
       "242       17.82  1.75    Male     No   Sat  Dinner     2\n",
       "243       18.78  3.00  Female     No  Thur  Dinner     2\n",
       "\n",
       "[244 rows x 7 columns]"
      ]
     },
     "execution_count": 242,
     "metadata": {},
     "output_type": "execute_result"
    }
   ],
   "source": [
    "tips"
   ]
  }
 ],
 "metadata": {
  "kernelspec": {
   "display_name": "Python 3",
   "language": "python",
   "name": "python3"
  },
  "language_info": {
   "codemirror_mode": {
    "name": "ipython",
    "version": 3
   },
   "file_extension": ".py",
   "mimetype": "text/x-python",
   "name": "python",
   "nbconvert_exporter": "python",
   "pygments_lexer": "ipython3",
   "version": "3.7.7"
  }
 },
 "nbformat": 4,
 "nbformat_minor": 4
}
