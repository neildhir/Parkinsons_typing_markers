{
 "cells": [
  {
   "cell_type": "code",
   "execution_count": 437,
   "metadata": {},
   "outputs": [
    {
     "name": "stdout",
     "output_type": "stream",
     "text": [
      "The autoreload extension is already loaded. To reload it, use:\n",
      "  %reload_ext autoreload\n"
     ]
    }
   ],
   "source": [
    "%load_ext autoreload\n",
    "%autoreload 2 \n",
    "\n",
    "# Set path to find modelling tools for later use\n",
    "import os\n",
    "import sys\n",
    "sys.path.append(os.path.join(os.getcwd(),\"..\"))\n",
    "import pandas as pd\n",
    "\n",
    "from IPython.display import display\n",
    "from src.preprocess import preprocessMRC\n",
    "import numpy as np\n",
    "import matplotlib.pyplot as plt\n",
    "import seaborn as sns\n",
    "import copy\n",
    "from pathlib import Path"
   ]
  },
  {
   "cell_type": "code",
   "execution_count": 2,
   "metadata": {},
   "outputs": [
    {
     "name": "stderr",
     "output_type": "stream",
     "text": [
      "/Users/nd/anaconda3/lib/python3.7/site-packages/IPython/core/interactiveshell.py:3072: DtypeWarning: Columns (8) have mixed types.Specify dtype option on import or set low_memory=False.\n",
      "  interactivity=interactivity, compiler=compiler, result=result)\n"
     ]
    }
   ],
   "source": [
    "df = pd.read_csv(\"../data/MRC/MRCData-processed-interpolated.csv\")"
   ]
  },
  {
   "cell_type": "code",
   "execution_count": 3,
   "metadata": {},
   "outputs": [],
   "source": [
    "target_sentences = df.sentence_content.unique()[:,np.newaxis]"
   ]
  },
  {
   "cell_type": "code",
   "execution_count": 4,
   "metadata": {},
   "outputs": [
    {
     "data": {
      "text/plain": [
       "array([['Books include Penguin Island, a satire on the Dreyfus affair'],\n",
       "       ['However, religions other than Islam, use a different pronunciation for Allah, although the spelling is the same'],\n",
       "       ['The Franks alliance was important exactly because of their renown hostility towards the Byzantine'],\n",
       "       ['He is buried in Egypt, Aswan at the Mausoleum of Aga Khan'],\n",
       "       ['The w-shaped glyph above the second consonant that it geminates, is in fact the beginning of a small letter'],\n",
       "       ['The novel explores the relationship between Patroclus and Achilles from boyhood to the fateful events of the Iliad'],\n",
       "       ['Generally considered a part of Central Asia, it is sometimes ascribed to a regional bloc in either the Middle East or South Asia'],\n",
       "       ['Although early behavioural or cognitive intervention can help children gain self-care, social, and communication skills, their is no known cure'],\n",
       "       [\"Lincoln's coffin would be encased in concrete several feet thick, and surrounded by a cage, and buried beneath a rock slab\"],\n",
       "       ['As of 2004, nearly 50% of Americans who were enrolled in employer health insurance plans were covered for acupuncture treatments'],\n",
       "       ['However, there is no evidence that those tattoos were used as acupuncture points or if they were just decorative in nature'],\n",
       "       ['They fought a thirty years war on the side of the Lamtuna Arabized Berbers who claimed Himyarite ancestry from the early Islamic invasions '],\n",
       "       ['Over three million cattle are residents of the province at one time or another, and Alberta beef has a healthy worldwide market'],\n",
       "       ['The Korean men have not fared so well in Olympic competition but still produce good results'],\n",
       "       ['Split-finger aiming requires the archer to place the index finger above the nocked arrow, while the middle and ring fingers are both placed below']],\n",
       "      dtype=object)"
      ]
     },
     "execution_count": 4,
     "metadata": {},
     "output_type": "execute_result"
    }
   ],
   "source": [
    "target_sentences"
   ]
  },
  {
   "cell_type": "code",
   "execution_count": 5,
   "metadata": {},
   "outputs": [
    {
     "name": "stdout",
     "output_type": "stream",
     "text": [
      "\tMedical Research Council funded PD copy-typing data.\n",
      "\n"
     ]
    },
    {
     "name": "stderr",
     "output_type": "stream",
     "text": [
      "/Users/nd/anaconda3/lib/python3.7/site-packages/IPython/core/interactiveshell.py:3343: DtypeWarning: Columns (8) have mixed types.Specify dtype option on import or set low_memory=False.\n",
      "  exec(code_obj, self.user_global_ns, self.user_ns)\n"
     ]
    },
    {
     "name": "stdout",
     "output_type": "stream",
     "text": [
      "Removal of sentences with 'high' Levenshtein distance...\n",
      "\n",
      "Size of dataframe before row pruning: (433672, 12)\n",
      "Size of dataframe after row pruning: (433411, 12)\n",
      "\n",
      "Removal of sentences with left/right arrows keys...\n",
      "\n",
      "Size of dataframe before row pruning: (433411, 12)\n",
      "Size of dataframe after row pruning: (414321, 12)\n",
      "Using mode: MRC_MODE\n",
      "\n",
      "Total number of study subjects: 229\n",
      "Number of sentences typed by PD patients: 1415\n",
      "Number of sentences typed by controls: 1862\n",
      "Average sentence length: 120.30\n",
      "Minimum sentence length: 51\n",
      "Maximum sentence length: 241\n"
     ]
    }
   ],
   "source": [
    "proc = preprocessMRC()\n",
    "out = proc()"
   ]
  },
  {
   "cell_type": "markdown",
   "metadata": {},
   "source": [
    "### Plots"
   ]
  },
  {
   "cell_type": "code",
   "execution_count": 455,
   "metadata": {},
   "outputs": [
    {
     "name": "stdout",
     "output_type": "stream",
     "text": [
      "Sentence: 1\n",
      "\n",
      "This is the target sentence: ['Books include Penguin Island, a satire on the Dreyfus affair']\n",
      "Chars to consider: ['b', 'o', 'o', 'k', 's', ' ', 'i', 'n', 'c', 'l', 'u', 'd', 'e']\n",
      "This is the target sentence: ['Books include Penguin Island, a satire on the Dreyfus affair']\n",
      "Chars to consider: ['b', 'o', 'o', 'k', 's', ' ', 'i', 'n', 'c', 'l', 'u', 'd', 'e']\n",
      "Sentence: 2\n",
      "\n",
      "This is the target sentence: ['However, religions other than Islam, use a different pronunciation for Allah, although the spelling is the same']\n",
      "Chars to consider: ['h', 'o', 'w', 'e', 'v', 'e', 'r', ',']\n",
      "This is the target sentence: ['However, religions other than Islam, use a different pronunciation for Allah, although the spelling is the same']\n",
      "Chars to consider: ['h', 'o', 'w', 'e', 'v', 'e', 'r', ',']\n",
      "Sentence: 3\n",
      "\n",
      "This is the target sentence: ['The Franks alliance was important exactly because of their renown hostility towards the Byzantine']\n",
      "Chars to consider: ['t', 'h', 'e', ' ', 'f', 'r', 'a', 'n', 'k', 's']\n",
      "This is the target sentence: ['The Franks alliance was important exactly because of their renown hostility towards the Byzantine']\n",
      "Chars to consider: ['t', 'h', 'e', ' ', 'f', 'r', 'a', 'n', 'k', 's']\n",
      "Sentence: 4\n",
      "\n",
      "This is the target sentence: ['He is buried in Egypt, Aswan at the Mausoleum of Aga Khan']\n",
      "Chars to consider: ['h', 'e', ' ', 'i', 's', ' ', 'b', 'u', 'r', 'i', 'e', 'd']\n",
      "This is the target sentence: ['He is buried in Egypt, Aswan at the Mausoleum of Aga Khan']\n",
      "Chars to consider: ['h', 'e', ' ', 'i', 's', ' ', 'b', 'u', 'r', 'i', 'e', 'd']\n",
      "Sentence: 5\n",
      "\n",
      "This is the target sentence: ['The w-shaped glyph above the second consonant that it geminates, is in fact the beginning of a small letter']\n",
      "Chars to consider: ['t', 'h', 'e', ' ', 'w', '-', 's', 'h', 'a', 'p', 'e', 'd']\n",
      "This is the target sentence: ['The w-shaped glyph above the second consonant that it geminates, is in fact the beginning of a small letter']\n",
      "Chars to consider: ['t', 'h', 'e', ' ', 'w', '-', 's', 'h', 'a', 'p', 'e', 'd']\n",
      "Sentence: 6\n",
      "\n",
      "This is the target sentence: ['The novel explores the relationship between Patroclus and Achilles from boyhood to the fateful events of the Iliad']\n",
      "Chars to consider: ['t', 'h', 'e', ' ', 'n', 'o', 'v', 'e', 'l']\n",
      "This is the target sentence: ['The novel explores the relationship between Patroclus and Achilles from boyhood to the fateful events of the Iliad']\n",
      "Chars to consider: ['t', 'h', 'e', ' ', 'n', 'o', 'v', 'e', 'l']\n",
      "Sentence: 7\n",
      "\n",
      "This is the target sentence: ['Generally considered a part of Central Asia, it is sometimes ascribed to a regional bloc in either the Middle East or South Asia']\n",
      "Chars to consider: ['g', 'e', 'n', 'e', 'r', 'a', 'l', 'l', 'y', ' ']\n",
      "This is the target sentence: ['Generally considered a part of Central Asia, it is sometimes ascribed to a regional bloc in either the Middle East or South Asia']\n",
      "Chars to consider: ['g', 'e', 'n', 'e', 'r', 'a', 'l', 'l', 'y', ' ']\n",
      "Sentence: 8\n",
      "\n",
      "This is the target sentence: ['Although early behavioural or cognitive intervention can help children gain self-care, social, and communication skills, their is no known cure']\n",
      "Chars to consider: ['a', 'l', 't', 'h', 'o', 'u', 'g', 'h', ' ']\n",
      "This is the target sentence: ['Although early behavioural or cognitive intervention can help children gain self-care, social, and communication skills, their is no known cure']\n",
      "Chars to consider: ['a', 'l', 't', 'h', 'o', 'u', 'g', 'h', ' ']\n",
      "Sentence: 9\n",
      "\n",
      "This is the target sentence: [\"Lincoln's coffin would be encased in concrete several feet thick, and surrounded by a cage, and buried beneath a rock slab\"]\n",
      "Chars to consider: ['l', 'i', 'n', 'c', 'o', 'l', 'n', \"'\", 's', ' ']\n",
      "This is the target sentence: [\"Lincoln's coffin would be encased in concrete several feet thick, and surrounded by a cage, and buried beneath a rock slab\"]\n",
      "Chars to consider: ['l', 'i', 'n', 'c', 'o', 'l', 'n', \"'\", 's', ' ']\n",
      "Sentence: 10\n",
      "\n",
      "This is the target sentence: ['As of 2004, nearly 50% of Americans who were enrolled in employer health insurance plans were covered for acupuncture treatments']\n",
      "Chars to consider: ['a', 's', ' ', 'o', 'f', ' ', '2', '0', '0', '4', ',', ' ']\n",
      "This is the target sentence: ['As of 2004, nearly 50% of Americans who were enrolled in employer health insurance plans were covered for acupuncture treatments']\n",
      "Chars to consider: ['a', 's', ' ', 'o', 'f', ' ', '2', '0', '0', '4', ',', ' ']\n",
      "Sentence: 11\n",
      "\n",
      "This is the target sentence: ['However, there is no evidence that those tattoos were used as acupuncture points or if they were just decorative in nature']\n",
      "Chars to consider: ['h', 'o', 'w', 'e', 'v', 'e', 'r', ',', ' ']\n",
      "This is the target sentence: ['However, there is no evidence that those tattoos were used as acupuncture points or if they were just decorative in nature']\n",
      "Chars to consider: ['h', 'o', 'w', 'e', 'v', 'e', 'r', ',', ' ']\n",
      "Sentence: 12\n",
      "\n",
      "This is the target sentence: ['They fought a thirty years war on the side of the Lamtuna Arabized Berbers who claimed Himyarite ancestry from the early Islamic invasions ']\n",
      "Chars to consider: ['t', 'h', 'e', 'y', ' ', 'f', 'o', 'u', 'g', 'h', 't', ' ']\n",
      "This is the target sentence: ['They fought a thirty years war on the side of the Lamtuna Arabized Berbers who claimed Himyarite ancestry from the early Islamic invasions ']\n",
      "Chars to consider: ['t', 'h', 'e', 'y', ' ', 'f', 'o', 'u', 'g', 'h', 't', ' ']\n",
      "Sentence: 13\n",
      "\n",
      "This is the target sentence: ['Over three million cattle are residents of the province at one time or another, and Alberta beef has a healthy worldwide market']\n",
      "Chars to consider: ['o', 'v', 'e', 'r', ' ', 't', 'h', 'r', 'e', 'e', ' ']\n",
      "This is the target sentence: ['Over three million cattle are residents of the province at one time or another, and Alberta beef has a healthy worldwide market']\n",
      "Chars to consider: ['o', 'v', 'e', 'r', ' ', 't', 'h', 'r', 'e', 'e', ' ']\n",
      "Sentence: 14\n",
      "\n",
      "This is the target sentence: ['The Korean men have not fared so well in Olympic competition but still produce good results']\n",
      "Chars to consider: ['t', 'h', 'e', ' ', 'k', 'o', 'r', 'e', 'a', 'n', ' ']\n",
      "This is the target sentence: ['The Korean men have not fared so well in Olympic competition but still produce good results']\n",
      "Chars to consider: ['t', 'h', 'e', ' ', 'k', 'o', 'r', 'e', 'a', 'n', ' ']\n",
      "Sentence: 15\n",
      "\n",
      "This is the target sentence: ['Split-finger aiming requires the archer to place the index finger above the nocked arrow, while the middle and ring fingers are both placed below']\n",
      "Chars to consider: ['s', 'p', 'l', 'i', 't', '-', 'f', 'i', 'n', 'g', 'e', 'r', ' ']\n",
      "This is the target sentence: ['Split-finger aiming requires the archer to place the index finger above the nocked arrow, while the middle and ring fingers are both placed below']\n",
      "Chars to consider: ['s', 'p', 'l', 'i', 't', '-', 'f', 'i', 'n', 'g', 'e', 'r', ' ']\n"
     ]
    }
   ],
   "source": [
    "# Dict contains sentence ID on key, the first item in list is the char-count per sentence to display, the other two numbers are the min and max of the vertical axis\n",
    "sentence_stats = {1:[13,-200, 800],\n",
    "                  2:[8,-200, 1200],\n",
    "                  3:[10,-200, 1000],\n",
    "                  4:[12,-200, 800],\n",
    "                  5:[12,-200, 1200],\n",
    "                  6:[9,-200, 800],\n",
    "                  7:[10,-300, 800],\n",
    "                  8:[9,-200, 800],\n",
    "                  9:[10,-200, 1200],\n",
    "                  10:[12,-200, 1200],\n",
    "                  11:[9,-200, 800],\n",
    "                  12:[12,-200, 800],\n",
    "                  13:[11,-200, 800],\n",
    "                  14:[11,-200, 1000],\n",
    "                  15:[13,-200, 1200]}\n",
    "\n",
    "# def plot_times(df,target_sentences,sentence_stats):\n",
    "#     if isinstance(sentence_stats,dict):\n",
    "#         for sent_ID in sentence_stats.keys():\n",
    "#             print(\"Sentence: {}\\n\".format(sent_ID))\n",
    "#             n_chars,y_min,y_max = sentence_stats[sent_ID]\n",
    "#             df_plot, ref_chars = get_plotting_data(df,target_sentences,sent_ID,n_chars)\n",
    "#             time_plot(df_plot,ref_chars,sent_ID,y_min,y_max,save_me=True)\n",
    "#     else:\n",
    "#         pass\n",
    "    \n",
    "plot_times(out,target_sentences,sentence_stats)"
   ]
  }
 ],
 "metadata": {
  "kernelspec": {
   "display_name": "Python 3",
   "language": "python",
   "name": "python3"
  },
  "language_info": {
   "codemirror_mode": {
    "name": "ipython",
    "version": 3
   },
   "file_extension": ".py",
   "mimetype": "text/x-python",
   "name": "python",
   "nbconvert_exporter": "python",
   "pygments_lexer": "ipython3",
   "version": "3.7.7"
  }
 },
 "nbformat": 4,
 "nbformat_minor": 4
}
