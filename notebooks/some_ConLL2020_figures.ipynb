{
 "cells": [
  {
   "cell_type": "code",
   "execution_count": 1,
   "metadata": {},
   "outputs": [],
   "source": [
    "%load_ext autoreload\n",
    "%autoreload 2 \n",
    "\n",
    "# Set path to find modelling tools for later use\n",
    "import os\n",
    "import sys\n",
    "sys.path.append(os.path.join(os.getcwd(),\"..\"))\n",
    "import pandas as pd\n",
    "\n",
    "from IPython.display import display\n",
    "from src.preprocess import preprocessMRC\n",
    "import numpy as np\n",
    "import matplotlib.pyplot as plt"
   ]
  },
  {
   "cell_type": "code",
   "execution_count": 15,
   "metadata": {},
   "outputs": [
    {
     "name": "stderr",
     "output_type": "stream",
     "text": [
      "/Users/nd/anaconda3/lib/python3.7/site-packages/IPython/core/interactiveshell.py:3072: DtypeWarning: Columns (8) have mixed types.Specify dtype option on import or set low_memory=False.\n",
      "  interactivity=interactivity, compiler=compiler, result=result)\n"
     ]
    }
   ],
   "source": [
    "df = pd.read_csv(\"../data/MRC/MRCData-processed-interpolated.csv\")"
   ]
  },
  {
   "cell_type": "code",
   "execution_count": 4,
   "metadata": {},
   "outputs": [
    {
     "name": "stdout",
     "output_type": "stream",
     "text": [
      "\tMedical Research Council funded PD copy-typing data.\n",
      "\n",
      "Removal of sentences with 'high' Levenshtein distance...\n",
      "\n",
      "Size of dataframe before row pruning: (433672, 12)\n",
      "Size of dataframe after row pruning: (433411, 12)\n",
      "\n",
      "Removal of sentences with left/right arrows keys...\n",
      "\n",
      "Size of dataframe before row pruning: (433411, 12)\n",
      "Size of dataframe after row pruning: (414321, 12)\n",
      "Using mode: MRC_MODE\n",
      "\n",
      "Total number of study subjects: 154\n",
      "Number of sentences typed by PD patients: 343\n",
      "Number of sentences typed by controls: 1862\n",
      "Average sentence length: 120.06\n",
      "Minimum sentence length: 53\n",
      "Maximum sentence length: 229\n"
     ]
    }
   ],
   "source": [
    "proc = preprocessMRC()\n",
    "out = proc(include_time=False, which_attempt=1)"
   ]
  },
  {
   "cell_type": "code",
   "execution_count": 26,
   "metadata": {},
   "outputs": [
    {
     "name": "stdout",
     "output_type": "stream",
     "text": [
      "hello\n"
     ]
    }
   ],
   "source": [
    "attempt = None\n",
    "if not attempt:\n",
    "    print('hello')"
   ]
  },
  {
   "cell_type": "code",
   "execution_count": 45,
   "metadata": {},
   "outputs": [
    {
     "data": {
      "text/html": [
       "<div>\n",
       "<style scoped>\n",
       "    .dataframe tbody tr th:only-of-type {\n",
       "        vertical-align: middle;\n",
       "    }\n",
       "\n",
       "    .dataframe tbody tr th {\n",
       "        vertical-align: top;\n",
       "    }\n",
       "\n",
       "    .dataframe thead th {\n",
       "        text-align: right;\n",
       "    }\n",
       "</style>\n",
       "<table border=\"1\" class=\"dataframe\">\n",
       "  <thead>\n",
       "    <tr style=\"text-align: right;\">\n",
       "      <th></th>\n",
       "      <th>Participant_ID</th>\n",
       "      <th>Diagnosis</th>\n",
       "      <th>Sentence_ID</th>\n",
       "      <th>Preprocessed_typed_sentence</th>\n",
       "      <th>locations</th>\n",
       "      <th>IKI_timings</th>\n",
       "      <th>PPTS_list</th>\n",
       "      <th>hold_time</th>\n",
       "    </tr>\n",
       "  </thead>\n",
       "  <tbody>\n",
       "    <tr>\n",
       "      <th>0</th>\n",
       "      <td>12</td>\n",
       "      <td>1</td>\n",
       "      <td>9</td>\n",
       "      <td>lincoln's coffin would be encased in concrete ...</td>\n",
       "      <td>0000000000000000000000000000000000000000000000...</td>\n",
       "      <td>[1408.0250000000233, 423.8649999999907, 1040.0...</td>\n",
       "      <td>[l, i, n, c, o, l, n, ', s,  , c, o, f, f, i, ...</td>\n",
       "      <td>[103.9199999999255, 543.9699999999721, 208.084...</td>\n",
       "    </tr>\n",
       "    <tr>\n",
       "      <th>1</th>\n",
       "      <td>12</td>\n",
       "      <td>1</td>\n",
       "      <td>11</td>\n",
       "      <td>hpωowever, there is no evidence tha;ωt those t...</td>\n",
       "      <td>0000000000000000000000000000000000000000000000...</td>\n",
       "      <td>[800.035000000149, 8215.85999999987, 1136.0, 1...</td>\n",
       "      <td>[h, p, ω, o, w, e, v, e, r, ,,  , t, h, e, r, ...</td>\n",
       "      <td>[199.91500000003725, 247.9199999999255, 200.02...</td>\n",
       "    </tr>\n",
       "    <tr>\n",
       "      <th>2</th>\n",
       "      <td>12</td>\n",
       "      <td>1</td>\n",
       "      <td>13</td>\n",
       "      <td>over three million cattle are residents of the...</td>\n",
       "      <td>0000000000000000000000000000000000000000000000...</td>\n",
       "      <td>[1071.9950000001118, 568.0149999998976, 760.11...</td>\n",
       "      <td>[o, v, e, r,  , t, h, r, e, e,  , m, i, l, l, ...</td>\n",
       "      <td>[200.19999999995343, 192.09499999997206, 240.1...</td>\n",
       "    </tr>\n",
       "    <tr>\n",
       "      <th>3</th>\n",
       "      <td>12</td>\n",
       "      <td>1</td>\n",
       "      <td>14</td>\n",
       "      <td>the koreeωan men have not fared so well in oly...</td>\n",
       "      <td>0000000000000000000000000000000000000000000000...</td>\n",
       "      <td>[1024.0200000000186, 207.91500000003725, 312.0...</td>\n",
       "      <td>[t, h, e,  , k, o, r, e, e, ω, a, n,  , m, e, ...</td>\n",
       "      <td>[175.90500000002794, 231.9199999999255, 200.08...</td>\n",
       "    </tr>\n",
       "    <tr>\n",
       "      <th>4</th>\n",
       "      <td>12</td>\n",
       "      <td>1</td>\n",
       "      <td>15</td>\n",
       "      <td>sωsplit-finger aiming  ωrequires the archer to...</td>\n",
       "      <td>0000000000000000000000000000000000000000000000...</td>\n",
       "      <td>[1935.5600000000559, 4671.685000000056, 2680.2...</td>\n",
       "      <td>[s, ω, s, p, l, i, t, -, f, i, n, g, e, r,  , ...</td>\n",
       "      <td>[335.61000000010245, 159.90999999991618, 240.2...</td>\n",
       "    </tr>\n",
       "  </tbody>\n",
       "</table>\n",
       "</div>"
      ],
      "text/plain": [
       "   Participant_ID  Diagnosis Sentence_ID  \\\n",
       "0              12          1           9   \n",
       "1              12          1          11   \n",
       "2              12          1          13   \n",
       "3              12          1          14   \n",
       "4              12          1          15   \n",
       "\n",
       "                         Preprocessed_typed_sentence  \\\n",
       "0  lincoln's coffin would be encased in concrete ...   \n",
       "1  hpωowever, there is no evidence tha;ωt those t...   \n",
       "2  over three million cattle are residents of the...   \n",
       "3  the koreeωan men have not fared so well in oly...   \n",
       "4  sωsplit-finger aiming  ωrequires the archer to...   \n",
       "\n",
       "                                           locations  \\\n",
       "0  0000000000000000000000000000000000000000000000...   \n",
       "1  0000000000000000000000000000000000000000000000...   \n",
       "2  0000000000000000000000000000000000000000000000...   \n",
       "3  0000000000000000000000000000000000000000000000...   \n",
       "4  0000000000000000000000000000000000000000000000...   \n",
       "\n",
       "                                         IKI_timings  \\\n",
       "0  [1408.0250000000233, 423.8649999999907, 1040.0...   \n",
       "1  [800.035000000149, 8215.85999999987, 1136.0, 1...   \n",
       "2  [1071.9950000001118, 568.0149999998976, 760.11...   \n",
       "3  [1024.0200000000186, 207.91500000003725, 312.0...   \n",
       "4  [1935.5600000000559, 4671.685000000056, 2680.2...   \n",
       "\n",
       "                                           PPTS_list  \\\n",
       "0  [l, i, n, c, o, l, n, ', s,  , c, o, f, f, i, ...   \n",
       "1  [h, p, ω, o, w, e, v, e, r, ,,  , t, h, e, r, ...   \n",
       "2  [o, v, e, r,  , t, h, r, e, e,  , m, i, l, l, ...   \n",
       "3  [t, h, e,  , k, o, r, e, e, ω, a, n,  , m, e, ...   \n",
       "4  [s, ω, s, p, l, i, t, -, f, i, n, g, e, r,  , ...   \n",
       "\n",
       "                                           hold_time  \n",
       "0  [103.9199999999255, 543.9699999999721, 208.084...  \n",
       "1  [199.91500000003725, 247.9199999999255, 200.02...  \n",
       "2  [200.19999999995343, 192.09499999997206, 240.1...  \n",
       "3  [175.90500000002794, 231.9199999999255, 200.08...  \n",
       "4  [335.61000000010245, 159.90999999991618, 240.2...  "
      ]
     },
     "execution_count": 45,
     "metadata": {},
     "output_type": "execute_result"
    }
   ],
   "source": [
    "out.head()"
   ]
  },
  {
   "cell_type": "code",
   "execution_count": 42,
   "metadata": {},
   "outputs": [
    {
     "data": {
      "text/plain": [
       "127"
      ]
     },
     "execution_count": 42,
     "metadata": {},
     "output_type": "execute_result"
    }
   ],
   "source": [
    "len(out.loc[(out.Participant_ID == 12) & (out.Sentence_ID == \"9\")].hold_time.tolist()[0])"
   ]
  },
  {
   "cell_type": "code",
   "execution_count": 43,
   "metadata": {},
   "outputs": [
    {
     "data": {
      "text/plain": [
       "126"
      ]
     },
     "execution_count": 43,
     "metadata": {},
     "output_type": "execute_result"
    }
   ],
   "source": [
    "len(out.loc[(out.Participant_ID == 12) & (out.Sentence_ID == \"9\")].IKI_timings.tolist()[0])"
   ]
  },
  {
   "cell_type": "code",
   "execution_count": 44,
   "metadata": {},
   "outputs": [
    {
     "data": {
      "text/plain": [
       "127"
      ]
     },
     "execution_count": 44,
     "metadata": {},
     "output_type": "execute_result"
    }
   ],
   "source": [
    "len(out.loc[(out.Participant_ID == 12) & (out.Sentence_ID == \"9\")].Preprocessed_typed_sentence.tolist()[0])"
   ]
  },
  {
   "cell_type": "code",
   "execution_count": 59,
   "metadata": {},
   "outputs": [
    {
     "data": {
      "image/png": "[encoded data removed]",
      "text/plain": [
       "<Figure size 432x288 with 1 Axes>"
      ]
     },
     "metadata": {
      "needs_background": "light"
     },
     "output_type": "display_data"
    }
   ],
   "source": [
    "# Old IKI calcs\n",
    "plt.hist(np.array(out.loc[(out.Participant_ID == 12) & (out.Sentence_ID == \"9\")].IKI_timings.tolist()[0]))\n",
    "plt.show()"
   ]
  },
  {
   "cell_type": "markdown",
   "metadata": {},
   "source": [
    "## New processing for MRC"
   ]
  },
  {
   "cell_type": "code",
   "execution_count": 2,
   "metadata": {},
   "outputs": [],
   "source": [
    "from src.preprocess import preprocessMRC, create_MRC_dataset, create_char_data\n",
    "from pathlib import Path"
   ]
  },
  {
   "cell_type": "code",
   "execution_count": 3,
   "metadata": {},
   "outputs": [],
   "source": [
    "df = pd.read_pickle(Path(\"../data/MRC\") / 'preproc_mrc_halfway.pkl')"
   ]
  },
  {
   "cell_type": "code",
   "execution_count": null,
   "metadata": {},
   "outputs": [],
   "source": [
    "outt = create_char_data(df)"
   ]
  },
  {
   "cell_type": "code",
   "execution_count": 8,
   "metadata": {},
   "outputs": [
    {
     "data": {
      "text/html": [
       "<div>\n",
       "<style scoped>\n",
       "    .dataframe tbody tr th:only-of-type {\n",
       "        vertical-align: middle;\n",
       "    }\n",
       "\n",
       "    .dataframe tbody tr th {\n",
       "        vertical-align: top;\n",
       "    }\n",
       "\n",
       "    .dataframe thead th {\n",
       "        text-align: right;\n",
       "    }\n",
       "</style>\n",
       "<table border=\"1\" class=\"dataframe\">\n",
       "  <thead>\n",
       "    <tr style=\"text-align: right;\">\n",
       "      <th></th>\n",
       "      <th>key</th>\n",
       "      <th>location</th>\n",
       "      <th>participant_id</th>\n",
       "      <th>sentence_id</th>\n",
       "      <th>diagnosis</th>\n",
       "      <th>medication</th>\n",
       "      <th>keydown</th>\n",
       "      <th>keyup</th>\n",
       "    </tr>\n",
       "  </thead>\n",
       "  <tbody>\n",
       "    <tr>\n",
       "      <th>0</th>\n",
       "      <td>l</td>\n",
       "      <td>0</td>\n",
       "      <td>12</td>\n",
       "      <td>9</td>\n",
       "      <td>1</td>\n",
       "      <td>0</td>\n",
       "      <td>613554.525</td>\n",
       "      <td>613658.445</td>\n",
       "    </tr>\n",
       "    <tr>\n",
       "      <th>1</th>\n",
       "      <td>i</td>\n",
       "      <td>0</td>\n",
       "      <td>12</td>\n",
       "      <td>9</td>\n",
       "      <td>1</td>\n",
       "      <td>0</td>\n",
       "      <td>614962.550</td>\n",
       "      <td>615506.520</td>\n",
       "    </tr>\n",
       "    <tr>\n",
       "      <th>2</th>\n",
       "      <td>n</td>\n",
       "      <td>0</td>\n",
       "      <td>12</td>\n",
       "      <td>9</td>\n",
       "      <td>1</td>\n",
       "      <td>0</td>\n",
       "      <td>615386.415</td>\n",
       "      <td>615594.500</td>\n",
       "    </tr>\n",
       "    <tr>\n",
       "      <th>3</th>\n",
       "      <td>c</td>\n",
       "      <td>0</td>\n",
       "      <td>12</td>\n",
       "      <td>9</td>\n",
       "      <td>1</td>\n",
       "      <td>0</td>\n",
       "      <td>616426.490</td>\n",
       "      <td>616650.710</td>\n",
       "    </tr>\n",
       "    <tr>\n",
       "      <th>4</th>\n",
       "      <td>o</td>\n",
       "      <td>0</td>\n",
       "      <td>12</td>\n",
       "      <td>9</td>\n",
       "      <td>1</td>\n",
       "      <td>0</td>\n",
       "      <td>616770.585</td>\n",
       "      <td>616938.595</td>\n",
       "    </tr>\n",
       "  </tbody>\n",
       "</table>\n",
       "</div>"
      ],
      "text/plain": [
       "  key  location  participant_id  sentence_id  diagnosis  medication  \\\n",
       "0   l         0              12            9          1           0   \n",
       "1   i         0              12            9          1           0   \n",
       "2   n         0              12            9          1           0   \n",
       "3   c         0              12            9          1           0   \n",
       "4   o         0              12            9          1           0   \n",
       "\n",
       "      keydown       keyup  \n",
       "0  613554.525  613658.445  \n",
       "1  614962.550  615506.520  \n",
       "2  615386.415  615594.500  \n",
       "3  616426.490  616650.710  \n",
       "4  616770.585  616938.595  "
      ]
     },
     "execution_count": 8,
     "metadata": {},
     "output_type": "execute_result"
    }
   ],
   "source": [
    "df.head()"
   ]
  },
  {
   "cell_type": "code",
   "execution_count": 12,
   "metadata": {},
   "outputs": [
    {
     "data": {
      "text/plain": [
       "132"
      ]
     },
     "execution_count": 12,
     "metadata": {},
     "output_type": "execute_result"
    }
   ],
   "source": [
    "coordinates = (df.participant_id == 12) & (df.sentence_id == 9)\n",
    "# df.loc[coordinates].keyup.values - df.loc[coordinates].keydown.values\n",
    "len(df.loc[coordinates].keydown[1:].values - df.loc[coordinates].keydown[:-1].values)"
   ]
  },
  {
   "cell_type": "code",
   "execution_count": 20,
   "metadata": {},
   "outputs": [
    {
     "data": {
      "text/html": [
       "<div>\n",
       "<style scoped>\n",
       "    .dataframe tbody tr th:only-of-type {\n",
       "        vertical-align: middle;\n",
       "    }\n",
       "\n",
       "    .dataframe tbody tr th {\n",
       "        vertical-align: top;\n",
       "    }\n",
       "\n",
       "    .dataframe thead th {\n",
       "        text-align: right;\n",
       "    }\n",
       "</style>\n",
       "<table border=\"1\" class=\"dataframe\">\n",
       "  <thead>\n",
       "    <tr style=\"text-align: right;\">\n",
       "      <th></th>\n",
       "      <th>key</th>\n",
       "      <th>location</th>\n",
       "      <th>response_id</th>\n",
       "      <th>response_content</th>\n",
       "      <th>participant_id</th>\n",
       "      <th>sentence_id</th>\n",
       "      <th>sentence_content</th>\n",
       "      <th>LPI</th>\n",
       "      <th>STAGE</th>\n",
       "      <th>diagnosis</th>\n",
       "      <th>keydown</th>\n",
       "      <th>keyup</th>\n",
       "    </tr>\n",
       "  </thead>\n",
       "  <tbody>\n",
       "    <tr>\n",
       "      <th>0</th>\n",
       "      <td>shift</td>\n",
       "      <td>1</td>\n",
       "      <td>39</td>\n",
       "      <td>Books include Penguin Island, a satire on the ...</td>\n",
       "      <td>11</td>\n",
       "      <td>1</td>\n",
       "      <td>Books include Penguin Island, a satire on the ...</td>\n",
       "      <td>2</td>\n",
       "      <td>1</td>\n",
       "      <td>1</td>\n",
       "      <td>80077.6719</td>\n",
       "      <td>80672.2719</td>\n",
       "    </tr>\n",
       "    <tr>\n",
       "      <th>1</th>\n",
       "      <td>b</td>\n",
       "      <td>0</td>\n",
       "      <td>39</td>\n",
       "      <td>Books include Penguin Island, a satire on the ...</td>\n",
       "      <td>11</td>\n",
       "      <td>1</td>\n",
       "      <td>Books include Penguin Island, a satire on the ...</td>\n",
       "      <td>2</td>\n",
       "      <td>1</td>\n",
       "      <td>1</td>\n",
       "      <td>80511.5719</td>\n",
       "      <td>80615.2719</td>\n",
       "    </tr>\n",
       "    <tr>\n",
       "      <th>2</th>\n",
       "      <td>o</td>\n",
       "      <td>0</td>\n",
       "      <td>39</td>\n",
       "      <td>Books include Penguin Island, a satire on the ...</td>\n",
       "      <td>11</td>\n",
       "      <td>1</td>\n",
       "      <td>Books include Penguin Island, a satire on the ...</td>\n",
       "      <td>2</td>\n",
       "      <td>1</td>\n",
       "      <td>1</td>\n",
       "      <td>80800.2719</td>\n",
       "      <td>80861.4719</td>\n",
       "    </tr>\n",
       "    <tr>\n",
       "      <th>3</th>\n",
       "      <td>o</td>\n",
       "      <td>0</td>\n",
       "      <td>39</td>\n",
       "      <td>Books include Penguin Island, a satire on the ...</td>\n",
       "      <td>11</td>\n",
       "      <td>1</td>\n",
       "      <td>Books include Penguin Island, a satire on the ...</td>\n",
       "      <td>2</td>\n",
       "      <td>1</td>\n",
       "      <td>1</td>\n",
       "      <td>80949.9719</td>\n",
       "      <td>81076.3719</td>\n",
       "    </tr>\n",
       "    <tr>\n",
       "      <th>4</th>\n",
       "      <td>s</td>\n",
       "      <td>0</td>\n",
       "      <td>39</td>\n",
       "      <td>Books include Penguin Island, a satire on the ...</td>\n",
       "      <td>11</td>\n",
       "      <td>1</td>\n",
       "      <td>Books include Penguin Island, a satire on the ...</td>\n",
       "      <td>2</td>\n",
       "      <td>1</td>\n",
       "      <td>1</td>\n",
       "      <td>81305.5719</td>\n",
       "      <td>81480.7719</td>\n",
       "    </tr>\n",
       "  </tbody>\n",
       "</table>\n",
       "</div>"
      ],
      "text/plain": [
       "     key  location  response_id  \\\n",
       "0  shift         1           39   \n",
       "1      b         0           39   \n",
       "2      o         0           39   \n",
       "3      o         0           39   \n",
       "4      s         0           39   \n",
       "\n",
       "                                    response_content  participant_id  \\\n",
       "0  Books include Penguin Island, a satire on the ...              11   \n",
       "1  Books include Penguin Island, a satire on the ...              11   \n",
       "2  Books include Penguin Island, a satire on the ...              11   \n",
       "3  Books include Penguin Island, a satire on the ...              11   \n",
       "4  Books include Penguin Island, a satire on the ...              11   \n",
       "\n",
       "   sentence_id                                   sentence_content  LPI STAGE  \\\n",
       "0            1  Books include Penguin Island, a satire on the ...    2     1   \n",
       "1            1  Books include Penguin Island, a satire on the ...    2     1   \n",
       "2            1  Books include Penguin Island, a satire on the ...    2     1   \n",
       "3            1  Books include Penguin Island, a satire on the ...    2     1   \n",
       "4            1  Books include Penguin Island, a satire on the ...    2     1   \n",
       "\n",
       "   diagnosis     keydown       keyup  \n",
       "0          1  80077.6719  80672.2719  \n",
       "1          1  80511.5719  80615.2719  \n",
       "2          1  80800.2719  80861.4719  \n",
       "3          1  80949.9719  81076.3719  \n",
       "4          1  81305.5719  81480.7719  "
      ]
     },
     "execution_count": 20,
     "metadata": {},
     "output_type": "execute_result"
    }
   ],
   "source": [
    "df.head()"
   ]
  },
  {
   "cell_type": "code",
   "execution_count": 3,
   "metadata": {},
   "outputs": [
    {
     "name": "stdout",
     "output_type": "stream",
     "text": [
      "\tMedical Research Council funded PD copy-typing data.\n",
      "\n"
     ]
    },
    {
     "name": "stderr",
     "output_type": "stream",
     "text": [
      "/Users/nd/anaconda3/lib/python3.7/site-packages/IPython/core/interactiveshell.py:3343: DtypeWarning: Columns (8) have mixed types.Specify dtype option on import or set low_memory=False.\n",
      "  exec(code_obj, self.user_global_ns, self.user_ns)\n"
     ]
    },
    {
     "name": "stdout",
     "output_type": "stream",
     "text": [
      "Removal of sentences with 'high' Levenshtein distance...\n",
      "\n",
      "Size of dataframe before row pruning: (433672, 12)\n",
      "Size of dataframe after row pruning: (433411, 12)\n",
      "\n",
      "Removal of sentences with left/right arrows keys...\n",
      "\n",
      "Size of dataframe before row pruning: (433411, 12)\n",
      "Size of dataframe after row pruning: (414321, 12)\n"
     ]
    },
    {
     "name": "stderr",
     "output_type": "stream",
     "text": [
      "/Users/nd/cloud/liverpool/habitual_errors_NLP/notebooks/../src/preprocess.py:127: SettingWithCopyWarning: \n",
      "A value is trying to be set on a copy of a slice from a DataFrame\n",
      "\n",
      "See the caveats in the documentation: https://pandas.pydata.org/pandas-docs/stable/user_guide/indexing.html#returning-a-view-versus-a-copy\n",
      "  df[coordinates].sort_values(by=\"keydown\", inplace=True)\n"
     ]
    },
    {
     "name": "stdout",
     "output_type": "stream",
     "text": [
      "Using mode: MRC_MODE\n",
      "\n",
      "Total number of study subjects: 154\n",
      "Number of sentences typed by PD patients: 343\n",
      "Number of sentences typed by controls: 1862\n",
      "Average sentence length: 120.05\n",
      "Minimum sentence length: 53\n",
      "Maximum sentence length: 229\n"
     ]
    }
   ],
   "source": [
    "proc = preprocessMRC()\n",
    "out = proc()"
   ]
  },
  {
   "cell_type": "code",
   "execution_count": 13,
   "metadata": {},
   "outputs": [
    {
     "data": {
      "text/html": [
       "<div>\n",
       "<style scoped>\n",
       "    .dataframe tbody tr th:only-of-type {\n",
       "        vertical-align: middle;\n",
       "    }\n",
       "\n",
       "    .dataframe tbody tr th {\n",
       "        vertical-align: top;\n",
       "    }\n",
       "\n",
       "    .dataframe thead th {\n",
       "        text-align: right;\n",
       "    }\n",
       "</style>\n",
       "<table border=\"1\" class=\"dataframe\">\n",
       "  <thead>\n",
       "    <tr style=\"text-align: right;\">\n",
       "      <th></th>\n",
       "      <th>Participant_ID</th>\n",
       "      <th>Diagnosis</th>\n",
       "      <th>Sentence_ID</th>\n",
       "      <th>Preprocessed_typed_sentence</th>\n",
       "      <th>locations</th>\n",
       "      <th>IKI_timings</th>\n",
       "      <th>PPTS_list</th>\n",
       "      <th>hold_time</th>\n",
       "      <th>pause_time</th>\n",
       "    </tr>\n",
       "  </thead>\n",
       "  <tbody>\n",
       "    <tr>\n",
       "      <th>0</th>\n",
       "      <td>12</td>\n",
       "      <td>1</td>\n",
       "      <td>9</td>\n",
       "      <td>lincoln's coffin would be encased in concrete ...</td>\n",
       "      <td>0000000000000000000000000000000000000000000000...</td>\n",
       "      <td>[1408.0250000000233, 423.8649999999907, 1040.0...</td>\n",
       "      <td>[l, i, n, c, o, l, n, ', s,  , c, o, f, f, i, ...</td>\n",
       "      <td>[103.9199999999255, 123.6723431237042, 208.084...</td>\n",
       "      <td>[1304.1050000000978, 300.1926568762865, 831.98...</td>\n",
       "    </tr>\n",
       "    <tr>\n",
       "      <th>1</th>\n",
       "      <td>12</td>\n",
       "      <td>1</td>\n",
       "      <td>11</td>\n",
       "      <td>hpωowever, there is no evidence tha;ωt those t...</td>\n",
       "      <td>0000000000000000000000000000000000000000000000...</td>\n",
       "      <td>[800.035000000149, 1831.9449999998324, 1136.0,...</td>\n",
       "      <td>[h, p, ω, o, w, e, v, e, r, ,,  , t, h, e, r, ...</td>\n",
       "      <td>[199.91500000003725, 247.9199999999255, 200.02...</td>\n",
       "      <td>[600.1200000001118, 1584.0249999999069, 935.97...</td>\n",
       "    </tr>\n",
       "    <tr>\n",
       "      <th>2</th>\n",
       "      <td>12</td>\n",
       "      <td>1</td>\n",
       "      <td>13</td>\n",
       "      <td>over three million cattle are residents of the...</td>\n",
       "      <td>0000000000000000000000000000000000000000000000...</td>\n",
       "      <td>[1071.9950000001118, 568.0149999998976, 760.11...</td>\n",
       "      <td>[o, v, e, r,  , t, h, r, e, e,  , m, i, l, l, ...</td>\n",
       "      <td>[200.19999999995343, 192.09499999997206, 240.1...</td>\n",
       "      <td>[871.7950000001583, 375.9199999999255, 519.970...</td>\n",
       "    </tr>\n",
       "    <tr>\n",
       "      <th>3</th>\n",
       "      <td>12</td>\n",
       "      <td>1</td>\n",
       "      <td>14</td>\n",
       "      <td>the koreeωan men have not fared so well in oly...</td>\n",
       "      <td>0000000000000000000000000000000000000000000000...</td>\n",
       "      <td>[1024.0200000000186, 207.91500000003725, 312.0...</td>\n",
       "      <td>[t, h, e,  , k, o, r, e, e, ω, a, n,  , m, e, ...</td>\n",
       "      <td>[175.90500000002794, 231.9199999999255, 200.08...</td>\n",
       "      <td>[848.1149999999907, -24.00499999988824, 112.00...</td>\n",
       "    </tr>\n",
       "    <tr>\n",
       "      <th>4</th>\n",
       "      <td>12</td>\n",
       "      <td>1</td>\n",
       "      <td>15</td>\n",
       "      <td>sωsplit-finger aiming  ωrequires the archer to...</td>\n",
       "      <td>0000000000000000000000000000000000000000000000...</td>\n",
       "      <td>[292.6906265893326, 292.6906265893326, 292.690...</td>\n",
       "      <td>[s, ω, s, p, l, i, t, -, f, i, n, g, e, r,  , ...</td>\n",
       "      <td>[123.34495496749878, 159.90999999991618, 240.2...</td>\n",
       "      <td>[169.34567162183384, 132.78062658941644, 52.44...</td>\n",
       "    </tr>\n",
       "  </tbody>\n",
       "</table>\n",
       "</div>"
      ],
      "text/plain": [
       "   Participant_ID  Diagnosis Sentence_ID  \\\n",
       "0              12          1           9   \n",
       "1              12          1          11   \n",
       "2              12          1          13   \n",
       "3              12          1          14   \n",
       "4              12          1          15   \n",
       "\n",
       "                         Preprocessed_typed_sentence  \\\n",
       "0  lincoln's coffin would be encased in concrete ...   \n",
       "1  hpωowever, there is no evidence tha;ωt those t...   \n",
       "2  over three million cattle are residents of the...   \n",
       "3  the koreeωan men have not fared so well in oly...   \n",
       "4  sωsplit-finger aiming  ωrequires the archer to...   \n",
       "\n",
       "                                           locations  \\\n",
       "0  0000000000000000000000000000000000000000000000...   \n",
       "1  0000000000000000000000000000000000000000000000...   \n",
       "2  0000000000000000000000000000000000000000000000...   \n",
       "3  0000000000000000000000000000000000000000000000...   \n",
       "4  0000000000000000000000000000000000000000000000...   \n",
       "\n",
       "                                         IKI_timings  \\\n",
       "0  [1408.0250000000233, 423.8649999999907, 1040.0...   \n",
       "1  [800.035000000149, 1831.9449999998324, 1136.0,...   \n",
       "2  [1071.9950000001118, 568.0149999998976, 760.11...   \n",
       "3  [1024.0200000000186, 207.91500000003725, 312.0...   \n",
       "4  [292.6906265893326, 292.6906265893326, 292.690...   \n",
       "\n",
       "                                           PPTS_list  \\\n",
       "0  [l, i, n, c, o, l, n, ', s,  , c, o, f, f, i, ...   \n",
       "1  [h, p, ω, o, w, e, v, e, r, ,,  , t, h, e, r, ...   \n",
       "2  [o, v, e, r,  , t, h, r, e, e,  , m, i, l, l, ...   \n",
       "3  [t, h, e,  , k, o, r, e, e, ω, a, n,  , m, e, ...   \n",
       "4  [s, ω, s, p, l, i, t, -, f, i, n, g, e, r,  , ...   \n",
       "\n",
       "                                           hold_time  \\\n",
       "0  [103.9199999999255, 123.6723431237042, 208.084...   \n",
       "1  [199.91500000003725, 247.9199999999255, 200.02...   \n",
       "2  [200.19999999995343, 192.09499999997206, 240.1...   \n",
       "3  [175.90500000002794, 231.9199999999255, 200.08...   \n",
       "4  [123.34495496749878, 159.90999999991618, 240.2...   \n",
       "\n",
       "                                          pause_time  \n",
       "0  [1304.1050000000978, 300.1926568762865, 831.98...  \n",
       "1  [600.1200000001118, 1584.0249999999069, 935.97...  \n",
       "2  [871.7950000001583, 375.9199999999255, 519.970...  \n",
       "3  [848.1149999999907, -24.00499999988824, 112.00...  \n",
       "4  [169.34567162183384, 132.78062658941644, 52.44...  "
      ]
     },
     "execution_count": 13,
     "metadata": {},
     "output_type": "execute_result"
    }
   ],
   "source": [
    "out.head()"
   ]
  },
  {
   "cell_type": "code",
   "execution_count": 12,
   "metadata": {},
   "outputs": [
    {
     "data": {
      "image/png": "[encoded data removed]",
      "text/plain": [
       "<Figure size 432x288 with 1 Axes>"
      ]
     },
     "metadata": {
      "needs_background": "light"
     },
     "output_type": "display_data"
    }
   ],
   "source": [
    "plt.hist(np.array(out.loc[(out.Participant_ID == 12) & (out.Sentence_ID == \"9\")].pause_time.tolist()[0]))\n",
    "plt.show()"
   ]
  },
  {
   "cell_type": "code",
   "execution_count": 11,
   "metadata": {},
   "outputs": [
    {
     "data": {
      "text/plain": [
       "True"
      ]
     },
     "execution_count": 11,
     "metadata": {},
     "output_type": "execute_result"
    }
   ],
   "source": [
    "all([i > 0 for i in out.loc[(out.Participant_ID == 12) & (out.Sentence_ID == \"9\")].IKI_timings.tolist()[0]])"
   ]
  }
 ],
 "metadata": {
  "kernelspec": {
   "display_name": "Python 3",
   "language": "python",
   "name": "python3"
  },
  "language_info": {
   "codemirror_mode": {
    "name": "ipython",
    "version": 3
   },
   "file_extension": ".py",
   "mimetype": "text/x-python",
   "name": "python",
   "nbconvert_exporter": "python",
   "pygments_lexer": "ipython3",
   "version": "3.7.7"
  }
 },
 "nbformat": 4,
 "nbformat_minor": 4
}
