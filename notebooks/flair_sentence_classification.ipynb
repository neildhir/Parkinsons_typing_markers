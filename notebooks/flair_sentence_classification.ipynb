{
 "cells": [
  {
   "cell_type": "markdown",
   "metadata": {},
   "source": [
    "# Using ideas proposed in: *Contextual string embeddings for sequence labeling* (Abik et al., 2018)\n",
    "[Source](https://github.com/zalandoresearch/flair)"
   ]
  },
  {
   "cell_type": "markdown",
   "metadata": {},
   "source": [
    "### As ever, do not run this stuff without a GPU"
   ]
  },
  {
   "cell_type": "code",
   "execution_count": 1,
   "metadata": {},
   "outputs": [
    {
     "name": "stdout",
     "output_type": "stream",
     "text": [
      "GeForce RTX 2070\n",
      "True\n"
     ]
    }
   ],
   "source": [
    "import torch\n",
    "print(torch.cuda.get_device_name(0))\n",
    "print(torch.cuda.is_available())"
   ]
  },
  {
   "cell_type": "code",
   "execution_count": 2,
   "metadata": {},
   "outputs": [],
   "source": [
    "%load_ext autoreload\n",
    "%autoreload 2\n",
    "\n",
    "import sys\n",
    "import os\n",
    "sys.path.append(os.path.join(os.getcwd(),\"..\"))\n",
    "from haberrspd.plotting import plot_roc_curve\n",
    "from haberrspd.pdnet_flair import make_data_flair_readable, make_train_test_dev, character_RNN\n",
    "from pathlib import Path\n",
    "import pandas as pd\n",
    "DATA_ROOT = Path(\"../data/\") / \"MJFF\" / \"preproc\" # Note the relative path\n",
    "DATA_ROOT_FASTTEXT = Path(\"../data/MJFF/fasttext/\") # Note the relative path\n",
    "\n",
    "# from flair.data_fetcher import NLPTaskDataFetcher, MultiCorpus\n",
    "# from flair.embeddings import WordEmbeddings, FlairEmbeddings, DocumentRNNEmbeddings\n",
    "# from flair.models import TextClassifier\n",
    "# from flair.trainers import ModelTrainer\n",
    "# from flair.data import Sentence\n",
    "from flair.training_utils import EvaluationMetric"
   ]
  },
  {
   "cell_type": "markdown",
   "metadata": {},
   "source": [
    "## Things I would like to try with flair:\n",
    "\n",
    "1. Combine English (MJFF and mechanical turk data) and Spanish embeddings\n",
    "2. Do flair-embeddings + CNN like [this](https://github.com/huggingface/pytorch-pretrained-BERT/issues/129) (compare against ELMo and BERT)\n",
    "3. Extend to MJFF English + MJFF Spanish + NeuroQwerty\n",
    "4. Model optimisation (BO and various other options)\n",
    "5. [Learning curves -- do them](https://www.deeplearning.ai/content/uploads/2018/09/Ng-MLY01-12.pdf)"
   ]
  },
  {
   "cell_type": "markdown",
   "metadata": {},
   "source": [
    "## Train a Custom Text Binary Classifier [PD/HC]"
   ]
  },
  {
   "cell_type": "markdown",
   "metadata": {},
   "source": [
    "Will re-write the classifer itself, which lives in **text_classification_model.py**"
   ]
  },
  {
   "cell_type": "markdown",
   "metadata": {},
   "source": [
    "### Non-flair format"
   ]
  },
  {
   "cell_type": "code",
   "execution_count": 3,
   "metadata": {},
   "outputs": [
    {
     "name": "stdout",
     "output_type": "stream",
     "text": [
      "EnglishData-preprocessed.csv         SpanishData-preprocessed.csv\n",
      "EnglishSpanishData-preprocessed.csv\n"
     ]
    }
   ],
   "source": [
    "ls ../data/MJFF/preproc/"
   ]
  },
  {
   "cell_type": "code",
   "execution_count": 4,
   "metadata": {},
   "outputs": [],
   "source": [
    "# Note that shuffling happens att this\n",
    "data = pd.read_csv(DATA_ROOT / \"EnglishData-preprocessed.csv\",encoding='utf-8-sig').sample(frac=1)"
   ]
  },
  {
   "cell_type": "code",
   "execution_count": 7,
   "metadata": {},
   "outputs": [
    {
     "data": {
      "text/html": [
       "<div>\n",
       "<style scoped>\n",
       "    .dataframe tbody tr th:only-of-type {\n",
       "        vertical-align: middle;\n",
       "    }\n",
       "\n",
       "    .dataframe tbody tr th {\n",
       "        vertical-align: top;\n",
       "    }\n",
       "\n",
       "    .dataframe thead th {\n",
       "        text-align: right;\n",
       "    }\n",
       "</style>\n",
       "<table border=\"1\" class=\"dataframe\">\n",
       "  <thead>\n",
       "    <tr style=\"text-align: right;\">\n",
       "      <th></th>\n",
       "      <th>Patient_ID</th>\n",
       "      <th>Diagnosis</th>\n",
       "      <th>Sentence_ID</th>\n",
       "      <th>Preprocessed_typed_sentence</th>\n",
       "    </tr>\n",
       "  </thead>\n",
       "  <tbody>\n",
       "    <tr>\n",
       "      <th>1062</th>\n",
       "      <td>6</td>\n",
       "      <td>1</td>\n",
       "      <td>55</td>\n",
       "      <td>HHHHHHHHHHHHHHHHHHHHHHHHHHHHHHHHHHHHHHHHHHHHHH...</td>\n",
       "    </tr>\n",
       "    <tr>\n",
       "      <th>501</th>\n",
       "      <td>28</td>\n",
       "      <td>1</td>\n",
       "      <td>55</td>\n",
       "      <td>hhhhhhhhhhhhhhhhhhhhhhhhhhhhhhhhhhhhhhhhhhhhhh...</td>\n",
       "    </tr>\n",
       "    <tr>\n",
       "      <th>274</th>\n",
       "      <td>19</td>\n",
       "      <td>1</td>\n",
       "      <td>60</td>\n",
       "      <td>AAAAAAAAAAAAAAAAAAAAAAAAAAAAAAAAAAAAAAAAAAAAAA...</td>\n",
       "    </tr>\n",
       "  </tbody>\n",
       "</table>\n",
       "</div>"
      ],
      "text/plain": [
       "      Patient_ID  Diagnosis  Sentence_ID  \\\n",
       "1062           6          1           55   \n",
       "501           28          1           55   \n",
       "274           19          1           60   \n",
       "\n",
       "                            Preprocessed_typed_sentence  \n",
       "1062  HHHHHHHHHHHHHHHHHHHHHHHHHHHHHHHHHHHHHHHHHHHHHH...  \n",
       "501   hhhhhhhhhhhhhhhhhhhhhhhhhhhhhhhhhhhhhhhhhhhhhh...  \n",
       "274   AAAAAAAAAAAAAAAAAAAAAAAAAAAAAAAAAAAAAAAAAAAAAA...  "
      ]
     },
     "execution_count": 7,
     "metadata": {},
     "output_type": "execute_result"
    }
   ],
   "source": [
    "data.head(3)"
   ]
  },
  {
   "cell_type": "code",
   "execution_count": 8,
   "metadata": {},
   "outputs": [],
   "source": [
    "data_flair =  make_data_flair_readable(data)"
   ]
  },
  {
   "cell_type": "code",
   "execution_count": 9,
   "metadata": {},
   "outputs": [
    {
     "data": {
      "text/html": [
       "<div>\n",
       "<style scoped>\n",
       "    .dataframe tbody tr th:only-of-type {\n",
       "        vertical-align: middle;\n",
       "    }\n",
       "\n",
       "    .dataframe tbody tr th {\n",
       "        vertical-align: top;\n",
       "    }\n",
       "\n",
       "    .dataframe thead th {\n",
       "        text-align: right;\n",
       "    }\n",
       "</style>\n",
       "<table border=\"1\" class=\"dataframe\">\n",
       "  <thead>\n",
       "    <tr style=\"text-align: right;\">\n",
       "      <th></th>\n",
       "      <th>label</th>\n",
       "      <th>text</th>\n",
       "    </tr>\n",
       "  </thead>\n",
       "  <tbody>\n",
       "    <tr>\n",
       "      <th>1062</th>\n",
       "      <td>__label__1</td>\n",
       "      <td>HHHHHHHHHHHHHHHHHHHHHHHHHHHHHHHHHHHHHHHHHHHHHH...</td>\n",
       "    </tr>\n",
       "    <tr>\n",
       "      <th>501</th>\n",
       "      <td>__label__1</td>\n",
       "      <td>hhhhhhhhhhhhhhhhhhhhhhhhhhhhhhhhhhhhhhhhhhhhhh...</td>\n",
       "    </tr>\n",
       "    <tr>\n",
       "      <th>274</th>\n",
       "      <td>__label__1</td>\n",
       "      <td>AAAAAAAAAAAAAAAAAAAAAAAAAAAAAAAAAAAAAAAAAAAAAA...</td>\n",
       "    </tr>\n",
       "  </tbody>\n",
       "</table>\n",
       "</div>"
      ],
      "text/plain": [
       "           label                                               text\n",
       "1062  __label__1  HHHHHHHHHHHHHHHHHHHHHHHHHHHHHHHHHHHHHHHHHHHHHH...\n",
       "501   __label__1  hhhhhhhhhhhhhhhhhhhhhhhhhhhhhhhhhhhhhhhhhhhhhh...\n",
       "274   __label__1  AAAAAAAAAAAAAAAAAAAAAAAAAAAAAAAAAAAAAAAAAAAAAA..."
      ]
     },
     "execution_count": 9,
     "metadata": {},
     "output_type": "execute_result"
    }
   ],
   "source": [
    "data_flair.head(3)"
   ]
  },
  {
   "cell_type": "code",
   "execution_count": 11,
   "metadata": {},
   "outputs": [],
   "source": [
    "data_flair.to_csv(DATA_ROOT_FASTTEXT / \"EnglishData-preprocessed_fasttext_format.csv\", \n",
    "            encoding='utf-8-sig', \n",
    "            index=False)"
   ]
  },
  {
   "cell_type": "markdown",
   "metadata": {},
   "source": [
    "### Already in flair format"
   ]
  },
  {
   "cell_type": "code",
   "execution_count": 15,
   "metadata": {},
   "outputs": [],
   "source": [
    "# Note that shuffling happens att this\n",
    "data = pd.read_csv(DATA_ROOT_FASTTEXT / \"spanish\" /\"preprocessed_SpanishData_fasttext_format.csv\", encoding='utf-8-sig').sample(frac=1)"
   ]
  },
  {
   "cell_type": "code",
   "execution_count": 37,
   "metadata": {},
   "outputs": [],
   "source": [
    "# Note that shuffling happens att this\n",
    "language = \"english\"\n",
    "data = pd.read_csv(DATA_ROOT_FASTTEXT / language /  \"preprocessed_MechanicalTurkCombinedEnglishData_fasttext_format.csv\", encoding='latin-1').sample(frac=1)"
   ]
  },
  {
   "cell_type": "code",
   "execution_count": 38,
   "metadata": {},
   "outputs": [
    {
     "name": "stdout",
     "output_type": "stream",
     "text": [
      "(2604, 2)\n"
     ]
    },
    {
     "data": {
      "text/html": [
       "<div>\n",
       "<style scoped>\n",
       "    .dataframe tbody tr th:only-of-type {\n",
       "        vertical-align: middle;\n",
       "    }\n",
       "\n",
       "    .dataframe tbody tr th {\n",
       "        vertical-align: top;\n",
       "    }\n",
       "\n",
       "    .dataframe thead th {\n",
       "        text-align: right;\n",
       "    }\n",
       "</style>\n",
       "<table border=\"1\" class=\"dataframe\">\n",
       "  <thead>\n",
       "    <tr style=\"text-align: right;\">\n",
       "      <th></th>\n",
       "      <th>label</th>\n",
       "      <th>text</th>\n",
       "    </tr>\n",
       "  </thead>\n",
       "  <tbody>\n",
       "    <tr>\n",
       "      <th>1201</th>\n",
       "      <td>__label__0</td>\n",
       "      <td>Chinese cuisine in Springfield, Missouri is al...</td>\n",
       "    </tr>\n",
       "    <tr>\n",
       "      <th>669</th>\n",
       "      <td>__label__0</td>\n",
       "      <td>The novel explores the relationship between Pa...</td>\n",
       "    </tr>\n",
       "    <tr>\n",
       "      <th>931</th>\n",
       "      <td>__label__0</td>\n",
       "      <td>First, war must occur for a good and just purp...</td>\n",
       "    </tr>\n",
       "    <tr>\n",
       "      <th>1399</th>\n",
       "      <td>__label__0</td>\n",
       "      <td>Many Dutch multinationals have their headquar...</td>\n",
       "    </tr>\n",
       "    <tr>\n",
       "      <th>1141</th>\n",
       "      <td>__label__0</td>\n",
       "      <td>The novel explores the relationship between Pa...</td>\n",
       "    </tr>\n",
       "  </tbody>\n",
       "</table>\n",
       "</div>"
      ],
      "text/plain": [
       "           label                                               text\n",
       "1201  __label__0  Chinese cuisine in Springfield, Missouri is al...\n",
       "669   __label__0  The novel explores the relationship between Pa...\n",
       "931   __label__0  First, war must occur for a good and just purp...\n",
       "1399  __label__0   Many Dutch multinationals have their headquar...\n",
       "1141  __label__0  The novel explores the relationship between Pa..."
      ]
     },
     "execution_count": 38,
     "metadata": {},
     "output_type": "execute_result"
    }
   ],
   "source": [
    "data.iloc[0:int(len(data)*0.8)].to_csv(DATA_ROOT_FASTTEXT / language /'train_w_mt.csv',sep='\\t', index = False,\n",
    "                                       header = False) # sep='\\t'\n",
    "data.iloc[int(len(data)*0.8):int(len(data)*0.9)].to_csv(DATA_ROOT_FASTTEXT / language /'test_w_mt.csv',sep='\\t',\n",
    "                                                        index = False, header = False)\n",
    "data.iloc[int(len(data)*0.9):].to_csv(DATA_ROOT_FASTTEXT / language / 'dev_w_mt.csv',sep='\\t',\n",
    "                                      index = False, header = False);\n",
    "print(data.shape)\n",
    "data.head()"
   ]
  },
  {
   "cell_type": "code",
   "execution_count": 21,
   "metadata": {},
   "outputs": [],
   "source": [
    "make_train_test_dev(data_flair, ',', '/home/neil/cloud/habitual_errors_NLP/data/MJFF/fasttext/english/')"
   ]
  },
  {
   "cell_type": "markdown",
   "metadata": {},
   "source": [
    "---"
   ]
  },
  {
   "cell_type": "markdown",
   "metadata": {},
   "source": [
    "### Param optimisation"
   ]
  },
  {
   "cell_type": "code",
   "execution_count": 4,
   "metadata": {},
   "outputs": [],
   "source": [
    "from haberrspd.pdnet_flair import optimise_mjff_english_only"
   ]
  },
  {
   "cell_type": "code",
   "execution_count": null,
   "metadata": {},
   "outputs": [],
   "source": [
    "optimise_mjff_english_only()"
   ]
  },
  {
   "cell_type": "markdown",
   "metadata": {},
   "source": [
    "---"
   ]
  },
  {
   "cell_type": "code",
   "execution_count": 14,
   "metadata": {},
   "outputs": [],
   "source": [
    "from flair.embeddings import CharacterEmbeddings, OneHotEmbeddings\n",
    "from flair.data import Sentence"
   ]
  },
  {
   "cell_type": "code",
   "execution_count": null,
   "metadata": {},
   "outputs": [],
   "source": [
    "# init embedding\n",
    "# embedding = CharacterEmbeddings()\n",
    "embedding = OneHotEmbeddings(embedding_length=50)\n",
    "\n",
    "# create a sentence\n",
    "sentence = Sentence('The grass is green .')\n",
    "\n",
    "# embed words in sentence\n",
    "embedding.embed(sentence)"
   ]
  },
  {
   "cell_type": "code",
   "execution_count": 13,
   "metadata": {},
   "outputs": [
    {
     "data": {
      "text/plain": [
       "25"
      ]
     },
     "execution_count": 13,
     "metadata": {},
     "output_type": "execute_result"
    }
   ],
   "source": [
    "embedding.char_embedding_dim"
   ]
  },
  {
   "cell_type": "markdown",
   "metadata": {},
   "source": [
    "### Training a Custom Text Classification Model"
   ]
  },
  {
   "cell_type": "code",
   "execution_count": 3,
   "metadata": {},
   "outputs": [],
   "source": [
    "# Instance to control parameter settings of model\n",
    "class Config(dict):\n",
    "    def __init__(self, **kwargs):\n",
    "        super().__init__(**kwargs)\n",
    "        for k, v in kwargs.items():\n",
    "            setattr(self, k, v)\n",
    "\n",
    "    def set(self, key, val):\n",
    "        self[key] = val\n",
    "        setattr(self, key, val)\n",
    "\n",
    "config = Config(\n",
    "    \n",
    "    # Model\n",
    "    rnn_layers = 1,\n",
    "    reproject_words = True,\n",
    "    reproject_words_dimension = None,\n",
    "    bidirectional=False,\n",
    "    dropout=0.5,\n",
    "    word_dropout=0.,\n",
    "    locked_dropout=0.,\n",
    "    hidden_size=32,\n",
    "    rnn_type = 'LSTM',\n",
    "    \n",
    "    # Training params\n",
    "    testing=True,\n",
    "    evaluation_metric = EvaluationMetric.MICRO_F1_SCORE, # will change to cosine loss\n",
    "    mini_batch_size = 16,\n",
    "    learning_rate=1e-2,\n",
    "    patience=3,\n",
    "    max_epochs=10,\n",
    ")"
   ]
  },
  {
   "cell_type": "markdown",
   "metadata": {},
   "source": [
    "## Train model\n"
   ]
  },
  {
   "cell_type": "code",
   "execution_count": null,
   "metadata": {},
   "outputs": [],
   "source": [
    "character_RNN(config)"
   ]
  },
  {
   "cell_type": "markdown",
   "metadata": {},
   "source": [
    "## Use model for prediction"
   ]
  },
  {
   "cell_type": "code",
   "execution_count": 45,
   "metadata": {},
   "outputs": [
    {
     "name": "stdout",
     "output_type": "stream",
     "text": [
      "2019-04-09 14:33:37,833 loading file ../data/MJFF/fasttext/english/best-model.pt\n"
     ]
    }
   ],
   "source": [
    "test_data = pd.read_csv(DATA_ROOT_FASTTEXT / \"english\" /  \"test_w_mt.csv\", sep='\\t',header=None)\n",
    "classifier = TextClassifier.load_from_file(DATA_ROOT_FASTTEXT / \"english\" / 'best-model.pt')"
   ]
  },
  {
   "cell_type": "code",
   "execution_count": 50,
   "metadata": {},
   "outputs": [
    {
     "name": "stdout",
     "output_type": "stream",
     "text": [
      "2019-04-09 14:37:43,946 loading file ../data/MJFF/fasttext/english/best-model.pt\n"
     ]
    }
   ],
   "source": [
    "test_data = pd.read_csv(DATA_ROOT_FASTTEXT / \"english\" /  \"test.csv\", sep='\\t',header=None)\n",
    "classifier = TextClassifier.load_from_file(DATA_ROOT_FASTTEXT / \"english\" / 'best-model.pt')"
   ]
  },
  {
   "cell_type": "code",
   "execution_count": 18,
   "metadata": {},
   "outputs": [
    {
     "name": "stdout",
     "output_type": "stream",
     "text": [
      "2019-04-09 12:22:18,986 loading file ../data/MJFF/fasttext/spanish/best-model.pt\n"
     ]
    }
   ],
   "source": [
    "test_data = pd.read_csv(DATA_ROOT_FASTTEXT / \"spanish\" /  \"test.csv\", sep='\\t',header=None)\n",
    "classifier = TextClassifier.load_from_file(DATA_ROOT_FASTTEXT / \"spanish\" / 'best-model.pt')"
   ]
  },
  {
   "cell_type": "code",
   "execution_count": 51,
   "metadata": {},
   "outputs": [],
   "source": [
    "predicted_labels = [] # Predicted PD/HC under model\n",
    "predicted_labels_probs = [] # Predicted PD/HC probability under model\n",
    "for sent in test_data[1]:\n",
    "    sentence = Sentence(sent)\n",
    "    classifier.predict(sentence)\n",
    "    for label in sentence.labels:\n",
    "        predicted_labels.extend(label.value)\n",
    "        predicted_labels_probs.append(label.score)"
   ]
  },
  {
   "cell_type": "code",
   "execution_count": null,
   "metadata": {},
   "outputs": [],
   "source": [
    "from flair.visual.training_curves import Plotter\n",
    "import matplotlib.pyplot as plt\n",
    "plt.style.use('dark_background')\n",
    "plotter = Plotter()\n",
    "plotter.plot_training_curves(DATA_ROOT_FASTTEXT / \"spanish\" / 'loss.tsv')\n",
    "plotter.plot_weights(DATA_ROOT_FASTTEXT / \"spanish\" / 'weights.txt')"
   ]
  },
  {
   "cell_type": "code",
   "execution_count": 52,
   "metadata": {},
   "outputs": [],
   "source": [
    "plot_roc_curve(test_data[0],predicted_labels_probs,False)"
   ]
  },
  {
   "cell_type": "code",
   "execution_count": 52,
   "metadata": {},
   "outputs": [
    {
     "data": {
      "image/png": "[encoded data removed]",
      "text/plain": [
       "<Figure size 504x504 with 1 Axes>"
      ]
     },
     "metadata": {},
     "output_type": "display_data"
    }
   ],
   "source": []
  }
 ],
 "metadata": {
  "kernelspec": {
   "display_name": "Python 3",
   "language": "python",
   "name": "python3"
  },
  "language_info": {
   "codemirror_mode": {
    "name": "ipython",
    "version": 3
   },
   "file_extension": ".py",
   "mimetype": "text/x-python",
   "name": "python",
   "nbconvert_exporter": "python",
   "pygments_lexer": "ipython3",
   "version": "3.6.8"
  }
 },
 "nbformat": 4,
 "nbformat_minor": 2
}
