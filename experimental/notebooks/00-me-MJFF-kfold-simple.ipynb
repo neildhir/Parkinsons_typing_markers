{
 "cells": [
  {
   "cell_type": "code",
   "execution_count": 85,
   "metadata": {},
   "outputs": [],
   "source": [
    "import pandas as pd\n",
    "import numpy as np\n",
    "from pathlib import Path\n",
    "import json"
   ]
  },
  {
   "cell_type": "code",
   "execution_count": 4,
   "metadata": {},
   "outputs": [],
   "source": [
    "data_root = Path('../data')"
   ]
  },
  {
   "cell_type": "code",
   "execution_count": 83,
   "metadata": {},
   "outputs": [],
   "source": [
    "import re\n",
    "\n",
    "def proc_string(string):\n",
    "    b = re.split(\"(?<=(.))(?!\\\\1)\",string)\n",
    "    lens = [len(x) for i,x in enumerate(b) if i%2 == 0]\n",
    "    chars = [x for i,x in enumerate(b) if i%2 != 0]\n",
    "    \n",
    "    return chars, lens[:-1]"
   ]
  },
  {
   "cell_type": "markdown",
   "metadata": {},
   "source": [
    "# Lets start with *exact* MJFF data used for the charCNN task"
   ]
  },
  {
   "cell_type": "code",
   "execution_count": 260,
   "metadata": {},
   "outputs": [],
   "source": [
    "df = pd.read_csv('../data/dump/mjff/EnglishData-preprocessed_attempt_1.csv')\n",
    "random_fold = pd.read_csv('folds/MJFF_EnglishData_attempt_1_fold.csv')\n",
    "subject_fold = pd.read_csv('folds/MJFF_EnglishData_attempt_1_subject_lvl_fold.csv')\n",
    "with open('../data/dump/mjff/char2idx.json', 'r') as json_file:\n",
    "        char2idx = json.load(json_file)\n"
   ]
  },
  {
   "cell_type": "code",
   "execution_count": 265,
   "metadata": {},
   "outputs": [],
   "source": [
    "random_fold_data = pd.merge(df,random_fold, how = 'inner',on = ['Patient_ID', 'Sentence_ID'])\n",
    "subject_fold_data = pd.merge(df,subject_fold, how = 'inner',on = ['Patient_ID', 'Sentence_ID'])"
   ]
  },
  {
   "cell_type": "code",
   "execution_count": 108,
   "metadata": {},
   "outputs": [
    {
     "name": "stdout",
     "output_type": "stream",
     "text": [
      "Window height/width shoul be: 164 / 45\n"
     ]
    }
   ],
   "source": [
    "# Find window dimensions and \"key press duration\" scaling factor\n",
    "just_lengths = []\n",
    "max_durations = []\n",
    "for idx, row in df.iterrows():\n",
    "    string = row['Preprocessed_typed_sentence']\n",
    "    chars, lens = proc_string(string)\n",
    "    just_lengths.append(len(chars))\n",
    "    max_durations.append(max(lens))\n",
    "H = np.max(just_lengths)\n",
    "W = len(char2idx) + 1\n",
    "scale_factor = np.max(max_durations)\n",
    "print('Window height/width shoul be: {} / {}'.format(H,W))\n",
    "\n",
    "\n",
    "\n"
   ]
  },
  {
   "cell_type": "code",
   "execution_count": 109,
   "metadata": {},
   "outputs": [
    {
     "data": {
      "text/plain": [
       "356"
      ]
     },
     "execution_count": 109,
     "metadata": {},
     "output_type": "execute_result"
    }
   ],
   "source": []
  },
  {
   "cell_type": "code",
   "execution_count": 114,
   "metadata": {},
   "outputs": [],
   "source": [
    "X = []\n",
    "y = []\n",
    "for idx, row in df.iterrows():\n",
    "    string = row['Preprocessed_typed_sentence']\n",
    "    chars, lens = proc_string(string)\n",
    "    x = np.zeros((H,W))\n",
    "    non0cols = [char2idx[c] for c  in chars]\n",
    "    non0rows = np.arange(0,len(chars))\n",
    "    x[non0rows,non0cols] = 1\n",
    "    x[non0rows,-1] = np.asarray(lens) / scale_factor\n",
    "    \n",
    "    X.append(x)\n",
    "    y.append(row['Diagnosis'])\n",
    "\n",
    "X = np.asarray(X)\n",
    "y = np.asarray(y)\n"
   ]
  },
  {
   "cell_type": "markdown",
   "metadata": {},
   "source": [
    "# Super simple 1d conv network"
   ]
  },
  {
   "cell_type": "code",
   "execution_count": 253,
   "metadata": {},
   "outputs": [],
   "source": [
    "from tensorflow.keras.layers import Conv1D, Input, Dense,Flatten, Dropout\n",
    "from tensorflow.keras.models import Model\n",
    "from sklearn.model_selection import train_test_split\n",
    "from tensorflow.keras.optimizers import Adam\n",
    "\n",
    "x_train, x_test, y_train, y_test = train_test_split(X, y, test_size = 0.2)"
   ]
  },
  {
   "cell_type": "code",
   "execution_count": 254,
   "metadata": {},
   "outputs": [],
   "source": [
    "filters = 64\n",
    "size_large = 5\n",
    "size_small = 3\n",
    "drop = 0.3\n",
    "kernel_reg = tf.keras.regularizers.l2(0.1)\n",
    "fc_reg = tf.keras.regularizers.l2(0.01)\n",
    "\n",
    "def mk_model(filters,size_large,size_small, drop, kernel_reg, fc_reg):\n",
    "    inp = Input(shape = (H,W))\n",
    "    c1 = Conv1D(filters = 64, kernel_size = size_large, strides = 1, activation = 'relu', kernel_regularizer= kernel_reg)(inp)\n",
    "    c1 = Dropout(drop)(c1)\n",
    "    c2 = Conv1D(filters = 64, kernel_size = size_small, strides = 1, activation = 'relu', kernel_regularizer= kernel_reg)(inp)\n",
    "    c2 = Dropout(drop)(c2)\n",
    "    flat = Flatten()(c2)\n",
    "    out = Dense(2,activation = 'softmax', kernel_regularizer=fc_reg)(flat)\n",
    "\n",
    "    return Model(inp,out)\n",
    "\n",
    "model = mk_model(filters,size_large,size_small, drop, kernel_reg, fc_reg)"
   ]
  },
  {
   "cell_type": "code",
   "execution_count": 255,
   "metadata": {},
   "outputs": [],
   "source": [
    "from tensorflow.keras import callbacks\n",
    "import tensorflow as tf\n",
    "import datetime\n",
    "\n",
    "reduce_lr = callbacks.ReduceLROnPlateau(monitor='val_loss', factor=0.5, patience=10, verbose=1, mode='auto', min_delta=0.0000, cooldown=0, min_lr=0)\n",
    "early_stopping = callbacks.EarlyStopping(monitor='val_loss', patience = 20, verbose = 1, restore_best_weights = True)\n",
    "log_dir = Path(\"logs/MJFF/\" + datetime.datetime.now().strftime(\"%Y%m%d-%H%M%S\"))\n",
    "tensorboard_callback = callbacks.TensorBoard(log_dir=log_dir, histogram_freq=1,)\n",
    "callbacks = [reduce_lr, early_stopping, tensorboard_callback]\n",
    "\n",
    "model.compile(optimizer = Adam(learning_rate = 1e-2),loss ='sparse_categorical_crossentropy')"
   ]
  },
  {
   "cell_type": "code",
   "execution_count": 256,
   "metadata": {},
   "outputs": [
    {
     "name": "stdout",
     "output_type": "stream",
     "text": [
      "\n",
      "Epoch 00017: ReduceLROnPlateau reducing learning rate to 0.004999999888241291.\n",
      "\n",
      "Epoch 00042: ReduceLROnPlateau reducing learning rate to 0.0024999999441206455.\n",
      "\n",
      "Epoch 00052: ReduceLROnPlateau reducing learning rate to 0.0012499999720603228.\n",
      "Restoring model weights from the end of the best epoch.\n",
      "Epoch 00052: early stopping\n"
     ]
    }
   ],
   "source": [
    "history = model.fit(x = x_train, y = y_train, batch_size = 16 , epochs = 1000, verbose = 0, validation_data = (x_test,y_test), callbacks = callbacks)"
   ]
  },
  {
   "cell_type": "code",
   "execution_count": 257,
   "metadata": {},
   "outputs": [
    {
     "data": {
      "image/png": "[encoded data removed]",
      "text/plain": [
       "<Figure size 432x288 with 1 Axes>"
      ]
     },
     "metadata": {
      "needs_background": "light"
     },
     "output_type": "display_data"
    }
   ],
   "source": [
    "from sklearn.metrics import roc_curve, auc\n",
    "from sklearn.metrics import roc_auc_score\n",
    "import matplotlib.pyplot as plt\n",
    "\n",
    "pred_t = model.predict(x_train)\n",
    "pred = model.predict(x_test)\n",
    "lw=2\n",
    "\n",
    "\n",
    "fpr, tpr, _ = roc_curve(y_test, pred[:,1])\n",
    "roc_auc = auc(fpr, tpr)\n",
    "\n",
    "\n",
    "\n",
    "plt.plot(fpr, tpr , color = 'darkorange', lw=lw, label = 'Val AUC: {:.2f}'.format(roc_auc))\n",
    "\n",
    "fpr, tpr, _ = roc_curve(y_train, pred_t[:,1])\n",
    "roc_auc = auc(fpr, tpr)\n",
    "\n",
    "plt.plot(fpr, tpr , color = 'blue', lw=lw, label = 'Train AUC: {:.2f}'.format(roc_auc))\n",
    "\n",
    "  \n",
    "plt.plot([0, 1], [0, 1], color='navy', lw=lw, linestyle='--')\n",
    "plt.xlim([0.0, 1.0])\n",
    "plt.ylim([0.0, 1.05])\n",
    "plt.xlabel('False Positive Rate')\n",
    "plt.ylabel('True Positive Rate')\n",
    "plt.title('MJFF subject lvl 10-fold')\n",
    "plt.legend(loc=\"lower right\")\n",
    "plt.show()"
   ]
  },
  {
   "cell_type": "markdown",
   "metadata": {},
   "source": [
    "# Now that we have found suitable regularisation parameters lets do the 10 folds\n",
    "\n",
    "\n",
    "note: Heavy regularisation in necessary to achieve good performance"
   ]
  },
  {
   "cell_type": "markdown",
   "metadata": {},
   "source": [
    "## First random k-fold as in the paper"
   ]
  },
  {
   "cell_type": "code",
   "execution_count": 281,
   "metadata": {},
   "outputs": [
    {
     "name": "stdout",
     "output_type": "stream",
     "text": [
      "\n",
      "Epoch 00039: ReduceLROnPlateau reducing learning rate to 0.004999999888241291.\n",
      "\n",
      "Epoch 00049: ReduceLROnPlateau reducing learning rate to 0.0024999999441206455.\n",
      "Restoring model weights from the end of the best epoch.\n",
      "Epoch 00049: early stopping\n",
      "\n",
      "Epoch 00019: ReduceLROnPlateau reducing learning rate to 0.004999999888241291.\n",
      "\n",
      "Epoch 00035: ReduceLROnPlateau reducing learning rate to 0.0024999999441206455.\n",
      "\n",
      "Epoch 00045: ReduceLROnPlateau reducing learning rate to 0.0012499999720603228.\n",
      "Restoring model weights from the end of the best epoch.\n",
      "Epoch 00045: early stopping\n",
      "\n",
      "Epoch 00027: ReduceLROnPlateau reducing learning rate to 0.004999999888241291.\n",
      "\n",
      "Epoch 00037: ReduceLROnPlateau reducing learning rate to 0.0024999999441206455.\n",
      "Restoring model weights from the end of the best epoch.\n",
      "Epoch 00037: early stopping\n",
      "\n",
      "Epoch 00018: ReduceLROnPlateau reducing learning rate to 0.004999999888241291.\n",
      "\n",
      "Epoch 00031: ReduceLROnPlateau reducing learning rate to 0.0024999999441206455.\n",
      "\n",
      "Epoch 00041: ReduceLROnPlateau reducing learning rate to 0.0012499999720603228.\n",
      "Restoring model weights from the end of the best epoch.\n",
      "Epoch 00041: early stopping\n",
      "\n",
      "Epoch 00024: ReduceLROnPlateau reducing learning rate to 0.004999999888241291.\n",
      "\n",
      "Epoch 00053: ReduceLROnPlateau reducing learning rate to 0.0024999999441206455.\n",
      "\n",
      "Epoch 00087: ReduceLROnPlateau reducing learning rate to 0.0012499999720603228.\n",
      "\n",
      "Epoch 00097: ReduceLROnPlateau reducing learning rate to 0.0006249999860301614.\n",
      "Restoring model weights from the end of the best epoch.\n",
      "Epoch 00097: early stopping\n",
      "\n",
      "Epoch 00018: ReduceLROnPlateau reducing learning rate to 0.004999999888241291.\n",
      "\n",
      "Epoch 00028: ReduceLROnPlateau reducing learning rate to 0.0024999999441206455.\n",
      "Restoring model weights from the end of the best epoch.\n",
      "Epoch 00028: early stopping\n",
      "\n",
      "Epoch 00039: ReduceLROnPlateau reducing learning rate to 0.004999999888241291.\n",
      "\n",
      "Epoch 00054: ReduceLROnPlateau reducing learning rate to 0.0024999999441206455.\n",
      "\n",
      "Epoch 00064: ReduceLROnPlateau reducing learning rate to 0.0012499999720603228.\n",
      "Restoring model weights from the end of the best epoch.\n",
      "Epoch 00064: early stopping\n",
      "\n",
      "Epoch 00014: ReduceLROnPlateau reducing learning rate to 0.004999999888241291.\n",
      "\n",
      "Epoch 00024: ReduceLROnPlateau reducing learning rate to 0.0024999999441206455.\n",
      "Restoring model weights from the end of the best epoch.\n",
      "Epoch 00024: early stopping\n",
      "\n",
      "Epoch 00013: ReduceLROnPlateau reducing learning rate to 0.004999999888241291.\n",
      "\n",
      "Epoch 00023: ReduceLROnPlateau reducing learning rate to 0.0024999999441206455.\n",
      "Restoring model weights from the end of the best epoch.\n",
      "Epoch 00023: early stopping\n",
      "\n",
      "Epoch 00020: ReduceLROnPlateau reducing learning rate to 0.004999999888241291.\n",
      "\n",
      "Epoch 00037: ReduceLROnPlateau reducing learning rate to 0.0024999999441206455.\n",
      "\n",
      "Epoch 00047: ReduceLROnPlateau reducing learning rate to 0.0012499999720603228.\n",
      "Restoring model weights from the end of the best epoch.\n",
      "Epoch 00047: early stopping\n"
     ]
    },
    {
     "data": {
      "image/png": "[encoded data removed]",
      "text/plain": [
       "<Figure size 432x288 with 1 Axes>"
      ]
     },
     "metadata": {
      "needs_background": "light"
     },
     "output_type": "display_data"
    }
   ],
   "source": [
    "from sklearn.metrics import roc_curve, auc\n",
    "from sklearn.metrics import roc_auc_score\n",
    "import matplotlib.pyplot as plt\n",
    "\n",
    "lw = 2\n",
    "plt.figure()\n",
    "AUC = []\n",
    "interp_tpr = []\n",
    "lspace = np.linspace(0,1,100)\n",
    "\n",
    "\n",
    "\n",
    "for fold in range(0,10):\n",
    "    x_train = []\n",
    "    x_test = []\n",
    "    y_train = []\n",
    "    y_test = []\n",
    "    for idx, row in random_fold_data.iterrows():\n",
    "        string = row['Preprocessed_typed_sentence']\n",
    "        chars, lens = proc_string(string)\n",
    "        x = np.zeros((H,W))\n",
    "        non0cols = [char2idx[c] for c  in chars]\n",
    "        non0rows = np.arange(0,len(chars))\n",
    "        x[non0rows,non0cols] = 1\n",
    "        x[non0rows,-1] = np.asarray(lens) / scale_factor\n",
    "        lbl = row['Diagnosis']\n",
    "        in_fold = row['fold']\n",
    "        \n",
    "        if in_fold == fold:\n",
    "            x_test.append(x)\n",
    "            y_test.append(lbl)\n",
    "        else:\n",
    "            x_train.append(x)\n",
    "            y_train.append(lbl)\n",
    "\n",
    "    x_train = np.asarray(x_train)\n",
    "    x_test  = np.asarray(x_test)\n",
    "    y_train = np.asarray(y_train)\n",
    "    y_test  = np.asarray(y_test)\n",
    "    \n",
    "    \n",
    "    #re init model\n",
    "    model = mk_model(filters,size_large,size_small, drop, kernel_reg, fc_reg)\n",
    "    callbacks = [reduce_lr, early_stopping]\n",
    "    model.compile(optimizer = Adam(learning_rate = 1e-2),loss ='sparse_categorical_crossentropy')\n",
    "    \n",
    "    history = model.fit(x = x_train, y = y_train, batch_size = 16 , epochs = 1000, verbose = 0, validation_split = 0.1, callbacks = callbacks)\n",
    "    \n",
    "    pred = model.predict(x_test)\n",
    "    \n",
    "    fpr, tpr, _ = roc_curve(y_test, pred[:,1])\n",
    "    interp_tpr.append(np.interp(lspace,xp=fpr,fp=tpr))\n",
    "    roc_auc = auc(fpr, tpr)\n",
    "    AUC.append(roc_auc)\n",
    "    plt.plot(fpr, tpr, color='darkorange',\n",
    "             lw=lw -1, alpha = 0.3)\n",
    "    \n",
    "mean = np.mean(interp_tpr,axis=0)\n",
    "std = np.std(interp_tpr,axis = 0)    \n",
    "plt.plot(lspace, mean , color = 'darkorange', lw=lw, label = 'AUC: {:.2f} ({:.2f}), best: {:.2}'.format(np.mean(AUC),np.std(AUC),np.max(AUC)))\n",
    "plt.fill_between(lspace,mean + std, mean - std, alpha = 0.2, color = 'darkorange')    \n",
    "plt.plot([0, 1], [0, 1], color='navy', lw=lw, linestyle='--')\n",
    "plt.xlim([0.0, 1.0])\n",
    "plt.ylim([0.0, 1.05])\n",
    "plt.xlabel('False Positive Rate')\n",
    "plt.ylabel('True Positive Rate')\n",
    "plt.title('MJFF random lvl 10-fold')\n",
    "plt.legend(loc=\"lower right\")\n",
    "#plt.savefig('MJFF_subject_lvl_kfold.png')\n",
    "plt.show()  "
   ]
  },
  {
   "cell_type": "markdown",
   "metadata": {},
   "source": [
    "## Subject level k-fold"
   ]
  },
  {
   "cell_type": "code",
   "execution_count": 286,
   "metadata": {},
   "outputs": [
    {
     "name": "stdout",
     "output_type": "stream",
     "text": [
      "\n",
      "Epoch 00026: ReduceLROnPlateau reducing learning rate to 0.004999999888241291.\n",
      "\n",
      "Epoch 00043: ReduceLROnPlateau reducing learning rate to 0.0024999999441206455.\n",
      "\n",
      "Epoch 00066: ReduceLROnPlateau reducing learning rate to 0.0012499999720603228.\n",
      "\n",
      "Epoch 00081: ReduceLROnPlateau reducing learning rate to 0.0006249999860301614.\n",
      "\n",
      "Epoch 00091: ReduceLROnPlateau reducing learning rate to 0.0003124999930150807.\n",
      "Restoring model weights from the end of the best epoch.\n",
      "Epoch 00091: early stopping\n",
      "\n",
      "Epoch 00025: ReduceLROnPlateau reducing learning rate to 0.004999999888241291.\n",
      "\n",
      "Epoch 00035: ReduceLROnPlateau reducing learning rate to 0.0024999999441206455.\n",
      "Restoring model weights from the end of the best epoch.\n",
      "Epoch 00035: early stopping\n",
      "\n",
      "Epoch 00017: ReduceLROnPlateau reducing learning rate to 0.004999999888241291.\n",
      "\n",
      "Epoch 00031: ReduceLROnPlateau reducing learning rate to 0.0024999999441206455.\n",
      "\n",
      "Epoch 00045: ReduceLROnPlateau reducing learning rate to 0.0012499999720603228.\n",
      "\n",
      "Epoch 00055: ReduceLROnPlateau reducing learning rate to 0.0006249999860301614.\n",
      "Restoring model weights from the end of the best epoch.\n",
      "Epoch 00055: early stopping\n",
      "\n",
      "Epoch 00026: ReduceLROnPlateau reducing learning rate to 0.004999999888241291.\n",
      "\n",
      "Epoch 00036: ReduceLROnPlateau reducing learning rate to 0.0024999999441206455.\n",
      "Restoring model weights from the end of the best epoch.\n",
      "Epoch 00036: early stopping\n",
      "\n",
      "Epoch 00029: ReduceLROnPlateau reducing learning rate to 0.004999999888241291.\n",
      "\n",
      "Epoch 00045: ReduceLROnPlateau reducing learning rate to 0.0024999999441206455.\n",
      "\n",
      "Epoch 00067: ReduceLROnPlateau reducing learning rate to 0.0012499999720603228.\n",
      "\n",
      "Epoch 00077: ReduceLROnPlateau reducing learning rate to 0.0006249999860301614.\n",
      "Restoring model weights from the end of the best epoch.\n",
      "Epoch 00077: early stopping\n",
      "\n",
      "Epoch 00021: ReduceLROnPlateau reducing learning rate to 0.004999999888241291.\n",
      "\n",
      "Epoch 00031: ReduceLROnPlateau reducing learning rate to 0.0024999999441206455.\n",
      "Restoring model weights from the end of the best epoch.\n",
      "Epoch 00031: early stopping\n",
      "\n",
      "Epoch 00030: ReduceLROnPlateau reducing learning rate to 0.004999999888241291.\n",
      "\n",
      "Epoch 00044: ReduceLROnPlateau reducing learning rate to 0.0024999999441206455.\n",
      "\n",
      "Epoch 00058: ReduceLROnPlateau reducing learning rate to 0.0012499999720603228.\n",
      "\n",
      "Epoch 00069: ReduceLROnPlateau reducing learning rate to 0.0006249999860301614.\n",
      "\n",
      "Epoch 00079: ReduceLROnPlateau reducing learning rate to 0.0003124999930150807.\n",
      "Restoring model weights from the end of the best epoch.\n",
      "Epoch 00079: early stopping\n",
      "\n",
      "Epoch 00016: ReduceLROnPlateau reducing learning rate to 0.004999999888241291.\n",
      "\n",
      "Epoch 00028: ReduceLROnPlateau reducing learning rate to 0.0024999999441206455.\n",
      "\n",
      "Epoch 00038: ReduceLROnPlateau reducing learning rate to 0.0012499999720603228.\n",
      "Restoring model weights from the end of the best epoch.\n",
      "Epoch 00038: early stopping\n",
      "\n",
      "Epoch 00034: ReduceLROnPlateau reducing learning rate to 0.004999999888241291.\n",
      "\n",
      "Epoch 00053: ReduceLROnPlateau reducing learning rate to 0.0024999999441206455.\n",
      "\n",
      "Epoch 00080: ReduceLROnPlateau reducing learning rate to 0.0012499999720603228.\n",
      "\n",
      "Epoch 00095: ReduceLROnPlateau reducing learning rate to 0.0006249999860301614.\n",
      "\n",
      "Epoch 00105: ReduceLROnPlateau reducing learning rate to 0.0003124999930150807.\n",
      "Restoring model weights from the end of the best epoch.\n",
      "Epoch 00105: early stopping\n",
      "\n",
      "Epoch 00015: ReduceLROnPlateau reducing learning rate to 0.004999999888241291.\n",
      "\n",
      "Epoch 00025: ReduceLROnPlateau reducing learning rate to 0.0024999999441206455.\n",
      "Restoring model weights from the end of the best epoch.\n",
      "Epoch 00025: early stopping\n"
     ]
    },
    {
     "data": {
      "image/png": "[encoded data removed]",
      "text/plain": [
       "<Figure size 432x288 with 1 Axes>"
      ]
     },
     "metadata": {
      "needs_background": "light"
     },
     "output_type": "display_data"
    }
   ],
   "source": [
    "lw = 2\n",
    "plt.figure()\n",
    "AUC = []\n",
    "interp_tpr = []\n",
    "lspace = np.linspace(0,1,100)\n",
    "\n",
    "\n",
    "\n",
    "for fold in range(0,10):\n",
    "    x_train = []\n",
    "    x_test = []\n",
    "    y_train = []\n",
    "    y_test = []\n",
    "    for idx, row in subject_fold_data.iterrows(): # <<<<------ select fold here (to refactor into scipt at a later stage)\n",
    "        string = row['Preprocessed_typed_sentence']\n",
    "        chars, lens = proc_string(string)\n",
    "        x = np.zeros((H,W))\n",
    "        non0cols = [char2idx[c] for c  in chars]\n",
    "        non0rows = np.arange(0,len(chars))\n",
    "        x[non0rows,non0cols] = 1\n",
    "        x[non0rows,-1] = np.asarray(lens) / scale_factor\n",
    "        lbl = row['Diagnosis']\n",
    "        in_fold = row['fold']\n",
    "        \n",
    "        if in_fold == fold:\n",
    "            x_test.append(x)\n",
    "            y_test.append(lbl)\n",
    "        else:\n",
    "            x_train.append(x)\n",
    "            y_train.append(lbl)\n",
    "\n",
    "    x_train = np.asarray(x_train)\n",
    "    x_test  = np.asarray(x_test)\n",
    "    y_train = np.asarray(y_train)\n",
    "    y_test  = np.asarray(y_test)\n",
    "    \n",
    "    \n",
    "    #re init model\n",
    "    model = mk_model(filters,size_large,size_small, drop, kernel_reg, fc_reg)\n",
    "    callbacks = [reduce_lr, early_stopping]\n",
    "    model.compile(optimizer = Adam(learning_rate = 1e-2),loss ='sparse_categorical_crossentropy')\n",
    "    \n",
    "    history = model.fit(x = x_train, y = y_train, batch_size = 16 , epochs = 1000, verbose = 0, validation_split = 0.1, callbacks = callbacks)\n",
    "    \n",
    "    pred = model.predict(x_test)\n",
    "    \n",
    "    fpr, tpr, _ = roc_curve(y_test, pred[:,1])\n",
    "    interp_tpr.append(np.interp(lspace,xp=fpr,fp=tpr))\n",
    "    roc_auc = auc(fpr, tpr)\n",
    "    AUC.append(roc_auc)\n",
    "    plt.plot(fpr, tpr, color='darkorange',\n",
    "             lw=lw -1, alpha = 0.3)\n",
    "    \n",
    "mean = np.mean(interp_tpr,axis=0)\n",
    "std = np.std(interp_tpr,axis = 0)    \n",
    "plt.plot(lspace, mean , color = 'darkorange', lw=lw, label = 'AUC: {:.2f} ({:.2f}), best: {:.2}'.format(np.mean(AUC),np.std(AUC),np.max(AUC)))\n",
    "plt.fill_between(lspace,mean + std, mean - std, alpha = 0.2, color = 'darkorange')    \n",
    "plt.plot([0, 1], [0, 1], color='navy', lw=lw, linestyle='--')\n",
    "plt.xlim([0.0, 1.0])\n",
    "plt.ylim([0.0, 1.05])\n",
    "plt.xlabel('False Positive Rate')\n",
    "plt.ylabel('True Positive Rate')\n",
    "plt.title('MJFF subject lvl 10-fold')\n",
    "plt.legend(loc=\"lower right\")\n",
    "#plt.savefig('MJFF_subject_lvl_kfold.png')\n",
    "plt.show()  "
   ]
  },
  {
   "cell_type": "markdown",
   "metadata": {},
   "source": [
    "# Why do we get AUC 1 on subject level fold???"
   ]
  },
  {
   "cell_type": "code",
   "execution_count": 311,
   "metadata": {},
   "outputs": [
    {
     "name": "stdout",
     "output_type": "stream",
     "text": [
      "Number of duplicated patient-subject ID pairs: 0\n",
      "Number of duplicated sentences 0\n",
      "fold 0, train-test intersection [], test PD proportion 28.169014084507044\n",
      "fold 1, train-test intersection [], test PD proportion 25.25\n",
      "fold 2, train-test intersection [], test PD proportion 15.746478873239436\n",
      "fold 3, train-test intersection [], test PD proportion 15.2\n",
      "fold 4, train-test intersection [], test PD proportion 17.2\n",
      "fold 5, train-test intersection [], test PD proportion 26.82456140350877\n",
      "fold 6, train-test intersection [], test PD proportion 24.976744186046513\n",
      "fold 7, train-test intersection [], test PD proportion 20.5\n",
      "fold 8, train-test intersection [], test PD proportion 27.846153846153847\n",
      "fold 9, train-test intersection [], test PD proportion 27.257142857142856\n"
     ]
    }
   ],
   "source": [
    "num_duplicated_patient_subject_pairs = np.sum(subject_fold[['Patient_ID','Sentence_ID']].duplicated())\n",
    "\n",
    "print('Number of duplicated patient-subject ID pairs: {}'.format(num_duplicated_patient_subject_pairs))\n",
    "\n",
    "num_duplicated_sentences = np.sum(subject_fold_data['Preprocessed_typed_sentence'].duplicated())\n",
    "print('Number of duplicated sentences {}'.format(num_duplicated_sentences))\n",
    "\n",
    "for i in range(10):\n",
    "    a = subject_fold[subject_fold['fold']==i]['Patient_ID'].unique()\n",
    "    b = subject_fold[subject_fold['fold']!=i]['Patient_ID'].unique()\n",
    "    patient_intersection = np.intersect1d(a,b)\n",
    "    pd_prop = subject_fold[subject_fold['fold']==i]['Patient_ID'].sum() / len(subject_fold[subject_fold['fold']==i])\n",
    "    \n",
    "    print('fold {}, train-test intersection {}, test PD proportion {}'.format(i,patient_intersection, pd_prop))"
   ]
  },
  {
   "cell_type": "code",
   "execution_count": 309,
   "metadata": {},
   "outputs": [],
   "source": []
  },
  {
   "cell_type": "code",
   "execution_count": null,
   "metadata": {},
   "outputs": [],
   "source": []
  }
 ],
 "metadata": {
  "kernelspec": {
   "display_name": "Python 3",
   "language": "python",
   "name": "python3"
  },
  "language_info": {
   "codemirror_mode": {
    "name": "ipython",
    "version": 3
   },
   "file_extension": ".py",
   "mimetype": "text/x-python",
   "name": "python",
   "nbconvert_exporter": "python",
   "pygments_lexer": "ipython3",
   "version": "3.7.4"
  }
 },
 "nbformat": 4,
 "nbformat_minor": 4
}
