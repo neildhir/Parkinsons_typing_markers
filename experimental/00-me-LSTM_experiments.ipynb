{
 "cells": [
  {
   "cell_type": "code",
   "execution_count": 1,
   "metadata": {},
   "outputs": [
    {
     "name": "stderr",
     "output_type": "stream",
     "text": [
      "C:\\Users\\Mathias\\Anaconda3\\envs\\pd\\lib\\site-packages\\tensorflow\\python\\framework\\dtypes.py:516: FutureWarning: Passing (type, 1) or '1type' as a synonym of type is deprecated; in a future version of numpy, it will be understood as (type, (1,)) / '(1,)type'.\n",
      "  _np_qint8 = np.dtype([(\"qint8\", np.int8, 1)])\n",
      "C:\\Users\\Mathias\\Anaconda3\\envs\\pd\\lib\\site-packages\\tensorflow\\python\\framework\\dtypes.py:517: FutureWarning: Passing (type, 1) or '1type' as a synonym of type is deprecated; in a future version of numpy, it will be understood as (type, (1,)) / '(1,)type'.\n",
      "  _np_quint8 = np.dtype([(\"quint8\", np.uint8, 1)])\n",
      "C:\\Users\\Mathias\\Anaconda3\\envs\\pd\\lib\\site-packages\\tensorflow\\python\\framework\\dtypes.py:518: FutureWarning: Passing (type, 1) or '1type' as a synonym of type is deprecated; in a future version of numpy, it will be understood as (type, (1,)) / '(1,)type'.\n",
      "  _np_qint16 = np.dtype([(\"qint16\", np.int16, 1)])\n",
      "C:\\Users\\Mathias\\Anaconda3\\envs\\pd\\lib\\site-packages\\tensorflow\\python\\framework\\dtypes.py:519: FutureWarning: Passing (type, 1) or '1type' as a synonym of type is deprecated; in a future version of numpy, it will be understood as (type, (1,)) / '(1,)type'.\n",
      "  _np_quint16 = np.dtype([(\"quint16\", np.uint16, 1)])\n",
      "C:\\Users\\Mathias\\Anaconda3\\envs\\pd\\lib\\site-packages\\tensorflow\\python\\framework\\dtypes.py:520: FutureWarning: Passing (type, 1) or '1type' as a synonym of type is deprecated; in a future version of numpy, it will be understood as (type, (1,)) / '(1,)type'.\n",
      "  _np_qint32 = np.dtype([(\"qint32\", np.int32, 1)])\n",
      "C:\\Users\\Mathias\\Anaconda3\\envs\\pd\\lib\\site-packages\\tensorflow\\python\\framework\\dtypes.py:525: FutureWarning: Passing (type, 1) or '1type' as a synonym of type is deprecated; in a future version of numpy, it will be understood as (type, (1,)) / '(1,)type'.\n",
      "  np_resource = np.dtype([(\"resource\", np.ubyte, 1)])\n",
      "C:\\Users\\Mathias\\Anaconda3\\envs\\pd\\lib\\site-packages\\tensorboard\\compat\\tensorflow_stub\\dtypes.py:541: FutureWarning: Passing (type, 1) or '1type' as a synonym of type is deprecated; in a future version of numpy, it will be understood as (type, (1,)) / '(1,)type'.\n",
      "  _np_qint8 = np.dtype([(\"qint8\", np.int8, 1)])\n",
      "C:\\Users\\Mathias\\Anaconda3\\envs\\pd\\lib\\site-packages\\tensorboard\\compat\\tensorflow_stub\\dtypes.py:542: FutureWarning: Passing (type, 1) or '1type' as a synonym of type is deprecated; in a future version of numpy, it will be understood as (type, (1,)) / '(1,)type'.\n",
      "  _np_quint8 = np.dtype([(\"quint8\", np.uint8, 1)])\n",
      "C:\\Users\\Mathias\\Anaconda3\\envs\\pd\\lib\\site-packages\\tensorboard\\compat\\tensorflow_stub\\dtypes.py:543: FutureWarning: Passing (type, 1) or '1type' as a synonym of type is deprecated; in a future version of numpy, it will be understood as (type, (1,)) / '(1,)type'.\n",
      "  _np_qint16 = np.dtype([(\"qint16\", np.int16, 1)])\n",
      "C:\\Users\\Mathias\\Anaconda3\\envs\\pd\\lib\\site-packages\\tensorboard\\compat\\tensorflow_stub\\dtypes.py:544: FutureWarning: Passing (type, 1) or '1type' as a synonym of type is deprecated; in a future version of numpy, it will be understood as (type, (1,)) / '(1,)type'.\n",
      "  _np_quint16 = np.dtype([(\"quint16\", np.uint16, 1)])\n",
      "C:\\Users\\Mathias\\Anaconda3\\envs\\pd\\lib\\site-packages\\tensorboard\\compat\\tensorflow_stub\\dtypes.py:545: FutureWarning: Passing (type, 1) or '1type' as a synonym of type is deprecated; in a future version of numpy, it will be understood as (type, (1,)) / '(1,)type'.\n",
      "  _np_qint32 = np.dtype([(\"qint32\", np.int32, 1)])\n",
      "C:\\Users\\Mathias\\Anaconda3\\envs\\pd\\lib\\site-packages\\tensorboard\\compat\\tensorflow_stub\\dtypes.py:550: FutureWarning: Passing (type, 1) or '1type' as a synonym of type is deprecated; in a future version of numpy, it will be understood as (type, (1,)) / '(1,)type'.\n",
      "  np_resource = np.dtype([(\"resource\", np.ubyte, 1)])\n"
     ]
    }
   ],
   "source": [
    "import pandas as pd\n",
    "import numpy as np\n",
    "import json\n",
    "from pathlib import Path\n",
    "from tensorflow.keras.preprocessing.sequence import pad_sequences"
   ]
  },
  {
   "cell_type": "code",
   "execution_count": 2,
   "metadata": {},
   "outputs": [],
   "source": [
    "\n",
    "root = Path(r'C:\\Users\\Mathias\\repos\\habitual_errors_NLP\\data\\MJFF\\preproc\\char_time' )\n",
    "\n",
    "df = pd.read_csv(root / 'EnglishData-preprocessed_attempt_1.csv')\n",
    "folds = pd.read_csv(root / 'EnglishData-preprocessed_attempt_1_fold.csv')\n",
    "\n",
    "with open(root / 'EnglishData-preprocessed_attempt_1_char2idx.json') as json_file:\n",
    "    char2idx = json.load(json_file)\n",
    "\n",
    "    \n",
    "df = df.merge(folds , on = ['Participant_ID', 'Sentence_ID'])"
   ]
  },
  {
   "cell_type": "code",
   "execution_count": 3,
   "metadata": {},
   "outputs": [],
   "source": [
    "def reduce_input(x):\n",
    "    '''\n",
    "    Refactor this method.. very very fast hack.\n",
    "    '''\n",
    "    single_char = []\n",
    "    pre = '*'\n",
    "    segment_list = []\n",
    "    segment = []\n",
    "    for i in range(0,len(x)):\n",
    "        current = x[i]\n",
    "        if current != pre:\n",
    "            single_char.append(current)\n",
    "            segment_list.append(segment)\n",
    "            segment = []\n",
    "        pre = current\n",
    "        segment.append(current)\n",
    "    segment_list.append(segment)\n",
    "    del segment_list[0]\n",
    "    \n",
    "    count_list = [len(s) for s in segment_list]\n",
    "\n",
    "    return single_char, count_list\n",
    "\n",
    "def proc_frame(df):\n",
    "\n",
    "    SINGLE_CHAR = []\n",
    "    COUNT_LIST = []\n",
    "    for idx, row in df.iterrows():\n",
    "        \n",
    "        single_char, count_list = reduce_input(row.Preprocessed_typed_sentence)\n",
    "        SINGLE_CHAR.append(single_char)\n",
    "        COUNT_LIST.append(count_list)\n",
    "        \n",
    "    df['single_char'] = SINGLE_CHAR\n",
    "    df['count_list'] = COUNT_LIST\n",
    "\n",
    "\n",
    "def mk_dataset(df, char2idx):\n",
    "    \n",
    "    pad_len = df.single_char.apply(lambda x: len(x)).max()\n",
    "    channels = len(char2idx) + 1\n",
    "    X = []\n",
    "    y = df.Diagnosis.values\n",
    "    for idx, row in df.iterrows():\n",
    "        \n",
    "        single_char = row.single_char\n",
    "        count_list = row.count_list\n",
    "        x = np.zeros((len(single_char),channels))\n",
    "        for i, char in enumerate(single_char):\n",
    "             x[i,char2idx[char]] = 1\n",
    "        \n",
    "        x[:,-1] = count_list\n",
    "        X.append(x)\n",
    "    return np.asarray(X),y"
   ]
  },
  {
   "cell_type": "code",
   "execution_count": 4,
   "metadata": {},
   "outputs": [],
   "source": [
    "proc_frame(df)\n",
    "df.count_list = df.count_list.apply(lambda x: np.asarray(x))"
   ]
  },
  {
   "cell_type": "code",
   "execution_count": 5,
   "metadata": {},
   "outputs": [
    {
     "data": {
      "text/plain": [
       "\"\\nfor grp , data in df.groupby(by = 'Participant_ID'):\\n    mean = np.concatenate(data.count_list.values).mean()\\n    df.loc[data.index, 'count_list'] = data.count_list / mean\\n\""
      ]
     },
     "execution_count": 5,
     "metadata": {},
     "output_type": "execute_result"
    }
   ],
   "source": [
    "'''\n",
    "for grp , data in df.groupby(by = 'Participant_ID'):\n",
    "    mean = np.concatenate(data.count_list.values).mean()\n",
    "    df.loc[data.index, 'count_list'] = data.count_list / mean\n",
    "'''"
   ]
  },
  {
   "cell_type": "code",
   "execution_count": 6,
   "metadata": {},
   "outputs": [],
   "source": [
    "X,y  = mk_dataset(df,char2idx)"
   ]
  },
  {
   "cell_type": "code",
   "execution_count": 7,
   "metadata": {},
   "outputs": [],
   "source": [
    "X = pad_sequences(X, maxlen=None, dtype='float16')"
   ]
  },
  {
   "cell_type": "code",
   "execution_count": 8,
   "metadata": {},
   "outputs": [],
   "source": [
    "\n",
    "# simple global mean scale of duration\n",
    "mn= np.mean(X[:,:,-1],)\n",
    "X[:,:,-1] = X[:,:,-1] / mn\n"
   ]
  },
  {
   "cell_type": "markdown",
   "metadata": {},
   "source": [
    "# Models"
   ]
  },
  {
   "cell_type": "code",
   "execution_count": null,
   "metadata": {},
   "outputs": [],
   "source": []
  },
  {
   "cell_type": "code",
   "execution_count": 9,
   "metadata": {},
   "outputs": [],
   "source": [
    "from tensorflow.keras.models import Sequential\n",
    "from tensorflow.keras.layers import Dense, Dropout, Embedding, LSTM, Bidirectional, Input, Conv1D, Flatten\n",
    "from tensorflow.keras.callbacks import EarlyStopping\n",
    "\n",
    "callbacks  = [EarlyStopping(verbose = 1, patience = 6, restore_best_weights= True)]\n",
    "def mk_lstm_model():\n",
    "    model = Sequential()\n",
    "\n",
    "    inputs = Input(shape=(164,45))\n",
    "    model.add(Bidirectional(LSTM(64)))\n",
    "    model.add(Dropout(0.5))\n",
    "    model.add(Dense(1, activation='sigmoid'))\n",
    "\n",
    "    # try using different optimizers and different optimizer configs\n",
    "    model.compile('adam', 'binary_crossentropy', metrics=['accuracy'])\n",
    "    return model\n",
    "\n",
    "def mk_cnn_model():\n",
    "    model = Sequential()\n",
    "    model.add(Input(shape=(164,45)))\n",
    "    model.add(Conv1D(filters = 128, kernel_size = 3, strides= 1, padding='valid',  activation='relu'))\n",
    "    model.add(Dropout(0.3))\n",
    "    model.add(Conv1D(filters = 64, kernel_size = 3, strides= 1, padding='valid',  activation='relu'))\n",
    "    model.add(Dropout(0.3))\n",
    "    model.add(Conv1D(filters = 64, kernel_size = 3, strides= 1, padding='valid',  activation='relu'))\n",
    "    model.add(Dropout(0.3))\n",
    "    model.add(Flatten())\n",
    "    model.add(Dense(1, activation='sigmoid'))\n",
    "    model.compile('adam', 'binary_crossentropy', metrics=['accuracy'])\n",
    "    return model\n",
    "    "
   ]
  },
  {
   "cell_type": "code",
   "execution_count": null,
   "metadata": {},
   "outputs": [],
   "source": [
    "\n"
   ]
  },
  {
   "cell_type": "code",
   "execution_count": 10,
   "metadata": {},
   "outputs": [
    {
     "name": "stdout",
     "output_type": "stream",
     "text": [
      "Evaluating fold: 0\n",
      "WARNING:tensorflow:From C:\\Users\\Mathias\\Anaconda3\\envs\\pd\\lib\\site-packages\\tensorflow\\python\\ops\\init_ops.py:1251: calling VarianceScaling.__init__ (from tensorflow.python.ops.init_ops) with dtype is deprecated and will be removed in a future version.\n",
      "Instructions for updating:\n",
      "Call initializer instance with the dtype argument instead of passing it to the constructor\n",
      "WARNING:tensorflow:From C:\\Users\\Mathias\\Anaconda3\\envs\\pd\\lib\\site-packages\\tensorflow\\python\\ops\\nn_impl.py:180: add_dispatch_support.<locals>.wrapper (from tensorflow.python.ops.array_ops) is deprecated and will be removed in a future version.\n",
      "Instructions for updating:\n",
      "Use tf.where in 2.0, which has the same broadcast rule as np.where\n",
      "Restoring model weights from the end of the best epoch.\n",
      "Epoch 00009: early stopping\n",
      "Evaluating fold: 1\n",
      "Restoring model weights from the end of the best epoch.\n",
      "Epoch 00008: early stopping\n",
      "Evaluating fold: 2\n",
      "Restoring model weights from the end of the best epoch.\n",
      "Epoch 00017: early stopping\n",
      "Evaluating fold: 3\n",
      "Restoring model weights from the end of the best epoch.\n",
      "Epoch 00011: early stopping\n",
      "Evaluating fold: 4\n",
      "Restoring model weights from the end of the best epoch.\n",
      "Epoch 00009: early stopping\n",
      "Evaluating fold: 5\n",
      "Restoring model weights from the end of the best epoch.\n",
      "Epoch 00018: early stopping\n",
      "Evaluating fold: 6\n",
      "Restoring model weights from the end of the best epoch.\n",
      "Epoch 00014: early stopping\n",
      "Evaluating fold: 7\n",
      "Restoring model weights from the end of the best epoch.\n",
      "Epoch 00016: early stopping\n",
      "Evaluating fold: 8\n",
      "Restoring model weights from the end of the best epoch.\n",
      "Epoch 00010: early stopping\n",
      "Evaluating fold: 9\n",
      "Restoring model weights from the end of the best epoch.\n",
      "Epoch 00009: early stopping\n"
     ]
    }
   ],
   "source": [
    "y_true = []\n",
    "y_pred = []\n",
    "\n",
    "for fold_idx in sorted(df.fold.unique()):\n",
    "    print('Evaluating fold: {}'.format(fold_idx))\n",
    "    test_mask = df.fold == fold_idx\n",
    "    \n",
    "    X_test = X[test_mask]\n",
    "    y_test = y[test_mask]\n",
    "    \n",
    "    X_train = X[~test_mask]\n",
    "    y_train = y[~test_mask]\n",
    "    \n",
    "    \n",
    "    model = mk_cnn_model()\n",
    "    model.fit(X_train,y_train, callbacks = callbacks,validation_split = 0.1, epochs = 100, verbose = 0)\n",
    "\n",
    "    pred = model.predict(X_test)\n",
    "    \n",
    "    y_true.append(y_test)\n",
    "    y_pred.append(pred)\n",
    "    "
   ]
  },
  {
   "cell_type": "code",
   "execution_count": 11,
   "metadata": {},
   "outputs": [
    {
     "data": {
      "image/png": "[encoded data removed]",
      "text/plain": [
       "<Figure size 360x360 with 1 Axes>"
      ]
     },
     "metadata": {
      "needs_background": "light"
     },
     "output_type": "display_data"
    }
   ],
   "source": [
    "from sklearn.metrics import roc_curve, auc\n",
    "from sklearn.metrics import roc_auc_score\n",
    "import matplotlib.pyplot as plt\n",
    "\n",
    "lw = 3\n",
    "plt.figure(figsize = (5,5))\n",
    "plt.axis('equal')\n",
    "plt.grid(True, alpha = 0.3)\n",
    "plt.xlim([0.0, 1.0])\n",
    "plt.ylim([0.0, 1.0])\n",
    "AUC = []\n",
    "interp_tpr = []\n",
    "x = np.linspace(0,1,100)\n",
    "for y_t,y_p in zip(y_true,y_pred):\n",
    "\n",
    "    #print(df['Patient_ID'].unique())\n",
    "    fpr, tpr, _ = roc_curve(y_t, y_p)\n",
    "    interp_tpr.append(np.interp(x,xp=fpr,fp=tpr))\n",
    "    roc_auc = auc(fpr, tpr)\n",
    "    AUC.append(roc_auc)\n",
    "    plt.plot(fpr, tpr, color='darkorange',\n",
    "             lw=lw -1, alpha = 0.3)\n",
    "\n",
    "mean = np.mean(interp_tpr,axis=0)\n",
    "std = np.std(interp_tpr,axis = 0)\n",
    "\n",
    "plt.plot(x, mean , color = 'darkorange', lw=lw, label = 'AUC: {:.2f} ({:.2f}), best: {:.2}'.format(np.mean(AUC),np.std(AUC),np.max(AUC)))\n",
    "plt.fill_between(x,mean + std, mean - std, alpha = 0.2, color = 'darkorange')    \n",
    "plt.plot([0, 1], [0, 1], color='navy', lw=lw, linestyle='--')\n",
    "\n",
    "plt.xlabel('False Positive Rate')\n",
    "plt.ylabel('True Positive Rate')\n",
    "#plt.title('MJFF subject lvl 10-fold')\n",
    "plt.legend(loc=\"lower right\")\n",
    "plt.savefig('MJFF_ENG_kfold_SIMPLE_CNN.pdf')\n",
    "plt.show()"
   ]
  },
  {
   "cell_type": "code",
   "execution_count": null,
   "metadata": {},
   "outputs": [],
   "source": []
  },
  {
   "cell_type": "code",
   "execution_count": null,
   "metadata": {},
   "outputs": [],
   "source": []
  }
 ],
 "metadata": {
  "kernelspec": {
   "display_name": "pdEnv",
   "language": "python",
   "name": "pdenv"
  },
  "language_info": {
   "codemirror_mode": {
    "name": "ipython",
    "version": 3
   },
   "file_extension": ".py",
   "mimetype": "text/x-python",
   "name": "python",
   "nbconvert_exporter": "python",
   "pygments_lexer": "ipython3",
   "version": "3.7.7"
  }
 },
 "nbformat": 4,
 "nbformat_minor": 4
}
