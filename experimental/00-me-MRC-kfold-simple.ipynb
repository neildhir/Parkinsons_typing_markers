{
 "cells": [
  {
   "cell_type": "code",
   "execution_count": 1,
   "metadata": {},
   "outputs": [],
   "source": [
    "import pandas as pd\n",
    "import numpy as np\n",
    "from pathlib import Path\n",
    "import json"
   ]
  },
  {
   "cell_type": "code",
   "execution_count": 2,
   "metadata": {},
   "outputs": [],
   "source": [
    "data_root = Path('../data')"
   ]
  },
  {
   "cell_type": "code",
   "execution_count": 3,
   "metadata": {},
   "outputs": [],
   "source": [
    "import re\n",
    "\n",
    "def proc_string(string):\n",
    "    b = re.split(\"(?<=(.))(?!\\\\1)\",string)\n",
    "    lens = [len(x) for i,x in enumerate(b) if i%2 == 0]\n",
    "    chars = [x for i,x in enumerate(b) if i%2 != 0]\n",
    "    \n",
    "    return chars, lens[:-1]"
   ]
  },
  {
   "cell_type": "markdown",
   "metadata": {},
   "source": [
    "# Lets start with *exact* MRC data used for the charCNN task"
   ]
  },
  {
   "cell_type": "code",
   "execution_count": 4,
   "metadata": {},
   "outputs": [],
   "source": [
    "df = pd.read_csv('../data/dump/MRC/EnglishData-preprocessed_attempt_1.csv')\n",
    "random_fold = pd.read_csv('folds/MRC_EnglishData_attempt_1_fold.csv')\n",
    "subject_fold = pd.read_csv('folds/MRC_EnglishData_attempt_1_subject_lvl_fold.csv')\n",
    "with open('../data/dump/MRC/char2idx.json', 'r') as json_file:\n",
    "        char2idx = json.load(json_file)\n"
   ]
  },
  {
   "cell_type": "code",
   "execution_count": 5,
   "metadata": {},
   "outputs": [],
   "source": [
    "random_fold_data = pd.merge(df,random_fold, how = 'inner',on = ['Patient_ID', 'Sentence_ID'])\n",
    "subject_fold_data = pd.merge(df,subject_fold, how = 'inner',on = ['Patient_ID', 'Sentence_ID'])"
   ]
  },
  {
   "cell_type": "code",
   "execution_count": 6,
   "metadata": {},
   "outputs": [
    {
     "name": "stdout",
     "output_type": "stream",
     "text": [
      "Window height/width shoul be: 216 / 61\n"
     ]
    }
   ],
   "source": [
    "# Find window dimensions and \"key press duration\" scaling factor\n",
    "just_lengths = []\n",
    "max_durations = []\n",
    "for idx, row in df.iterrows():\n",
    "    string = row['Preprocessed_typed_sentence']\n",
    "    chars, lens = proc_string(string)\n",
    "    just_lengths.append(len(chars))\n",
    "    max_durations.append(max(lens))\n",
    "H = np.max(just_lengths)\n",
    "W = len(char2idx) + 1\n",
    "scale_factor = np.max(max_durations)\n",
    "print('Window height/width shoul be: {} / {}'.format(H,W))\n",
    "\n",
    "\n",
    "\n"
   ]
  },
  {
   "cell_type": "code",
   "execution_count": null,
   "metadata": {},
   "outputs": [],
   "source": []
  },
  {
   "cell_type": "code",
   "execution_count": 7,
   "metadata": {},
   "outputs": [],
   "source": [
    "X = []\n",
    "y = []\n",
    "for idx, row in df.iterrows():\n",
    "    string = row['Preprocessed_typed_sentence']\n",
    "    chars, lens = proc_string(string)\n",
    "    x = np.zeros((H,W))\n",
    "    non0cols = [char2idx[c] for c  in chars]\n",
    "    non0rows = np.arange(0,len(chars))\n",
    "    x[non0rows,non0cols] = 1\n",
    "    x[non0rows,-1] = np.asarray(lens) / scale_factor\n",
    "    \n",
    "    X.append(x)\n",
    "    y.append(row['Diagnosis'])\n",
    "\n",
    "X = np.asarray(X)\n",
    "y = np.asarray(y)\n"
   ]
  },
  {
   "cell_type": "markdown",
   "metadata": {},
   "source": [
    "# Super simple 1d conv network"
   ]
  },
  {
   "cell_type": "code",
   "execution_count": 19,
   "metadata": {},
   "outputs": [],
   "source": [
    "from tensorflow.keras.layers import Conv1D, Input, Dense,Flatten, Dropout\n",
    "from tensorflow.keras.models import Model\n",
    "from sklearn.model_selection import train_test_split\n",
    "from tensorflow.keras.optimizers import Adam\n",
    "import tensorflow as tf\n",
    "\n",
    "x_train, x_test, y_train, y_test = train_test_split(X, y, test_size = 0.2)"
   ]
  },
  {
   "cell_type": "code",
   "execution_count": 27,
   "metadata": {},
   "outputs": [],
   "source": [
    "filters = 64\n",
    "size_large = 5\n",
    "size_small = 3\n",
    "drop = 0.1\n",
    "kernel_reg = tf.keras.regularizers.l2(0.05)\n",
    "fc_reg = tf.keras.regularizers.l2(0.01)\n",
    "lr= 0.5e-3\n",
    "\n",
    "def mk_model(filters,size_large,size_small, drop, kernel_reg, fc_reg):\n",
    "    inp = Input(shape = (H,W))\n",
    "    c1 = Conv1D(filters = 64, kernel_size = size_large, strides = 1, activation = 'relu', kernel_regularizer= kernel_reg)(inp)\n",
    "    c1 = Dropout(drop)(c1)\n",
    "    c2 = Conv1D(filters = 64, kernel_size = size_small, strides = 1, activation = 'relu', kernel_regularizer= kernel_reg)(inp)\n",
    "    c2 = Dropout(drop)(c2)\n",
    "    flat = Flatten()(c2)\n",
    "    out = Dense(2,activation = 'softmax', kernel_regularizer=fc_reg)(flat)\n",
    "\n",
    "    return Model(inp,out)\n",
    "\n",
    "model = mk_model(filters,size_large,size_small, drop, kernel_reg, fc_reg)"
   ]
  },
  {
   "cell_type": "code",
   "execution_count": 30,
   "metadata": {},
   "outputs": [],
   "source": [
    "from tensorflow.keras import callbacks\n",
    "import tensorflow as tf\n",
    "import datetime\n",
    "\n",
    "reduce_lr = callbacks.ReduceLROnPlateau(monitor='val_loss', factor=0.5, patience=10, verbose=1, mode='auto', min_delta=0.0000, cooldown=0, min_lr=0)\n",
    "early_stopping = callbacks.EarlyStopping(monitor='val_loss', patience = 20, verbose = 1, restore_best_weights = True)\n",
    "log_dir = Path(\"logs/MRC/\" + datetime.datetime.now().strftime(\"%Y%m%d-%H%M%S\"))\n",
    "tensorboard_callback = callbacks.TensorBoard(log_dir=log_dir, histogram_freq=1,)\n",
    "callbacks = [reduce_lr, early_stopping, tensorboard_callback]\n",
    "\n",
    "model.compile(optimizer = Adam(learning_rate = lr),loss ='sparse_categorical_crossentropy')"
   ]
  },
  {
   "cell_type": "code",
   "execution_count": 31,
   "metadata": {},
   "outputs": [
    {
     "name": "stdout",
     "output_type": "stream",
     "text": [
      "\n",
      "Epoch 00012: ReduceLROnPlateau reducing learning rate to 0.0002500000118743628.\n",
      "\n",
      "Epoch 00022: ReduceLROnPlateau reducing learning rate to 0.0001250000059371814.\n",
      "Restoring model weights from the end of the best epoch.\n",
      "Epoch 00022: early stopping\n"
     ]
    }
   ],
   "source": [
    "history = model.fit(x = x_train, y = y_train, batch_size = 128 , epochs = 1000, verbose = 0, validation_data = (x_test,y_test), callbacks = callbacks)"
   ]
  },
  {
   "cell_type": "code",
   "execution_count": 32,
   "metadata": {},
   "outputs": [
    {
     "data": {
      "image/png": "[encoded data removed]",
      "text/plain": [
       "<Figure size 432x288 with 1 Axes>"
      ]
     },
     "metadata": {
      "needs_background": "light"
     },
     "output_type": "display_data"
    }
   ],
   "source": [
    "from sklearn.metrics import roc_curve, auc\n",
    "from sklearn.metrics import roc_auc_score\n",
    "import matplotlib.pyplot as plt\n",
    "\n",
    "pred_t = model.predict(x_train)\n",
    "pred = model.predict(x_test)\n",
    "lw=2\n",
    "\n",
    "\n",
    "fpr, tpr, _ = roc_curve(y_test, pred[:,1])\n",
    "roc_auc = auc(fpr, tpr)\n",
    "\n",
    "\n",
    "\n",
    "plt.plot(fpr, tpr , color = 'darkorange', lw=lw, label = 'Val AUC: {:.2f}'.format(roc_auc))\n",
    "\n",
    "fpr, tpr, _ = roc_curve(y_train, pred_t[:,1])\n",
    "roc_auc = auc(fpr, tpr)\n",
    "\n",
    "plt.plot(fpr, tpr , color = 'blue', lw=lw, label = 'Train AUC: {:.2f}'.format(roc_auc))\n",
    "\n",
    "  \n",
    "plt.plot([0, 1], [0, 1], color='navy', lw=lw, linestyle='--')\n",
    "plt.xlim([0.0, 1.0])\n",
    "plt.ylim([0.0, 1.05])\n",
    "plt.xlabel('False Positive Rate')\n",
    "plt.ylabel('True Positive Rate')\n",
    "plt.title('MRC subject lvl 10-fold')\n",
    "plt.legend(loc=\"lower right\")\n",
    "plt.show()"
   ]
  },
  {
   "cell_type": "markdown",
   "metadata": {},
   "source": [
    "# Now that we have found suitable regularisation parameters lets do the 10 folds\n",
    "\n",
    "\n",
    "note: Heavy regularisation in necessary to achieve good performance"
   ]
  },
  {
   "cell_type": "markdown",
   "metadata": {},
   "source": [
    "## First random k-fold as in the paper"
   ]
  },
  {
   "cell_type": "code",
   "execution_count": 13,
   "metadata": {},
   "outputs": [
    {
     "name": "stdout",
     "output_type": "stream",
     "text": [
      "\n",
      "Epoch 00012: ReduceLROnPlateau reducing learning rate to 0.004999999888241291.\n",
      "\n",
      "Epoch 00022: ReduceLROnPlateau reducing learning rate to 0.0024999999441206455.\n",
      "Restoring model weights from the end of the best epoch.\n",
      "Epoch 00022: early stopping\n",
      "\n",
      "Epoch 00019: ReduceLROnPlateau reducing learning rate to 0.004999999888241291.\n",
      "\n",
      "Epoch 00029: ReduceLROnPlateau reducing learning rate to 0.0024999999441206455.\n",
      "Restoring model weights from the end of the best epoch.\n",
      "Epoch 00029: early stopping\n",
      "\n",
      "Epoch 00012: ReduceLROnPlateau reducing learning rate to 0.004999999888241291.\n",
      "\n",
      "Epoch 00022: ReduceLROnPlateau reducing learning rate to 0.0024999999441206455.\n",
      "Restoring model weights from the end of the best epoch.\n",
      "Epoch 00022: early stopping\n",
      "\n",
      "Epoch 00034: ReduceLROnPlateau reducing learning rate to 0.004999999888241291.\n",
      "\n",
      "Epoch 00044: ReduceLROnPlateau reducing learning rate to 0.0024999999441206455.\n",
      "Restoring model weights from the end of the best epoch.\n",
      "Epoch 00044: early stopping\n",
      "\n",
      "Epoch 00025: ReduceLROnPlateau reducing learning rate to 0.004999999888241291.\n",
      "\n",
      "Epoch 00035: ReduceLROnPlateau reducing learning rate to 0.0024999999441206455.\n",
      "Restoring model weights from the end of the best epoch.\n",
      "Epoch 00035: early stopping\n",
      "\n",
      "Epoch 00016: ReduceLROnPlateau reducing learning rate to 0.004999999888241291.\n",
      "\n",
      "Epoch 00026: ReduceLROnPlateau reducing learning rate to 0.0024999999441206455.\n",
      "Restoring model weights from the end of the best epoch.\n",
      "Epoch 00026: early stopping\n",
      "\n",
      "Epoch 00039: ReduceLROnPlateau reducing learning rate to 0.004999999888241291.\n",
      "\n",
      "Epoch 00049: ReduceLROnPlateau reducing learning rate to 0.0024999999441206455.\n",
      "Restoring model weights from the end of the best epoch.\n",
      "Epoch 00049: early stopping\n",
      "\n",
      "Epoch 00012: ReduceLROnPlateau reducing learning rate to 0.004999999888241291.\n",
      "\n",
      "Epoch 00022: ReduceLROnPlateau reducing learning rate to 0.0024999999441206455.\n",
      "Restoring model weights from the end of the best epoch.\n",
      "Epoch 00022: early stopping\n",
      "\n",
      "Epoch 00051: ReduceLROnPlateau reducing learning rate to 0.004999999888241291.\n",
      "\n",
      "Epoch 00061: ReduceLROnPlateau reducing learning rate to 0.0024999999441206455.\n",
      "Restoring model weights from the end of the best epoch.\n",
      "Epoch 00061: early stopping\n",
      "\n",
      "Epoch 00011: ReduceLROnPlateau reducing learning rate to 0.004999999888241291.\n",
      "\n",
      "Epoch 00021: ReduceLROnPlateau reducing learning rate to 0.0024999999441206455.\n",
      "Restoring model weights from the end of the best epoch.\n",
      "Epoch 00021: early stopping\n"
     ]
    },
    {
     "data": {
      "image/png": "[encoded data removed]",
      "text/plain": [
       "<Figure size 432x288 with 1 Axes>"
      ]
     },
     "metadata": {
      "needs_background": "light"
     },
     "output_type": "display_data"
    }
   ],
   "source": [
    "from sklearn.metrics import roc_curve, auc\n",
    "from sklearn.metrics import roc_auc_score\n",
    "import matplotlib.pyplot as plt\n",
    "\n",
    "lw = 2\n",
    "plt.figure()\n",
    "AUC = []\n",
    "interp_tpr = []\n",
    "lspace = np.linspace(0,1,100)\n",
    "\n",
    "\n",
    "\n",
    "for fold in range(0,10):\n",
    "    x_train = []\n",
    "    x_test = []\n",
    "    y_train = []\n",
    "    y_test = []\n",
    "    for idx, row in random_fold_data.iterrows():\n",
    "        string = row['Preprocessed_typed_sentence']\n",
    "        chars, lens = proc_string(string)\n",
    "        x = np.zeros((H,W))\n",
    "        non0cols = [char2idx[c] for c  in chars]\n",
    "        non0rows = np.arange(0,len(chars))\n",
    "        x[non0rows,non0cols] = 1\n",
    "        x[non0rows,-1] = np.asarray(lens) / scale_factor\n",
    "        lbl = row['Diagnosis']\n",
    "        in_fold = row['fold']\n",
    "        \n",
    "        if in_fold == fold:\n",
    "            x_test.append(x)\n",
    "            y_test.append(lbl)\n",
    "        else:\n",
    "            x_train.append(x)\n",
    "            y_train.append(lbl)\n",
    "\n",
    "    x_train = np.asarray(x_train)\n",
    "    x_test  = np.asarray(x_test)\n",
    "    y_train = np.asarray(y_train)\n",
    "    y_test  = np.asarray(y_test)\n",
    "    \n",
    "    \n",
    "    #re init model\n",
    "    model = mk_model(filters,size_large,size_small, drop, kernel_reg, fc_reg)\n",
    "    callbacks = [reduce_lr, early_stopping]\n",
    "    model.compile(optimizer = Adam(learning_rate = 1e-3),loss ='sparse_categorical_crossentropy')\n",
    "    \n",
    "    history = model.fit(x = x_train, y = y_train, batch_size = 16 , epochs = 1000, verbose = 0, validation_split = 0.1, callbacks = callbacks)\n",
    "    \n",
    "    pred = model.predict(x_test)\n",
    "    \n",
    "    fpr, tpr, _ = roc_curve(y_test, pred[:,1])\n",
    "    interp_tpr.append(np.interp(lspace,xp=fpr,fp=tpr))\n",
    "    roc_auc = auc(fpr, tpr)\n",
    "    AUC.append(roc_auc)\n",
    "    plt.plot(fpr, tpr, color='darkorange',\n",
    "             lw=lw -1, alpha = 0.3)\n",
    "    \n",
    "mean = np.mean(interp_tpr,axis=0)\n",
    "std = np.std(interp_tpr,axis = 0)    \n",
    "plt.plot(lspace, mean , color = 'darkorange', lw=lw, label = 'AUC: {:.2f} ({:.2f}), best: {:.2}'.format(np.mean(AUC),np.std(AUC),np.max(AUC)))\n",
    "plt.fill_between(lspace,mean + std, mean - std, alpha = 0.2, color = 'darkorange')    \n",
    "plt.plot([0, 1], [0, 1], color='navy', lw=lw, linestyle='--')\n",
    "plt.xlim([0.0, 1.0])\n",
    "plt.ylim([0.0, 1.05])\n",
    "plt.xlabel('False Positive Rate')\n",
    "plt.ylabel('True Positive Rate')\n",
    "plt.title('MRC random lvl 10-fold')\n",
    "plt.legend(loc=\"lower right\")\n",
    "#plt.savefig('MJFF_subject_lvl_kfold.png')\n",
    "plt.show()  "
   ]
  },
  {
   "cell_type": "markdown",
   "metadata": {},
   "source": [
    "## Subject level k-fold"
   ]
  },
  {
   "cell_type": "code",
   "execution_count": 14,
   "metadata": {},
   "outputs": [
    {
     "name": "stdout",
     "output_type": "stream",
     "text": [
      "\n",
      "Epoch 00025: ReduceLROnPlateau reducing learning rate to 0.004999999888241291.\n",
      "\n",
      "Epoch 00035: ReduceLROnPlateau reducing learning rate to 0.0024999999441206455.\n",
      "Restoring model weights from the end of the best epoch.\n",
      "Epoch 00035: early stopping\n",
      "\n",
      "Epoch 00018: ReduceLROnPlateau reducing learning rate to 0.004999999888241291.\n",
      "\n",
      "Epoch 00028: ReduceLROnPlateau reducing learning rate to 0.0024999999441206455.\n",
      "Restoring model weights from the end of the best epoch.\n",
      "Epoch 00028: early stopping\n",
      "\n",
      "Epoch 00011: ReduceLROnPlateau reducing learning rate to 0.004999999888241291.\n",
      "\n",
      "Epoch 00021: ReduceLROnPlateau reducing learning rate to 0.0024999999441206455.\n",
      "Restoring model weights from the end of the best epoch.\n",
      "Epoch 00021: early stopping\n",
      "\n",
      "Epoch 00024: ReduceLROnPlateau reducing learning rate to 0.004999999888241291.\n",
      "\n",
      "Epoch 00034: ReduceLROnPlateau reducing learning rate to 0.0024999999441206455.\n",
      "Restoring model weights from the end of the best epoch.\n",
      "Epoch 00034: early stopping\n",
      "\n",
      "Epoch 00024: ReduceLROnPlateau reducing learning rate to 0.004999999888241291.\n",
      "\n",
      "Epoch 00034: ReduceLROnPlateau reducing learning rate to 0.0024999999441206455.\n",
      "Restoring model weights from the end of the best epoch.\n",
      "Epoch 00034: early stopping\n",
      "\n",
      "Epoch 00025: ReduceLROnPlateau reducing learning rate to 0.004999999888241291.\n",
      "\n",
      "Epoch 00035: ReduceLROnPlateau reducing learning rate to 0.0024999999441206455.\n",
      "Restoring model weights from the end of the best epoch.\n",
      "Epoch 00035: early stopping\n",
      "\n",
      "Epoch 00019: ReduceLROnPlateau reducing learning rate to 0.004999999888241291.\n",
      "\n",
      "Epoch 00029: ReduceLROnPlateau reducing learning rate to 0.0024999999441206455.\n",
      "Restoring model weights from the end of the best epoch.\n",
      "Epoch 00029: early stopping\n",
      "\n",
      "Epoch 00020: ReduceLROnPlateau reducing learning rate to 0.004999999888241291.\n",
      "\n",
      "Epoch 00030: ReduceLROnPlateau reducing learning rate to 0.0024999999441206455.\n",
      "Restoring model weights from the end of the best epoch.\n",
      "Epoch 00030: early stopping\n",
      "\n",
      "Epoch 00011: ReduceLROnPlateau reducing learning rate to 0.004999999888241291.\n",
      "\n",
      "Epoch 00021: ReduceLROnPlateau reducing learning rate to 0.0024999999441206455.\n",
      "Restoring model weights from the end of the best epoch.\n",
      "Epoch 00021: early stopping\n",
      "\n",
      "Epoch 00011: ReduceLROnPlateau reducing learning rate to 0.004999999888241291.\n",
      "\n",
      "Epoch 00021: ReduceLROnPlateau reducing learning rate to 0.0024999999441206455.\n",
      "Restoring model weights from the end of the best epoch.\n",
      "Epoch 00021: early stopping\n"
     ]
    },
    {
     "data": {
      "image/png": "[encoded data removed]",
      "text/plain": [
       "<Figure size 432x288 with 1 Axes>"
      ]
     },
     "metadata": {
      "needs_background": "light"
     },
     "output_type": "display_data"
    }
   ],
   "source": [
    "lw = 2\n",
    "plt.figure()\n",
    "AUC = []\n",
    "interp_tpr = []\n",
    "lspace = np.linspace(0,1,100)\n",
    "\n",
    "\n",
    "\n",
    "for fold in range(0,10):\n",
    "    x_train = []\n",
    "    x_test = []\n",
    "    y_train = []\n",
    "    y_test = []\n",
    "    for idx, row in subject_fold_data.iterrows(): # <<<<------ select fold here (to refactor into scipt at a later stage)\n",
    "        string = row['Preprocessed_typed_sentence']\n",
    "        chars, lens = proc_string(string)\n",
    "        x = np.zeros((H,W))\n",
    "        non0cols = [char2idx[c] for c  in chars]\n",
    "        non0rows = np.arange(0,len(chars))\n",
    "        x[non0rows,non0cols] = 1\n",
    "        x[non0rows,-1] = np.asarray(lens) / scale_factor\n",
    "        lbl = row['Diagnosis']\n",
    "        in_fold = row['fold']\n",
    "        \n",
    "        if in_fold == fold:\n",
    "            x_test.append(x)\n",
    "            y_test.append(lbl)\n",
    "        else:\n",
    "            x_train.append(x)\n",
    "            y_train.append(lbl)\n",
    "\n",
    "    x_train = np.asarray(x_train)\n",
    "    x_test  = np.asarray(x_test)\n",
    "    y_train = np.asarray(y_train)\n",
    "    y_test  = np.asarray(y_test)\n",
    "    \n",
    "    \n",
    "    #re init model\n",
    "    model = mk_model(filters,size_large,size_small, drop, kernel_reg, fc_reg)\n",
    "    callbacks = [reduce_lr, early_stopping]\n",
    "    model.compile(optimizer = Adam(learning_rate = 1e-2),loss ='sparse_categorical_crossentropy')\n",
    "    \n",
    "    history = model.fit(x = x_train, y = y_train, batch_size = 16 , epochs = 1000, verbose = 0, validation_split = 0.1, callbacks = callbacks)\n",
    "    \n",
    "    pred = model.predict(x_test)\n",
    "    \n",
    "    fpr, tpr, _ = roc_curve(y_test, pred[:,1])\n",
    "    interp_tpr.append(np.interp(lspace,xp=fpr,fp=tpr))\n",
    "    roc_auc = auc(fpr, tpr)\n",
    "    AUC.append(roc_auc)\n",
    "    plt.plot(fpr, tpr, color='darkorange',\n",
    "             lw=lw -1, alpha = 0.3)\n",
    "    \n",
    "mean = np.mean(interp_tpr,axis=0)\n",
    "std = np.std(interp_tpr,axis = 0)    \n",
    "plt.plot(lspace, mean , color = 'darkorange', lw=lw, label = 'AUC: {:.2f} ({:.2f}), best: {:.2}'.format(np.mean(AUC),np.std(AUC),np.max(AUC)))\n",
    "plt.fill_between(lspace,mean + std, mean - std, alpha = 0.2, color = 'darkorange')    \n",
    "plt.plot([0, 1], [0, 1], color='navy', lw=lw, linestyle='--')\n",
    "plt.xlim([0.0, 1.0])\n",
    "plt.ylim([0.0, 1.05])\n",
    "plt.xlabel('False Positive Rate')\n",
    "plt.ylabel('True Positive Rate')\n",
    "plt.title('MRC subject lvl 10-fold')\n",
    "plt.legend(loc=\"lower right\")\n",
    "#plt.savefig('MJFF_subject_lvl_kfold.png')\n",
    "plt.show()  "
   ]
  },
  {
   "cell_type": "code",
   "execution_count": null,
   "metadata": {},
   "outputs": [],
   "source": []
  },
  {
   "cell_type": "code",
   "execution_count": null,
   "metadata": {},
   "outputs": [],
   "source": []
  },
  {
   "cell_type": "code",
   "execution_count": null,
   "metadata": {},
   "outputs": [],
   "source": []
  },
  {
   "cell_type": "code",
   "execution_count": null,
   "metadata": {},
   "outputs": [],
   "source": []
  },
  {
   "cell_type": "code",
   "execution_count": null,
   "metadata": {},
   "outputs": [],
   "source": []
  },
  {
   "cell_type": "code",
   "execution_count": null,
   "metadata": {},
   "outputs": [],
   "source": []
  }
 ],
 "metadata": {
  "kernelspec": {
   "display_name": "Python 3",
   "language": "python",
   "name": "python3"
  },
  "language_info": {
   "codemirror_mode": {
    "name": "ipython",
    "version": 3
   },
   "file_extension": ".py",
   "mimetype": "text/x-python",
   "name": "python",
   "nbconvert_exporter": "python",
   "pygments_lexer": "ipython3",
   "version": "3.7.4"
  }
 },
 "nbformat": 4,
 "nbformat_minor": 4
}
